{
 "cells": [
  {
   "cell_type": "code",
   "execution_count": 63,
   "metadata": {
    "execution": {
     "iopub.execute_input": "2021-12-20T10:09:48.003798Z",
     "iopub.status.busy": "2021-12-20T10:09:48.003541Z",
     "iopub.status.idle": "2021-12-20T10:09:57.410071Z",
     "shell.execute_reply": "2021-12-20T10:09:57.409199Z",
     "shell.execute_reply.started": "2021-12-20T10:09:48.003770Z"
    },
    "id": "SzIw729kGvWR",
    "outputId": "f31a1849-cdcb-40ac-b4da-6230bcf8573f"
   },
   "outputs": [
    {
     "name": "stdout",
     "output_type": "stream",
     "text": [
      "Requirement already satisfied: gensim in /opt/conda/lib/python3.7/site-packages (4.0.1)\n",
      "Requirement already satisfied: smart-open>=1.8.1 in /opt/conda/lib/python3.7/site-packages (from gensim) (5.2.1)\n",
      "Requirement already satisfied: numpy>=1.11.3 in /opt/conda/lib/python3.7/site-packages (from gensim) (1.19.5)\n",
      "Requirement already satisfied: scipy>=0.18.1 in /opt/conda/lib/python3.7/site-packages (from gensim) (1.7.2)\n",
      "\u001b[33mWARNING: Running pip as the 'root' user can result in broken permissions and conflicting behaviour with the system package manager. It is recommended to use a virtual environment instead: https://pip.pypa.io/warnings/venv\u001b[0m\n",
      "Note: you may need to restart the kernel to use updated packages.\n"
     ]
    }
   ],
   "source": [
    "pip install gensim"
   ]
  },
  {
   "cell_type": "code",
   "execution_count": 64,
   "metadata": {
    "execution": {
     "iopub.execute_input": "2021-12-20T10:09:57.412644Z",
     "iopub.status.busy": "2021-12-20T10:09:57.412373Z",
     "iopub.status.idle": "2021-12-20T10:10:04.855970Z",
     "shell.execute_reply": "2021-12-20T10:10:04.855080Z",
     "shell.execute_reply.started": "2021-12-20T10:09:57.412607Z"
    }
   },
   "outputs": [
    {
     "name": "stdout",
     "output_type": "stream",
     "text": [
      "Requirement already satisfied: pymorphy2 in /opt/conda/lib/python3.7/site-packages (0.9.1)\n",
      "Requirement already satisfied: pymorphy2-dicts-ru<3.0,>=2.4 in /opt/conda/lib/python3.7/site-packages (from pymorphy2) (2.4.417127.4579844)\n",
      "Requirement already satisfied: docopt>=0.6 in /opt/conda/lib/python3.7/site-packages (from pymorphy2) (0.6.2)\n",
      "Requirement already satisfied: dawg-python>=0.7.1 in /opt/conda/lib/python3.7/site-packages (from pymorphy2) (0.7.2)\n",
      "\u001b[33mWARNING: Running pip as the 'root' user can result in broken permissions and conflicting behaviour with the system package manager. It is recommended to use a virtual environment instead: https://pip.pypa.io/warnings/venv\u001b[0m\n",
      "Note: you may need to restart the kernel to use updated packages.\n"
     ]
    }
   ],
   "source": [
    "pip install pymorphy2"
   ]
  },
  {
   "cell_type": "code",
   "execution_count": 65,
   "metadata": {
    "execution": {
     "iopub.execute_input": "2021-12-20T10:10:04.858252Z",
     "iopub.status.busy": "2021-12-20T10:10:04.857947Z",
     "iopub.status.idle": "2021-12-20T10:10:05.260903Z",
     "shell.execute_reply": "2021-12-20T10:10:05.260193Z",
     "shell.execute_reply.started": "2021-12-20T10:10:04.858209Z"
    },
    "id": "2bYklfYRCUsG",
    "outputId": "ea820890-59e5-47c8-d61d-94409841f89a"
   },
   "outputs": [
    {
     "name": "stdout",
     "output_type": "stream",
     "text": [
      "[nltk_data] Downloading package punkt to /usr/share/nltk_data...\n",
      "[nltk_data]   Package punkt is already up-to-date!\n"
     ]
    }
   ],
   "source": [
    "import gc\n",
    "import nltk\n",
    "import torch\n",
    "import pymorphy2\n",
    "import itertools\n",
    "import numpy as np\n",
    "import pandas as pd\n",
    "import torchmetrics\n",
    "import matplotlib.pyplot as plt\n",
    "\n",
    "from tqdm import tqdm\n",
    "from torch import nn, optim\n",
    "from nltk import word_tokenize\n",
    "from collections import Counter\n",
    "from IPython.display import display\n",
    "from gensim.models import KeyedVectors\n",
    "from sklearn.metrics import accuracy_score\n",
    "from sklearn.model_selection import train_test_split\n",
    "\n",
    "from torch.nn.utils.rnn import pad_sequence\n",
    "from pytorch_lightning import LightningModule\n",
    "from pytorch_lightning.callbacks import EarlyStopping\n",
    "from pytorch_lightning import Trainer as LightningTrainer\n",
    "from torch.utils.data import Dataset, DataLoader, RandomSampler, SequentialSampler\n",
    "\n",
    "morph = pymorphy2.MorphAnalyzer()\n",
    "nltk.download('punkt')\n",
    "%matplotlib inline"
   ]
  },
  {
   "cell_type": "code",
   "execution_count": 66,
   "metadata": {
    "execution": {
     "iopub.execute_input": "2021-12-20T10:10:05.268452Z",
     "iopub.status.busy": "2021-12-20T10:10:05.265908Z",
     "iopub.status.idle": "2021-12-20T10:10:05.277763Z",
     "shell.execute_reply": "2021-12-20T10:10:05.276988Z",
     "shell.execute_reply.started": "2021-12-20T10:10:05.268410Z"
    },
    "id": "BBZ0LcEDCUsL",
    "outputId": "2082339d-9236-495a-8bbd-ee4807fd5958"
   },
   "outputs": [
    {
     "name": "stdout",
     "output_type": "stream",
     "text": [
      "cuda\n"
     ]
    }
   ],
   "source": [
    "DEVICE = torch.device('cuda') if torch.cuda.is_available() else torch.device('cpu')\n",
    "#device = 'cpu'\n",
    "print(DEVICE)"
   ]
  },
  {
   "cell_type": "markdown",
   "metadata": {
    "id": "s8hqFk6TSVWh"
   },
   "source": [
    "## Данные и препроцессинг"
   ]
  },
  {
   "cell_type": "code",
   "execution_count": 67,
   "metadata": {
    "execution": {
     "iopub.execute_input": "2021-12-20T10:10:05.284742Z",
     "iopub.status.busy": "2021-12-20T10:10:05.282439Z",
     "iopub.status.idle": "2021-12-20T10:10:06.781627Z",
     "shell.execute_reply": "2021-12-20T10:10:06.780923Z",
     "shell.execute_reply.started": "2021-12-20T10:10:05.284704Z"
    },
    "id": "QeQZT8B-Pynr"
   },
   "outputs": [
    {
     "data": {
      "text/html": [
       "<div>\n",
       "<style scoped>\n",
       "    .dataframe tbody tr th:only-of-type {\n",
       "        vertical-align: middle;\n",
       "    }\n",
       "\n",
       "    .dataframe tbody tr th {\n",
       "        vertical-align: top;\n",
       "    }\n",
       "\n",
       "    .dataframe thead th {\n",
       "        text-align: right;\n",
       "    }\n",
       "</style>\n",
       "<table border=\"1\" class=\"dataframe\">\n",
       "  <thead>\n",
       "    <tr style=\"text-align: right;\">\n",
       "      <th></th>\n",
       "      <th>title</th>\n",
       "      <th>text</th>\n",
       "      <th>subject</th>\n",
       "      <th>date</th>\n",
       "    </tr>\n",
       "  </thead>\n",
       "  <tbody>\n",
       "    <tr>\n",
       "      <th>0</th>\n",
       "      <td>Donald Trump Sends Out Embarrassing New Year’...</td>\n",
       "      <td>Donald Trump just couldn t wish all Americans ...</td>\n",
       "      <td>News</td>\n",
       "      <td>December 31, 2017</td>\n",
       "    </tr>\n",
       "    <tr>\n",
       "      <th>1</th>\n",
       "      <td>Drunk Bragging Trump Staffer Started Russian ...</td>\n",
       "      <td>House Intelligence Committee Chairman Devin Nu...</td>\n",
       "      <td>News</td>\n",
       "      <td>December 31, 2017</td>\n",
       "    </tr>\n",
       "    <tr>\n",
       "      <th>2</th>\n",
       "      <td>Sheriff David Clarke Becomes An Internet Joke...</td>\n",
       "      <td>On Friday, it was revealed that former Milwauk...</td>\n",
       "      <td>News</td>\n",
       "      <td>December 30, 2017</td>\n",
       "    </tr>\n",
       "    <tr>\n",
       "      <th>3</th>\n",
       "      <td>Trump Is So Obsessed He Even Has Obama’s Name...</td>\n",
       "      <td>On Christmas day, Donald Trump announced that ...</td>\n",
       "      <td>News</td>\n",
       "      <td>December 29, 2017</td>\n",
       "    </tr>\n",
       "    <tr>\n",
       "      <th>4</th>\n",
       "      <td>Pope Francis Just Called Out Donald Trump Dur...</td>\n",
       "      <td>Pope Francis used his annual Christmas Day mes...</td>\n",
       "      <td>News</td>\n",
       "      <td>December 25, 2017</td>\n",
       "    </tr>\n",
       "  </tbody>\n",
       "</table>\n",
       "</div>"
      ],
      "text/plain": [
       "                                               title  \\\n",
       "0   Donald Trump Sends Out Embarrassing New Year’...   \n",
       "1   Drunk Bragging Trump Staffer Started Russian ...   \n",
       "2   Sheriff David Clarke Becomes An Internet Joke...   \n",
       "3   Trump Is So Obsessed He Even Has Obama’s Name...   \n",
       "4   Pope Francis Just Called Out Donald Trump Dur...   \n",
       "\n",
       "                                                text subject  \\\n",
       "0  Donald Trump just couldn t wish all Americans ...    News   \n",
       "1  House Intelligence Committee Chairman Devin Nu...    News   \n",
       "2  On Friday, it was revealed that former Milwauk...    News   \n",
       "3  On Christmas day, Donald Trump announced that ...    News   \n",
       "4  Pope Francis used his annual Christmas Day mes...    News   \n",
       "\n",
       "                date  \n",
       "0  December 31, 2017  \n",
       "1  December 31, 2017  \n",
       "2  December 30, 2017  \n",
       "3  December 29, 2017  \n",
       "4  December 25, 2017  "
      ]
     },
     "execution_count": 67,
     "metadata": {},
     "output_type": "execute_result"
    }
   ],
   "source": [
    "df = pd.read_csv('../input/fake-and-real-news-dataset/Fake.csv')\n",
    "df.drop_duplicates(inplace=True)\n",
    "df.head(5)"
   ]
  },
  {
   "cell_type": "code",
   "execution_count": 68,
   "metadata": {
    "execution": {
     "iopub.execute_input": "2021-12-20T10:10:06.783696Z",
     "iopub.status.busy": "2021-12-20T10:10:06.783206Z",
     "iopub.status.idle": "2021-12-20T10:10:06.791976Z",
     "shell.execute_reply": "2021-12-20T10:10:06.791127Z",
     "shell.execute_reply.started": "2021-12-20T10:10:06.783655Z"
    },
    "id": "IRCN1PgsTEBf"
   },
   "outputs": [
    {
     "name": "stdout",
     "output_type": "stream",
     "text": [
      "23478\n",
      "['News' 'politics' 'Government News' 'left-news' 'US_News' 'Middle-east']\n"
     ]
    }
   ],
   "source": [
    "print(len(df))\n",
    "print(df['subject'].unique())"
   ]
  },
  {
   "cell_type": "code",
   "execution_count": 69,
   "metadata": {
    "execution": {
     "iopub.execute_input": "2021-12-20T10:10:06.793788Z",
     "iopub.status.busy": "2021-12-20T10:10:06.793500Z",
     "iopub.status.idle": "2021-12-20T10:10:06.946424Z",
     "shell.execute_reply": "2021-12-20T10:10:06.945603Z",
     "shell.execute_reply.started": "2021-12-20T10:10:06.793751Z"
    },
    "id": "UCb385ckhe86"
   },
   "outputs": [
    {
     "data": {
      "text/plain": [
       "<AxesSubplot:ylabel='subject'>"
      ]
     },
     "execution_count": 69,
     "metadata": {},
     "output_type": "execute_result"
    },
    {
     "data": {
      "image/png": "[encoded data removed]",
      "text/plain": [
       "<Figure size 432x288 with 1 Axes>"
      ]
     },
     "metadata": {},
     "output_type": "display_data"
    }
   ],
   "source": [
    "df['subject'].value_counts().plot(kind='pie')"
   ]
  },
  {
   "cell_type": "markdown",
   "metadata": {
    "id": "trD4GZQsUaci"
   },
   "source": [
    "В оригинальной статье на этапе предобработки тексты только приводили к нижнему регистру, поэтому я делаю то же самое, но в виде функции, чтобы в будущем можно было легко что-то поменять"
   ]
  },
  {
   "cell_type": "code",
   "execution_count": 70,
   "metadata": {
    "execution": {
     "iopub.execute_input": "2021-12-20T10:10:06.948146Z",
     "iopub.status.busy": "2021-12-20T10:10:06.947871Z",
     "iopub.status.idle": "2021-12-20T10:10:06.952848Z",
     "shell.execute_reply": "2021-12-20T10:10:06.951898Z",
     "shell.execute_reply.started": "2021-12-20T10:10:06.948099Z"
    },
    "id": "VTj-GU0RUm2I"
   },
   "outputs": [],
   "source": [
    "def preprocess(text):\n",
    "    return word_tokenize(text.lower())"
   ]
  },
  {
   "cell_type": "code",
   "execution_count": 71,
   "metadata": {
    "execution": {
     "iopub.execute_input": "2021-12-20T10:10:06.955111Z",
     "iopub.status.busy": "2021-12-20T10:10:06.954323Z",
     "iopub.status.idle": "2021-12-20T10:11:55.518615Z",
     "shell.execute_reply": "2021-12-20T10:11:55.517832Z",
     "shell.execute_reply.started": "2021-12-20T10:10:06.955071Z"
    },
    "id": "_dc9rnuzX6B4"
   },
   "outputs": [],
   "source": [
    "df['text_prep'] = df['text'].apply(preprocess)"
   ]
  },
  {
   "cell_type": "code",
   "execution_count": 72,
   "metadata": {
    "execution": {
     "iopub.execute_input": "2021-12-20T10:11:55.521869Z",
     "iopub.status.busy": "2021-12-20T10:11:55.521592Z",
     "iopub.status.idle": "2021-12-20T10:11:55.795613Z",
     "shell.execute_reply": "2021-12-20T10:11:55.794917Z",
     "shell.execute_reply.started": "2021-12-20T10:11:55.521834Z"
    },
    "id": "5ROzpTDw2Ix1"
   },
   "outputs": [
    {
     "data": {
      "text/plain": [
       "<AxesSubplot:ylabel='Frequency'>"
      ]
     },
     "execution_count": 72,
     "metadata": {},
     "output_type": "execute_result"
    },
    {
     "data": {
      "image/png": "[encoded data removed]",
      "text/plain": [
       "<Figure size 432x288 with 1 Axes>"
      ]
     },
     "metadata": {
      "needs_background": "light"
     },
     "output_type": "display_data"
    }
   ],
   "source": [
    "df['text_prep'].str.len().plot(kind='hist')"
   ]
  },
  {
   "cell_type": "markdown",
   "metadata": {
    "id": "qoDZ7mtr2_HL"
   },
   "source": [
    "Почти все тексты находятся в диапазоне до 1к токенов, ещё несколько до 4к. Я буду обрезать тексты до 500 токенов, чтобы уменьшить размер данных и увеличить скорость выполнения (иначе это займёт много-много часов при всех возможных переборах гиперпараметров)"
   ]
  },
  {
   "cell_type": "code",
   "execution_count": 73,
   "metadata": {
    "execution": {
     "iopub.execute_input": "2021-12-20T10:11:55.796976Z",
     "iopub.status.busy": "2021-12-20T10:11:55.796735Z",
     "iopub.status.idle": "2021-12-20T10:11:56.210027Z",
     "shell.execute_reply": "2021-12-20T10:11:56.209281Z",
     "shell.execute_reply.started": "2021-12-20T10:11:55.796941Z"
    }
   },
   "outputs": [],
   "source": [
    "df['text_prep'] = df['text_prep'].apply(lambda x: x[:500])"
   ]
  },
  {
   "cell_type": "code",
   "execution_count": 74,
   "metadata": {
    "execution": {
     "iopub.execute_input": "2021-12-20T10:11:56.212608Z",
     "iopub.status.busy": "2021-12-20T10:11:56.211939Z",
     "iopub.status.idle": "2021-12-20T10:11:56.470717Z",
     "shell.execute_reply": "2021-12-20T10:11:56.469974Z",
     "shell.execute_reply.started": "2021-12-20T10:11:56.212567Z"
    },
    "id": "dV3rQZpIYSCg",
    "outputId": "79b257ca-06ca-4a8c-ea94-af96899d88b2"
   },
   "outputs": [
    {
     "data": {
      "text/plain": [
       "<AxesSubplot:ylabel='Frequency'>"
      ]
     },
     "execution_count": 74,
     "metadata": {},
     "output_type": "execute_result"
    },
    {
     "data": {
      "image/png": "[encoded data removed]",
      "text/plain": [
       "<Figure size 432x288 with 1 Axes>"
      ]
     },
     "metadata": {
      "needs_background": "light"
     },
     "output_type": "display_data"
    }
   ],
   "source": [
    "df['text_prep'].str.len().plot(kind='hist')"
   ]
  },
  {
   "cell_type": "code",
   "execution_count": 75,
   "metadata": {
    "execution": {
     "iopub.execute_input": "2021-12-20T10:11:56.472177Z",
     "iopub.status.busy": "2021-12-20T10:11:56.471891Z",
     "iopub.status.idle": "2021-12-20T10:11:57.701081Z",
     "shell.execute_reply": "2021-12-20T10:11:57.700300Z",
     "shell.execute_reply.started": "2021-12-20T10:11:56.472140Z"
    },
    "id": "7UpDqwe_Va_Y",
    "outputId": "c6976273-4dce-421f-8fd2-7b4b98131fb7"
   },
   "outputs": [
    {
     "name": "stdout",
     "output_type": "stream",
     "text": [
      "всего уникальных слов: 151903\n"
     ]
    }
   ],
   "source": [
    "vocab = Counter()\n",
    "for tokenlist in df['text_prep']:\n",
    "    vocab.update(tokenlist)\n",
    "print('всего уникальных слов:', len(vocab))"
   ]
  },
  {
   "cell_type": "code",
   "execution_count": 76,
   "metadata": {
    "execution": {
     "iopub.execute_input": "2021-12-20T10:11:57.702883Z",
     "iopub.status.busy": "2021-12-20T10:11:57.702464Z",
     "iopub.status.idle": "2021-12-20T10:11:57.800343Z",
     "shell.execute_reply": "2021-12-20T10:11:57.799618Z",
     "shell.execute_reply.started": "2021-12-20T10:11:57.702844Z"
    },
    "id": "OQMquTrfVbB_"
   },
   "outputs": [],
   "source": [
    "# словарь\n",
    "word2id = {'PAD':0}\n",
    "for word in vocab:\n",
    "    word2id[word] = len(word2id)\n",
    "#обратный словарь\n",
    "id2word = {i:word for word, i in word2id.items()}"
   ]
  },
  {
   "cell_type": "code",
   "execution_count": 77,
   "metadata": {
    "execution": {
     "iopub.execute_input": "2021-12-20T10:11:57.801896Z",
     "iopub.status.busy": "2021-12-20T10:11:57.801647Z",
     "iopub.status.idle": "2021-12-20T10:11:57.809945Z",
     "shell.execute_reply": "2021-12-20T10:11:57.809168Z",
     "shell.execute_reply.started": "2021-12-20T10:11:57.801862Z"
    },
    "id": "ndteP6BOeCYV",
    "outputId": "6a26eab9-9432-402c-dfc2-8828b3eb6f09"
   },
   "outputs": [
    {
     "data": {
      "text/plain": [
       "{'News': 0,\n",
       " 'politics': 1,\n",
       " 'Government News': 2,\n",
       " 'left-news': 3,\n",
       " 'US_News': 4,\n",
       " 'Middle-east': 5}"
      ]
     },
     "execution_count": 77,
     "metadata": {},
     "output_type": "execute_result"
    }
   ],
   "source": [
    "topic_mapper = {topic: t for t, topic in enumerate(df['subject'].unique())}\n",
    "topic_mapper"
   ]
  },
  {
   "cell_type": "code",
   "execution_count": 78,
   "metadata": {
    "execution": {
     "iopub.execute_input": "2021-12-20T10:11:57.811904Z",
     "iopub.status.busy": "2021-12-20T10:11:57.811263Z",
     "iopub.status.idle": "2021-12-20T10:11:57.834794Z",
     "shell.execute_reply": "2021-12-20T10:11:57.833987Z",
     "shell.execute_reply.started": "2021-12-20T10:11:57.811866Z"
    },
    "id": "_CNTuEjdeTYN",
    "outputId": "29287b9d-0cf9-4c88-9b19-0931c8b57dc8"
   },
   "outputs": [
    {
     "data": {
      "text/html": [
       "<div>\n",
       "<style scoped>\n",
       "    .dataframe tbody tr th:only-of-type {\n",
       "        vertical-align: middle;\n",
       "    }\n",
       "\n",
       "    .dataframe tbody tr th {\n",
       "        vertical-align: top;\n",
       "    }\n",
       "\n",
       "    .dataframe thead th {\n",
       "        text-align: right;\n",
       "    }\n",
       "</style>\n",
       "<table border=\"1\" class=\"dataframe\">\n",
       "  <thead>\n",
       "    <tr style=\"text-align: right;\">\n",
       "      <th></th>\n",
       "      <th>title</th>\n",
       "      <th>text</th>\n",
       "      <th>subject</th>\n",
       "      <th>date</th>\n",
       "      <th>text_prep</th>\n",
       "      <th>target</th>\n",
       "    </tr>\n",
       "  </thead>\n",
       "  <tbody>\n",
       "    <tr>\n",
       "      <th>0</th>\n",
       "      <td>Donald Trump Sends Out Embarrassing New Year’...</td>\n",
       "      <td>Donald Trump just couldn t wish all Americans ...</td>\n",
       "      <td>News</td>\n",
       "      <td>December 31, 2017</td>\n",
       "      <td>[donald, trump, just, couldn, t, wish, all, am...</td>\n",
       "      <td>0</td>\n",
       "    </tr>\n",
       "    <tr>\n",
       "      <th>1</th>\n",
       "      <td>Drunk Bragging Trump Staffer Started Russian ...</td>\n",
       "      <td>House Intelligence Committee Chairman Devin Nu...</td>\n",
       "      <td>News</td>\n",
       "      <td>December 31, 2017</td>\n",
       "      <td>[house, intelligence, committee, chairman, dev...</td>\n",
       "      <td>0</td>\n",
       "    </tr>\n",
       "    <tr>\n",
       "      <th>2</th>\n",
       "      <td>Sheriff David Clarke Becomes An Internet Joke...</td>\n",
       "      <td>On Friday, it was revealed that former Milwauk...</td>\n",
       "      <td>News</td>\n",
       "      <td>December 30, 2017</td>\n",
       "      <td>[on, friday, ,, it, was, revealed, that, forme...</td>\n",
       "      <td>0</td>\n",
       "    </tr>\n",
       "    <tr>\n",
       "      <th>3</th>\n",
       "      <td>Trump Is So Obsessed He Even Has Obama’s Name...</td>\n",
       "      <td>On Christmas day, Donald Trump announced that ...</td>\n",
       "      <td>News</td>\n",
       "      <td>December 29, 2017</td>\n",
       "      <td>[on, christmas, day, ,, donald, trump, announc...</td>\n",
       "      <td>0</td>\n",
       "    </tr>\n",
       "    <tr>\n",
       "      <th>4</th>\n",
       "      <td>Pope Francis Just Called Out Donald Trump Dur...</td>\n",
       "      <td>Pope Francis used his annual Christmas Day mes...</td>\n",
       "      <td>News</td>\n",
       "      <td>December 25, 2017</td>\n",
       "      <td>[pope, francis, used, his, annual, christmas, ...</td>\n",
       "      <td>0</td>\n",
       "    </tr>\n",
       "  </tbody>\n",
       "</table>\n",
       "</div>"
      ],
      "text/plain": [
       "                                               title  \\\n",
       "0   Donald Trump Sends Out Embarrassing New Year’...   \n",
       "1   Drunk Bragging Trump Staffer Started Russian ...   \n",
       "2   Sheriff David Clarke Becomes An Internet Joke...   \n",
       "3   Trump Is So Obsessed He Even Has Obama’s Name...   \n",
       "4   Pope Francis Just Called Out Donald Trump Dur...   \n",
       "\n",
       "                                                text subject  \\\n",
       "0  Donald Trump just couldn t wish all Americans ...    News   \n",
       "1  House Intelligence Committee Chairman Devin Nu...    News   \n",
       "2  On Friday, it was revealed that former Milwauk...    News   \n",
       "3  On Christmas day, Donald Trump announced that ...    News   \n",
       "4  Pope Francis used his annual Christmas Day mes...    News   \n",
       "\n",
       "                date                                          text_prep  \\\n",
       "0  December 31, 2017  [donald, trump, just, couldn, t, wish, all, am...   \n",
       "1  December 31, 2017  [house, intelligence, committee, chairman, dev...   \n",
       "2  December 30, 2017  [on, friday, ,, it, was, revealed, that, forme...   \n",
       "3  December 29, 2017  [on, christmas, day, ,, donald, trump, announc...   \n",
       "4  December 25, 2017  [pope, francis, used, his, annual, christmas, ...   \n",
       "\n",
       "   target  \n",
       "0       0  \n",
       "1       0  \n",
       "2       0  \n",
       "3       0  \n",
       "4       0  "
      ]
     },
     "execution_count": 78,
     "metadata": {},
     "output_type": "execute_result"
    }
   ],
   "source": [
    "df['target'] = df['subject'].map(topic_mapper)\n",
    "df.head(5)"
   ]
  },
  {
   "cell_type": "code",
   "execution_count": 79,
   "metadata": {
    "execution": {
     "iopub.execute_input": "2021-12-20T10:11:57.836304Z",
     "iopub.status.busy": "2021-12-20T10:11:57.835958Z",
     "iopub.status.idle": "2021-12-20T10:11:57.852370Z",
     "shell.execute_reply": "2021-12-20T10:11:57.851668Z",
     "shell.execute_reply.started": "2021-12-20T10:11:57.836268Z"
    },
    "id": "9-a7YUZRbNN4"
   },
   "outputs": [],
   "source": [
    "train, test = train_test_split(df[['text_prep', 'target']], test_size=0.2)"
   ]
  },
  {
   "cell_type": "code",
   "execution_count": 80,
   "metadata": {
    "execution": {
     "iopub.execute_input": "2021-12-20T10:11:57.854227Z",
     "iopub.status.busy": "2021-12-20T10:11:57.853948Z",
     "iopub.status.idle": "2021-12-20T10:11:57.876800Z",
     "shell.execute_reply": "2021-12-20T10:11:57.875988Z",
     "shell.execute_reply.started": "2021-12-20T10:11:57.854193Z"
    },
    "id": "0ILHW5xBlE2l",
    "outputId": "d23b8e5b-596f-4ba5-83f7-35f791de9361"
   },
   "outputs": [
    {
     "data": {
      "text/plain": [
       "500"
      ]
     },
     "execution_count": 80,
     "metadata": {},
     "output_type": "execute_result"
    }
   ],
   "source": [
    "# максимальная длина новости из трейна,\n",
    "# до которой будет падиться трейн и обрезаться тест\n",
    "maxlen = max(train['text_prep'].str.len())\n",
    "maxlen"
   ]
  },
  {
   "cell_type": "markdown",
   "metadata": {
    "id": "RDFZWks4W4wj"
   },
   "source": [
    "## DataSet"
   ]
  },
  {
   "cell_type": "code",
   "execution_count": 81,
   "metadata": {
    "execution": {
     "iopub.execute_input": "2021-12-20T10:11:57.878338Z",
     "iopub.status.busy": "2021-12-20T10:11:57.878009Z",
     "iopub.status.idle": "2021-12-20T10:11:57.889296Z",
     "shell.execute_reply": "2021-12-20T10:11:57.888498Z",
     "shell.execute_reply.started": "2021-12-20T10:11:57.878302Z"
    },
    "id": "qpQueE8zVbGR"
   },
   "outputs": [],
   "source": [
    "class NewsDataset(Dataset):\n",
    "\n",
    "    def __init__(self, df, word2id, maxlen, DEVICE, pad_token='PAD'):\n",
    "        self.dataset = df['text_prep'].values\n",
    "        self.word2id = word2id\n",
    "        self.length = df.shape[0]\n",
    "        self.target = df['target'].values\n",
    "        self.device = DEVICE\n",
    "        self.maxlen = maxlen\n",
    "        self.pad_token = pad_token\n",
    "\n",
    "    def __len__(self):\n",
    "        return self.length\n",
    "\n",
    "    def padding(self, tokenlist):\n",
    "        if len(tokenlist) < self.maxlen:\n",
    "            add_pad = self.maxlen - len(tokenlist)\n",
    "            return [self.pad_token] * add_pad + tokenlist\n",
    "        else:\n",
    "            return tokenlist[:self.maxlen]\n",
    "\n",
    "    def __getitem__(self, index): \n",
    "        words = self.padding(self.dataset[index])\n",
    "        ids = torch.LongTensor([self.word2id[word] for word in words if word in self.word2id])\n",
    "        y = [self.target[index]]\n",
    "        return ids, y\n",
    "\n",
    "    def collate_fn(self, batch):\n",
    "        ids, y = list(zip(*batch))\n",
    "        ids = torch.stack(ids).type(torch.LongTensor).to(self.device)\n",
    "        y = torch.LongTensor(y).flatten().to(self.device)\n",
    "        return ids, y"
   ]
  },
  {
   "cell_type": "code",
   "execution_count": 82,
   "metadata": {
    "execution": {
     "iopub.execute_input": "2021-12-20T10:11:57.891205Z",
     "iopub.status.busy": "2021-12-20T10:11:57.890729Z",
     "iopub.status.idle": "2021-12-20T10:11:57.898048Z",
     "shell.execute_reply": "2021-12-20T10:11:57.897297Z",
     "shell.execute_reply.started": "2021-12-20T10:11:57.891168Z"
    },
    "id": "VvV53UgabNQJ"
   },
   "outputs": [],
   "source": [
    "train_dataset = NewsDataset(train, word2id, maxlen, DEVICE)\n",
    "train_sampler = RandomSampler(train_dataset)\n",
    "train_iterator = DataLoader(train_dataset, collate_fn = train_dataset.collate_fn, sampler=train_sampler, batch_size=64)"
   ]
  },
  {
   "cell_type": "code",
   "execution_count": 83,
   "metadata": {
    "execution": {
     "iopub.execute_input": "2021-12-20T10:11:57.900856Z",
     "iopub.status.busy": "2021-12-20T10:11:57.900605Z",
     "iopub.status.idle": "2021-12-20T10:11:57.907760Z",
     "shell.execute_reply": "2021-12-20T10:11:57.906983Z",
     "shell.execute_reply.started": "2021-12-20T10:11:57.900829Z"
    },
    "id": "Btwn9vi9wj29"
   },
   "outputs": [],
   "source": [
    "test_dataset = NewsDataset(test, word2id, maxlen, DEVICE)\n",
    "test_sampler = RandomSampler(test_dataset)\n",
    "test_iterator = DataLoader(test_dataset, collate_fn = test_dataset.collate_fn, sampler=test_sampler, batch_size=64)"
   ]
  },
  {
   "cell_type": "code",
   "execution_count": 84,
   "metadata": {
    "execution": {
     "iopub.execute_input": "2021-12-20T10:11:57.910624Z",
     "iopub.status.busy": "2021-12-20T10:11:57.909832Z",
     "iopub.status.idle": "2021-12-20T10:11:57.941260Z",
     "shell.execute_reply": "2021-12-20T10:11:57.940616Z",
     "shell.execute_reply.started": "2021-12-20T10:11:57.910585Z"
    }
   },
   "outputs": [
    {
     "name": "stdout",
     "output_type": "stream",
     "text": [
      "PAD PAD PAD PAD PAD PAD PAD PAD PAD PAD PAD PAD PAD PAD PAD PAD PAD PAD PAD PAD PAD PAD PAD PAD PAD PAD PAD PAD PAD PAD PAD PAD PAD PAD PAD PAD PAD PAD PAD PAD PAD PAD PAD PAD PAD PAD PAD PAD PAD PAD PAD PAD PAD PAD PAD PAD PAD PAD PAD PAD PAD PAD PAD PAD PAD PAD PAD PAD PAD PAD PAD PAD PAD PAD PAD PAD PAD PAD PAD PAD PAD PAD PAD PAD PAD PAD PAD PAD PAD PAD PAD PAD PAD PAD PAD PAD PAD PAD PAD PAD PAD PAD PAD PAD PAD PAD PAD PAD PAD PAD PAD PAD PAD PAD PAD PAD PAD PAD PAD PAD PAD PAD PAD PAD PAD PAD PAD PAD PAD PAD PAD PAD PAD PAD PAD PAD PAD PAD PAD PAD PAD PAD PAD PAD PAD PAD PAD PAD PAD PAD PAD PAD PAD PAD PAD PAD PAD PAD PAD PAD PAD PAD PAD PAD PAD PAD PAD PAD PAD PAD PAD PAD PAD PAD PAD PAD PAD PAD PAD PAD PAD PAD PAD PAD PAD PAD PAD PAD PAD PAD PAD PAD PAD PAD PAD PAD PAD PAD PAD PAD PAD PAD PAD PAD PAD PAD PAD PAD PAD PAD PAD PAD PAD PAD PAD PAD PAD PAD PAD PAD PAD PAD PAD PAD PAD PAD PAD PAD PAD PAD PAD PAD PAD PAD PAD PAD PAD PAD PAD PAD PAD PAD PAD PAD PAD PAD PAD PAD PAD PAD PAD PAD PAD PAD PAD PAD PAD PAD PAD PAD PAD PAD PAD PAD PAD PAD PAD it s about time rev . patrick mahoney , of church on the hill in washington , d.c. says that christians in america can not afford to be silent about what s going on.speaking with fox news on friday , he discussed the persecution of christians worldwide . every five minutes , a christian dies for their faith around the world . that s over 100,000 a year , he said.mahoney started the # orangejumpsuit project to raise awareness , encouraging supporters to wear orange in a show of support for christians being murdered for their faith . the color represents the jumpsuits worn by captives of isis , including the 20 egyptian copts beheaded in libya in february.as christians around the country embrace the campaign by wearing orange to church , mahoney argued that it is not a strictly christian movement . americans need to realize we are seeing a genocide the likes we have not seen in a generation , he said.and for women , forced into marriages and sold into sex trafficking operations , he said , it is especially horrifying . mahoney has been working with religious leaders of many faiths including muslims to be more vocal in condemning the persecutions.he recently stood outside the white house personally wearing an orange jumpsuit bearing the name of saeed abedini , an american pastor jailed in iran.via : biz pac review\n",
      "tensor(2, device='cuda:0')\n"
     ]
    }
   ],
   "source": [
    "x, y = next(iter(train_iterator))\n",
    "print(' '.join([id2word[int(i)] for i in x[0]]))\n",
    "print(y[0])"
   ]
  },
  {
   "cell_type": "markdown",
   "metadata": {
    "id": "bKsLL8taGb79"
   },
   "source": [
    "## Загрузка предобученных векторов"
   ]
  },
  {
   "cell_type": "code",
   "execution_count": 85,
   "metadata": {
    "execution": {
     "iopub.execute_input": "2021-12-20T10:11:57.942677Z",
     "iopub.status.busy": "2021-12-20T10:11:57.942367Z",
     "iopub.status.idle": "2021-12-20T10:12:32.727876Z",
     "shell.execute_reply": "2021-12-20T10:12:32.727106Z",
     "shell.execute_reply.started": "2021-12-20T10:11:57.942642Z"
    }
   },
   "outputs": [
    {
     "name": "stdout",
     "output_type": "stream",
     "text": [
      "--2021-12-20 10:11:58--  https://s3.amazonaws.com/dl4j-distribution/GoogleNews-vectors-negative300.bin.gz\n",
      "Resolving s3.amazonaws.com (s3.amazonaws.com)... 52.216.78.54\n",
      "Connecting to s3.amazonaws.com (s3.amazonaws.com)|52.216.78.54|:443... connected.\n",
      "HTTP request sent, awaiting response... 200 OK\n",
      "Length: 1647046227 (1.5G) [application/x-gzip]\n",
      "Saving to: ‘GoogleNews-vectors-negative300.bin.gz.2’\n",
      "\n",
      "GoogleNews-vectors- 100%[===================>]   1.53G  40.4MB/s    in 34s     \n",
      "\n",
      "2021-12-20 10:12:32 (46.6 MB/s) - ‘GoogleNews-vectors-negative300.bin.gz.2’ saved [1647046227/1647046227]\n",
      "\n"
     ]
    }
   ],
   "source": [
    "!wget https://s3.amazonaws.com/dl4j-distribution/GoogleNews-vectors-negative300.bin.gz"
   ]
  },
  {
   "cell_type": "code",
   "execution_count": 86,
   "metadata": {
    "execution": {
     "iopub.execute_input": "2021-12-20T10:12:32.729810Z",
     "iopub.status.busy": "2021-12-20T10:12:32.729314Z",
     "iopub.status.idle": "2021-12-20T10:13:41.016590Z",
     "shell.execute_reply": "2021-12-20T10:13:41.015800Z",
     "shell.execute_reply.started": "2021-12-20T10:12:32.729764Z"
    },
    "id": "LDltfrXRLJAS"
   },
   "outputs": [],
   "source": [
    "w2v = KeyedVectors.load_word2vec_format('GoogleNews-vectors-negative300.bin.gz', binary=True)"
   ]
  },
  {
   "cell_type": "code",
   "execution_count": 87,
   "metadata": {
    "execution": {
     "iopub.execute_input": "2021-12-20T10:13:41.018594Z",
     "iopub.status.busy": "2021-12-20T10:13:41.018079Z",
     "iopub.status.idle": "2021-12-20T10:13:56.703681Z",
     "shell.execute_reply": "2021-12-20T10:13:56.702981Z",
     "shell.execute_reply.started": "2021-12-20T10:13:41.018554Z"
    },
    "id": "NAJXSLwuGfWw",
    "outputId": "f5939b59-0be2-4278-9bde-e5525327443b"
   },
   "outputs": [
    {
     "data": {
      "text/plain": [
       "torch.Size([151904, 300])"
      ]
     },
     "execution_count": 87,
     "metadata": {},
     "output_type": "execute_result"
    }
   ],
   "source": [
    "# собрать матрицу векторов в нужном порядке\n",
    "vectors = []\n",
    "for word in word2id:\n",
    "    lemma = morph.parse(word)[0].normal_form\n",
    "    if lemma in w2v:\n",
    "        vectors.append(w2v.get_vector(lemma))\n",
    "    #elif word == 'PAD':\n",
    "    #    vectors.append(np.random.uniform(-0.25, 0.25, 300))\n",
    "    else:\n",
    "        vectors.append(np.random.uniform(-0.25, 0.25, 300))\n",
    "\n",
    "weights = torch.tensor(vectors)\n",
    "weights.shape"
   ]
  },
  {
   "cell_type": "code",
   "execution_count": 88,
   "metadata": {
    "execution": {
     "iopub.execute_input": "2021-12-20T10:13:56.705383Z",
     "iopub.status.busy": "2021-12-20T10:13:56.705107Z",
     "iopub.status.idle": "2021-12-20T10:13:56.840822Z",
     "shell.execute_reply": "2021-12-20T10:13:56.840051Z",
     "shell.execute_reply.started": "2021-12-20T10:13:56.705348Z"
    },
    "id": "Rk345cwcZH9u"
   },
   "outputs": [],
   "source": [
    "del w2v"
   ]
  },
  {
   "cell_type": "code",
   "execution_count": 89,
   "metadata": {
    "execution": {
     "iopub.execute_input": "2021-12-20T10:13:56.842861Z",
     "iopub.status.busy": "2021-12-20T10:13:56.842379Z",
     "iopub.status.idle": "2021-12-20T10:13:57.066216Z",
     "shell.execute_reply": "2021-12-20T10:13:57.065309Z",
     "shell.execute_reply.started": "2021-12-20T10:13:56.842818Z"
    },
    "id": "-WzdKXNUGfY7",
    "outputId": "e05a140c-a52e-41ad-ff3e-2db57841041b"
   },
   "outputs": [
    {
     "data": {
      "text/plain": [
       "torch.Size([151904, 300])"
      ]
     },
     "execution_count": 89,
     "metadata": {},
     "output_type": "execute_result"
    }
   ],
   "source": [
    "weights = weights.to(torch.float).to(DEVICE)\n",
    "weights.shape"
   ]
  },
  {
   "cell_type": "markdown",
   "metadata": {
    "id": "fz8G9XXgwUlH"
   },
   "source": [
    "## Класс модели C-LSTM"
   ]
  },
  {
   "cell_type": "code",
   "execution_count": 90,
   "metadata": {
    "execution": {
     "iopub.execute_input": "2021-12-20T10:13:57.072354Z",
     "iopub.status.busy": "2021-12-20T10:13:57.072133Z",
     "iopub.status.idle": "2021-12-20T10:13:57.095080Z",
     "shell.execute_reply": "2021-12-20T10:13:57.094047Z",
     "shell.execute_reply.started": "2021-12-20T10:13:57.072326Z"
    },
    "id": "9cxWeVS_CUsU"
   },
   "outputs": [],
   "source": [
    "class C_LSTM(LightningModule):\n",
    "    def __init__(self, vocab_size, n_filters, filter_size, layer_dropout, weights):\n",
    "        super().__init__()\n",
    "        self.n_filters = n_filters\n",
    "        self.filter_size = filter_size\n",
    "        self.layer_dropout = layer_dropout\n",
    "        self.lstm_size = self.n_filters\n",
    "        self.num_layers = 1\n",
    "        self.embedding_dim = weights.shape[1]\n",
    "        self.dropout = nn.Dropout(p=0.5)\n",
    "        self.criterion = torch.nn.CrossEntropyLoss()\n",
    "        self.accuracy = torchmetrics.Accuracy()\n",
    "        \n",
    "        self.embedding = nn.Embedding.from_pretrained(weights, freeze=False)\n",
    "        \n",
    "        self.conv_layers = nn.ModuleList([])\n",
    "        for size in self.filter_size:\n",
    "            conv = nn.Conv1d(in_channels=self.embedding_dim, out_channels=self.n_filters,\n",
    "                             kernel_size=size, padding='valid')\n",
    "            self.conv_layers.append(conv)\n",
    "\n",
    "        self.relu = nn.ReLU()\n",
    "        self.lstm = nn.LSTM(input_size=self.n_filters * len(filter_size),\n",
    "                            hidden_size=self.lstm_size,\n",
    "                            num_layers=self.num_layers,\n",
    "                            batch_first=True)\n",
    "        self.out = nn.Linear(in_features=self.lstm_size, out_features=6)\n",
    "        self.softmax = nn.Softmax(dim=1)\n",
    "\n",
    "    def forward(self, text, prev_state=None):\n",
    "        if self.layer_dropout == 'CNN':\n",
    "            embed = self.dropout(self.embedding(text))\n",
    "        else:\n",
    "            embed = self.embedding(text)\n",
    "        embed = embed.transpose(1,2)\n",
    "\n",
    "        if len(self.conv_layers) == 1:\n",
    "            conv = self.conv_layers[0]\n",
    "            conv_layer = self.relu(conv(embed))\n",
    "            # batch_size x filter_count3 x seq_len\n",
    "        elif len(self.conv_layers) > 1:\n",
    "            conv_outputs = []\n",
    "            for conv in self.conv_layers:                \n",
    "                conv_layer = self.relu(conv(embed))\n",
    "                # здесь обрезка до мин длины по формуле seq_len + max(filter_size) - 1\n",
    "                conv_outputs.append(conv_layer[:,:,:embed.shape[-1]-max(self.filter_size)+1])\n",
    "            conv_layer = torch.cat(conv_outputs, 1)\n",
    "        conv_layer = conv_layer.transpose(1,2)\n",
    "        # batch_size x seq_len x filter_count3\n",
    "\n",
    "        output, (hidden, cell) = self.lstm(conv_layer)\n",
    "        hidden.squeeze_(0)\n",
    "        if self.layer_dropout == 'LSTM':\n",
    "            hidden = self.dropout(hidden)\n",
    "        logits = self.softmax(self.out(hidden))\n",
    "        return logits\n",
    "    \n",
    "    def training_step(self, batch, batch_nb):\n",
    "        x, y = batch\n",
    "        pred_y = self(x)\n",
    "        train_loss = self.criterion(pred_y, y)\n",
    "        train_acc = self.accuracy(pred_y, y)\n",
    "        self.log(\"train_loss\", train_loss, prog_bar=True)\n",
    "        return train_loss\n",
    "\n",
    "    def validation_step(self, batch, batch_nb):\n",
    "        x, y = batch\n",
    "        pred_y = self(x)\n",
    "        val_loss = self.criterion(pred_y, y)\n",
    "        val_acc = self.accuracy(pred_y, y)\n",
    "        self.log(\"val_loss\", val_loss, prog_bar=True, logger=True)\n",
    "        self.log(\"val_accuracy\", val_acc, on_epoch=True, prog_bar=True, logger=True)\n",
    "    \n",
    "    def configure_optimizers(self):\n",
    "        optimizer = torch.optim.RMSprop(params=self.parameters(), lr=0.001,\n",
    "                                        weight_decay=0.001)\n",
    "        return [optimizer]"
   ]
  },
  {
   "cell_type": "code",
   "execution_count": 91,
   "metadata": {
    "execution": {
     "iopub.execute_input": "2021-12-20T10:13:57.097576Z",
     "iopub.status.busy": "2021-12-20T10:13:57.096763Z",
     "iopub.status.idle": "2021-12-20T10:13:57.150372Z",
     "shell.execute_reply": "2021-12-20T10:13:57.149658Z",
     "shell.execute_reply.started": "2021-12-20T10:13:57.097534Z"
    }
   },
   "outputs": [
    {
     "data": {
      "text/plain": [
       "tensor([[0.0685, 0.5387, 0.3928],\n",
       "        [0.4016, 0.3157, 0.2827]])"
      ]
     },
     "execution_count": 91,
     "metadata": {},
     "output_type": "execute_result"
    }
   ],
   "source": [
    "m = nn.Softmax(dim=1)\n",
    "input = torch.randn(2, 3)\n",
    "output = m(input)\n",
    "output"
   ]
  },
  {
   "cell_type": "code",
   "execution_count": 92,
   "metadata": {
    "execution": {
     "iopub.execute_input": "2021-12-20T10:13:57.152333Z",
     "iopub.status.busy": "2021-12-20T10:13:57.151824Z",
     "iopub.status.idle": "2021-12-20T10:13:57.167407Z",
     "shell.execute_reply": "2021-12-20T10:13:57.166497Z",
     "shell.execute_reply.started": "2021-12-20T10:13:57.152293Z"
    }
   },
   "outputs": [],
   "source": [
    "model = C_LSTM(vocab_size=len(word2id), n_filters=150, filter_size=[3,4], layer_dropout='CNN', weights=weights)"
   ]
  },
  {
   "cell_type": "code",
   "execution_count": 93,
   "metadata": {
    "execution": {
     "iopub.execute_input": "2021-12-20T10:13:57.168991Z",
     "iopub.status.busy": "2021-12-20T10:13:57.168640Z",
     "iopub.status.idle": "2021-12-20T10:13:57.177093Z",
     "shell.execute_reply": "2021-12-20T10:13:57.176186Z",
     "shell.execute_reply.started": "2021-12-20T10:13:57.168948Z"
    }
   },
   "outputs": [
    {
     "data": {
      "text/plain": [
       "C_LSTM(\n",
       "  (dropout): Dropout(p=0.5, inplace=False)\n",
       "  (criterion): CrossEntropyLoss()\n",
       "  (accuracy): Accuracy()\n",
       "  (embedding): Embedding(151904, 300)\n",
       "  (conv_layers): ModuleList(\n",
       "    (0): Conv1d(300, 150, kernel_size=(3,), stride=(1,), padding=valid)\n",
       "    (1): Conv1d(300, 150, kernel_size=(4,), stride=(1,), padding=valid)\n",
       "  )\n",
       "  (relu): ReLU()\n",
       "  (lstm): LSTM(300, 150, batch_first=True)\n",
       "  (out): Linear(in_features=150, out_features=6, bias=True)\n",
       "  (softmax): Softmax(dim=1)\n",
       ")"
      ]
     },
     "execution_count": 93,
     "metadata": {},
     "output_type": "execute_result"
    }
   ],
   "source": [
    "model"
   ]
  },
  {
   "cell_type": "code",
   "execution_count": 97,
   "metadata": {
    "execution": {
     "iopub.execute_input": "2021-12-20T10:15:08.313903Z",
     "iopub.status.busy": "2021-12-20T10:15:08.313609Z",
     "iopub.status.idle": "2021-12-20T10:15:08.321783Z",
     "shell.execute_reply": "2021-12-20T10:15:08.320875Z",
     "shell.execute_reply.started": "2021-12-20T10:15:08.313874Z"
    }
   },
   "outputs": [
    {
     "data": {
      "text/plain": [
       "C_LSTM(\n",
       "  (dropout): Dropout(p=0.5, inplace=False)\n",
       "  (criterion): CrossEntropyLoss()\n",
       "  (accuracy): Accuracy()\n",
       "  (embedding): Embedding(151904, 300)\n",
       "  (conv_layers): ModuleList(\n",
       "    (0): Conv1d(300, 150, kernel_size=(3,), stride=(1,), padding=valid)\n",
       "    (1): Conv1d(300, 150, kernel_size=(4,), stride=(1,), padding=valid)\n",
       "  )\n",
       "  (relu): ReLU()\n",
       "  (lstm): LSTM(300, 150, batch_first=True)\n",
       "  (out): Linear(in_features=150, out_features=6, bias=True)\n",
       "  (softmax): Softmax(dim=1)\n",
       ")"
      ]
     },
     "execution_count": 97,
     "metadata": {},
     "output_type": "execute_result"
    }
   ],
   "source": [
    "model.to(DEVICE)"
   ]
  },
  {
   "cell_type": "code",
   "execution_count": 98,
   "metadata": {
    "execution": {
     "iopub.execute_input": "2021-12-20T10:15:10.539747Z",
     "iopub.status.busy": "2021-12-20T10:15:10.539177Z",
     "iopub.status.idle": "2021-12-20T10:15:10.558074Z",
     "shell.execute_reply": "2021-12-20T10:15:10.557341Z",
     "shell.execute_reply.started": "2021-12-20T10:15:10.539706Z"
    }
   },
   "outputs": [],
   "source": [
    "x, y = next(iter(test_iterator))"
   ]
  },
  {
   "cell_type": "code",
   "execution_count": 100,
   "metadata": {
    "execution": {
     "iopub.execute_input": "2021-12-20T10:15:20.292914Z",
     "iopub.status.busy": "2021-12-20T10:15:20.292656Z",
     "iopub.status.idle": "2021-12-20T10:16:17.212978Z",
     "shell.execute_reply": "2021-12-20T10:16:17.212039Z",
     "shell.execute_reply.started": "2021-12-20T10:15:20.292883Z"
    }
   },
   "outputs": [
    {
     "data": {
      "application/vnd.jupyter.widget-view+json": {
       "model_id": "",
       "version_major": 2,
       "version_minor": 0
      },
      "text/plain": [
       "Validation sanity check: 0it [00:00, ?it/s]"
      ]
     },
     "metadata": {},
     "output_type": "display_data"
    },
    {
     "name": "stderr",
     "output_type": "stream",
     "text": [
      "/opt/conda/lib/python3.7/site-packages/pytorch_lightning/trainer/data_loading.py:373: UserWarning: Your val_dataloader has `shuffle=True`, it is best practice to turn this off for val/test/predict dataloaders.\n",
      "  f\"Your {mode}_dataloader has `shuffle=True`, it is best practice to turn\"\n"
     ]
    },
    {
     "data": {
      "application/vnd.jupyter.widget-view+json": {
       "model_id": "05bda99b5e744c4198985f38cc45ab49",
       "version_major": 2,
       "version_minor": 0
      },
      "text/plain": [
       "Training: -1it [00:00, ?it/s]"
      ]
     },
     "metadata": {},
     "output_type": "display_data"
    },
    {
     "data": {
      "application/vnd.jupyter.widget-view+json": {
       "model_id": "",
       "version_major": 2,
       "version_minor": 0
      },
      "text/plain": [
       "Validating: 0it [00:00, ?it/s]"
      ]
     },
     "metadata": {},
     "output_type": "display_data"
    },
    {
     "data": {
      "application/vnd.jupyter.widget-view+json": {
       "model_id": "",
       "version_major": 2,
       "version_minor": 0
      },
      "text/plain": [
       "Validating: 0it [00:00, ?it/s]"
      ]
     },
     "metadata": {},
     "output_type": "display_data"
    },
    {
     "data": {
      "application/vnd.jupyter.widget-view+json": {
       "model_id": "",
       "version_major": 2,
       "version_minor": 0
      },
      "text/plain": [
       "Validating: 0it [00:00, ?it/s]"
      ]
     },
     "metadata": {},
     "output_type": "display_data"
    },
    {
     "name": "stdout",
     "output_type": "stream",
     "text": [
      "--------------------------------------------------------------------------------\n",
      "DATALOADER:0 VALIDATE RESULTS\n",
      "{'val_accuracy': 0.5864565372467041, 'val_loss': 1.4566047191619873}\n",
      "--------------------------------------------------------------------------------\n"
     ]
    },
    {
     "data": {
      "text/plain": [
       "[{'val_loss': 1.4566047191619873, 'val_accuracy': 0.5864565372467041}]"
      ]
     },
     "execution_count": 100,
     "metadata": {},
     "output_type": "execute_result"
    }
   ],
   "source": [
    "early_stop_callback = EarlyStopping(\n",
    "    monitor=\"val_loss\",\n",
    "    min_delta=0.01,\n",
    "    patience=0,\n",
    "    verbose=True,\n",
    "    mode=\"min\"\n",
    ")\n",
    "\n",
    "ltrainer = LightningTrainer(\n",
    "    gpus=1,\n",
    "    max_epochs=2,\n",
    "    # val_check_interval=1,\n",
    "    # gradient_clip_val=5.0,\n",
    "    logger=True,\n",
    "    callbacks=[early_stop_callback]\n",
    ")\n",
    "ltrainer.fit(model, train_iterator, test_iterator)\n",
    "\n",
    "ltrainer.validate(model, dataloaders=test_iterator)"
   ]
  },
  {
   "cell_type": "markdown",
   "metadata": {
    "id": "11TuC2UtFWEK"
   },
   "source": [
    "## Обёртка в класс эксперимента"
   ]
  },
  {
   "cell_type": "markdown",
   "metadata": {
    "id": "ptE_Yqn3Z7Vf"
   },
   "source": [
    "Что в модели постоянного:\n",
    "* препроцессинг - приведение к нижнему регистру\n",
    "* векторизация w2v Google News Dataset\n",
    "  * эмбеддинги не замораживаются\n",
    "  * вектора незнакомых слов -  uniform distribution [-0.25, 0.25]\n",
    "* паддинг трейна до максимальной длины, паддинг или обрезка теста до максимальной длины трейна\n",
    "* сначала СNN\n",
    "  * с ReLU\n",
    "  * без пулинга\n",
    "* затем один LSTM слой\n",
    "* выход из CNN трансформируется и передаётся в LSTM\n",
    "* L2 регуляризация с фактором 0.001 в софтмаксе\n",
    "* дропаут p=0.5\n",
    "* лосс - кросс-энтропия\n",
    "* оптимайзер - RMSprop \n",
    "\n",
    "\n",
    "Что меняется:\n",
    "* дропаут: или на вектора перед CNN, или на выход из LSTM перед софтмаксом\n",
    "* размер фильтра свёртки: 2, 3, 4, 2+3, 2+4, 3+4, 2+3+4\n",
    "* количество фильтров свёртки: один с одной длиной или несколько с фильтрами разных размеров\n",
    "* количество фильтров свёртки и память LSTM: 150 и 150 или 300 и 300 (или для каждого из пары ещё нужен грид сёрч? но не указано, среди чего искали)"
   ]
  },
  {
   "cell_type": "code",
   "execution_count": 101,
   "metadata": {
    "execution": {
     "iopub.execute_input": "2021-12-20T10:16:17.215374Z",
     "iopub.status.busy": "2021-12-20T10:16:17.215087Z",
     "iopub.status.idle": "2021-12-20T10:16:17.227016Z",
     "shell.execute_reply": "2021-12-20T10:16:17.225941Z",
     "shell.execute_reply.started": "2021-12-20T10:16:17.215335Z"
    },
    "id": "Am4hdTCYzecK"
   },
   "outputs": [],
   "source": [
    "class Experiment:\n",
    "    def __init__(self,  epochs, n_filters=150, filter_size=[3], layer_dropout='CNN'):\n",
    "        'все параметры потенциально изменяемые'\n",
    "        self.params = {'n_filters': n_filters,\n",
    "                       'filter_size': filter_size,\n",
    "                       'layer_dropout': layer_dropout}\n",
    "        self.epochs = epochs\n",
    "\n",
    "    @staticmethod\n",
    "    def report(model_accuracies, report_params):\n",
    "        'вывести сравнительную табл значений аккураси'\n",
    "        res_df = pd.DataFrame(report_params)\n",
    "        res_df['accuracy'] = model_accuracies\n",
    "        print(f\"\\nЛучшая модель №{res_df['accuracy'].idxmax()} с точностью {res_df['accuracy'][res_df['accuracy'].idxmax()]}\")\n",
    "        display(res_df.style.highlight_max('accuracy'))\n",
    "\n",
    "    def start(self):\n",
    "        'перебрать параметры и запустить обучение'\n",
    "        all_model_accuracies = []\n",
    "        keys = list(self.params)\n",
    "        report_params = []\n",
    "        print(f'Получится экспериментов: {len(list(itertools.product(*map(self.params.get, keys))))}')\n",
    "        \n",
    "        #early_stop_callback = EarlyStopping(monitor=\"val_loss\", min_delta=0.01,patience=0,\n",
    "                                           # verbose=True, mode=\"min\")\n",
    "        for i, values in enumerate(itertools.product(*map(self.params.get, keys))):\n",
    "            print(f'\\nЭксперимент {i+1}\\nПараметры: {dict(zip(keys, values))}')\n",
    "            report_params.append(dict(zip(keys, values)))\n",
    "            \n",
    "            model = C_LSTM(vocab_size=len(word2id), weights=weights,\n",
    "                           **dict(zip(keys, values))).to(DEVICE)\n",
    "            \n",
    "            trainer = LightningTrainer(gpus=1, max_epochs=self.epochs, logger=True)#,\n",
    "                                        #callbacks=[early_stop_callback])\n",
    "            trainer.fit(model, train_iterator, test_iterator)\n",
    "            results = trainer.validate(model, dataloaders=test_iterator)\n",
    "            model_accuracy = results[0]['val_accuracy']\n",
    "                                        \n",
    "            all_model_accuracies.append(model_accuracy)\n",
    "            gc.collect()\n",
    "            print(f'Model accuracy: {model_accuracy}')\n",
    "    \n",
    "        self.report(all_model_accuracies, report_params)"
   ]
  },
  {
   "cell_type": "code",
   "execution_count": 102,
   "metadata": {
    "execution": {
     "iopub.execute_input": "2021-12-20T10:16:17.228783Z",
     "iopub.status.busy": "2021-12-20T10:16:17.228517Z",
     "iopub.status.idle": "2021-12-20T10:16:17.241628Z",
     "shell.execute_reply": "2021-12-20T10:16:17.240849Z",
     "shell.execute_reply.started": "2021-12-20T10:16:17.228749Z"
    },
    "id": "ueXaV0kMa33D"
   },
   "outputs": [],
   "source": [
    "exp_1 = Experiment(epochs=3, n_filters=[150],\n",
    "                  filter_size=[[4]], layer_dropout=['LSTM'])\n",
    "# полный вариант - займёт много часов\n",
    "exp_full = Experiment(epochs=10, n_filters=[150], # ещё можно 300, но тогда на 19/28 экспе кончается память,\n",
    "                     filter_size=[[2],[3],[4],[2,3],[3,4],[2,4],[2,3,4]], layer_dropout=['CNN', 'LSTM'])"
   ]
  },
  {
   "cell_type": "code",
   "execution_count": 103,
   "metadata": {
    "execution": {
     "iopub.execute_input": "2021-12-20T10:16:17.243604Z",
     "iopub.status.busy": "2021-12-20T10:16:17.243218Z",
     "iopub.status.idle": "2021-12-20T11:17:36.870544Z",
     "shell.execute_reply": "2021-12-20T11:17:36.869650Z",
     "shell.execute_reply.started": "2021-12-20T10:16:17.243501Z"
    },
    "id": "orHbQqQR_4yu",
    "outputId": "4da0bad6-f4b2-4975-a7f0-93a9d6de5553"
   },
   "outputs": [
    {
     "name": "stdout",
     "output_type": "stream",
     "text": [
      "Получится экспериментов: 14\n",
      "\n",
      "Эксперимент 1\n",
      "Параметры: {'n_filters': 150, 'filter_size': [2], 'layer_dropout': 'CNN'}\n"
     ]
    },
    {
     "data": {
      "application/vnd.jupyter.widget-view+json": {
       "model_id": "",
       "version_major": 2,
       "version_minor": 0
      },
      "text/plain": [
       "Validation sanity check: 0it [00:00, ?it/s]"
      ]
     },
     "metadata": {},
     "output_type": "display_data"
    },
    {
     "data": {
      "application/vnd.jupyter.widget-view+json": {
       "model_id": "f7413c46220049fc89685b55f57d84e6",
       "version_major": 2,
       "version_minor": 0
      },
      "text/plain": [
       "Training: -1it [00:00, ?it/s]"
      ]
     },
     "metadata": {},
     "output_type": "display_data"
    },
    {
     "data": {
      "application/vnd.jupyter.widget-view+json": {
       "model_id": "",
       "version_major": 2,
       "version_minor": 0
      },
      "text/plain": [
       "Validating: 0it [00:00, ?it/s]"
      ]
     },
     "metadata": {},
     "output_type": "display_data"
    },
    {
     "data": {
      "application/vnd.jupyter.widget-view+json": {
       "model_id": "",
       "version_major": 2,
       "version_minor": 0
      },
      "text/plain": [
       "Validating: 0it [00:00, ?it/s]"
      ]
     },
     "metadata": {},
     "output_type": "display_data"
    },
    {
     "data": {
      "application/vnd.jupyter.widget-view+json": {
       "model_id": "",
       "version_major": 2,
       "version_minor": 0
      },
      "text/plain": [
       "Validating: 0it [00:00, ?it/s]"
      ]
     },
     "metadata": {},
     "output_type": "display_data"
    },
    {
     "data": {
      "application/vnd.jupyter.widget-view+json": {
       "model_id": "",
       "version_major": 2,
       "version_minor": 0
      },
      "text/plain": [
       "Validating: 0it [00:00, ?it/s]"
      ]
     },
     "metadata": {},
     "output_type": "display_data"
    },
    {
     "data": {
      "application/vnd.jupyter.widget-view+json": {
       "model_id": "",
       "version_major": 2,
       "version_minor": 0
      },
      "text/plain": [
       "Validating: 0it [00:00, ?it/s]"
      ]
     },
     "metadata": {},
     "output_type": "display_data"
    },
    {
     "data": {
      "application/vnd.jupyter.widget-view+json": {
       "model_id": "",
       "version_major": 2,
       "version_minor": 0
      },
      "text/plain": [
       "Validating: 0it [00:00, ?it/s]"
      ]
     },
     "metadata": {},
     "output_type": "display_data"
    },
    {
     "data": {
      "application/vnd.jupyter.widget-view+json": {
       "model_id": "",
       "version_major": 2,
       "version_minor": 0
      },
      "text/plain": [
       "Validating: 0it [00:00, ?it/s]"
      ]
     },
     "metadata": {},
     "output_type": "display_data"
    },
    {
     "data": {
      "application/vnd.jupyter.widget-view+json": {
       "model_id": "",
       "version_major": 2,
       "version_minor": 0
      },
      "text/plain": [
       "Validating: 0it [00:00, ?it/s]"
      ]
     },
     "metadata": {},
     "output_type": "display_data"
    },
    {
     "data": {
      "application/vnd.jupyter.widget-view+json": {
       "model_id": "",
       "version_major": 2,
       "version_minor": 0
      },
      "text/plain": [
       "Validating: 0it [00:00, ?it/s]"
      ]
     },
     "metadata": {},
     "output_type": "display_data"
    },
    {
     "data": {
      "application/vnd.jupyter.widget-view+json": {
       "model_id": "",
       "version_major": 2,
       "version_minor": 0
      },
      "text/plain": [
       "Validating: 0it [00:00, ?it/s]"
      ]
     },
     "metadata": {},
     "output_type": "display_data"
    },
    {
     "data": {
      "application/vnd.jupyter.widget-view+json": {
       "model_id": "",
       "version_major": 2,
       "version_minor": 0
      },
      "text/plain": [
       "Validating: 0it [00:00, ?it/s]"
      ]
     },
     "metadata": {},
     "output_type": "display_data"
    },
    {
     "name": "stdout",
     "output_type": "stream",
     "text": [
      "--------------------------------------------------------------------------------\n",
      "DATALOADER:0 VALIDATE RESULTS\n",
      "{'val_accuracy': 0.6128619909286499, 'val_loss': 1.4272595643997192}\n",
      "--------------------------------------------------------------------------------\n",
      "Model accuracy: 0.6128619909286499\n",
      "\n",
      "Эксперимент 2\n",
      "Параметры: {'n_filters': 150, 'filter_size': [2], 'layer_dropout': 'LSTM'}\n"
     ]
    },
    {
     "data": {
      "application/vnd.jupyter.widget-view+json": {
       "model_id": "",
       "version_major": 2,
       "version_minor": 0
      },
      "text/plain": [
       "Validation sanity check: 0it [00:00, ?it/s]"
      ]
     },
     "metadata": {},
     "output_type": "display_data"
    },
    {
     "data": {
      "application/vnd.jupyter.widget-view+json": {
       "model_id": "dfba7011d8904b8f8089557b67f759ef",
       "version_major": 2,
       "version_minor": 0
      },
      "text/plain": [
       "Training: -1it [00:00, ?it/s]"
      ]
     },
     "metadata": {},
     "output_type": "display_data"
    },
    {
     "data": {
      "application/vnd.jupyter.widget-view+json": {
       "model_id": "",
       "version_major": 2,
       "version_minor": 0
      },
      "text/plain": [
       "Validating: 0it [00:00, ?it/s]"
      ]
     },
     "metadata": {},
     "output_type": "display_data"
    },
    {
     "data": {
      "application/vnd.jupyter.widget-view+json": {
       "model_id": "",
       "version_major": 2,
       "version_minor": 0
      },
      "text/plain": [
       "Validating: 0it [00:00, ?it/s]"
      ]
     },
     "metadata": {},
     "output_type": "display_data"
    },
    {
     "data": {
      "application/vnd.jupyter.widget-view+json": {
       "model_id": "",
       "version_major": 2,
       "version_minor": 0
      },
      "text/plain": [
       "Validating: 0it [00:00, ?it/s]"
      ]
     },
     "metadata": {},
     "output_type": "display_data"
    },
    {
     "data": {
      "application/vnd.jupyter.widget-view+json": {
       "model_id": "",
       "version_major": 2,
       "version_minor": 0
      },
      "text/plain": [
       "Validating: 0it [00:00, ?it/s]"
      ]
     },
     "metadata": {},
     "output_type": "display_data"
    },
    {
     "data": {
      "application/vnd.jupyter.widget-view+json": {
       "model_id": "",
       "version_major": 2,
       "version_minor": 0
      },
      "text/plain": [
       "Validating: 0it [00:00, ?it/s]"
      ]
     },
     "metadata": {},
     "output_type": "display_data"
    },
    {
     "data": {
      "application/vnd.jupyter.widget-view+json": {
       "model_id": "",
       "version_major": 2,
       "version_minor": 0
      },
      "text/plain": [
       "Validating: 0it [00:00, ?it/s]"
      ]
     },
     "metadata": {},
     "output_type": "display_data"
    },
    {
     "data": {
      "application/vnd.jupyter.widget-view+json": {
       "model_id": "",
       "version_major": 2,
       "version_minor": 0
      },
      "text/plain": [
       "Validating: 0it [00:00, ?it/s]"
      ]
     },
     "metadata": {},
     "output_type": "display_data"
    },
    {
     "data": {
      "application/vnd.jupyter.widget-view+json": {
       "model_id": "",
       "version_major": 2,
       "version_minor": 0
      },
      "text/plain": [
       "Validating: 0it [00:00, ?it/s]"
      ]
     },
     "metadata": {},
     "output_type": "display_data"
    },
    {
     "data": {
      "application/vnd.jupyter.widget-view+json": {
       "model_id": "",
       "version_major": 2,
       "version_minor": 0
      },
      "text/plain": [
       "Validating: 0it [00:00, ?it/s]"
      ]
     },
     "metadata": {},
     "output_type": "display_data"
    },
    {
     "data": {
      "application/vnd.jupyter.widget-view+json": {
       "model_id": "",
       "version_major": 2,
       "version_minor": 0
      },
      "text/plain": [
       "Validating: 0it [00:00, ?it/s]"
      ]
     },
     "metadata": {},
     "output_type": "display_data"
    },
    {
     "data": {
      "application/vnd.jupyter.widget-view+json": {
       "model_id": "",
       "version_major": 2,
       "version_minor": 0
      },
      "text/plain": [
       "Validating: 0it [00:00, ?it/s]"
      ]
     },
     "metadata": {},
     "output_type": "display_data"
    },
    {
     "name": "stdout",
     "output_type": "stream",
     "text": [
      "--------------------------------------------------------------------------------\n",
      "DATALOADER:0 VALIDATE RESULTS\n",
      "{'val_accuracy': 0.574744462966919, 'val_loss': 1.4626768827438354}\n",
      "--------------------------------------------------------------------------------\n",
      "Model accuracy: 0.574744462966919\n",
      "\n",
      "Эксперимент 3\n",
      "Параметры: {'n_filters': 150, 'filter_size': [3], 'layer_dropout': 'CNN'}\n"
     ]
    },
    {
     "data": {
      "application/vnd.jupyter.widget-view+json": {
       "model_id": "",
       "version_major": 2,
       "version_minor": 0
      },
      "text/plain": [
       "Validation sanity check: 0it [00:00, ?it/s]"
      ]
     },
     "metadata": {},
     "output_type": "display_data"
    },
    {
     "data": {
      "application/vnd.jupyter.widget-view+json": {
       "model_id": "02587811171f443cbf50e42414e115d1",
       "version_major": 2,
       "version_minor": 0
      },
      "text/plain": [
       "Training: -1it [00:00, ?it/s]"
      ]
     },
     "metadata": {},
     "output_type": "display_data"
    },
    {
     "data": {
      "application/vnd.jupyter.widget-view+json": {
       "model_id": "",
       "version_major": 2,
       "version_minor": 0
      },
      "text/plain": [
       "Validating: 0it [00:00, ?it/s]"
      ]
     },
     "metadata": {},
     "output_type": "display_data"
    },
    {
     "data": {
      "application/vnd.jupyter.widget-view+json": {
       "model_id": "",
       "version_major": 2,
       "version_minor": 0
      },
      "text/plain": [
       "Validating: 0it [00:00, ?it/s]"
      ]
     },
     "metadata": {},
     "output_type": "display_data"
    },
    {
     "data": {
      "application/vnd.jupyter.widget-view+json": {
       "model_id": "",
       "version_major": 2,
       "version_minor": 0
      },
      "text/plain": [
       "Validating: 0it [00:00, ?it/s]"
      ]
     },
     "metadata": {},
     "output_type": "display_data"
    },
    {
     "data": {
      "application/vnd.jupyter.widget-view+json": {
       "model_id": "",
       "version_major": 2,
       "version_minor": 0
      },
      "text/plain": [
       "Validating: 0it [00:00, ?it/s]"
      ]
     },
     "metadata": {},
     "output_type": "display_data"
    },
    {
     "data": {
      "application/vnd.jupyter.widget-view+json": {
       "model_id": "",
       "version_major": 2,
       "version_minor": 0
      },
      "text/plain": [
       "Validating: 0it [00:00, ?it/s]"
      ]
     },
     "metadata": {},
     "output_type": "display_data"
    },
    {
     "data": {
      "application/vnd.jupyter.widget-view+json": {
       "model_id": "",
       "version_major": 2,
       "version_minor": 0
      },
      "text/plain": [
       "Validating: 0it [00:00, ?it/s]"
      ]
     },
     "metadata": {},
     "output_type": "display_data"
    },
    {
     "data": {
      "application/vnd.jupyter.widget-view+json": {
       "model_id": "",
       "version_major": 2,
       "version_minor": 0
      },
      "text/plain": [
       "Validating: 0it [00:00, ?it/s]"
      ]
     },
     "metadata": {},
     "output_type": "display_data"
    },
    {
     "data": {
      "application/vnd.jupyter.widget-view+json": {
       "model_id": "",
       "version_major": 2,
       "version_minor": 0
      },
      "text/plain": [
       "Validating: 0it [00:00, ?it/s]"
      ]
     },
     "metadata": {},
     "output_type": "display_data"
    },
    {
     "data": {
      "application/vnd.jupyter.widget-view+json": {
       "model_id": "",
       "version_major": 2,
       "version_minor": 0
      },
      "text/plain": [
       "Validating: 0it [00:00, ?it/s]"
      ]
     },
     "metadata": {},
     "output_type": "display_data"
    },
    {
     "data": {
      "application/vnd.jupyter.widget-view+json": {
       "model_id": "",
       "version_major": 2,
       "version_minor": 0
      },
      "text/plain": [
       "Validating: 0it [00:00, ?it/s]"
      ]
     },
     "metadata": {},
     "output_type": "display_data"
    },
    {
     "data": {
      "application/vnd.jupyter.widget-view+json": {
       "model_id": "",
       "version_major": 2,
       "version_minor": 0
      },
      "text/plain": [
       "Validating: 0it [00:00, ?it/s]"
      ]
     },
     "metadata": {},
     "output_type": "display_data"
    },
    {
     "name": "stdout",
     "output_type": "stream",
     "text": [
      "--------------------------------------------------------------------------------\n",
      "DATALOADER:0 VALIDATE RESULTS\n",
      "{'val_accuracy': 0.5811328887939453, 'val_loss': 1.456353783607483}\n",
      "--------------------------------------------------------------------------------\n",
      "Model accuracy: 0.5811328887939453\n",
      "\n",
      "Эксперимент 4\n",
      "Параметры: {'n_filters': 150, 'filter_size': [3], 'layer_dropout': 'LSTM'}\n"
     ]
    },
    {
     "data": {
      "application/vnd.jupyter.widget-view+json": {
       "model_id": "",
       "version_major": 2,
       "version_minor": 0
      },
      "text/plain": [
       "Validation sanity check: 0it [00:00, ?it/s]"
      ]
     },
     "metadata": {},
     "output_type": "display_data"
    },
    {
     "data": {
      "application/vnd.jupyter.widget-view+json": {
       "model_id": "ff7314ccf1f746ecadae22ad0b6506bf",
       "version_major": 2,
       "version_minor": 0
      },
      "text/plain": [
       "Training: -1it [00:00, ?it/s]"
      ]
     },
     "metadata": {},
     "output_type": "display_data"
    },
    {
     "data": {
      "application/vnd.jupyter.widget-view+json": {
       "model_id": "",
       "version_major": 2,
       "version_minor": 0
      },
      "text/plain": [
       "Validating: 0it [00:00, ?it/s]"
      ]
     },
     "metadata": {},
     "output_type": "display_data"
    },
    {
     "data": {
      "application/vnd.jupyter.widget-view+json": {
       "model_id": "",
       "version_major": 2,
       "version_minor": 0
      },
      "text/plain": [
       "Validating: 0it [00:00, ?it/s]"
      ]
     },
     "metadata": {},
     "output_type": "display_data"
    },
    {
     "data": {
      "application/vnd.jupyter.widget-view+json": {
       "model_id": "",
       "version_major": 2,
       "version_minor": 0
      },
      "text/plain": [
       "Validating: 0it [00:00, ?it/s]"
      ]
     },
     "metadata": {},
     "output_type": "display_data"
    },
    {
     "data": {
      "application/vnd.jupyter.widget-view+json": {
       "model_id": "",
       "version_major": 2,
       "version_minor": 0
      },
      "text/plain": [
       "Validating: 0it [00:00, ?it/s]"
      ]
     },
     "metadata": {},
     "output_type": "display_data"
    },
    {
     "data": {
      "application/vnd.jupyter.widget-view+json": {
       "model_id": "",
       "version_major": 2,
       "version_minor": 0
      },
      "text/plain": [
       "Validating: 0it [00:00, ?it/s]"
      ]
     },
     "metadata": {},
     "output_type": "display_data"
    },
    {
     "data": {
      "application/vnd.jupyter.widget-view+json": {
       "model_id": "",
       "version_major": 2,
       "version_minor": 0
      },
      "text/plain": [
       "Validating: 0it [00:00, ?it/s]"
      ]
     },
     "metadata": {},
     "output_type": "display_data"
    },
    {
     "data": {
      "application/vnd.jupyter.widget-view+json": {
       "model_id": "",
       "version_major": 2,
       "version_minor": 0
      },
      "text/plain": [
       "Validating: 0it [00:00, ?it/s]"
      ]
     },
     "metadata": {},
     "output_type": "display_data"
    },
    {
     "data": {
      "application/vnd.jupyter.widget-view+json": {
       "model_id": "",
       "version_major": 2,
       "version_minor": 0
      },
      "text/plain": [
       "Validating: 0it [00:00, ?it/s]"
      ]
     },
     "metadata": {},
     "output_type": "display_data"
    },
    {
     "data": {
      "application/vnd.jupyter.widget-view+json": {
       "model_id": "",
       "version_major": 2,
       "version_minor": 0
      },
      "text/plain": [
       "Validating: 0it [00:00, ?it/s]"
      ]
     },
     "metadata": {},
     "output_type": "display_data"
    },
    {
     "data": {
      "application/vnd.jupyter.widget-view+json": {
       "model_id": "",
       "version_major": 2,
       "version_minor": 0
      },
      "text/plain": [
       "Validating: 0it [00:00, ?it/s]"
      ]
     },
     "metadata": {},
     "output_type": "display_data"
    },
    {
     "data": {
      "application/vnd.jupyter.widget-view+json": {
       "model_id": "",
       "version_major": 2,
       "version_minor": 0
      },
      "text/plain": [
       "Validating: 0it [00:00, ?it/s]"
      ]
     },
     "metadata": {},
     "output_type": "display_data"
    },
    {
     "name": "stdout",
     "output_type": "stream",
     "text": [
      "--------------------------------------------------------------------------------\n",
      "DATALOADER:0 VALIDATE RESULTS\n",
      "{'val_accuracy': 0.588798999786377, 'val_loss': 1.4506399631500244}\n",
      "--------------------------------------------------------------------------------\n",
      "Model accuracy: 0.588798999786377\n",
      "\n",
      "Эксперимент 5\n",
      "Параметры: {'n_filters': 150, 'filter_size': [4], 'layer_dropout': 'CNN'}\n"
     ]
    },
    {
     "data": {
      "application/vnd.jupyter.widget-view+json": {
       "model_id": "",
       "version_major": 2,
       "version_minor": 0
      },
      "text/plain": [
       "Validation sanity check: 0it [00:00, ?it/s]"
      ]
     },
     "metadata": {},
     "output_type": "display_data"
    },
    {
     "data": {
      "application/vnd.jupyter.widget-view+json": {
       "model_id": "48305471612c4502a1be18aaa1f86397",
       "version_major": 2,
       "version_minor": 0
      },
      "text/plain": [
       "Training: -1it [00:00, ?it/s]"
      ]
     },
     "metadata": {},
     "output_type": "display_data"
    },
    {
     "data": {
      "application/vnd.jupyter.widget-view+json": {
       "model_id": "",
       "version_major": 2,
       "version_minor": 0
      },
      "text/plain": [
       "Validating: 0it [00:00, ?it/s]"
      ]
     },
     "metadata": {},
     "output_type": "display_data"
    },
    {
     "data": {
      "application/vnd.jupyter.widget-view+json": {
       "model_id": "",
       "version_major": 2,
       "version_minor": 0
      },
      "text/plain": [
       "Validating: 0it [00:00, ?it/s]"
      ]
     },
     "metadata": {},
     "output_type": "display_data"
    },
    {
     "data": {
      "application/vnd.jupyter.widget-view+json": {
       "model_id": "",
       "version_major": 2,
       "version_minor": 0
      },
      "text/plain": [
       "Validating: 0it [00:00, ?it/s]"
      ]
     },
     "metadata": {},
     "output_type": "display_data"
    },
    {
     "data": {
      "application/vnd.jupyter.widget-view+json": {
       "model_id": "",
       "version_major": 2,
       "version_minor": 0
      },
      "text/plain": [
       "Validating: 0it [00:00, ?it/s]"
      ]
     },
     "metadata": {},
     "output_type": "display_data"
    },
    {
     "data": {
      "application/vnd.jupyter.widget-view+json": {
       "model_id": "",
       "version_major": 2,
       "version_minor": 0
      },
      "text/plain": [
       "Validating: 0it [00:00, ?it/s]"
      ]
     },
     "metadata": {},
     "output_type": "display_data"
    },
    {
     "data": {
      "application/vnd.jupyter.widget-view+json": {
       "model_id": "",
       "version_major": 2,
       "version_minor": 0
      },
      "text/plain": [
       "Validating: 0it [00:00, ?it/s]"
      ]
     },
     "metadata": {},
     "output_type": "display_data"
    },
    {
     "data": {
      "application/vnd.jupyter.widget-view+json": {
       "model_id": "",
       "version_major": 2,
       "version_minor": 0
      },
      "text/plain": [
       "Validating: 0it [00:00, ?it/s]"
      ]
     },
     "metadata": {},
     "output_type": "display_data"
    },
    {
     "data": {
      "application/vnd.jupyter.widget-view+json": {
       "model_id": "",
       "version_major": 2,
       "version_minor": 0
      },
      "text/plain": [
       "Validating: 0it [00:00, ?it/s]"
      ]
     },
     "metadata": {},
     "output_type": "display_data"
    },
    {
     "data": {
      "application/vnd.jupyter.widget-view+json": {
       "model_id": "",
       "version_major": 2,
       "version_minor": 0
      },
      "text/plain": [
       "Validating: 0it [00:00, ?it/s]"
      ]
     },
     "metadata": {},
     "output_type": "display_data"
    },
    {
     "data": {
      "application/vnd.jupyter.widget-view+json": {
       "model_id": "",
       "version_major": 2,
       "version_minor": 0
      },
      "text/plain": [
       "Validating: 0it [00:00, ?it/s]"
      ]
     },
     "metadata": {},
     "output_type": "display_data"
    },
    {
     "data": {
      "application/vnd.jupyter.widget-view+json": {
       "model_id": "",
       "version_major": 2,
       "version_minor": 0
      },
      "text/plain": [
       "Validating: 0it [00:00, ?it/s]"
      ]
     },
     "metadata": {},
     "output_type": "display_data"
    },
    {
     "name": "stdout",
     "output_type": "stream",
     "text": [
      "--------------------------------------------------------------------------------\n",
      "DATALOADER:0 VALIDATE RESULTS\n",
      "{'val_accuracy': 0.6173338890075684, 'val_loss': 1.420207142829895}\n",
      "--------------------------------------------------------------------------------\n",
      "Model accuracy: 0.6173338890075684\n",
      "\n",
      "Эксперимент 6\n",
      "Параметры: {'n_filters': 150, 'filter_size': [4], 'layer_dropout': 'LSTM'}\n"
     ]
    },
    {
     "data": {
      "application/vnd.jupyter.widget-view+json": {
       "model_id": "",
       "version_major": 2,
       "version_minor": 0
      },
      "text/plain": [
       "Validation sanity check: 0it [00:00, ?it/s]"
      ]
     },
     "metadata": {},
     "output_type": "display_data"
    },
    {
     "data": {
      "application/vnd.jupyter.widget-view+json": {
       "model_id": "381c0eaa895c4c83af0a0aaa679b944c",
       "version_major": 2,
       "version_minor": 0
      },
      "text/plain": [
       "Training: -1it [00:00, ?it/s]"
      ]
     },
     "metadata": {},
     "output_type": "display_data"
    },
    {
     "data": {
      "application/vnd.jupyter.widget-view+json": {
       "model_id": "",
       "version_major": 2,
       "version_minor": 0
      },
      "text/plain": [
       "Validating: 0it [00:00, ?it/s]"
      ]
     },
     "metadata": {},
     "output_type": "display_data"
    },
    {
     "data": {
      "application/vnd.jupyter.widget-view+json": {
       "model_id": "",
       "version_major": 2,
       "version_minor": 0
      },
      "text/plain": [
       "Validating: 0it [00:00, ?it/s]"
      ]
     },
     "metadata": {},
     "output_type": "display_data"
    },
    {
     "data": {
      "application/vnd.jupyter.widget-view+json": {
       "model_id": "",
       "version_major": 2,
       "version_minor": 0
      },
      "text/plain": [
       "Validating: 0it [00:00, ?it/s]"
      ]
     },
     "metadata": {},
     "output_type": "display_data"
    },
    {
     "data": {
      "application/vnd.jupyter.widget-view+json": {
       "model_id": "",
       "version_major": 2,
       "version_minor": 0
      },
      "text/plain": [
       "Validating: 0it [00:00, ?it/s]"
      ]
     },
     "metadata": {},
     "output_type": "display_data"
    },
    {
     "data": {
      "application/vnd.jupyter.widget-view+json": {
       "model_id": "",
       "version_major": 2,
       "version_minor": 0
      },
      "text/plain": [
       "Validating: 0it [00:00, ?it/s]"
      ]
     },
     "metadata": {},
     "output_type": "display_data"
    },
    {
     "data": {
      "application/vnd.jupyter.widget-view+json": {
       "model_id": "",
       "version_major": 2,
       "version_minor": 0
      },
      "text/plain": [
       "Validating: 0it [00:00, ?it/s]"
      ]
     },
     "metadata": {},
     "output_type": "display_data"
    },
    {
     "data": {
      "application/vnd.jupyter.widget-view+json": {
       "model_id": "",
       "version_major": 2,
       "version_minor": 0
      },
      "text/plain": [
       "Validating: 0it [00:00, ?it/s]"
      ]
     },
     "metadata": {},
     "output_type": "display_data"
    },
    {
     "data": {
      "application/vnd.jupyter.widget-view+json": {
       "model_id": "",
       "version_major": 2,
       "version_minor": 0
      },
      "text/plain": [
       "Validating: 0it [00:00, ?it/s]"
      ]
     },
     "metadata": {},
     "output_type": "display_data"
    },
    {
     "data": {
      "application/vnd.jupyter.widget-view+json": {
       "model_id": "",
       "version_major": 2,
       "version_minor": 0
      },
      "text/plain": [
       "Validating: 0it [00:00, ?it/s]"
      ]
     },
     "metadata": {},
     "output_type": "display_data"
    },
    {
     "data": {
      "application/vnd.jupyter.widget-view+json": {
       "model_id": "",
       "version_major": 2,
       "version_minor": 0
      },
      "text/plain": [
       "Validating: 0it [00:00, ?it/s]"
      ]
     },
     "metadata": {},
     "output_type": "display_data"
    },
    {
     "data": {
      "application/vnd.jupyter.widget-view+json": {
       "model_id": "",
       "version_major": 2,
       "version_minor": 0
      },
      "text/plain": [
       "Validating: 0it [00:00, ?it/s]"
      ]
     },
     "metadata": {},
     "output_type": "display_data"
    },
    {
     "name": "stdout",
     "output_type": "stream",
     "text": [
      "--------------------------------------------------------------------------------\n",
      "DATALOADER:0 VALIDATE RESULTS\n",
      "{'val_accuracy': 0.5994463562965393, 'val_loss': 1.4416855573654175}\n",
      "--------------------------------------------------------------------------------\n",
      "Model accuracy: 0.5994463562965393\n",
      "\n",
      "Эксперимент 7\n",
      "Параметры: {'n_filters': 150, 'filter_size': [2, 3], 'layer_dropout': 'CNN'}\n"
     ]
    },
    {
     "data": {
      "application/vnd.jupyter.widget-view+json": {
       "model_id": "",
       "version_major": 2,
       "version_minor": 0
      },
      "text/plain": [
       "Validation sanity check: 0it [00:00, ?it/s]"
      ]
     },
     "metadata": {},
     "output_type": "display_data"
    },
    {
     "data": {
      "application/vnd.jupyter.widget-view+json": {
       "model_id": "bde42c622c2c4482a42012a6e12278a4",
       "version_major": 2,
       "version_minor": 0
      },
      "text/plain": [
       "Training: -1it [00:00, ?it/s]"
      ]
     },
     "metadata": {},
     "output_type": "display_data"
    },
    {
     "data": {
      "application/vnd.jupyter.widget-view+json": {
       "model_id": "",
       "version_major": 2,
       "version_minor": 0
      },
      "text/plain": [
       "Validating: 0it [00:00, ?it/s]"
      ]
     },
     "metadata": {},
     "output_type": "display_data"
    },
    {
     "data": {
      "application/vnd.jupyter.widget-view+json": {
       "model_id": "",
       "version_major": 2,
       "version_minor": 0
      },
      "text/plain": [
       "Validating: 0it [00:00, ?it/s]"
      ]
     },
     "metadata": {},
     "output_type": "display_data"
    },
    {
     "data": {
      "application/vnd.jupyter.widget-view+json": {
       "model_id": "",
       "version_major": 2,
       "version_minor": 0
      },
      "text/plain": [
       "Validating: 0it [00:00, ?it/s]"
      ]
     },
     "metadata": {},
     "output_type": "display_data"
    },
    {
     "data": {
      "application/vnd.jupyter.widget-view+json": {
       "model_id": "",
       "version_major": 2,
       "version_minor": 0
      },
      "text/plain": [
       "Validating: 0it [00:00, ?it/s]"
      ]
     },
     "metadata": {},
     "output_type": "display_data"
    },
    {
     "data": {
      "application/vnd.jupyter.widget-view+json": {
       "model_id": "",
       "version_major": 2,
       "version_minor": 0
      },
      "text/plain": [
       "Validating: 0it [00:00, ?it/s]"
      ]
     },
     "metadata": {},
     "output_type": "display_data"
    },
    {
     "data": {
      "application/vnd.jupyter.widget-view+json": {
       "model_id": "",
       "version_major": 2,
       "version_minor": 0
      },
      "text/plain": [
       "Validating: 0it [00:00, ?it/s]"
      ]
     },
     "metadata": {},
     "output_type": "display_data"
    },
    {
     "data": {
      "application/vnd.jupyter.widget-view+json": {
       "model_id": "",
       "version_major": 2,
       "version_minor": 0
      },
      "text/plain": [
       "Validating: 0it [00:00, ?it/s]"
      ]
     },
     "metadata": {},
     "output_type": "display_data"
    },
    {
     "data": {
      "application/vnd.jupyter.widget-view+json": {
       "model_id": "",
       "version_major": 2,
       "version_minor": 0
      },
      "text/plain": [
       "Validating: 0it [00:00, ?it/s]"
      ]
     },
     "metadata": {},
     "output_type": "display_data"
    },
    {
     "data": {
      "application/vnd.jupyter.widget-view+json": {
       "model_id": "",
       "version_major": 2,
       "version_minor": 0
      },
      "text/plain": [
       "Validating: 0it [00:00, ?it/s]"
      ]
     },
     "metadata": {},
     "output_type": "display_data"
    },
    {
     "data": {
      "application/vnd.jupyter.widget-view+json": {
       "model_id": "",
       "version_major": 2,
       "version_minor": 0
      },
      "text/plain": [
       "Validating: 0it [00:00, ?it/s]"
      ]
     },
     "metadata": {},
     "output_type": "display_data"
    },
    {
     "data": {
      "application/vnd.jupyter.widget-view+json": {
       "model_id": "",
       "version_major": 2,
       "version_minor": 0
      },
      "text/plain": [
       "Validating: 0it [00:00, ?it/s]"
      ]
     },
     "metadata": {},
     "output_type": "display_data"
    },
    {
     "name": "stdout",
     "output_type": "stream",
     "text": [
      "--------------------------------------------------------------------------------\n",
      "DATALOADER:0 VALIDATE RESULTS\n",
      "{'val_accuracy': 0.5945485234260559, 'val_loss': 1.441756010055542}\n",
      "--------------------------------------------------------------------------------\n",
      "Model accuracy: 0.5945485234260559\n",
      "\n",
      "Эксперимент 8\n",
      "Параметры: {'n_filters': 150, 'filter_size': [2, 3], 'layer_dropout': 'LSTM'}\n"
     ]
    },
    {
     "data": {
      "application/vnd.jupyter.widget-view+json": {
       "model_id": "",
       "version_major": 2,
       "version_minor": 0
      },
      "text/plain": [
       "Validation sanity check: 0it [00:00, ?it/s]"
      ]
     },
     "metadata": {},
     "output_type": "display_data"
    },
    {
     "data": {
      "application/vnd.jupyter.widget-view+json": {
       "model_id": "75c41de9965844dca528eb5b4eb480d9",
       "version_major": 2,
       "version_minor": 0
      },
      "text/plain": [
       "Training: -1it [00:00, ?it/s]"
      ]
     },
     "metadata": {},
     "output_type": "display_data"
    },
    {
     "data": {
      "application/vnd.jupyter.widget-view+json": {
       "model_id": "",
       "version_major": 2,
       "version_minor": 0
      },
      "text/plain": [
       "Validating: 0it [00:00, ?it/s]"
      ]
     },
     "metadata": {},
     "output_type": "display_data"
    },
    {
     "data": {
      "application/vnd.jupyter.widget-view+json": {
       "model_id": "",
       "version_major": 2,
       "version_minor": 0
      },
      "text/plain": [
       "Validating: 0it [00:00, ?it/s]"
      ]
     },
     "metadata": {},
     "output_type": "display_data"
    },
    {
     "data": {
      "application/vnd.jupyter.widget-view+json": {
       "model_id": "",
       "version_major": 2,
       "version_minor": 0
      },
      "text/plain": [
       "Validating: 0it [00:00, ?it/s]"
      ]
     },
     "metadata": {},
     "output_type": "display_data"
    },
    {
     "data": {
      "application/vnd.jupyter.widget-view+json": {
       "model_id": "",
       "version_major": 2,
       "version_minor": 0
      },
      "text/plain": [
       "Validating: 0it [00:00, ?it/s]"
      ]
     },
     "metadata": {},
     "output_type": "display_data"
    },
    {
     "data": {
      "application/vnd.jupyter.widget-view+json": {
       "model_id": "",
       "version_major": 2,
       "version_minor": 0
      },
      "text/plain": [
       "Validating: 0it [00:00, ?it/s]"
      ]
     },
     "metadata": {},
     "output_type": "display_data"
    },
    {
     "data": {
      "application/vnd.jupyter.widget-view+json": {
       "model_id": "",
       "version_major": 2,
       "version_minor": 0
      },
      "text/plain": [
       "Validating: 0it [00:00, ?it/s]"
      ]
     },
     "metadata": {},
     "output_type": "display_data"
    },
    {
     "data": {
      "application/vnd.jupyter.widget-view+json": {
       "model_id": "",
       "version_major": 2,
       "version_minor": 0
      },
      "text/plain": [
       "Validating: 0it [00:00, ?it/s]"
      ]
     },
     "metadata": {},
     "output_type": "display_data"
    },
    {
     "data": {
      "application/vnd.jupyter.widget-view+json": {
       "model_id": "",
       "version_major": 2,
       "version_minor": 0
      },
      "text/plain": [
       "Validating: 0it [00:00, ?it/s]"
      ]
     },
     "metadata": {},
     "output_type": "display_data"
    },
    {
     "data": {
      "application/vnd.jupyter.widget-view+json": {
       "model_id": "",
       "version_major": 2,
       "version_minor": 0
      },
      "text/plain": [
       "Validating: 0it [00:00, ?it/s]"
      ]
     },
     "metadata": {},
     "output_type": "display_data"
    },
    {
     "data": {
      "application/vnd.jupyter.widget-view+json": {
       "model_id": "",
       "version_major": 2,
       "version_minor": 0
      },
      "text/plain": [
       "Validating: 0it [00:00, ?it/s]"
      ]
     },
     "metadata": {},
     "output_type": "display_data"
    },
    {
     "data": {
      "application/vnd.jupyter.widget-view+json": {
       "model_id": "",
       "version_major": 2,
       "version_minor": 0
      },
      "text/plain": [
       "Validating: 0it [00:00, ?it/s]"
      ]
     },
     "metadata": {},
     "output_type": "display_data"
    },
    {
     "name": "stdout",
     "output_type": "stream",
     "text": [
      "--------------------------------------------------------------------------------\n",
      "DATALOADER:0 VALIDATE RESULTS\n",
      "{'val_accuracy': 0.6017887592315674, 'val_loss': 1.4356597661972046}\n",
      "--------------------------------------------------------------------------------\n",
      "Model accuracy: 0.6017887592315674\n",
      "\n",
      "Эксперимент 9\n",
      "Параметры: {'n_filters': 150, 'filter_size': [3, 4], 'layer_dropout': 'CNN'}\n"
     ]
    },
    {
     "data": {
      "application/vnd.jupyter.widget-view+json": {
       "model_id": "",
       "version_major": 2,
       "version_minor": 0
      },
      "text/plain": [
       "Validation sanity check: 0it [00:00, ?it/s]"
      ]
     },
     "metadata": {},
     "output_type": "display_data"
    },
    {
     "data": {
      "application/vnd.jupyter.widget-view+json": {
       "model_id": "eef0480ee9fc4977ab74c7028db6bfee",
       "version_major": 2,
       "version_minor": 0
      },
      "text/plain": [
       "Training: -1it [00:00, ?it/s]"
      ]
     },
     "metadata": {},
     "output_type": "display_data"
    },
    {
     "data": {
      "application/vnd.jupyter.widget-view+json": {
       "model_id": "",
       "version_major": 2,
       "version_minor": 0
      },
      "text/plain": [
       "Validating: 0it [00:00, ?it/s]"
      ]
     },
     "metadata": {},
     "output_type": "display_data"
    },
    {
     "data": {
      "application/vnd.jupyter.widget-view+json": {
       "model_id": "",
       "version_major": 2,
       "version_minor": 0
      },
      "text/plain": [
       "Validating: 0it [00:00, ?it/s]"
      ]
     },
     "metadata": {},
     "output_type": "display_data"
    },
    {
     "data": {
      "application/vnd.jupyter.widget-view+json": {
       "model_id": "",
       "version_major": 2,
       "version_minor": 0
      },
      "text/plain": [
       "Validating: 0it [00:00, ?it/s]"
      ]
     },
     "metadata": {},
     "output_type": "display_data"
    },
    {
     "data": {
      "application/vnd.jupyter.widget-view+json": {
       "model_id": "",
       "version_major": 2,
       "version_minor": 0
      },
      "text/plain": [
       "Validating: 0it [00:00, ?it/s]"
      ]
     },
     "metadata": {},
     "output_type": "display_data"
    },
    {
     "data": {
      "application/vnd.jupyter.widget-view+json": {
       "model_id": "",
       "version_major": 2,
       "version_minor": 0
      },
      "text/plain": [
       "Validating: 0it [00:00, ?it/s]"
      ]
     },
     "metadata": {},
     "output_type": "display_data"
    },
    {
     "data": {
      "application/vnd.jupyter.widget-view+json": {
       "model_id": "",
       "version_major": 2,
       "version_minor": 0
      },
      "text/plain": [
       "Validating: 0it [00:00, ?it/s]"
      ]
     },
     "metadata": {},
     "output_type": "display_data"
    },
    {
     "data": {
      "application/vnd.jupyter.widget-view+json": {
       "model_id": "",
       "version_major": 2,
       "version_minor": 0
      },
      "text/plain": [
       "Validating: 0it [00:00, ?it/s]"
      ]
     },
     "metadata": {},
     "output_type": "display_data"
    },
    {
     "data": {
      "application/vnd.jupyter.widget-view+json": {
       "model_id": "",
       "version_major": 2,
       "version_minor": 0
      },
      "text/plain": [
       "Validating: 0it [00:00, ?it/s]"
      ]
     },
     "metadata": {},
     "output_type": "display_data"
    },
    {
     "data": {
      "application/vnd.jupyter.widget-view+json": {
       "model_id": "",
       "version_major": 2,
       "version_minor": 0
      },
      "text/plain": [
       "Validating: 0it [00:00, ?it/s]"
      ]
     },
     "metadata": {},
     "output_type": "display_data"
    },
    {
     "data": {
      "application/vnd.jupyter.widget-view+json": {
       "model_id": "",
       "version_major": 2,
       "version_minor": 0
      },
      "text/plain": [
       "Validating: 0it [00:00, ?it/s]"
      ]
     },
     "metadata": {},
     "output_type": "display_data"
    },
    {
     "data": {
      "application/vnd.jupyter.widget-view+json": {
       "model_id": "",
       "version_major": 2,
       "version_minor": 0
      },
      "text/plain": [
       "Validating: 0it [00:00, ?it/s]"
      ]
     },
     "metadata": {},
     "output_type": "display_data"
    },
    {
     "name": "stdout",
     "output_type": "stream",
     "text": [
      "--------------------------------------------------------------------------------\n",
      "DATALOADER:0 VALIDATE RESULTS\n",
      "{'val_accuracy': 0.5804940462112427, 'val_loss': 1.4551981687545776}\n",
      "--------------------------------------------------------------------------------\n",
      "Model accuracy: 0.5804940462112427\n",
      "\n",
      "Эксперимент 10\n",
      "Параметры: {'n_filters': 150, 'filter_size': [3, 4], 'layer_dropout': 'LSTM'}\n"
     ]
    },
    {
     "data": {
      "application/vnd.jupyter.widget-view+json": {
       "model_id": "",
       "version_major": 2,
       "version_minor": 0
      },
      "text/plain": [
       "Validation sanity check: 0it [00:00, ?it/s]"
      ]
     },
     "metadata": {},
     "output_type": "display_data"
    },
    {
     "data": {
      "application/vnd.jupyter.widget-view+json": {
       "model_id": "28c92c385f7541c8aaf8a56d78094368",
       "version_major": 2,
       "version_minor": 0
      },
      "text/plain": [
       "Training: -1it [00:00, ?it/s]"
      ]
     },
     "metadata": {},
     "output_type": "display_data"
    },
    {
     "data": {
      "application/vnd.jupyter.widget-view+json": {
       "model_id": "",
       "version_major": 2,
       "version_minor": 0
      },
      "text/plain": [
       "Validating: 0it [00:00, ?it/s]"
      ]
     },
     "metadata": {},
     "output_type": "display_data"
    },
    {
     "data": {
      "application/vnd.jupyter.widget-view+json": {
       "model_id": "",
       "version_major": 2,
       "version_minor": 0
      },
      "text/plain": [
       "Validating: 0it [00:00, ?it/s]"
      ]
     },
     "metadata": {},
     "output_type": "display_data"
    },
    {
     "data": {
      "application/vnd.jupyter.widget-view+json": {
       "model_id": "",
       "version_major": 2,
       "version_minor": 0
      },
      "text/plain": [
       "Validating: 0it [00:00, ?it/s]"
      ]
     },
     "metadata": {},
     "output_type": "display_data"
    },
    {
     "data": {
      "application/vnd.jupyter.widget-view+json": {
       "model_id": "",
       "version_major": 2,
       "version_minor": 0
      },
      "text/plain": [
       "Validating: 0it [00:00, ?it/s]"
      ]
     },
     "metadata": {},
     "output_type": "display_data"
    },
    {
     "data": {
      "application/vnd.jupyter.widget-view+json": {
       "model_id": "",
       "version_major": 2,
       "version_minor": 0
      },
      "text/plain": [
       "Validating: 0it [00:00, ?it/s]"
      ]
     },
     "metadata": {},
     "output_type": "display_data"
    },
    {
     "data": {
      "application/vnd.jupyter.widget-view+json": {
       "model_id": "",
       "version_major": 2,
       "version_minor": 0
      },
      "text/plain": [
       "Validating: 0it [00:00, ?it/s]"
      ]
     },
     "metadata": {},
     "output_type": "display_data"
    },
    {
     "data": {
      "application/vnd.jupyter.widget-view+json": {
       "model_id": "",
       "version_major": 2,
       "version_minor": 0
      },
      "text/plain": [
       "Validating: 0it [00:00, ?it/s]"
      ]
     },
     "metadata": {},
     "output_type": "display_data"
    },
    {
     "data": {
      "application/vnd.jupyter.widget-view+json": {
       "model_id": "",
       "version_major": 2,
       "version_minor": 0
      },
      "text/plain": [
       "Validating: 0it [00:00, ?it/s]"
      ]
     },
     "metadata": {},
     "output_type": "display_data"
    },
    {
     "data": {
      "application/vnd.jupyter.widget-view+json": {
       "model_id": "",
       "version_major": 2,
       "version_minor": 0
      },
      "text/plain": [
       "Validating: 0it [00:00, ?it/s]"
      ]
     },
     "metadata": {},
     "output_type": "display_data"
    },
    {
     "data": {
      "application/vnd.jupyter.widget-view+json": {
       "model_id": "",
       "version_major": 2,
       "version_minor": 0
      },
      "text/plain": [
       "Validating: 0it [00:00, ?it/s]"
      ]
     },
     "metadata": {},
     "output_type": "display_data"
    },
    {
     "data": {
      "application/vnd.jupyter.widget-view+json": {
       "model_id": "",
       "version_major": 2,
       "version_minor": 0
      },
      "text/plain": [
       "Validating: 0it [00:00, ?it/s]"
      ]
     },
     "metadata": {},
     "output_type": "display_data"
    },
    {
     "name": "stdout",
     "output_type": "stream",
     "text": [
      "--------------------------------------------------------------------------------\n",
      "DATALOADER:0 VALIDATE RESULTS\n",
      "{'val_accuracy': 0.6100937128067017, 'val_loss': 1.4329217672348022}\n",
      "--------------------------------------------------------------------------------\n",
      "Model accuracy: 0.6100937128067017\n",
      "\n",
      "Эксперимент 11\n",
      "Параметры: {'n_filters': 150, 'filter_size': [2, 4], 'layer_dropout': 'CNN'}\n"
     ]
    },
    {
     "data": {
      "application/vnd.jupyter.widget-view+json": {
       "model_id": "",
       "version_major": 2,
       "version_minor": 0
      },
      "text/plain": [
       "Validation sanity check: 0it [00:00, ?it/s]"
      ]
     },
     "metadata": {},
     "output_type": "display_data"
    },
    {
     "data": {
      "application/vnd.jupyter.widget-view+json": {
       "model_id": "f7d9de83e608425aa4a685255b83162c",
       "version_major": 2,
       "version_minor": 0
      },
      "text/plain": [
       "Training: -1it [00:00, ?it/s]"
      ]
     },
     "metadata": {},
     "output_type": "display_data"
    },
    {
     "data": {
      "application/vnd.jupyter.widget-view+json": {
       "model_id": "",
       "version_major": 2,
       "version_minor": 0
      },
      "text/plain": [
       "Validating: 0it [00:00, ?it/s]"
      ]
     },
     "metadata": {},
     "output_type": "display_data"
    },
    {
     "data": {
      "application/vnd.jupyter.widget-view+json": {
       "model_id": "",
       "version_major": 2,
       "version_minor": 0
      },
      "text/plain": [
       "Validating: 0it [00:00, ?it/s]"
      ]
     },
     "metadata": {},
     "output_type": "display_data"
    },
    {
     "data": {
      "application/vnd.jupyter.widget-view+json": {
       "model_id": "",
       "version_major": 2,
       "version_minor": 0
      },
      "text/plain": [
       "Validating: 0it [00:00, ?it/s]"
      ]
     },
     "metadata": {},
     "output_type": "display_data"
    },
    {
     "data": {
      "application/vnd.jupyter.widget-view+json": {
       "model_id": "",
       "version_major": 2,
       "version_minor": 0
      },
      "text/plain": [
       "Validating: 0it [00:00, ?it/s]"
      ]
     },
     "metadata": {},
     "output_type": "display_data"
    },
    {
     "data": {
      "application/vnd.jupyter.widget-view+json": {
       "model_id": "",
       "version_major": 2,
       "version_minor": 0
      },
      "text/plain": [
       "Validating: 0it [00:00, ?it/s]"
      ]
     },
     "metadata": {},
     "output_type": "display_data"
    },
    {
     "data": {
      "application/vnd.jupyter.widget-view+json": {
       "model_id": "",
       "version_major": 2,
       "version_minor": 0
      },
      "text/plain": [
       "Validating: 0it [00:00, ?it/s]"
      ]
     },
     "metadata": {},
     "output_type": "display_data"
    },
    {
     "data": {
      "application/vnd.jupyter.widget-view+json": {
       "model_id": "",
       "version_major": 2,
       "version_minor": 0
      },
      "text/plain": [
       "Validating: 0it [00:00, ?it/s]"
      ]
     },
     "metadata": {},
     "output_type": "display_data"
    },
    {
     "data": {
      "application/vnd.jupyter.widget-view+json": {
       "model_id": "",
       "version_major": 2,
       "version_minor": 0
      },
      "text/plain": [
       "Validating: 0it [00:00, ?it/s]"
      ]
     },
     "metadata": {},
     "output_type": "display_data"
    },
    {
     "data": {
      "application/vnd.jupyter.widget-view+json": {
       "model_id": "",
       "version_major": 2,
       "version_minor": 0
      },
      "text/plain": [
       "Validating: 0it [00:00, ?it/s]"
      ]
     },
     "metadata": {},
     "output_type": "display_data"
    },
    {
     "data": {
      "application/vnd.jupyter.widget-view+json": {
       "model_id": "",
       "version_major": 2,
       "version_minor": 0
      },
      "text/plain": [
       "Validating: 0it [00:00, ?it/s]"
      ]
     },
     "metadata": {},
     "output_type": "display_data"
    },
    {
     "data": {
      "application/vnd.jupyter.widget-view+json": {
       "model_id": "",
       "version_major": 2,
       "version_minor": 0
      },
      "text/plain": [
       "Validating: 0it [00:00, ?it/s]"
      ]
     },
     "metadata": {},
     "output_type": "display_data"
    },
    {
     "name": "stdout",
     "output_type": "stream",
     "text": [
      "--------------------------------------------------------------------------------\n",
      "DATALOADER:0 VALIDATE RESULTS\n",
      "{'val_accuracy': 0.5988075137138367, 'val_loss': 1.440671682357788}\n",
      "--------------------------------------------------------------------------------\n",
      "Model accuracy: 0.5988075137138367\n",
      "\n",
      "Эксперимент 12\n",
      "Параметры: {'n_filters': 150, 'filter_size': [2, 4], 'layer_dropout': 'LSTM'}\n"
     ]
    },
    {
     "data": {
      "application/vnd.jupyter.widget-view+json": {
       "model_id": "",
       "version_major": 2,
       "version_minor": 0
      },
      "text/plain": [
       "Validation sanity check: 0it [00:00, ?it/s]"
      ]
     },
     "metadata": {},
     "output_type": "display_data"
    },
    {
     "data": {
      "application/vnd.jupyter.widget-view+json": {
       "model_id": "94f2410b30d74ff4bdf3cb53ef627b33",
       "version_major": 2,
       "version_minor": 0
      },
      "text/plain": [
       "Training: -1it [00:00, ?it/s]"
      ]
     },
     "metadata": {},
     "output_type": "display_data"
    },
    {
     "data": {
      "application/vnd.jupyter.widget-view+json": {
       "model_id": "",
       "version_major": 2,
       "version_minor": 0
      },
      "text/plain": [
       "Validating: 0it [00:00, ?it/s]"
      ]
     },
     "metadata": {},
     "output_type": "display_data"
    },
    {
     "data": {
      "application/vnd.jupyter.widget-view+json": {
       "model_id": "",
       "version_major": 2,
       "version_minor": 0
      },
      "text/plain": [
       "Validating: 0it [00:00, ?it/s]"
      ]
     },
     "metadata": {},
     "output_type": "display_data"
    },
    {
     "data": {
      "application/vnd.jupyter.widget-view+json": {
       "model_id": "",
       "version_major": 2,
       "version_minor": 0
      },
      "text/plain": [
       "Validating: 0it [00:00, ?it/s]"
      ]
     },
     "metadata": {},
     "output_type": "display_data"
    },
    {
     "data": {
      "application/vnd.jupyter.widget-view+json": {
       "model_id": "",
       "version_major": 2,
       "version_minor": 0
      },
      "text/plain": [
       "Validating: 0it [00:00, ?it/s]"
      ]
     },
     "metadata": {},
     "output_type": "display_data"
    },
    {
     "data": {
      "application/vnd.jupyter.widget-view+json": {
       "model_id": "",
       "version_major": 2,
       "version_minor": 0
      },
      "text/plain": [
       "Validating: 0it [00:00, ?it/s]"
      ]
     },
     "metadata": {},
     "output_type": "display_data"
    },
    {
     "data": {
      "application/vnd.jupyter.widget-view+json": {
       "model_id": "",
       "version_major": 2,
       "version_minor": 0
      },
      "text/plain": [
       "Validating: 0it [00:00, ?it/s]"
      ]
     },
     "metadata": {},
     "output_type": "display_data"
    },
    {
     "data": {
      "application/vnd.jupyter.widget-view+json": {
       "model_id": "",
       "version_major": 2,
       "version_minor": 0
      },
      "text/plain": [
       "Validating: 0it [00:00, ?it/s]"
      ]
     },
     "metadata": {},
     "output_type": "display_data"
    },
    {
     "data": {
      "application/vnd.jupyter.widget-view+json": {
       "model_id": "",
       "version_major": 2,
       "version_minor": 0
      },
      "text/plain": [
       "Validating: 0it [00:00, ?it/s]"
      ]
     },
     "metadata": {},
     "output_type": "display_data"
    },
    {
     "data": {
      "application/vnd.jupyter.widget-view+json": {
       "model_id": "",
       "version_major": 2,
       "version_minor": 0
      },
      "text/plain": [
       "Validating: 0it [00:00, ?it/s]"
      ]
     },
     "metadata": {},
     "output_type": "display_data"
    },
    {
     "data": {
      "application/vnd.jupyter.widget-view+json": {
       "model_id": "",
       "version_major": 2,
       "version_minor": 0
      },
      "text/plain": [
       "Validating: 0it [00:00, ?it/s]"
      ]
     },
     "metadata": {},
     "output_type": "display_data"
    },
    {
     "data": {
      "application/vnd.jupyter.widget-view+json": {
       "model_id": "",
       "version_major": 2,
       "version_minor": 0
      },
      "text/plain": [
       "Validating: 0it [00:00, ?it/s]"
      ]
     },
     "metadata": {},
     "output_type": "display_data"
    },
    {
     "name": "stdout",
     "output_type": "stream",
     "text": [
      "--------------------------------------------------------------------------------\n",
      "DATALOADER:0 VALIDATE RESULTS\n",
      "{'val_accuracy': 0.5807070136070251, 'val_loss': 1.4565058946609497}\n",
      "--------------------------------------------------------------------------------\n",
      "Model accuracy: 0.5807070136070251\n",
      "\n",
      "Эксперимент 13\n",
      "Параметры: {'n_filters': 150, 'filter_size': [2, 3, 4], 'layer_dropout': 'CNN'}\n"
     ]
    },
    {
     "data": {
      "application/vnd.jupyter.widget-view+json": {
       "model_id": "",
       "version_major": 2,
       "version_minor": 0
      },
      "text/plain": [
       "Validation sanity check: 0it [00:00, ?it/s]"
      ]
     },
     "metadata": {},
     "output_type": "display_data"
    },
    {
     "data": {
      "application/vnd.jupyter.widget-view+json": {
       "model_id": "febb8d6bd83c4de7bfd63744c19c1854",
       "version_major": 2,
       "version_minor": 0
      },
      "text/plain": [
       "Training: -1it [00:00, ?it/s]"
      ]
     },
     "metadata": {},
     "output_type": "display_data"
    },
    {
     "data": {
      "application/vnd.jupyter.widget-view+json": {
       "model_id": "",
       "version_major": 2,
       "version_minor": 0
      },
      "text/plain": [
       "Validating: 0it [00:00, ?it/s]"
      ]
     },
     "metadata": {},
     "output_type": "display_data"
    },
    {
     "data": {
      "application/vnd.jupyter.widget-view+json": {
       "model_id": "",
       "version_major": 2,
       "version_minor": 0
      },
      "text/plain": [
       "Validating: 0it [00:00, ?it/s]"
      ]
     },
     "metadata": {},
     "output_type": "display_data"
    },
    {
     "data": {
      "application/vnd.jupyter.widget-view+json": {
       "model_id": "",
       "version_major": 2,
       "version_minor": 0
      },
      "text/plain": [
       "Validating: 0it [00:00, ?it/s]"
      ]
     },
     "metadata": {},
     "output_type": "display_data"
    },
    {
     "data": {
      "application/vnd.jupyter.widget-view+json": {
       "model_id": "",
       "version_major": 2,
       "version_minor": 0
      },
      "text/plain": [
       "Validating: 0it [00:00, ?it/s]"
      ]
     },
     "metadata": {},
     "output_type": "display_data"
    },
    {
     "data": {
      "application/vnd.jupyter.widget-view+json": {
       "model_id": "",
       "version_major": 2,
       "version_minor": 0
      },
      "text/plain": [
       "Validating: 0it [00:00, ?it/s]"
      ]
     },
     "metadata": {},
     "output_type": "display_data"
    },
    {
     "data": {
      "application/vnd.jupyter.widget-view+json": {
       "model_id": "",
       "version_major": 2,
       "version_minor": 0
      },
      "text/plain": [
       "Validating: 0it [00:00, ?it/s]"
      ]
     },
     "metadata": {},
     "output_type": "display_data"
    },
    {
     "data": {
      "application/vnd.jupyter.widget-view+json": {
       "model_id": "",
       "version_major": 2,
       "version_minor": 0
      },
      "text/plain": [
       "Validating: 0it [00:00, ?it/s]"
      ]
     },
     "metadata": {},
     "output_type": "display_data"
    },
    {
     "data": {
      "application/vnd.jupyter.widget-view+json": {
       "model_id": "",
       "version_major": 2,
       "version_minor": 0
      },
      "text/plain": [
       "Validating: 0it [00:00, ?it/s]"
      ]
     },
     "metadata": {},
     "output_type": "display_data"
    },
    {
     "data": {
      "application/vnd.jupyter.widget-view+json": {
       "model_id": "",
       "version_major": 2,
       "version_minor": 0
      },
      "text/plain": [
       "Validating: 0it [00:00, ?it/s]"
      ]
     },
     "metadata": {},
     "output_type": "display_data"
    },
    {
     "data": {
      "application/vnd.jupyter.widget-view+json": {
       "model_id": "",
       "version_major": 2,
       "version_minor": 0
      },
      "text/plain": [
       "Validating: 0it [00:00, ?it/s]"
      ]
     },
     "metadata": {},
     "output_type": "display_data"
    },
    {
     "data": {
      "application/vnd.jupyter.widget-view+json": {
       "model_id": "",
       "version_major": 2,
       "version_minor": 0
      },
      "text/plain": [
       "Validating: 0it [00:00, ?it/s]"
      ]
     },
     "metadata": {},
     "output_type": "display_data"
    },
    {
     "name": "stdout",
     "output_type": "stream",
     "text": [
      "--------------------------------------------------------------------------------\n",
      "DATALOADER:0 VALIDATE RESULTS\n",
      "{'val_accuracy': 0.6043441295623779, 'val_loss': 1.4341850280761719}\n",
      "--------------------------------------------------------------------------------\n",
      "Model accuracy: 0.6043441295623779\n",
      "\n",
      "Эксперимент 14\n",
      "Параметры: {'n_filters': 150, 'filter_size': [2, 3, 4], 'layer_dropout': 'LSTM'}\n"
     ]
    },
    {
     "data": {
      "application/vnd.jupyter.widget-view+json": {
       "model_id": "",
       "version_major": 2,
       "version_minor": 0
      },
      "text/plain": [
       "Validation sanity check: 0it [00:00, ?it/s]"
      ]
     },
     "metadata": {},
     "output_type": "display_data"
    },
    {
     "data": {
      "application/vnd.jupyter.widget-view+json": {
       "model_id": "5c52a8bdc20449d78cf8d783bc28b5f2",
       "version_major": 2,
       "version_minor": 0
      },
      "text/plain": [
       "Training: -1it [00:00, ?it/s]"
      ]
     },
     "metadata": {},
     "output_type": "display_data"
    },
    {
     "data": {
      "application/vnd.jupyter.widget-view+json": {
       "model_id": "",
       "version_major": 2,
       "version_minor": 0
      },
      "text/plain": [
       "Validating: 0it [00:00, ?it/s]"
      ]
     },
     "metadata": {},
     "output_type": "display_data"
    },
    {
     "data": {
      "application/vnd.jupyter.widget-view+json": {
       "model_id": "",
       "version_major": 2,
       "version_minor": 0
      },
      "text/plain": [
       "Validating: 0it [00:00, ?it/s]"
      ]
     },
     "metadata": {},
     "output_type": "display_data"
    },
    {
     "data": {
      "application/vnd.jupyter.widget-view+json": {
       "model_id": "",
       "version_major": 2,
       "version_minor": 0
      },
      "text/plain": [
       "Validating: 0it [00:00, ?it/s]"
      ]
     },
     "metadata": {},
     "output_type": "display_data"
    },
    {
     "data": {
      "application/vnd.jupyter.widget-view+json": {
       "model_id": "",
       "version_major": 2,
       "version_minor": 0
      },
      "text/plain": [
       "Validating: 0it [00:00, ?it/s]"
      ]
     },
     "metadata": {},
     "output_type": "display_data"
    },
    {
     "data": {
      "application/vnd.jupyter.widget-view+json": {
       "model_id": "",
       "version_major": 2,
       "version_minor": 0
      },
      "text/plain": [
       "Validating: 0it [00:00, ?it/s]"
      ]
     },
     "metadata": {},
     "output_type": "display_data"
    },
    {
     "data": {
      "application/vnd.jupyter.widget-view+json": {
       "model_id": "",
       "version_major": 2,
       "version_minor": 0
      },
      "text/plain": [
       "Validating: 0it [00:00, ?it/s]"
      ]
     },
     "metadata": {},
     "output_type": "display_data"
    },
    {
     "data": {
      "application/vnd.jupyter.widget-view+json": {
       "model_id": "",
       "version_major": 2,
       "version_minor": 0
      },
      "text/plain": [
       "Validating: 0it [00:00, ?it/s]"
      ]
     },
     "metadata": {},
     "output_type": "display_data"
    },
    {
     "data": {
      "application/vnd.jupyter.widget-view+json": {
       "model_id": "",
       "version_major": 2,
       "version_minor": 0
      },
      "text/plain": [
       "Validating: 0it [00:00, ?it/s]"
      ]
     },
     "metadata": {},
     "output_type": "display_data"
    },
    {
     "data": {
      "application/vnd.jupyter.widget-view+json": {
       "model_id": "",
       "version_major": 2,
       "version_minor": 0
      },
      "text/plain": [
       "Validating: 0it [00:00, ?it/s]"
      ]
     },
     "metadata": {},
     "output_type": "display_data"
    },
    {
     "data": {
      "application/vnd.jupyter.widget-view+json": {
       "model_id": "",
       "version_major": 2,
       "version_minor": 0
      },
      "text/plain": [
       "Validating: 0it [00:00, ?it/s]"
      ]
     },
     "metadata": {},
     "output_type": "display_data"
    },
    {
     "data": {
      "application/vnd.jupyter.widget-view+json": {
       "model_id": "",
       "version_major": 2,
       "version_minor": 0
      },
      "text/plain": [
       "Validating: 0it [00:00, ?it/s]"
      ]
     },
     "metadata": {},
     "output_type": "display_data"
    },
    {
     "name": "stdout",
     "output_type": "stream",
     "text": [
      "--------------------------------------------------------------------------------\n",
      "DATALOADER:0 VALIDATE RESULTS\n",
      "{'val_accuracy': 0.5547274351119995, 'val_loss': 1.4801065921783447}\n",
      "--------------------------------------------------------------------------------\n",
      "Model accuracy: 0.5547274351119995\n",
      "\n",
      "Лучшая модель №4 с точностью 0.6173338890075684\n"
     ]
    },
    {
     "data": {
      "text/html": [
       "<style type=\"text/css\">\n",
       "#T_58bb2_row4_col3 {\n",
       "  background-color: yellow;\n",
       "}\n",
       "</style>\n",
       "<table id=\"T_58bb2_\">\n",
       "  <thead>\n",
       "    <tr>\n",
       "      <th class=\"blank level0\" >&nbsp;</th>\n",
       "      <th class=\"col_heading level0 col0\" >n_filters</th>\n",
       "      <th class=\"col_heading level0 col1\" >filter_size</th>\n",
       "      <th class=\"col_heading level0 col2\" >layer_dropout</th>\n",
       "      <th class=\"col_heading level0 col3\" >accuracy</th>\n",
       "    </tr>\n",
       "  </thead>\n",
       "  <tbody>\n",
       "    <tr>\n",
       "      <th id=\"T_58bb2_level0_row0\" class=\"row_heading level0 row0\" >0</th>\n",
       "      <td id=\"T_58bb2_row0_col0\" class=\"data row0 col0\" >150</td>\n",
       "      <td id=\"T_58bb2_row0_col1\" class=\"data row0 col1\" >[2]</td>\n",
       "      <td id=\"T_58bb2_row0_col2\" class=\"data row0 col2\" >CNN</td>\n",
       "      <td id=\"T_58bb2_row0_col3\" class=\"data row0 col3\" >0.612862</td>\n",
       "    </tr>\n",
       "    <tr>\n",
       "      <th id=\"T_58bb2_level0_row1\" class=\"row_heading level0 row1\" >1</th>\n",
       "      <td id=\"T_58bb2_row1_col0\" class=\"data row1 col0\" >150</td>\n",
       "      <td id=\"T_58bb2_row1_col1\" class=\"data row1 col1\" >[2]</td>\n",
       "      <td id=\"T_58bb2_row1_col2\" class=\"data row1 col2\" >LSTM</td>\n",
       "      <td id=\"T_58bb2_row1_col3\" class=\"data row1 col3\" >0.574744</td>\n",
       "    </tr>\n",
       "    <tr>\n",
       "      <th id=\"T_58bb2_level0_row2\" class=\"row_heading level0 row2\" >2</th>\n",
       "      <td id=\"T_58bb2_row2_col0\" class=\"data row2 col0\" >150</td>\n",
       "      <td id=\"T_58bb2_row2_col1\" class=\"data row2 col1\" >[3]</td>\n",
       "      <td id=\"T_58bb2_row2_col2\" class=\"data row2 col2\" >CNN</td>\n",
       "      <td id=\"T_58bb2_row2_col3\" class=\"data row2 col3\" >0.581133</td>\n",
       "    </tr>\n",
       "    <tr>\n",
       "      <th id=\"T_58bb2_level0_row3\" class=\"row_heading level0 row3\" >3</th>\n",
       "      <td id=\"T_58bb2_row3_col0\" class=\"data row3 col0\" >150</td>\n",
       "      <td id=\"T_58bb2_row3_col1\" class=\"data row3 col1\" >[3]</td>\n",
       "      <td id=\"T_58bb2_row3_col2\" class=\"data row3 col2\" >LSTM</td>\n",
       "      <td id=\"T_58bb2_row3_col3\" class=\"data row3 col3\" >0.588799</td>\n",
       "    </tr>\n",
       "    <tr>\n",
       "      <th id=\"T_58bb2_level0_row4\" class=\"row_heading level0 row4\" >4</th>\n",
       "      <td id=\"T_58bb2_row4_col0\" class=\"data row4 col0\" >150</td>\n",
       "      <td id=\"T_58bb2_row4_col1\" class=\"data row4 col1\" >[4]</td>\n",
       "      <td id=\"T_58bb2_row4_col2\" class=\"data row4 col2\" >CNN</td>\n",
       "      <td id=\"T_58bb2_row4_col3\" class=\"data row4 col3\" >0.617334</td>\n",
       "    </tr>\n",
       "    <tr>\n",
       "      <th id=\"T_58bb2_level0_row5\" class=\"row_heading level0 row5\" >5</th>\n",
       "      <td id=\"T_58bb2_row5_col0\" class=\"data row5 col0\" >150</td>\n",
       "      <td id=\"T_58bb2_row5_col1\" class=\"data row5 col1\" >[4]</td>\n",
       "      <td id=\"T_58bb2_row5_col2\" class=\"data row5 col2\" >LSTM</td>\n",
       "      <td id=\"T_58bb2_row5_col3\" class=\"data row5 col3\" >0.599446</td>\n",
       "    </tr>\n",
       "    <tr>\n",
       "      <th id=\"T_58bb2_level0_row6\" class=\"row_heading level0 row6\" >6</th>\n",
       "      <td id=\"T_58bb2_row6_col0\" class=\"data row6 col0\" >150</td>\n",
       "      <td id=\"T_58bb2_row6_col1\" class=\"data row6 col1\" >[2, 3]</td>\n",
       "      <td id=\"T_58bb2_row6_col2\" class=\"data row6 col2\" >CNN</td>\n",
       "      <td id=\"T_58bb2_row6_col3\" class=\"data row6 col3\" >0.594549</td>\n",
       "    </tr>\n",
       "    <tr>\n",
       "      <th id=\"T_58bb2_level0_row7\" class=\"row_heading level0 row7\" >7</th>\n",
       "      <td id=\"T_58bb2_row7_col0\" class=\"data row7 col0\" >150</td>\n",
       "      <td id=\"T_58bb2_row7_col1\" class=\"data row7 col1\" >[2, 3]</td>\n",
       "      <td id=\"T_58bb2_row7_col2\" class=\"data row7 col2\" >LSTM</td>\n",
       "      <td id=\"T_58bb2_row7_col3\" class=\"data row7 col3\" >0.601789</td>\n",
       "    </tr>\n",
       "    <tr>\n",
       "      <th id=\"T_58bb2_level0_row8\" class=\"row_heading level0 row8\" >8</th>\n",
       "      <td id=\"T_58bb2_row8_col0\" class=\"data row8 col0\" >150</td>\n",
       "      <td id=\"T_58bb2_row8_col1\" class=\"data row8 col1\" >[3, 4]</td>\n",
       "      <td id=\"T_58bb2_row8_col2\" class=\"data row8 col2\" >CNN</td>\n",
       "      <td id=\"T_58bb2_row8_col3\" class=\"data row8 col3\" >0.580494</td>\n",
       "    </tr>\n",
       "    <tr>\n",
       "      <th id=\"T_58bb2_level0_row9\" class=\"row_heading level0 row9\" >9</th>\n",
       "      <td id=\"T_58bb2_row9_col0\" class=\"data row9 col0\" >150</td>\n",
       "      <td id=\"T_58bb2_row9_col1\" class=\"data row9 col1\" >[3, 4]</td>\n",
       "      <td id=\"T_58bb2_row9_col2\" class=\"data row9 col2\" >LSTM</td>\n",
       "      <td id=\"T_58bb2_row9_col3\" class=\"data row9 col3\" >0.610094</td>\n",
       "    </tr>\n",
       "    <tr>\n",
       "      <th id=\"T_58bb2_level0_row10\" class=\"row_heading level0 row10\" >10</th>\n",
       "      <td id=\"T_58bb2_row10_col0\" class=\"data row10 col0\" >150</td>\n",
       "      <td id=\"T_58bb2_row10_col1\" class=\"data row10 col1\" >[2, 4]</td>\n",
       "      <td id=\"T_58bb2_row10_col2\" class=\"data row10 col2\" >CNN</td>\n",
       "      <td id=\"T_58bb2_row10_col3\" class=\"data row10 col3\" >0.598808</td>\n",
       "    </tr>\n",
       "    <tr>\n",
       "      <th id=\"T_58bb2_level0_row11\" class=\"row_heading level0 row11\" >11</th>\n",
       "      <td id=\"T_58bb2_row11_col0\" class=\"data row11 col0\" >150</td>\n",
       "      <td id=\"T_58bb2_row11_col1\" class=\"data row11 col1\" >[2, 4]</td>\n",
       "      <td id=\"T_58bb2_row11_col2\" class=\"data row11 col2\" >LSTM</td>\n",
       "      <td id=\"T_58bb2_row11_col3\" class=\"data row11 col3\" >0.580707</td>\n",
       "    </tr>\n",
       "    <tr>\n",
       "      <th id=\"T_58bb2_level0_row12\" class=\"row_heading level0 row12\" >12</th>\n",
       "      <td id=\"T_58bb2_row12_col0\" class=\"data row12 col0\" >150</td>\n",
       "      <td id=\"T_58bb2_row12_col1\" class=\"data row12 col1\" >[2, 3, 4]</td>\n",
       "      <td id=\"T_58bb2_row12_col2\" class=\"data row12 col2\" >CNN</td>\n",
       "      <td id=\"T_58bb2_row12_col3\" class=\"data row12 col3\" >0.604344</td>\n",
       "    </tr>\n",
       "    <tr>\n",
       "      <th id=\"T_58bb2_level0_row13\" class=\"row_heading level0 row13\" >13</th>\n",
       "      <td id=\"T_58bb2_row13_col0\" class=\"data row13 col0\" >150</td>\n",
       "      <td id=\"T_58bb2_row13_col1\" class=\"data row13 col1\" >[2, 3, 4]</td>\n",
       "      <td id=\"T_58bb2_row13_col2\" class=\"data row13 col2\" >LSTM</td>\n",
       "      <td id=\"T_58bb2_row13_col3\" class=\"data row13 col3\" >0.554727</td>\n",
       "    </tr>\n",
       "  </tbody>\n",
       "</table>\n"
      ],
      "text/plain": [
       "<pandas.io.formats.style.Styler at 0x7f5c9d14a910>"
      ]
     },
     "metadata": {},
     "output_type": "display_data"
    }
   ],
   "source": [
    "exp_full.start()"
   ]
  },
  {
   "cell_type": "markdown",
   "metadata": {
    "id": "xKII8tvKNktI"
   },
   "source": [
    "В этом эксперименте на задаче классификации тем фейковых новостей были протестированы 14 моделей архитектуры C-LSTM. Проверялось влияние трёх гиперпараметров: количества CNN слоёв (1, 2 или 3), размер окна CNN слоя (2, 3, 4 и все их комбинации) и место применения дропаута (на эмбеддингах перед подачей в CNN или на результатах выхода из LSTM). В дизайне эксперимента была оставлена возможность проверять количество фильтров CNN и размерность памяти LSTM, однако ради ускорения вычислений везде этот параметр выл установлен равным 150.\n",
    "\n",
    "В результате получилось, что наибольшую долю правильных ответов показала модель номер 4 (5, если считать с единицы) со следующими параметрами: один CNN слой, размер окна 4 и дропаут эмбеддингов перед подачей в следующие слои (acc=0.617). На втором месте аналогичная модель с окном 2 (acc=0.613), на третьем - модель с двумя CNN слоями с окнами 3 и 4 и дропаутом на выходе из LSTM слоя (acc=0.610). Наихудший результат показала модель с тремя CNN слоями окна 2, 3 и 4 и дропаутом на выходе из LSTM (acc=0.555), вторая с конца модель с одним CNN слоем окна 2 и дропаутом на выходе из LSTM (acc=0.575).\n",
    "\n",
    "Результат, продемонстрированный в статье на задаче классификации вопросов, не подтвердился: в том эксперименте наилучший результат показывала модель с одним свёрточным слоем с окном 3, а среди многослойных вариантов лучшие результаты показывали комбинации, содержащие трёхграммный фильтр. В моих экспериментах оказалось, что нет стойкого преимущества ни количества свёрточных слоёв, ни какого-то одного размера окна, ни места применения дропаута, что в общем сравнении, что в сравнении внутри типов дропаута (я дополнительно проверила это в экселе). Таким образом, можно заключить, что для задачи классификации тем фейковых новостей ведущую роль играет не какой-то один гиперпараметр, а их комбинация: один свёрточный слой окна 4 и дропаут эмбеддингов перед подачей в CNN слой."
   ]
  },
  {
   "cell_type": "code",
   "execution_count": null,
   "metadata": {},
   "outputs": [],
   "source": []
  }
 ],
 "metadata": {
  "kernelspec": {
   "display_name": "Python 3 (ipykernel)",
   "language": "python",
   "name": "python3"
  },
  "language_info": {
   "codemirror_mode": {
    "name": "ipython",
    "version": 3
   },
   "file_extension": ".py",
   "mimetype": "text/x-python",
   "name": "python",
   "nbconvert_exporter": "python",
   "pygments_lexer": "ipython3",
   "version": "3.7.3"
  }
 },
 "nbformat": 4,
 "nbformat_minor": 4
}
