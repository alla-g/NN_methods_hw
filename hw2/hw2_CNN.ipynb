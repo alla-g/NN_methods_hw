{
  "nbformat": 4,
  "nbformat_minor": 0,
  "metadata": {
    "kernelspec": {
      "display_name": "Python 3",
      "language": "python",
      "name": "python3"
    },
    "language_info": {
      "codemirror_mode": {
        "name": "ipython",
        "version": 3
      },
      "file_extension": ".py",
      "mimetype": "text/x-python",
      "name": "python",
      "nbconvert_exporter": "python",
      "pygments_lexer": "ipython3",
      "version": "3.8.8"
    },
    "colab": {
      "name": "hw2_CNN.ipynb",
      "provenance": [],
      "collapsed_sections": [],
      "toc_visible": true,
      "include_colab_link": true
    },
    "accelerator": "GPU"
  },
  "cells": [
    {
      "cell_type": "markdown",
      "metadata": {
        "id": "view-in-github",
        "colab_type": "text"
      },
      "source": [
        "<a href=\"https://colab.research.google.com/github/alla-g/NN_methods_hw/blob/main/hw2/hw2_CNN.ipynb\" target=\"_parent\"><img src=\"https://colab.research.google.com/assets/colab-badge.svg\" alt=\"Open In Colab\"/></a>"
      ]
    },
    {
      "cell_type": "code",
      "metadata": {
        "id": "USbUk6HkX4vQ"
      },
      "source": [
        ""
      ],
      "execution_count": null,
      "outputs": []
    },
    {
      "cell_type": "code",
      "metadata": {
        "id": "S_LxOOJUyn-E",
        "colab": {
          "base_uri": "https://localhost:8080/"
        },
        "outputId": "fce65996-0fc2-4f80-9da4-93bfeade9588"
      },
      "source": [
        "!pip install torchmetrics"
      ],
      "execution_count": 2,
      "outputs": [
        {
          "output_type": "stream",
          "name": "stdout",
          "text": [
            "Collecting torchmetrics\n",
            "  Downloading torchmetrics-0.6.0-py3-none-any.whl (329 kB)\n",
            "\u001b[?25l\r\u001b[K     |█                               | 10 kB 22.3 MB/s eta 0:00:01\r\u001b[K     |██                              | 20 kB 25.9 MB/s eta 0:00:01\r\u001b[K     |███                             | 30 kB 25.9 MB/s eta 0:00:01\r\u001b[K     |████                            | 40 kB 19.6 MB/s eta 0:00:01\r\u001b[K     |█████                           | 51 kB 15.3 MB/s eta 0:00:01\r\u001b[K     |██████                          | 61 kB 12.7 MB/s eta 0:00:01\r\u001b[K     |███████                         | 71 kB 12.9 MB/s eta 0:00:01\r\u001b[K     |████████                        | 81 kB 14.0 MB/s eta 0:00:01\r\u001b[K     |█████████                       | 92 kB 14.1 MB/s eta 0:00:01\r\u001b[K     |██████████                      | 102 kB 11.1 MB/s eta 0:00:01\r\u001b[K     |███████████                     | 112 kB 11.1 MB/s eta 0:00:01\r\u001b[K     |████████████                    | 122 kB 11.1 MB/s eta 0:00:01\r\u001b[K     |█████████████                   | 133 kB 11.1 MB/s eta 0:00:01\r\u001b[K     |██████████████                  | 143 kB 11.1 MB/s eta 0:00:01\r\u001b[K     |███████████████                 | 153 kB 11.1 MB/s eta 0:00:01\r\u001b[K     |████████████████                | 163 kB 11.1 MB/s eta 0:00:01\r\u001b[K     |█████████████████               | 174 kB 11.1 MB/s eta 0:00:01\r\u001b[K     |██████████████████              | 184 kB 11.1 MB/s eta 0:00:01\r\u001b[K     |███████████████████             | 194 kB 11.1 MB/s eta 0:00:01\r\u001b[K     |████████████████████            | 204 kB 11.1 MB/s eta 0:00:01\r\u001b[K     |█████████████████████           | 215 kB 11.1 MB/s eta 0:00:01\r\u001b[K     |█████████████████████▉          | 225 kB 11.1 MB/s eta 0:00:01\r\u001b[K     |██████████████████████▉         | 235 kB 11.1 MB/s eta 0:00:01\r\u001b[K     |███████████████████████▉        | 245 kB 11.1 MB/s eta 0:00:01\r\u001b[K     |████████████████████████▉       | 256 kB 11.1 MB/s eta 0:00:01\r\u001b[K     |█████████████████████████▉      | 266 kB 11.1 MB/s eta 0:00:01\r\u001b[K     |██████████████████████████▉     | 276 kB 11.1 MB/s eta 0:00:01\r\u001b[K     |███████████████████████████▉    | 286 kB 11.1 MB/s eta 0:00:01\r\u001b[K     |████████████████████████████▉   | 296 kB 11.1 MB/s eta 0:00:01\r\u001b[K     |█████████████████████████████▉  | 307 kB 11.1 MB/s eta 0:00:01\r\u001b[K     |██████████████████████████████▉ | 317 kB 11.1 MB/s eta 0:00:01\r\u001b[K     |███████████████████████████████▉| 327 kB 11.1 MB/s eta 0:00:01\r\u001b[K     |████████████████████████████████| 329 kB 11.1 MB/s \n",
            "\u001b[?25hRequirement already satisfied: numpy>=1.17.2 in /usr/local/lib/python3.7/dist-packages (from torchmetrics) (1.19.5)\n",
            "Requirement already satisfied: packaging in /usr/local/lib/python3.7/dist-packages (from torchmetrics) (21.3)\n",
            "Requirement already satisfied: torch>=1.3.1 in /usr/local/lib/python3.7/dist-packages (from torchmetrics) (1.10.0+cu111)\n",
            "Requirement already satisfied: typing-extensions in /usr/local/lib/python3.7/dist-packages (from torch>=1.3.1->torchmetrics) (3.10.0.2)\n",
            "Requirement already satisfied: pyparsing!=3.0.5,>=2.0.2 in /usr/local/lib/python3.7/dist-packages (from packaging->torchmetrics) (3.0.6)\n",
            "Installing collected packages: torchmetrics\n",
            "Successfully installed torchmetrics-0.6.0\n"
          ]
        }
      ]
    },
    {
      "cell_type": "code",
      "metadata": {
        "colab": {
          "base_uri": "https://localhost:8080/"
        },
        "id": "-i7UlZyef14o",
        "outputId": "738edaa5-70b6-4b27-efc3-182dead1aa6d"
      },
      "source": [
        "pip install slovnet"
      ],
      "execution_count": 3,
      "outputs": [
        {
          "output_type": "stream",
          "name": "stdout",
          "text": [
            "Collecting slovnet\n",
            "  Downloading slovnet-0.5.0-py3-none-any.whl (49 kB)\n",
            "\u001b[?25l\r\u001b[K     |██████▋                         | 10 kB 22.6 MB/s eta 0:00:01\r\u001b[K     |█████████████▎                  | 20 kB 26.3 MB/s eta 0:00:01\r\u001b[K     |████████████████████            | 30 kB 22.6 MB/s eta 0:00:01\r\u001b[K     |██████████████████████████▌     | 40 kB 19.4 MB/s eta 0:00:01\r\u001b[K     |████████████████████████████████| 49 kB 4.5 MB/s \n",
            "\u001b[?25hCollecting navec\n",
            "  Downloading navec-0.10.0-py3-none-any.whl (23 kB)\n",
            "Collecting razdel\n",
            "  Downloading razdel-0.5.0-py3-none-any.whl (21 kB)\n",
            "Requirement already satisfied: numpy in /usr/local/lib/python3.7/dist-packages (from slovnet) (1.19.5)\n",
            "Installing collected packages: razdel, navec, slovnet\n",
            "Successfully installed navec-0.10.0 razdel-0.5.0 slovnet-0.5.0\n"
          ]
        }
      ]
    },
    {
      "cell_type": "code",
      "metadata": {
        "colab": {
          "base_uri": "https://localhost:8080/"
        },
        "id": "PgjAIztfmou-",
        "outputId": "0e93a8b5-595c-4786-a4c4-42659608cfec"
      },
      "source": [
        "pip install pymorphy2"
      ],
      "execution_count": 67,
      "outputs": [
        {
          "output_type": "stream",
          "name": "stdout",
          "text": [
            "Collecting pymorphy2\n",
            "  Downloading pymorphy2-0.9.1-py3-none-any.whl (55 kB)\n",
            "\u001b[?25l\r\u001b[K     |██████                          | 10 kB 23.0 MB/s eta 0:00:01\r\u001b[K     |███████████▉                    | 20 kB 27.5 MB/s eta 0:00:01\r\u001b[K     |█████████████████▊              | 30 kB 25.1 MB/s eta 0:00:01\r\u001b[K     |███████████████████████▋        | 40 kB 19.6 MB/s eta 0:00:01\r\u001b[K     |█████████████████████████████▌  | 51 kB 15.5 MB/s eta 0:00:01\r\u001b[K     |████████████████████████████████| 55 kB 2.6 MB/s \n",
            "\u001b[?25hRequirement already satisfied: docopt>=0.6 in /usr/local/lib/python3.7/dist-packages (from pymorphy2) (0.6.2)\n",
            "Collecting dawg-python>=0.7.1\n",
            "  Downloading DAWG_Python-0.7.2-py2.py3-none-any.whl (11 kB)\n",
            "Collecting pymorphy2-dicts-ru<3.0,>=2.4\n",
            "  Downloading pymorphy2_dicts_ru-2.4.417127.4579844-py2.py3-none-any.whl (8.2 MB)\n",
            "\u001b[K     |████████████████████████████████| 8.2 MB 12.8 MB/s \n",
            "\u001b[?25hInstalling collected packages: pymorphy2-dicts-ru, dawg-python, pymorphy2\n",
            "Successfully installed dawg-python-0.7.2 pymorphy2-0.9.1 pymorphy2-dicts-ru-2.4.417127.4579844\n"
          ]
        }
      ]
    },
    {
      "cell_type": "code",
      "metadata": {
        "id": "CgiT9Xow1sd5",
        "colab": {
          "base_uri": "https://localhost:8080/"
        },
        "outputId": "e6893dd6-fdd4-4f3c-ae9b-eedeaeb14b43"
      },
      "source": [
        "import re\n",
        "import nltk\n",
        "import pickle\n",
        "import pymorphy2\n",
        "import pandas as pd\n",
        "import numpy as np\n",
        "import matplotlib.pyplot as plt\n",
        "\n",
        "from navec import Navec\n",
        "from random import sample\n",
        "from pprint import pprint\n",
        "from string import punctuation\n",
        "from collections import Counter\n",
        "\n",
        "from slovnet.model.emb import NavecEmbedding\n",
        "from nltk import word_tokenize\n",
        "from sklearn.model_selection import train_test_split\n",
        "from sklearn.metrics import accuracy_score, precision_score, recall_score\n",
        "from sklearn.utils import shuffle\n",
        "import torch\n",
        "import torch.nn as nn\n",
        "import torch.nn.functional as F\n",
        "from torch.utils.data import Dataset, DataLoader, RandomSampler, SequentialSampler\n",
        "from torch.nn.utils.rnn import pad_sequence\n",
        "import torch.optim as optim\n",
        "from torchmetrics.functional import f1\n",
        "\n",
        "morph = pymorphy2.MorphAnalyzer()\n",
        "nltk.download('punkt')"
      ],
      "execution_count": 68,
      "outputs": [
        {
          "output_type": "stream",
          "name": "stdout",
          "text": [
            "[nltk_data] Downloading package punkt to /root/nltk_data...\n",
            "[nltk_data]   Package punkt is already up-to-date!\n"
          ]
        },
        {
          "output_type": "execute_result",
          "data": {
            "text/plain": [
              "True"
            ]
          },
          "metadata": {},
          "execution_count": 68
        }
      ]
    },
    {
      "cell_type": "markdown",
      "metadata": {
        "id": "FfxNXovr1sd6"
      },
      "source": [
        "## Классифицируем твиты\n",
        "\n"
      ]
    },
    {
      "cell_type": "markdown",
      "metadata": {
        "id": "sZtLedfF00Ih"
      },
      "source": [
        "### Скачивание и подготовка данных"
      ]
    },
    {
      "cell_type": "code",
      "metadata": {
        "id": "VEBb-YaTR1os",
        "colab": {
          "base_uri": "https://localhost:8080/"
        },
        "outputId": "268fed64-65a4-460b-f983-453646c71a90"
      },
      "source": [
        "!wget https://www.dropbox.com/s/r6u59ljhhjdg6j0/negative.csv\n",
        "!wget https://www.dropbox.com/s/fnpq3z4bcnoktiv/positive.csv"
      ],
      "execution_count": 5,
      "outputs": [
        {
          "output_type": "stream",
          "name": "stdout",
          "text": [
            "--2021-11-24 15:21:03--  https://www.dropbox.com/s/r6u59ljhhjdg6j0/negative.csv\n",
            "Resolving www.dropbox.com (www.dropbox.com)... 162.125.2.18, 2620:100:6023:18::a27d:4312\n",
            "Connecting to www.dropbox.com (www.dropbox.com)|162.125.2.18|:443... connected.\n",
            "HTTP request sent, awaiting response... 301 Moved Permanently\n",
            "Location: /s/raw/r6u59ljhhjdg6j0/negative.csv [following]\n",
            "--2021-11-24 15:21:04--  https://www.dropbox.com/s/raw/r6u59ljhhjdg6j0/negative.csv\n",
            "Reusing existing connection to www.dropbox.com:443.\n",
            "HTTP request sent, awaiting response... 302 Found\n",
            "Location: https://uc058f04cd8d5a671c9def067aca.dl.dropboxusercontent.com/cd/0/inline/BalWgSEwnUIthIXsTTVK-hCVMfoia217knOUPf5QB3Cp3rzqtNpDWpWbUyUEiJ8Ez42DC0C1nmI1p9RULyvcqJfM9Q2_GKlxOe6QxJNNEqX8augZJNuR_64E5n4xpVY9x2-AJYqVAJna75oI5R4ZV2Ak/file# [following]\n",
            "--2021-11-24 15:21:04--  https://uc058f04cd8d5a671c9def067aca.dl.dropboxusercontent.com/cd/0/inline/BalWgSEwnUIthIXsTTVK-hCVMfoia217knOUPf5QB3Cp3rzqtNpDWpWbUyUEiJ8Ez42DC0C1nmI1p9RULyvcqJfM9Q2_GKlxOe6QxJNNEqX8augZJNuR_64E5n4xpVY9x2-AJYqVAJna75oI5R4ZV2Ak/file\n",
            "Resolving uc058f04cd8d5a671c9def067aca.dl.dropboxusercontent.com (uc058f04cd8d5a671c9def067aca.dl.dropboxusercontent.com)... 162.125.68.15, 2620:100:6025:15::a27d:450f\n",
            "Connecting to uc058f04cd8d5a671c9def067aca.dl.dropboxusercontent.com (uc058f04cd8d5a671c9def067aca.dl.dropboxusercontent.com)|162.125.68.15|:443... connected.\n",
            "HTTP request sent, awaiting response... 200 OK\n",
            "Length: 24450101 (23M) [text/plain]\n",
            "Saving to: ‘negative.csv’\n",
            "\n",
            "negative.csv        100%[===================>]  23.32M  11.0MB/s    in 2.1s    \n",
            "\n",
            "2021-11-24 15:21:07 (11.0 MB/s) - ‘negative.csv’ saved [24450101/24450101]\n",
            "\n",
            "--2021-11-24 15:21:07--  https://www.dropbox.com/s/fnpq3z4bcnoktiv/positive.csv\n",
            "Resolving www.dropbox.com (www.dropbox.com)... 162.125.2.18, 2620:100:6023:18::a27d:4312\n",
            "Connecting to www.dropbox.com (www.dropbox.com)|162.125.2.18|:443... connected.\n",
            "HTTP request sent, awaiting response... 301 Moved Permanently\n",
            "Location: /s/raw/fnpq3z4bcnoktiv/positive.csv [following]\n",
            "--2021-11-24 15:21:08--  https://www.dropbox.com/s/raw/fnpq3z4bcnoktiv/positive.csv\n",
            "Reusing existing connection to www.dropbox.com:443.\n",
            "HTTP request sent, awaiting response... 302 Found\n",
            "Location: https://ucd973042c6ef066f7c248f78bce.dl.dropboxusercontent.com/cd/0/inline/BaltJifLBiv6gQCbsh5MsEvsbDPc4UTcrq7rGMGSpp5dapHtUvX_KtYXw0yiNHcwDmEba2YgFfA84qmZO5xdmj8Q77nLDup-IIQPFJJusVEvx_Ij65c0R5j2JcVf0CZvabcVyldBE1xaDH8fhzRmrIpy/file# [following]\n",
            "--2021-11-24 15:21:08--  https://ucd973042c6ef066f7c248f78bce.dl.dropboxusercontent.com/cd/0/inline/BaltJifLBiv6gQCbsh5MsEvsbDPc4UTcrq7rGMGSpp5dapHtUvX_KtYXw0yiNHcwDmEba2YgFfA84qmZO5xdmj8Q77nLDup-IIQPFJJusVEvx_Ij65c0R5j2JcVf0CZvabcVyldBE1xaDH8fhzRmrIpy/file\n",
            "Resolving ucd973042c6ef066f7c248f78bce.dl.dropboxusercontent.com (ucd973042c6ef066f7c248f78bce.dl.dropboxusercontent.com)... 162.125.67.15, 2620:100:6023:15::a27d:430f\n",
            "Connecting to ucd973042c6ef066f7c248f78bce.dl.dropboxusercontent.com (ucd973042c6ef066f7c248f78bce.dl.dropboxusercontent.com)|162.125.67.15|:443... connected.\n",
            "HTTP request sent, awaiting response... 200 OK\n",
            "Length: 26233379 (25M) [text/plain]\n",
            "Saving to: ‘positive.csv’\n",
            "\n",
            "positive.csv        100%[===================>]  25.02M  14.3MB/s    in 1.8s    \n",
            "\n",
            "2021-11-24 15:21:11 (14.3 MB/s) - ‘positive.csv’ saved [26233379/26233379]\n",
            "\n"
          ]
        }
      ]
    },
    {
      "cell_type": "code",
      "metadata": {
        "id": "17_AP7LhLPnv"
      },
      "source": [
        "negative = pd.read_csv('negative.csv', encoding='utf-8', sep=';', header=None, usecols=[3,4], names=['text','label'])\n",
        "positive = pd.read_csv('positive.csv', encoding='utf-8', sep=';', header=None, usecols=[3,4], names=['text','label'])\n",
        "data = pd.concat([negative, positive], ignore_index=True)"
      ],
      "execution_count": 6,
      "outputs": []
    },
    {
      "cell_type": "code",
      "metadata": {
        "id": "oTj9Ip6kXPT8"
      },
      "source": [
        "data['label'].replace(-1, 0, inplace=True)"
      ],
      "execution_count": 7,
      "outputs": []
    },
    {
      "cell_type": "code",
      "metadata": {
        "colab": {
          "base_uri": "https://localhost:8080/",
          "height": 206
        },
        "id": "aSHEwqOAIXck",
        "outputId": "6125ef2d-3b78-4516-e299-80a91a8bdc13"
      },
      "source": [
        "data.head(5)"
      ],
      "execution_count": 8,
      "outputs": [
        {
          "output_type": "execute_result",
          "data": {
            "text/html": [
              "<div>\n",
              "<style scoped>\n",
              "    .dataframe tbody tr th:only-of-type {\n",
              "        vertical-align: middle;\n",
              "    }\n",
              "\n",
              "    .dataframe tbody tr th {\n",
              "        vertical-align: top;\n",
              "    }\n",
              "\n",
              "    .dataframe thead th {\n",
              "        text-align: right;\n",
              "    }\n",
              "</style>\n",
              "<table border=\"1\" class=\"dataframe\">\n",
              "  <thead>\n",
              "    <tr style=\"text-align: right;\">\n",
              "      <th></th>\n",
              "      <th>text</th>\n",
              "      <th>label</th>\n",
              "    </tr>\n",
              "  </thead>\n",
              "  <tbody>\n",
              "    <tr>\n",
              "      <th>0</th>\n",
              "      <td>на работе был полный пиддес :| и так каждое за...</td>\n",
              "      <td>0</td>\n",
              "    </tr>\n",
              "    <tr>\n",
              "      <th>1</th>\n",
              "      <td>Коллеги сидят рубятся в Urban terror, а я из-з...</td>\n",
              "      <td>0</td>\n",
              "    </tr>\n",
              "    <tr>\n",
              "      <th>2</th>\n",
              "      <td>@elina_4post как говорят обещаного три года жд...</td>\n",
              "      <td>0</td>\n",
              "    </tr>\n",
              "    <tr>\n",
              "      <th>3</th>\n",
              "      <td>Желаю хорошего полёта и удачной посадки,я буду...</td>\n",
              "      <td>0</td>\n",
              "    </tr>\n",
              "    <tr>\n",
              "      <th>4</th>\n",
              "      <td>Обновил за каким-то лешим surf, теперь не рабо...</td>\n",
              "      <td>0</td>\n",
              "    </tr>\n",
              "  </tbody>\n",
              "</table>\n",
              "</div>"
            ],
            "text/plain": [
              "                                                text  label\n",
              "0  на работе был полный пиддес :| и так каждое за...      0\n",
              "1  Коллеги сидят рубятся в Urban terror, а я из-з...      0\n",
              "2  @elina_4post как говорят обещаного три года жд...      0\n",
              "3  Желаю хорошего полёта и удачной посадки,я буду...      0\n",
              "4  Обновил за каким-то лешим surf, теперь не рабо...      0"
            ]
          },
          "metadata": {},
          "execution_count": 8
        }
      ]
    },
    {
      "cell_type": "code",
      "metadata": {
        "colab": {
          "base_uri": "https://localhost:8080/"
        },
        "id": "LBrOItTnJ11T",
        "outputId": "8e72e79a-3927-437f-d622-40d8dc551efe"
      },
      "source": [
        "data.label.unique()"
      ],
      "execution_count": 9,
      "outputs": [
        {
          "output_type": "execute_result",
          "data": {
            "text/plain": [
              "array([0, 1])"
            ]
          },
          "metadata": {},
          "execution_count": 9
        }
      ]
    },
    {
      "cell_type": "code",
      "metadata": {
        "id": "_JYJtXCaERbb"
      },
      "source": [
        "train_data, val_data = train_test_split(data, test_size=0.2)"
      ],
      "execution_count": 10,
      "outputs": []
    },
    {
      "cell_type": "code",
      "metadata": {
        "colab": {
          "base_uri": "https://localhost:8080/"
        },
        "id": "UfA7yoOFA4cm",
        "outputId": "1acec647-48ef-4c15-9d0e-bcf8195a06a6"
      },
      "source": [
        "train_data[train_data.label == 1].shape[0] /train_data.shape[0]"
      ],
      "execution_count": 11,
      "outputs": [
        {
          "output_type": "execute_result",
          "data": {
            "text/plain": [
              "0.5065934853168895"
            ]
          },
          "metadata": {},
          "execution_count": 11
        }
      ]
    },
    {
      "cell_type": "code",
      "metadata": {
        "colab": {
          "base_uri": "https://localhost:8080/",
          "height": 206
        },
        "id": "45ebLSllFFAW",
        "outputId": "9fb7d4d3-22b5-4347-b8d0-f45d4a732439"
      },
      "source": [
        "train_data.head(5)"
      ],
      "execution_count": 12,
      "outputs": [
        {
          "output_type": "execute_result",
          "data": {
            "text/html": [
              "<div>\n",
              "<style scoped>\n",
              "    .dataframe tbody tr th:only-of-type {\n",
              "        vertical-align: middle;\n",
              "    }\n",
              "\n",
              "    .dataframe tbody tr th {\n",
              "        vertical-align: top;\n",
              "    }\n",
              "\n",
              "    .dataframe thead th {\n",
              "        text-align: right;\n",
              "    }\n",
              "</style>\n",
              "<table border=\"1\" class=\"dataframe\">\n",
              "  <thead>\n",
              "    <tr style=\"text-align: right;\">\n",
              "      <th></th>\n",
              "      <th>text</th>\n",
              "      <th>label</th>\n",
              "    </tr>\n",
              "  </thead>\n",
              "  <tbody>\n",
              "    <tr>\n",
              "      <th>136028</th>\n",
              "      <td>RT @Creative_Link: Дождались! Официальный трей...</td>\n",
              "      <td>1</td>\n",
              "    </tr>\n",
              "    <tr>\n",
              "      <th>193926</th>\n",
              "      <td>Вот так мы и прощаемся каждый день:D http://t....</td>\n",
              "      <td>1</td>\n",
              "    </tr>\n",
              "    <tr>\n",
              "      <th>176024</th>\n",
              "      <td>RT @MCRGWLD: @funnyhoorse ХАХА,ДЫ ЧЕ ТЫ...ВСЕ ...</td>\n",
              "      <td>1</td>\n",
              "    </tr>\n",
              "    <tr>\n",
              "      <th>41256</th>\n",
              "      <td>@audrey_zoe ой не.. не люблю я сырое мясо..фу ...</td>\n",
              "      <td>0</td>\n",
              "    </tr>\n",
              "    <tr>\n",
              "      <th>163552</th>\n",
              "      <td>В свет вышел #МачетеУбивает, щас буду кушать и...</td>\n",
              "      <td>1</td>\n",
              "    </tr>\n",
              "  </tbody>\n",
              "</table>\n",
              "</div>"
            ],
            "text/plain": [
              "                                                     text  label\n",
              "136028  RT @Creative_Link: Дождались! Официальный трей...      1\n",
              "193926  Вот так мы и прощаемся каждый день:D http://t....      1\n",
              "176024  RT @MCRGWLD: @funnyhoorse ХАХА,ДЫ ЧЕ ТЫ...ВСЕ ...      1\n",
              "41256   @audrey_zoe ой не.. не люблю я сырое мясо..фу ...      0\n",
              "163552  В свет вышел #МачетеУбивает, щас буду кушать и...      1"
            ]
          },
          "metadata": {},
          "execution_count": 12
        }
      ]
    },
    {
      "cell_type": "markdown",
      "metadata": {
        "id": "1ihZasXFYn3e"
      },
      "source": [
        "#### Добавление препроцессинга"
      ]
    },
    {
      "cell_type": "code",
      "metadata": {
        "id": "vq1cHqT5YoFH"
      },
      "source": [
        "# from https://habr.com/ru/company/vk/blog/417767/\n",
        "def preprocess_text(text):\n",
        "    text = text.lower().replace(\"ё\", \"е\")\n",
        "    text = re.sub('((www\\.[^\\s]+)|(https?://[^\\s]+))', 'URL', text)\n",
        "    text = re.sub('@[^\\s]+', 'USER', text)\n",
        "    text = re.sub('[^a-zA-Zа-яА-Я1-9]+', ' ', text)\n",
        "    text = re.sub(' +', ' ', text)\n",
        "    return text.strip()"
      ],
      "execution_count": 13,
      "outputs": []
    },
    {
      "cell_type": "code",
      "metadata": {
        "id": "I0adLEo_Y1e0"
      },
      "source": [
        "data['preproc_text'] = data['text'].apply(preprocess_text)"
      ],
      "execution_count": 14,
      "outputs": []
    },
    {
      "cell_type": "code",
      "metadata": {
        "colab": {
          "base_uri": "https://localhost:8080/"
        },
        "id": "c9E74b2uZEbJ",
        "outputId": "11e66d4d-3697-485e-f1c8-7d3234b802d1"
      },
      "source": [
        "# проверить, что всё верно\n",
        "data.text[444], data.preproc_text[444]"
      ],
      "execution_count": 15,
      "outputs": [
        {
          "output_type": "execute_result",
          "data": {
            "text/plain": [
              "('@HeiligSein483 блин, у меня было такое же :( а купить такие же ?',\n",
              " 'USER блин у меня было такое же а купить такие же')"
            ]
          },
          "metadata": {},
          "execution_count": 15
        }
      ]
    },
    {
      "cell_type": "code",
      "metadata": {
        "id": "ZFWBIZVReY3T"
      },
      "source": [
        "proc_train_data, proc_val_data = train_test_split(data[['preproc_text', 'label']], test_size=0.2)"
      ],
      "execution_count": 16,
      "outputs": []
    },
    {
      "cell_type": "markdown",
      "metadata": {
        "id": "OvtFiGUBfBtv"
      },
      "source": [
        "### CNN по словам"
      ]
    },
    {
      "cell_type": "markdown",
      "metadata": {
        "id": "h-q1JHzW1sd-"
      },
      "source": [
        "Теперь нам нужно собрать все слова в словарь. Лучше сразу посчитать количество упоминаний, чтобы отсеять самые редкие."
      ]
    },
    {
      "cell_type": "code",
      "metadata": {
        "colab": {
          "base_uri": "https://localhost:8080/"
        },
        "id": "xmsqNW-WKfqJ",
        "outputId": "9cd62c88-f7ef-40f9-dcdc-32ff08781a5e"
      },
      "source": [
        "len(data['text'])"
      ],
      "execution_count": 17,
      "outputs": [
        {
          "output_type": "execute_result",
          "data": {
            "text/plain": [
              "226834"
            ]
          },
          "metadata": {},
          "execution_count": 17
        }
      ]
    },
    {
      "cell_type": "code",
      "metadata": {
        "id": "T8t4nDCR1sd-",
        "colab": {
          "base_uri": "https://localhost:8080/"
        },
        "outputId": "a314f7af-0794-4881-c766-c6f1682444ad"
      },
      "source": [
        "vocab = Counter()\n",
        "for text in data['text']:\n",
        "    vocab.update(word_tokenize(text))\n",
        "print('всего уникальных слов:', len(vocab))"
      ],
      "execution_count": 18,
      "outputs": [
        {
          "output_type": "stream",
          "name": "stdout",
          "text": [
            "всего уникальных слов: 359652\n"
          ]
        }
      ]
    },
    {
      "cell_type": "code",
      "metadata": {
        "colab": {
          "base_uri": "https://localhost:8080/"
        },
        "id": "TFlVinuMObSL",
        "outputId": "d86ade63-efa8-4729-b73a-c3510da34281"
      },
      "source": [
        "vocab"
      ],
      "execution_count": 19,
      "outputs": [
        {
          "output_type": "execute_result",
          "data": {
            "text/plain": [
              "Counter({'на': 35715,\n",
              "         'работе': 592,\n",
              "         'был': 2627,\n",
              "         'полный': 173,\n",
              "         'пиддес': 1,\n",
              "         ':': 177666,\n",
              "         '|': 1062,\n",
              "         'и': 54916,\n",
              "         'так': 16739,\n",
              "         'каждое': 68,\n",
              "         'закрытие': 4,\n",
              "         'месяца': 304,\n",
              "         ',': 188295,\n",
              "         'я': 52506,\n",
              "         'же': 9606,\n",
              "         'свихнусь': 5,\n",
              "         'D': 16552,\n",
              "         'Коллеги': 11,\n",
              "         'сидят': 106,\n",
              "         'рубятся': 3,\n",
              "         'в': 52853,\n",
              "         'Urban': 4,\n",
              "         'terror': 3,\n",
              "         'а': 26589,\n",
              "         'из-за': 1181,\n",
              "         'долбанной': 4,\n",
              "         'винды': 12,\n",
              "         'не': 69267,\n",
              "         'могу': 3946,\n",
              "         '(': 212404,\n",
              "         '@': 149978,\n",
              "         'elina_4post': 1,\n",
              "         'как': 18141,\n",
              "         'говорят': 596,\n",
              "         'обещаного': 1,\n",
              "         'три': 719,\n",
              "         'года': 1356,\n",
              "         'ждут': 124,\n",
              "         '...': 28773,\n",
              "         'Желаю': 161,\n",
              "         'хорошего': 381,\n",
              "         'полёта': 4,\n",
              "         'удачной': 31,\n",
              "         'посадки': 5,\n",
              "         'буду': 3767,\n",
              "         'очень': 6386,\n",
              "         'сильно': 1015,\n",
              "         'скучать': 360,\n",
              "         'http': 32992,\n",
              "         '//t.co/jCLNzVNv3S': 1,\n",
              "         'Обновил': 15,\n",
              "         'за': 10021,\n",
              "         'каким-то': 57,\n",
              "         'лешим': 8,\n",
              "         'surf': 8,\n",
              "         'теперь': 4455,\n",
              "         'работает': 679,\n",
              "         'простоплеер': 8,\n",
              "         'Котёнка': 1,\n",
              "         'вчера': 1384,\n",
              "         'носик': 10,\n",
              "         'разбила': 59,\n",
              "         'плакала': 122,\n",
              "         'расстраивалась': 4,\n",
              "         'juliamayko': 66,\n",
              "         'O_nika55': 21,\n",
              "         'and_Possum': 48,\n",
              "         'Зашли': 15,\n",
              "         'то': 11386,\n",
              "         'он': 6028,\n",
              "         'опять': 2034,\n",
              "         'затихарился': 1,\n",
              "         'прямо': 335,\n",
              "         'физически': 32,\n",
              "         'страдаю': 66,\n",
              "         'когда': 6655,\n",
              "         'долго': 838,\n",
              "         'молчит': 41,\n",
              "         '!': 66923,\n",
              "         'вообще': 4414,\n",
              "         'болею': 258,\n",
              "         '-': 17628,\n",
              "         'выздоравливаю': 5,\n",
              "         'микрофраза': 1,\n",
              "         'учимся': 56,\n",
              "         'срать': 56,\n",
              "         'кирпичами': 3,\n",
              "         'режиме': 44,\n",
              "         '&': 2236,\n",
              "         'amp': 577,\n",
              "         ';': 13209,\n",
              "         'quot': 10,\n",
              "         'нон-стоп': 7,\n",
              "         'niwoqisipapy': 1,\n",
              "         'хочу': 6085,\n",
              "         'с': 27176,\n",
              "         'тобой': 1168,\n",
              "         'помириться': 8,\n",
              "         'но': 12722,\n",
              "         'сука': 507,\n",
              "         'гордая': 6,\n",
              "         'никогда': 1381,\n",
              "         'этого': 1912,\n",
              "         'сделаю': 228,\n",
              "         'DNO_OKEANA_A3A3': 9,\n",
              "         'MOE_MOPE_A3A3': 3,\n",
              "         'тебя': 7102,\n",
              "         'ебет': 13,\n",
              "         'какие': 553,\n",
              "         'у': 18861,\n",
              "         'меня': 20591,\n",
              "         'фотки.я': 1,\n",
              "         'про': 2834,\n",
              "         'твои': 408,\n",
              "         'молчу.и': 1,\n",
              "         'ты': 13358,\n",
              "         'хоть': 1842,\n",
              "         'знаешь': 664,\n",
              "         'ТП': 36,\n",
              "         'выглядят': 33,\n",
              "         'Блин': 1156,\n",
              "         'начали': 166,\n",
              "         'сниться': 40,\n",
              "         'сны': 148,\n",
              "         'Не': 3832,\n",
              "         'почти': 1088,\n",
              "         'снились': 45,\n",
              "         'А': 8602,\n",
              "         'можно': 2708,\n",
              "         'сказать': 782,\n",
              "         'каждый': 881,\n",
              "         'день': 6298,\n",
              "         'такое': 1876,\n",
              "         'Мне': 2076,\n",
              "         'это': 16436,\n",
              "         'нравиться': 125,\n",
              "         'realVold': 1,\n",
              "         'На': 1868,\n",
              "         'твоем': 53,\n",
              "         'месте': 354,\n",
              "         'бы': 8023,\n",
              "         'сначала': 374,\n",
              "         'телек': 44,\n",
              "         'купил': 284,\n",
              "         'faraonbgr111': 1,\n",
              "         'плохо': 1721,\n",
              "         'боишься': 39,\n",
              "         'значит': 867,\n",
              "         'где': 2014,\n",
              "         '?': 35955,\n",
              "         'В': 4041,\n",
              "         'мск': 61,\n",
              "         'бгр': 1,\n",
              "         'хотела': 1019,\n",
              "         'электромобиль': 1,\n",
              "         '=': 3492,\n",
              "         '//t.co/vgs9JeUPHz': 1,\n",
              "         'Скоро': 389,\n",
              "         'увижу': 192,\n",
              "         'зеленые': 15,\n",
              "         'глаза': 531,\n",
              "         'последний': 623,\n",
              "         'раз': 3251,\n",
              "         'Вот': 2624,\n",
              "         'да': 7328,\n",
              "         'докатился': 4,\n",
              "         'по-оранжевел': 1,\n",
              "         'патриот': 9,\n",
              "         'Чо': 31,\n",
              "         'деется': 1,\n",
              "         'RT': 38070,\n",
              "         'SapelSV': 2,\n",
              "         '#': 19608,\n",
              "         'Бабки': 1,\n",
              "         'объединят': 4,\n",
              "         'КПРФ': 5,\n",
              "         'Навального': 17,\n",
              "         '//t.co/kyJk4A79kv': 1,\n",
              "         'Ну': 3799,\n",
              "         'уже': 10148,\n",
              "         '12:25': 1,\n",
              "         'ночииии': 1,\n",
              "         'ничего': 2979,\n",
              "         'сделалаллалалалалалалвцмдэмппдпктцдкиицкп': 1,\n",
              "         '190299der': 3,\n",
              "         'рада': 535,\n",
              "         'им': 732,\n",
              "         'разобьешь': 1,\n",
              "         'сердца': 80,\n",
              "         'их': 2460,\n",
              "         'жалко': 781,\n",
              "         'епт': 36,\n",
              "         'мне': 16247,\n",
              "         'оч': 301,\n",
              "         'Влада': 27,\n",
              "         'всех': 2041,\n",
              "         'остальных': 57,\n",
              "         'нет': 7002,\n",
              "         'Сегодня': 2264,\n",
              "         'какой-то': 544,\n",
              "         'нехороший': 9,\n",
              "         'Телефон': 47,\n",
              "         'наушники': 181,\n",
              "         'опознает': 5,\n",
              "         'блога': 29,\n",
              "         'как-то': 924,\n",
              "         'умудрился': 50,\n",
              "         'шаблон': 10,\n",
              "         'сломать': 23,\n",
              "         'еще': 7795,\n",
              "         'думаю': 1201,\n",
              "         'моем': 250,\n",
              "         'веку': 2,\n",
              "         'почта': 42,\n",
              "         'россии': 41,\n",
              "         'поднимется': 17,\n",
              "         'со': 2967,\n",
              "         'дна': 14,\n",
              "         'одному': 138,\n",
              "         'напоминает': 122,\n",
              "         'дом-2': 8,\n",
              "         'Путин': 153,\n",
              "         'делает': 289,\n",
              "         'реалити-шоу': 4,\n",
              "         'O_o': 209,\n",
              "         'ебааааа': 1,\n",
              "         'сейчас': 3721,\n",
              "         'модуль': 30,\n",
              "         'будет': 6333,\n",
              "         'по': 11282,\n",
              "         'региональной': 1,\n",
              "         'экономике': 35,\n",
              "         'kordalona_mars': 1,\n",
              "         'оооууу': 3,\n",
              "         'анфолловил': 16,\n",
              "         'чувак': 410,\n",
              "         'вот': 7184,\n",
              "         'встречаю': 27,\n",
              "         'зиму': 248,\n",
              "         '//t.co/FjivXAGcR9': 1,\n",
              "         'Kyo_oppa': 2,\n",
              "         'ну': 8625,\n",
              "         'туда': 618,\n",
              "         'медведь': 40,\n",
              "         'прикреплялся': 1,\n",
              "         '.': 59775,\n",
              "         'чорт': 14,\n",
              "         'сходить': 346,\n",
              "         'кино': 451,\n",
              "         'придется': 496,\n",
              "         'любоваться': 13,\n",
              "         'фильмом': 21,\n",
              "         'уг': 19,\n",
              "         'качестве': 89,\n",
              "         'компе': 91,\n",
              "         'arinaaaaonskul': 1,\n",
              "         'Так': 1647,\n",
              "         'себя': 2239,\n",
              "         'чувствовала': 49,\n",
              "         'давно': 1040,\n",
              "         'Как': 3507,\n",
              "         'понизить': 4,\n",
              "         'температуру': 27,\n",
              "         'ноута': 38,\n",
              "         'Снаружи': 3,\n",
              "         '+30': 8,\n",
              "         'что': 31472,\n",
              "         'постоянно': 428,\n",
              "         'раскалённый': 3,\n",
              "         'Anastasia_pain': 2,\n",
              "         'думаешь': 202,\n",
              "         'упаду': 18,\n",
              "         'стула': 35,\n",
              "         'Deniska_perm': 1,\n",
              "         'условия': 24,\n",
              "         'будут': 931,\n",
              "         'более': 536,\n",
              "         'спартанские': 1,\n",
              "         'Хотела': 128,\n",
              "         'маме': 269,\n",
              "         'сделать': 1063,\n",
              "         'сюрприз': 94,\n",
              "         'всегда': 2776,\n",
              "         'все': 14695,\n",
              "         'навернулось': 1,\n",
              "         'блин': 2722,\n",
              "         'сутками': 19,\n",
              "         'его': 4643,\n",
              "         'жду': 693,\n",
              "         'друзьями': 209,\n",
              "         'общаться': 219,\n",
              "         'которыми': 66,\n",
              "         'ежедневно': 16,\n",
              "         'видится': 9,\n",
              "         'Annya_Nik': 1,\n",
              "         'YankaMurygina': 1,\n",
              "         'думал': 471,\n",
              "         'судьба': 175,\n",
              "         'походу': 530,\n",
              "         'попасть': 137,\n",
              "         'к': 6347,\n",
              "         'мастерам': 1,\n",
              "         'davidmsk': 4,\n",
              "         'У': 3516,\n",
              "         'берегов': 1,\n",
              "         'Коста-Рики': 1,\n",
              "         'водятся': 4,\n",
              "         '1600': 6,\n",
              "         'видов': 13,\n",
              "         'рыб': 6,\n",
              "         'берег': 13,\n",
              "         'выходят': 43,\n",
              "         'черепахи': 6,\n",
              "         'весом': 17,\n",
              "         'до': 4738,\n",
              "         '500': 94,\n",
              "         'кг': 134,\n",
              "         'Но': 2715,\n",
              "         'видел': 387,\n",
              "         '//t.co/9ixMBH…': 1,\n",
              "         '``': 11467,\n",
              "         'lisi_Ca': 6,\n",
              "         'maybe_reg49_27': 4,\n",
              "         'One_ENCLAVE': 10,\n",
              "         'LyudaLa': 11,\n",
              "         'самая': 428,\n",
              "         'смешная': 38,\n",
              "         'из': 5400,\n",
              "         'лисичек': 1,\n",
              "         'тибетская': 1,\n",
              "         'Это': 2376,\n",
              "         'фотошоп': 25,\n",
              "         '//t.co/kDDYZartwl': 1,\n",
              "         \"''\": 12471,\n",
              "         'о_О': 1144,\n",
              "         'Потеряла': 27,\n",
              "         'креапления': 1,\n",
              "         'от': 5646,\n",
              "         'борда': 3,\n",
              "         'Я': 12258,\n",
              "         'снимала': 14,\n",
              "         'Ksenyamalischev': 4,\n",
              "         'Устала': 66,\n",
              "         'семинара': 5,\n",
              "         'Опять': 432,\n",
              "         'простыла': 21,\n",
              "         'Все': 1864,\n",
              "         'гуляют': 26,\n",
              "         'катают': 3,\n",
              "         'тусуют': 2,\n",
              "         'Что': 1414,\n",
              "         'невезение': 7,\n",
              "         '1libertad': 1,\n",
              "         'первые': 152,\n",
              "         'деньги': 535,\n",
              "         'пойдут': 37,\n",
              "         'красные': 53,\n",
              "         'мокасины': 1,\n",
              "         'потом': 2547,\n",
              "         'ремень': 13,\n",
              "         'гермес': 1,\n",
              "         'приору': 5,\n",
              "         'умереть': 72,\n",
              "         '-/': 466,\n",
              "         'volkova_v': 27,\n",
              "         'Мясорубка': 2,\n",
              "         'пожирает': 7,\n",
              "         'налогоплательщиков': 2,\n",
              "         '_rakka_': 4,\n",
              "         'brovo4ka': 2,\n",
              "         'переношу': 22,\n",
              "         'соционику': 2,\n",
              "         'самый': 819,\n",
              "         'адовый': 6,\n",
              "         'бред': 180,\n",
              "         'один': 1768,\n",
              "         'помешались': 2,\n",
              "         'Пора': 195,\n",
              "         'делать': 2355,\n",
              "         'уроки': 675,\n",
              "         'учить': 482,\n",
              "         'Лермонтова': 6,\n",
              "         '//t.co/CShrNmfFCL': 1,\n",
              "         'Romashka_Vera': 1,\n",
              "         'наверно': 414,\n",
              "         'действителен': 1,\n",
              "         'сама': 910,\n",
              "         'там': 4696,\n",
              "         'заказ': 61,\n",
              "         'скидки': 38,\n",
              "         'побыстрее': 42,\n",
              "         'попробывать': 7,\n",
              "         'сырный': 6,\n",
              "         'суп': 97,\n",
              "         'обожгла': 16,\n",
              "         'весь': 1315,\n",
              "         'язык': 152,\n",
              "         'ни': 2206,\n",
              "         'чего': 1362,\n",
              "         'чувствую': 671,\n",
              "         'Внезапно': 70,\n",
              "         'настало': 37,\n",
              "         'лето': 328,\n",
              "         'Дома': 182,\n",
              "         'обоих': 43,\n",
              "         'кранов': 4,\n",
              "         'течёт': 7,\n",
              "         'холодная': 25,\n",
              "         'вода': 85,\n",
              "         'natahin_': 2,\n",
              "         'кто': 3138,\n",
              "         'СМИ': 74,\n",
              "         'первее': 5,\n",
              "         'того': 1537,\n",
              "         'ссылка': 38,\n",
              "         'поисковике': 6,\n",
              "         'the_anechnaya': 2,\n",
              "         'babooshkina': 2,\n",
              "         'халвы': 5,\n",
              "         'захотелось': 183,\n",
              "         'only_069': 11,\n",
              "         'ДА': 312,\n",
              "         'ВОСПАЛЕНИЕ': 1,\n",
              "         'ЛЕГКИХ': 1,\n",
              "         'ПОЧТИ': 17,\n",
              "         '2': 2920,\n",
              "         'НЕДЕЛИ': 10,\n",
              "         'БОЛЬНИЦЕ': 4,\n",
              "         'ЛЕЖАЛА': 3,\n",
              "         'И': 5276,\n",
              "         'ТВИ': 24,\n",
              "         'ТОЖ': 8,\n",
              "         'НИ': 82,\n",
              "         'ЗАХОДИЛА': 4,\n",
              "         'Каждое': 17,\n",
              "         'смс': 152,\n",
              "         'доза': 9,\n",
              "         'мной': 1302,\n",
              "         'происходить': 6,\n",
              "         'ужели': 9,\n",
              "         'выхадныеееееееееееееееееееее': 1,\n",
              "         'правда': 1149,\n",
              "         'пролетят': 4,\n",
              "         'будто': 529,\n",
              "         'было': 5450,\n",
              "         'Задолбали': 12,\n",
              "         'дико': 186,\n",
              "         'резкие': 5,\n",
              "         'перепады': 7,\n",
              "         'настроения': 832,\n",
              "         'gt': 1105,\n",
              "         'NastyaBulaeva': 1,\n",
              "         'Угадайте': 39,\n",
              "         'чья': 17,\n",
              "         'школа': 291,\n",
              "         'учится': 99,\n",
              "         'сегодня': 6332,\n",
              "         'Причем': 54,\n",
              "         'единственная': 73,\n",
              "         'области': 48,\n",
              "         'первый': 859,\n",
              "         'рабочий': 157,\n",
              "         'настроена': 9,\n",
              "         'готова': 280,\n",
              "         'Конечно': 159,\n",
              "         'одеяле': 8,\n",
              "         'куда': 772,\n",
              "         'Заболела': 56,\n",
              "         'siavol': 1,\n",
              "         'медстраховки': 1,\n",
              "         'ещё': 2462,\n",
              "         'хорошей': 95,\n",
              "         'они': 3097,\n",
              "         'жили': 25,\n",
              "         'Наверное': 153,\n",
              "         'паспорта': 21,\n",
              "         'отобрали': 19,\n",
              "         'взамен': 15,\n",
              "         'что-то': 1622,\n",
              "         'дали': 258,\n",
              "         'заставили': 47,\n",
              "         'трудиться': 4,\n",
              "         'шк': 340,\n",
              "         'создали': 17,\n",
              "         'группу': 145,\n",
              "         'ВК': 162,\n",
              "         'новости': 289,\n",
              "         'школы': 394,\n",
              "         'Ито': 3,\n",
              "         'какойто': 17,\n",
              "         'злоебучий': 3,\n",
              "         'аноним': 25,\n",
              "         'дает': 198,\n",
              "         'жизни': 1459,\n",
              "         'ибо': 829,\n",
              "         'выдает': 41,\n",
              "         'тайны': 13,\n",
              "         'o_O': 252,\n",
              "         'убрали': 51,\n",
              "         'поиск': 46,\n",
              "         'персонажей': 25,\n",
              "         'ли': 1613,\n",
              "         'паника-паника': 6,\n",
              "         'ведь': 1445,\n",
              "         'удобно': 158,\n",
              "         'скайп': 61,\n",
              "         'идут': 161,\n",
              "         'стесняюсь': 31,\n",
              "         'блянуок': 2,\n",
              "         'Выпилил': 3,\n",
              "         'powerpill': 3,\n",
              "         'perl-xyne-arch': 3,\n",
              "         'своего': 426,\n",
              "         'Арча': 4,\n",
              "         'разработчик': 6,\n",
              "         'отказался': 45,\n",
              "         'поддержки': 41,\n",
              "         'жаль': 1143,\n",
              "         'archlinux': 5,\n",
              "         'cheknastushka': 1,\n",
              "         'она': 3952,\n",
              "         'офигенная': 52,\n",
              "         'ней': 880,\n",
              "         'идиотский': 12,\n",
              "         'твиттер': 643,\n",
              "         'глючишь..': 1,\n",
              "         'procrastelina': 2,\n",
              "         'если': 4309,\n",
              "         'ниже': 96,\n",
              "         'ростом': 27,\n",
              "         'даже': 4665,\n",
              "         'чем': 2671,\n",
              "         'губин': 2,\n",
              "         'kakos1904': 2,\n",
              "         'Бедный': 56,\n",
              "         'мой': 2656,\n",
              "         'школе': 875,\n",
              "         'Твоя': 14,\n",
              "         'физика': 93,\n",
              "         'закончится': 160,\n",
              "         'раньше': 905,\n",
              "         'доеду': 23,\n",
              "         'б': 630,\n",
              "         'забрал': 58,\n",
              "         'Спасибо': 1513,\n",
              "         'тем': 861,\n",
              "         'данный': 85,\n",
              "         'момент': 624,\n",
              "         'поддерживает': 52,\n",
              "         'моей': 1194,\n",
              "         'проблемой': 17,\n",
              "         'спасибо': 2583,\n",
              "         'тебе': 5409,\n",
              "         'макарошки': 3,\n",
              "         'отварить': 1,\n",
              "         'запечь': 2,\n",
              "         'луком': 5,\n",
              "         'морковкой': 4,\n",
              "         'майонезом': 10,\n",
              "         'чесноком': 9,\n",
              "         'всякими': 16,\n",
              "         'приправками': 1,\n",
              "         'ОМНОМНОМ': 2,\n",
              "         '*О*': 87,\n",
              "         'сыра': 12,\n",
              "         'завтра': 4021,\n",
              "         'химии': 210,\n",
              "         'диктант': 36,\n",
              "         'нужно': 1678,\n",
              "         'хорошо': 2602,\n",
              "         'подготовиться': 32,\n",
              "         'Сейчас': 528,\n",
              "         'кроватку': 31,\n",
              "         'спать': 2563,\n",
              "         'дофигища': 3,\n",
              "         'дел': 211,\n",
              "         'сделано': 45,\n",
              "         '-_-': 115,\n",
              "         'No_Name_Okay_': 2,\n",
              "         'обязательно': 364,\n",
              "         '19:30': 5,\n",
              "         'начинается..': 3,\n",
              "         'Может': 383,\n",
              "         'пойдём': 39,\n",
              "         'проводишь': 14,\n",
              "         'мария': 2,\n",
              "         'ра': 11,\n",
              "         'самые': 358,\n",
              "         'убогие': 7,\n",
              "         'магазины': 54,\n",
              "         'который': 1080,\n",
              "         'убеждаюсь': 48,\n",
              "         'Еще': 626,\n",
              "         'часа': 1160,\n",
              "         'работы': 495,\n",
              "         'Зря': 54,\n",
              "         'торопился': 3,\n",
              "         'равно': 1415,\n",
              "         'прийдется': 26,\n",
              "         'выходные': 518,\n",
              "         'работать': 561,\n",
              "         'v_rodionov1015': 1,\n",
              "         'RadiopAshA': 11,\n",
              "         'sangdrag': 4,\n",
              "         'сколько': 907,\n",
              "         'баранов': 4,\n",
              "         'вслед': 20,\n",
              "         'ним': 802,\n",
              "         'несётся': 2,\n",
              "         'Пойду': 212,\n",
              "         'дела': 667,\n",
              "         'времени': 904,\n",
              "         'меньше': 421,\n",
              "         'Какой': 374,\n",
              "         'эта': 823,\n",
              "         'зима': 526,\n",
              "         '—': 5063,\n",
              "         'разочаровательной': 1,\n",
              "         '//t.co/CYXetATzIB': 1,\n",
              "         'сегодняшняя': 11,\n",
              "         'математика': 40,\n",
              "         'вынесла': 8,\n",
              "         'мозг=': 1,\n",
              "         'Интересно': 257,\n",
              "         'сдавать': 248,\n",
              "         'математический': 2,\n",
              "         'анализ': 26,\n",
              "         'препод': 85,\n",
              "         'такая': 1845,\n",
              "         'тварина': 3,\n",
              "         'levolume': 5,\n",
              "         'амазон': 3,\n",
              "         '//t.co/yEC1tZCUVG': 1,\n",
              "         'Черт': 144,\n",
              "         'стремно': 57,\n",
              "         'олимпиаде': 45,\n",
              "         'сидеть': 620,\n",
              "         'bahhtee': 13,\n",
              "         'вам': 1518,\n",
              "         'понравилось': 513,\n",
              "         'Ташкенте': 4,\n",
              "         'Жаль': 446,\n",
              "         'узнала': 300,\n",
              "         'об': 800,\n",
              "         'этом': 1662,\n",
              "         'после': 2084,\n",
              "         'вашего': 71,\n",
              "         'ухода': 9,\n",
              "         'кота': 168,\n",
              "         'между': 296,\n",
              "         'прочим': 68,\n",
              "         'может': 2381,\n",
              "         'случится': 61,\n",
              "         'сердечный': 4,\n",
              "         'приступ': 16,\n",
              "         'ситуация': 85,\n",
              "         'пугает': 89,\n",
              "         'знает': 690,\n",
              "         'alexblablablaaa': 3,\n",
              "         'декабрь': 61,\n",
              "         'без': 3338,\n",
              "         'снежкаа': 1,\n",
              "         'huqikycibeno': 3,\n",
              "         'Гг': 4,\n",
              "         'выньду': 5,\n",
              "         '98': 16,\n",
              "         'комп': 198,\n",
              "         'уныл': 13,\n",
              "         'сюда': 283,\n",
              "         'ставлю': 50,\n",
              "         'хрюшу': 4,\n",
              "         'Уже': 626,\n",
              "         '2ой': 21,\n",
              "         'час': 633,\n",
              "         'пошел': 285,\n",
              "         'Каждый': 175,\n",
              "         'Ларри': 40,\n",
              "         'общаются': 19,\n",
              "         'скайпу': 76,\n",
              "         'Г': 19,\n",
              "         'чтобы': 2318,\n",
              "         'тут': 3256,\n",
              "         'Л': 23,\n",
              "         'тоже': 5116,\n",
              "         'Скучаю': 141,\n",
              "         '//t.co/fWjKiYrMkW': 1,\n",
              "         'вот.все': 1,\n",
              "         'началось': 153,\n",
              "         'сначала.умом': 1,\n",
              "         'понимаю': 1158,\n",
              "         'всё': 3822,\n",
              "         'поздно..но': 1,\n",
              "         'o_odium': 1,\n",
              "         'разговоры': 84,\n",
              "         'Кириллом': 10,\n",
              "         'просто': 6009,\n",
              "         'нечто': 78,\n",
              "         'ахах': 1380,\n",
              "         'Мой': 492,\n",
              "         'маленький': 234,\n",
              "         'Никита': 84,\n",
              "         'любить': 277,\n",
              "         'помним': 33,\n",
              "         'Любим': 14,\n",
              "         'скорбим': 26,\n",
              "         'живот': 171,\n",
              "         'покоя': 53,\n",
              "         'Ludwig_LOL': 1,\n",
              "         'желочь': 1,\n",
              "         'живота': 19,\n",
              "         'выливать': 2,\n",
              "         'Иду': 65,\n",
              "         'задание': 64,\n",
              "         'практики': 26,\n",
              "         'переживаю': 110,\n",
              "         'Только': 1162,\n",
              "         'упасть': 36,\n",
              "         'стола': 71,\n",
              "         'пока': 1884,\n",
              "         'перевешиваю': 1,\n",
              "         '10-ый': 4,\n",
              "         'гирлянды.Больно=': 1,\n",
              "         'TOMOCYTPA': 3,\n",
              "         'Do_or_die_azaz': 6,\n",
              "         'убью': 48,\n",
              "         'её': 940,\n",
              "         'когда-нибудь': 126,\n",
              "         'люблю': 3021,\n",
              "         'Болею': 36,\n",
              "         'прошу': 133,\n",
              "         'лекарствами': 8,\n",
              "         'идет': 501,\n",
              "         'AnnastaishaCh': 1,\n",
              "         'решила': 399,\n",
              "         'шо': 257,\n",
              "         'забыла': 613,\n",
              "         'поздравить': 105,\n",
              "         'Пришла': 202,\n",
              "         'кудрявая': 6,\n",
              "         '..': 1305,\n",
              "         '//t.co/uCPlmdPQT0': 1,\n",
              "         'farida_farifari': 6,\n",
              "         'мля': 31,\n",
              "         'знаю': 3391,\n",
              "         'чиво': 5,\n",
              "         'ска': 142,\n",
              "         'пятницу-субботу': 1,\n",
              "         'эти': 1211,\n",
              "         'дни': 336,\n",
              "         'мы': 5395,\n",
              "         'вмести': 7,\n",
              "         'скучаю': 1071,\n",
              "         'любимый': 555,\n",
              "         'AseevaElena': 1,\n",
              "         'бедолага': 6,\n",
              "         'Пусть': 237,\n",
              "         'выздоравливает': 5,\n",
              "         'Их': 82,\n",
              "         'болеют': 23,\n",
              "         'ТГП': 3,\n",
              "         'вопросы': 241,\n",
              "         'прекращаются': 1,\n",
              "         'хотя': 1204,\n",
              "         'места': 235,\n",
              "         'голове': 382,\n",
              "         'днем': 560,\n",
              "         'почувствовала': 34,\n",
              "         'дикое': 7,\n",
              "         'одиночество': 47,\n",
              "         'Паша': 50,\n",
              "         'уехал': 126,\n",
              "         'одна': 1221,\n",
              "         'планете': 37,\n",
              "         'осталась': 182,\n",
              "         'radughniy_kot': 7,\n",
              "         'Вечеринка': 3,\n",
              "         'привет': 754,\n",
              "         'о/': 140,\n",
              "         'насрать': 57,\n",
              "         '9': 1669,\n",
              "         '999': 163,\n",
              "         '“': 988,\n",
              "         'lizunsosun': 2,\n",
              "         'Поговоришь': 1,\n",
              "         'Сашей': 37,\n",
              "         'сразу': 1106,\n",
              "         'хочется': 1907,\n",
              "         'трахаться.': 1,\n",
              "         '”': 929,\n",
              "         'представляете': 36,\n",
              "         'сложно': 350,\n",
              "         'самим': 50,\n",
              "         'собой': 434,\n",
              "         'жить': 697,\n",
              "         'толку': 45,\n",
              "         'правильно': 461,\n",
              "         'ей': 874,\n",
              "         'играть': 384,\n",
              "         'много': 2006,\n",
              "         'барэ': 3,\n",
              "         'malinaaa_a': 1,\n",
              "         'hl483': 10,\n",
              "         'одно': 479,\n",
              "         'объяснение': 11,\n",
              "         'живем': 88,\n",
              "         'России': 448,\n",
              "         'Здавать': 1,\n",
              "         'доздавать': 1,\n",
              "         'перездавать': 1,\n",
              "         '.хуууф': 1,\n",
              "         'це': 113,\n",
              "         'вже': 88,\n",
              "         'надоїло': 1,\n",
              "         'має': 6,\n",
              "         'й': 39,\n",
              "         'сил': 241,\n",
              "         'творится': 120,\n",
              "         'миром': 34,\n",
              "         'Новости': 52,\n",
              "         'сплошь': 10,\n",
              "         'о': 4094,\n",
              "         'педофилах': 1,\n",
              "         'печально': 333,\n",
              "         'возмутительно': 1,\n",
              "         'проверяли': 4,\n",
              "         'сеня': 12,\n",
              "         'больнички': 7,\n",
              "         'Чувствую': 181,\n",
              "         'закроют': 14,\n",
              "         'VictoriaSvon': 1,\n",
              "         'ветер': 109,\n",
              "         'сильный': 77,\n",
              "         'снег': 818,\n",
              "         'дома': 2572,\n",
              "         'выйти': 169,\n",
              "         'решают': 16,\n",
              "         'смеются': 28,\n",
              "         'Нет': 607,\n",
              "         'печальнее': 12,\n",
              "         'закончилась': 144,\n",
              "         'книга': 105,\n",
              "         'mrkam1kadze': 9,\n",
              "         'одолевает': 9,\n",
              "         'лень': 539,\n",
              "         'фак': 119,\n",
              "         'надо': 4684,\n",
              "         'AppleInsider_ru': 13,\n",
              "         'приложения': 53,\n",
              "         'для': 4189,\n",
              "         'андрода': 1,\n",
              "         'Меня': 604,\n",
              "         'никто': 1374,\n",
              "         'любит': 441,\n",
              "         'потому': 1526,\n",
              "         'очкарик': 4,\n",
              "         'Ksenia_Splash': 1,\n",
              "         'оооочень': 50,\n",
              "         'устала': 481,\n",
              "         'тянулись': 3,\n",
              "         'вечность': 41,\n",
              "         'гитару': 46,\n",
              "         'слодный': 1,\n",
              "         'коледже': 2,\n",
              "         'ревели': 3,\n",
              "         'Ох': 308,\n",
              "         'уж': 1154,\n",
              "         'парни': 212,\n",
              "         'улице': 964,\n",
              "         'радость': 179,\n",
              "         'магия': 20,\n",
              "         'посвящение': 7,\n",
              "         'химики': 2,\n",
              "         'кхм': 11,\n",
              "         '.да': 15,\n",
              "         'простят': 10,\n",
              "         'святые': 4,\n",
              "         'печенюшки': 4,\n",
              "         'детский': 58,\n",
              "         'девиз': 19,\n",
              "         'умираю': 75,\n",
              "         'попал': 119,\n",
              "         'золотую': 14,\n",
              "         'лигу': 4,\n",
              "         '4х4': 3,\n",
              "         'O_O': 109,\n",
              "         'При': 105,\n",
              "         'том': 913,\n",
              "         '1х1': 4,\n",
              "         'бронзовой': 2,\n",
              "         'союзники': 2,\n",
              "         'убьют': 33,\n",
              "         'Узнают': 2,\n",
              "         'айпишнику': 2,\n",
              "         'живу': 195,\n",
              "         'п': 58,\n",
              "         'genechk': 1,\n",
              "         'Мысль': 5,\n",
              "         'желание': 461,\n",
              "         'убить': 106,\n",
              "         'этому': 359,\n",
              "         'поводу': 214,\n",
              "         'покидают': 6,\n",
              "         'wild_tourist': 1,\n",
              "         'drewitski': 2,\n",
              "         'бумаге': 15,\n",
              "         'пишу': 431,\n",
              "         'делается': 50,\n",
              "         'взяли': 99,\n",
              "         'утра': 1437,\n",
              "         'наехали': 5,\n",
              "         'Сижу': 429,\n",
              "         'себе': 1988,\n",
              "         'жуйк': 182,\n",
              "         'читаю': 327,\n",
              "         'Звонок': 5,\n",
              "         'отдел': 11,\n",
              "         'Поднимаю': 7,\n",
              "         'трубку': 81,\n",
              "         'разговариваю': 39,\n",
              "         'ложу': 3,\n",
              "         'Creatticas': 1,\n",
              "         'Эх': 410,\n",
              "         '//t.co/glr9mG0cjZ': 1,\n",
              "         'Купила': 116,\n",
              "         'меллер': 1,\n",
              "         'внезапно': 146,\n",
              "         'Ебааать': 2,\n",
              "         'О': 843,\n",
              "         'мои': 1523,\n",
              "         'зубы': 78,\n",
              "         'Надеюсь': 412,\n",
              "         'успею': 126,\n",
              "         'спринту': 2,\n",
              "         'A_Kyznetsova': 2,\n",
              "         'косячу': 3,\n",
              "         'Мы': 958,\n",
              "         'пишем': 64,\n",
              "         'статус': 127,\n",
              "         'обозрение': 3,\n",
              "         'тысячам': 2,\n",
              "         '/': 1767,\n",
              "         'зачастую': 9,\n",
              "         'всего': 1762,\n",
              "         'лишь': 631,\n",
              "         'одного': 530,\n",
              "         'человека': 742,\n",
              "         'заметит': 22,\n",
              "         'basilla_the1st': 1,\n",
              "         'ProXolod': 1,\n",
              "         'ponny1': 37,\n",
              "         'статья': 41,\n",
              "         'называется': 298,\n",
              "         'смыслу': 4,\n",
              "         'статьи': 42,\n",
              "         'скурвилась': 1,\n",
              "         'маня': 5,\n",
              "         'Испортилось': 1,\n",
              "         'настроение': 1652,\n",
              "         'иногда': 590,\n",
              "         'кажется': 1150,\n",
              "         'хочешь': 547,\n",
              "         'жирной': 18,\n",
              "         'коровой': 2,\n",
              "         'Хотя': 471,\n",
              "         'только': 8026,\n",
              "         'самое': 840,\n",
              "         'лучшее': 131,\n",
              "         'Подарите': 23,\n",
              "         'тыщ': 35,\n",
              "         '5…': 1,\n",
              "         'PS3': 8,\n",
              "         'хватает': 632,\n",
              "         '=ъ': 1,\n",
              "         'Ужастное': 1,\n",
              "         'чувство': 718,\n",
              "         'скучаешь': 31,\n",
              "         'человеку': 182,\n",
              "         'увидеть': 315,\n",
              "         'или': 3085,\n",
              "         'хотябы': 16,\n",
              "         'списаться': 2,\n",
              "         'сним': 7,\n",
              "         'возможности': 79,\n",
              "         '4': 1425,\n",
              "         'половиной': 48,\n",
              "         'работы..': 2,\n",
              "         'lu_in_the_sky': 1,\n",
              "         'Острова': 3,\n",
              "         '2014': 239,\n",
              "         'скорее': 514,\n",
              "         'печаль': 312,\n",
              "         'imoxuzedyp': 1,\n",
              "         'забодался': 1,\n",
              "         'работе.Даже': 1,\n",
              "         'Хауса': 20,\n",
              "         'смотреть': 1165,\n",
              "         'Ikhbayr': 3,\n",
              "         'хурдал': 2,\n",
              "         'л': 304,\n",
              "         'даа': 346,\n",
              "         ...})"
            ]
          },
          "metadata": {},
          "execution_count": 19
        }
      ]
    },
    {
      "cell_type": "markdown",
      "metadata": {
        "id": "FU37CzN6MZJt"
      },
      "source": [
        "Я оставляю порог в 5, думаю, его должно быть достаточно, чтобы отсеять всякие упоминания юзернеймов и нечастотные опечатки/эрративы"
      ]
    },
    {
      "cell_type": "code",
      "metadata": {
        "id": "0wKHM_LU1seA",
        "colab": {
          "base_uri": "https://localhost:8080/"
        },
        "outputId": "3598ca52-7442-4d12-c871-5d6ff62f769f"
      },
      "source": [
        "filtered_vocab = set()\n",
        "\n",
        "for word in vocab:\n",
        "    if vocab[word] > 5:\n",
        "        filtered_vocab.add(word)\n",
        "print('уникальных слов, встретившихся больше 5 раз:', len(filtered_vocab))"
      ],
      "execution_count": 20,
      "outputs": [
        {
          "output_type": "stream",
          "name": "stdout",
          "text": [
            "уникальных слов, встретившихся больше 5 раз: 33670\n"
          ]
        }
      ]
    },
    {
      "cell_type": "code",
      "metadata": {
        "id": "BEUhJv5N1seC"
      },
      "source": [
        "#создаем словарь с индексами word2id, для спецсимвола паддинга дефолтный индекс - 0\n",
        "word2id = {'PAD':0}\n",
        "\n",
        "for word in filtered_vocab:\n",
        "    word2id[word] = len(word2id)"
      ],
      "execution_count": 21,
      "outputs": []
    },
    {
      "cell_type": "code",
      "metadata": {
        "id": "P6J89I9d1seC"
      },
      "source": [
        "#обратный словарь для того, чтобы раскодировать последовательность\n",
        "id2word = {i:word for word, i in word2id.items()}"
      ],
      "execution_count": 22,
      "outputs": []
    },
    {
      "cell_type": "code",
      "metadata": {
        "colab": {
          "base_uri": "https://localhost:8080/"
        },
        "id": "YrzM7MnCQeP_",
        "outputId": "b79a7e2f-c578-414d-83fa-fbfab58314ee"
      },
      "source": [
        "DEVICE = torch.device('cuda') if torch.cuda.is_available() else torch.device('cpu')\n",
        "DEVICE\n"
      ],
      "execution_count": 23,
      "outputs": [
        {
          "output_type": "execute_result",
          "data": {
            "text/plain": [
              "device(type='cuda')"
            ]
          },
          "metadata": {},
          "execution_count": 23
        }
      ]
    },
    {
      "cell_type": "markdown",
      "metadata": {
        "id": "obiXRWLt1OZJ"
      },
      "source": [
        "#### Dataset & DataLoader"
      ]
    },
    {
      "cell_type": "code",
      "metadata": {
        "id": "FMs4ZohJ1seI"
      },
      "source": [
        "class TweetDataset(Dataset):\n",
        "\n",
        "    def __init__(self, dataset, word2id, DEVICE):\n",
        "        self.dataset = dataset['text'].values\n",
        "        self.word2id = word2id\n",
        "        self.length = dataset.shape[0]\n",
        "        self.target = torch.Tensor(dataset['label'].values)\n",
        "        self.device = DEVICE\n",
        "\n",
        "    def __len__(self):\n",
        "        return self.length\n",
        "\n",
        "    def __getitem__(self, index): \n",
        "        words = word_tokenize(self.dataset[index])\n",
        "        ids = torch.LongTensor([self.word2id[word] for word in words if word in self.word2id])\n",
        "        y = [self.target[index]]\n",
        "        return ids, y\n",
        "\n",
        "    def collate_fn(self, batch): #этот метод можно реализовывать и отдельно,\n",
        "    # он понадобится для DataLoader во время итерации по батчам\n",
        "      ids, y = list(zip(*batch))\n",
        "      padded_ids = pad_sequence(ids, batch_first=True).to(self.device)\n",
        "      y = torch.Tensor(y).to(self.device)\n",
        "      return padded_ids, y"
      ],
      "execution_count": 55,
      "outputs": []
    },
    {
      "cell_type": "markdown",
      "metadata": {
        "id": "m5Wjfyxar7U1"
      },
      "source": [
        "Итераторы по данным для трейна и теста"
      ]
    },
    {
      "cell_type": "code",
      "metadata": {
        "id": "8Zl4FxB71seI"
      },
      "source": [
        "train_dataset = TweetDataset(train_data, word2id, DEVICE)\n",
        "train_sampler = RandomSampler(train_dataset)\n",
        "train_iterator = DataLoader(train_dataset, collate_fn = train_dataset.collate_fn, sampler=train_sampler, batch_size=1024)"
      ],
      "execution_count": 56,
      "outputs": []
    },
    {
      "cell_type": "code",
      "metadata": {
        "id": "xauLXZwQNcCq"
      },
      "source": [
        "batch = next(iter(train_iterator))"
      ],
      "execution_count": 57,
      "outputs": []
    },
    {
      "cell_type": "code",
      "metadata": {
        "colab": {
          "base_uri": "https://localhost:8080/"
        },
        "id": "GOqAu8X8S36K",
        "outputId": "b5bc05dc-95f2-4ee4-a44a-89403c370011"
      },
      "source": [
        "batch[0].shape"
      ],
      "execution_count": 58,
      "outputs": [
        {
          "output_type": "execute_result",
          "data": {
            "text/plain": [
              "torch.Size([1024, 48])"
            ]
          },
          "metadata": {},
          "execution_count": 58
        }
      ]
    },
    {
      "cell_type": "code",
      "metadata": {
        "colab": {
          "base_uri": "https://localhost:8080/"
        },
        "id": "aZbD27_A6Nck",
        "outputId": "231ba976-da52-4317-c826-5c19242a03cd"
      },
      "source": [
        "[id2word[int(i)] for i in batch[0][0]]"
      ],
      "execution_count": 59,
      "outputs": [
        {
          "output_type": "execute_result",
          "data": {
            "text/plain": [
              "['@',\n",
              " 'LARISA3007',\n",
              " 'Оу',\n",
              " ',',\n",
              " 'спасибо',\n",
              " ',',\n",
              " 'приятно',\n",
              " ')',\n",
              " 'И',\n",
              " 'тебе',\n",
              " 'отличного',\n",
              " 'новогоднего',\n",
              " 'настроения',\n",
              " ')',\n",
              " ')',\n",
              " ')',\n",
              " 'PAD',\n",
              " 'PAD',\n",
              " 'PAD',\n",
              " 'PAD',\n",
              " 'PAD',\n",
              " 'PAD',\n",
              " 'PAD',\n",
              " 'PAD',\n",
              " 'PAD',\n",
              " 'PAD',\n",
              " 'PAD',\n",
              " 'PAD',\n",
              " 'PAD',\n",
              " 'PAD',\n",
              " 'PAD',\n",
              " 'PAD',\n",
              " 'PAD',\n",
              " 'PAD',\n",
              " 'PAD',\n",
              " 'PAD',\n",
              " 'PAD',\n",
              " 'PAD',\n",
              " 'PAD',\n",
              " 'PAD',\n",
              " 'PAD',\n",
              " 'PAD',\n",
              " 'PAD',\n",
              " 'PAD',\n",
              " 'PAD',\n",
              " 'PAD',\n",
              " 'PAD',\n",
              " 'PAD']"
            ]
          },
          "metadata": {},
          "execution_count": 59
        }
      ]
    },
    {
      "cell_type": "code",
      "metadata": {
        "colab": {
          "base_uri": "https://localhost:8080/"
        },
        "id": "tj6Wltq3TfGQ",
        "outputId": "4a4a9f86-4ff4-4939-8c28-f5b7d24c83a7"
      },
      "source": [
        "batch[1][0]"
      ],
      "execution_count": 60,
      "outputs": [
        {
          "output_type": "execute_result",
          "data": {
            "text/plain": [
              "tensor([1.], device='cuda:0')"
            ]
          },
          "metadata": {},
          "execution_count": 60
        }
      ]
    },
    {
      "cell_type": "code",
      "metadata": {
        "id": "ZR_upb-_1seJ"
      },
      "source": [
        "val_dataset = TweetDataset(val_data, word2id, DEVICE)\n",
        "val_sampler = SequentialSampler(val_dataset)\n",
        "val_iterator = DataLoader(val_dataset, collate_fn = val_dataset.collate_fn, sampler=val_sampler, batch_size=1024)"
      ],
      "execution_count": 61,
      "outputs": []
    },
    {
      "cell_type": "code",
      "metadata": {
        "id": "jQlpcUR28V-j",
        "colab": {
          "base_uri": "https://localhost:8080/"
        },
        "outputId": "5fc33113-36d9-4ab6-e43e-c0e4394de662"
      },
      "source": [
        "test_batch = next(iter(val_iterator))\n",
        "test_batch[0].shape"
      ],
      "execution_count": 62,
      "outputs": [
        {
          "output_type": "execute_result",
          "data": {
            "text/plain": [
              "torch.Size([1024, 70])"
            ]
          },
          "metadata": {},
          "execution_count": 62
        }
      ]
    },
    {
      "cell_type": "markdown",
      "metadata": {
        "id": "BUCT8ayD1seK"
      },
      "source": [
        "#### CNN model"
      ]
    },
    {
      "cell_type": "code",
      "metadata": {
        "id": "NdV7oSIc1seK"
      },
      "source": [
        "class CNN(nn.Module):\n",
        "    \n",
        "    def __init__(self, vocab_size, embedding_dim):\n",
        "        super().__init__()\n",
        "        self.embedding = nn.Embedding(vocab_size, embedding_dim)\n",
        "        self.bigrams = nn.Conv1d(in_channels=embedding_dim, out_channels=100, kernel_size=2, padding='same')\n",
        "        self.trigrams = nn.Conv1d(in_channels=embedding_dim, out_channels=80, kernel_size=3, padding='same')\n",
        "        self.concated = nn.Conv1d(in_channels=180, out_channels=60, kernel_size=2, padding='same')\n",
        "        self.hidden = nn.Linear(in_features=60, out_features=1)\n",
        "        # self.dropout = nn.Dropout(p=0.5)\n",
        "        self.out = nn.Sigmoid()\n",
        "\n",
        "    def forward(self, sent):\n",
        "        #batch_size x seq_len\n",
        "        embedded = self.embedding(sent) # ✔\n",
        "        #batch_size x seq_len x embedding_dim\n",
        "        embedded = embedded.transpose(1,2) # ✔\n",
        "        #batch_size x embedding_dim x seq_len\n",
        "        feature_map_bigrams = self.bigrams(embedded) # ✔\n",
        "        #batch_size x filter_count2 x seq_len* \n",
        "        feature_map_trigrams = self.trigrams(embedded) # ✔\n",
        "        #batch_size x filter_count3 x seq_len*\n",
        "        \n",
        "        concat = torch.cat((feature_map_bigrams, feature_map_trigrams), 1) # ✔\n",
        "        # batch_size x (filter_count2 + filter_count3) x seq_len\n",
        "        feature_map_concat = self.concated(concat) # ✔\n",
        "        # batch_size x filter_concat x seq_len\n",
        "        pooling = feature_map_concat.max(2)[0] # ✔\n",
        "        # batch_size x filter_concat)\n",
        "        logits = self.hidden(pooling) # ✔\n",
        "        logits = self.out(logits) # ✔\n",
        "        return logits\n",
        "      \n",
        "        \n",
        "    "
      ],
      "execution_count": 33,
      "outputs": []
    },
    {
      "cell_type": "code",
      "metadata": {
        "colab": {
          "base_uri": "https://localhost:8080/"
        },
        "id": "YFQ-WEY4cxkv",
        "outputId": "4f1b0da7-8661-43ca-f314-60641656024e"
      },
      "source": [
        "batch, y = next(iter(train_iterator))\n",
        "batch, y = batch.to(device='cpu'), y.to(device='cpu')\n",
        "print(batch)"
      ],
      "execution_count": 64,
      "outputs": [
        {
          "output_type": "stream",
          "name": "stdout",
          "text": [
            "tensor([[  995, 18995,  9755,  ...,     0,     0,     0],\n",
            "        [32667,  5535, 33650,  ...,     0,     0,     0],\n",
            "        [  995, 17239, 10007,  ...,     0,     0,     0],\n",
            "        ...,\n",
            "        [ 4955, 10184, 25910,  ...,     0,     0,     0],\n",
            "        [ 7249,   995, 10184,  ...,     0,     0,     0],\n",
            "        [  995, 25756, 27748,  ...,     0,     0,     0]])\n"
          ]
        }
      ]
    },
    {
      "cell_type": "code",
      "metadata": {
        "id": "JSmsX_fg4LcO",
        "colab": {
          "base_uri": "https://localhost:8080/"
        },
        "outputId": "16bda6c6-3ea3-4724-c9a6-e17c542a0bf1"
      },
      "source": [
        "y"
      ],
      "execution_count": 65,
      "outputs": [
        {
          "output_type": "execute_result",
          "data": {
            "text/plain": [
              "tensor([[1.],\n",
              "        [0.],\n",
              "        [0.],\n",
              "        ...,\n",
              "        [0.],\n",
              "        [1.],\n",
              "        [0.]])"
            ]
          },
          "metadata": {},
          "execution_count": 65
        }
      ]
    },
    {
      "cell_type": "code",
      "metadata": {
        "id": "oHc9E_96dJBH",
        "colab": {
          "base_uri": "https://localhost:8080/"
        },
        "outputId": "54fcfedd-c651-4b33-f70a-afac67d9e665"
      },
      "source": [
        "model = CNN(len(id2word), 8)\n",
        "output = model(batch)\n",
        "print(output)"
      ],
      "execution_count": 66,
      "outputs": [
        {
          "output_type": "stream",
          "name": "stdout",
          "text": [
            "tensor([[0.5522],\n",
            "        [0.5256],\n",
            "        [0.5465],\n",
            "        ...,\n",
            "        [0.6029],\n",
            "        [0.6142],\n",
            "        [0.5390]], grad_fn=<SigmoidBackward0>)\n"
          ]
        }
      ]
    },
    {
      "cell_type": "code",
      "metadata": {
        "colab": {
          "base_uri": "https://localhost:8080/"
        },
        "id": "CBWdfROdQK5v",
        "outputId": "0a6bfeea-e1f4-4e93-bb7e-055e299a1131"
      },
      "source": [
        "loss = nn.BCELoss()\n",
        "loss(output, y)"
      ],
      "execution_count": 67,
      "outputs": [
        {
          "output_type": "execute_result",
          "data": {
            "text/plain": [
              "tensor(0.6938, grad_fn=<BinaryCrossEntropyBackward0>)"
            ]
          },
          "metadata": {},
          "execution_count": 67
        }
      ]
    },
    {
      "cell_type": "code",
      "metadata": {
        "colab": {
          "base_uri": "https://localhost:8080/"
        },
        "id": "q73ELWxPzjtZ",
        "outputId": "439d9b78-48bf-46b8-d58f-a3b146b52c36"
      },
      "source": [
        "f1(output, y.long())"
      ],
      "execution_count": 68,
      "outputs": [
        {
          "output_type": "execute_result",
          "data": {
            "text/plain": [
              "tensor(0.6728)"
            ]
          },
          "metadata": {},
          "execution_count": 68
        }
      ]
    },
    {
      "cell_type": "markdown",
      "metadata": {
        "id": "cYz0OzYT1vt1"
      },
      "source": [
        "#### training loop, логика обучения и валидации"
      ]
    },
    {
      "cell_type": "markdown",
      "metadata": {
        "id": "K8sZOK7Kvk7o"
      },
      "source": [
        "теперь нам нужны функции для обучения и валидации,\n",
        "каждый вызов функции - одна эпоха обучения \n",
        "\n",
        "За одну эпоху нам надо для каждого батча:\n",
        "\n",
        "-- применить к нему модель, \n",
        "\n",
        "-- посчитать значение функции потерь, \n",
        "\n",
        "-- посчитать градиенты,\n",
        "\n",
        "-- обновить веса (параметры модели)\n"
      ]
    },
    {
      "cell_type": "code",
      "metadata": {
        "id": "BVKQzPPI1seJ"
      },
      "source": [
        "def train(model, iterator, optimizer, criterion, metric):\n",
        "    print('Training...')\n",
        "    epoch_loss = 0 # для подсчета среднего лосса на всех батчах\n",
        "    epoch_metric = 0\n",
        "    model.train()  # ставим модель в обучение, явно указываем, что сейчас надо будет хранить градиенты у всех весов\n",
        "\n",
        "    for i, (texts, ys) in enumerate(iterator): #итерируемся по батчам\n",
        "        optimizer.zero_grad()  #обнуляем градиенты\n",
        "        preds = model(texts)  #прогоняем данные через модель\n",
        "        loss = criterion(preds, ys) #считаем значение функции потерь  \n",
        "        loss.backward() #считаем градиенты  \n",
        "        optimizer.step() #обновляем веса \n",
        "        epoch_loss += loss.item() #сохраняем значение функции потерь\n",
        "        \n",
        "        batch_metric = metric(preds.round().long(), ys.long(), ignore_index=0)\n",
        "        epoch_metric += batch_metric\n",
        "        if not (i + 1) % 20:\n",
        "            print(f'Train loss: {loss.item()}, Train f1: {batch_metric}')\n",
        "            #print(f'Train loss: {epoch_loss/i}, Train f1: {epoch_metric/i}')\n",
        "        \n",
        "    return epoch_metric / len(iterator), epoch_loss / len(iterator) # возвращаем среднее значение по всей выборке"
      ],
      "execution_count": 34,
      "outputs": []
    },
    {
      "cell_type": "code",
      "metadata": {
        "id": "EPfO7p9x1seK"
      },
      "source": [
        "def evaluate(model, iterator, criterion, metric):\n",
        "    print(\"\\nValidating...\")\n",
        "    epoch_loss = 0\n",
        "    epoch_metric = 0\n",
        "    model.eval() \n",
        "    with torch.no_grad():\n",
        "        for i, (texts, ys) in enumerate(iterator):   \n",
        "            preds = model(texts)  # делаем предсказания на тесте\n",
        "            loss = criterion(preds, ys)   # считаем значения функции ошибки для статистики  \n",
        "            epoch_loss += loss.item()\n",
        "            batch_metric = metric(preds.round().long(), ys.long(), ignore_index=0)\n",
        "            epoch_metric += batch_metric\n",
        "\n",
        "            if not (i + 1) % 20:\n",
        "              print(f'Val loss: {loss.item()}, Val f1: {batch_metric}')\n",
        "              #print(f'Val loss: {epoch_loss/i}, Val f1: {epoch_metric/i}')\n",
        "        \n",
        "    return epoch_metric / len(iterator), epoch_loss / len(iterator) # возвращаем среднее значение по всей выборке"
      ],
      "execution_count": 35,
      "outputs": []
    },
    {
      "cell_type": "markdown",
      "metadata": {
        "id": "VRoSupMNQsvF"
      },
      "source": [
        "Инициализируем модель, задаем оптимизатор и функцию потерь"
      ]
    },
    {
      "cell_type": "code",
      "metadata": {
        "id": "WO35IZES1seL"
      },
      "source": [
        "model = CNN(len(word2id), 8)\n",
        "optimizer = optim.Adam(model.parameters(), lr=0.001)\n",
        "criterion = nn.BCELoss() # \n",
        "\n",
        "# веса модели и значения лосса храним там же, где и все остальные тензоры\n",
        "model = model.to(DEVICE)\n",
        "criterion = criterion.to(DEVICE)"
      ],
      "execution_count": 71,
      "outputs": []
    },
    {
      "cell_type": "code",
      "metadata": {
        "id": "zwTHhTlu7oJ7"
      },
      "source": [
        ""
      ],
      "execution_count": 71,
      "outputs": []
    },
    {
      "cell_type": "markdown",
      "metadata": {
        "id": "3kHbVX0y1seL"
      },
      "source": [
        "#### Запуск обучения!"
      ]
    },
    {
      "cell_type": "code",
      "metadata": {
        "id": "boMAjlVM1seM",
        "colab": {
          "base_uri": "https://localhost:8080/"
        },
        "outputId": "08b5989e-1a21-4cf0-cf81-ca3d088c97aa"
      },
      "source": [
        "losses = []\n",
        "losses_eval = []\n",
        "f1s = []\n",
        "f1s_eval = []\n",
        "\n",
        "# по пробам, уже на 15-20 эпохе точность достигает 0,999\n",
        "for i in range(20):\n",
        "    print(f'\\nstarting Epoch {i+1}')\n",
        "    f1_value, epoch_loss = train(model, train_iterator, optimizer, criterion, metric=f1)\n",
        "    losses.append(epoch_loss)\n",
        "    f1s.append(f1_value)\n",
        "\n",
        "    f1_value_on_test, epoch_loss_on_test = evaluate(model, val_iterator, criterion, metric=f1)\n",
        "    losses_eval.append(epoch_loss_on_test)\n",
        "    f1s_eval.append(f1_value_on_test)"
      ],
      "execution_count": 72,
      "outputs": [
        {
          "output_type": "stream",
          "name": "stdout",
          "text": [
            "\n",
            "starting Epoch 0\n",
            "Training...\n",
            "Train loss: 0.33757084608078003, Train f1: 0.9014634490013123\n",
            "Train loss: 0.18260258436203003, Train f1: 0.9420561194419861\n",
            "Train loss: 0.15789590775966644, Train f1: 0.9448668956756592\n",
            "Train loss: 0.10068300366401672, Train f1: 0.9746001362800598\n",
            "Train loss: 0.1180788204073906, Train f1: 0.9644970893859863\n",
            "Train loss: 0.07700455188751221, Train f1: 0.9757517576217651\n",
            "Train loss: 0.09461649507284164, Train f1: 0.9737827777862549\n",
            "Train loss: 0.08399754017591476, Train f1: 0.9718574285507202\n",
            "\n",
            "Validating...\n",
            "Val loss: 0.051621466875076294, Val f1: 0.9845261573791504\n",
            "Val loss: 0.10239769518375397, Val f1: 0.9655813574790955\n",
            "\n",
            "starting Epoch 1\n",
            "Training...\n",
            "Train loss: 0.08718040585517883, Train f1: 0.9666349291801453\n",
            "Train loss: 0.06330204010009766, Train f1: 0.9771143794059753\n",
            "Train loss: 0.0705520510673523, Train f1: 0.9757462739944458\n",
            "Train loss: 0.04814045876264572, Train f1: 0.9814433455467224\n",
            "Train loss: 0.05766376107931137, Train f1: 0.9753208160400391\n",
            "Train loss: 0.04280078411102295, Train f1: 0.98698890209198\n",
            "Train loss: 0.05995004624128342, Train f1: 0.977820634841919\n",
            "Train loss: 0.03623456507921219, Train f1: 0.9908424615859985\n",
            "\n",
            "Validating...\n",
            "Val loss: 0.02410805970430374, Val f1: 0.9931973218917847\n",
            "Val loss: 0.05031699687242508, Val f1: 0.9859943389892578\n",
            "\n",
            "starting Epoch 2\n",
            "Training...\n",
            "Train loss: 0.0365188904106617, Train f1: 0.9894736409187317\n",
            "Train loss: 0.03425302356481552, Train f1: 0.9896714091300964\n",
            "Train loss: 0.02713937684893608, Train f1: 0.99321049451828\n",
            "Train loss: 0.025416092947125435, Train f1: 0.9924242496490479\n",
            "Train loss: 0.019334077835083008, Train f1: 0.995121955871582\n",
            "Train loss: 0.03279111534357071, Train f1: 0.9866666793823242\n",
            "Train loss: 0.0363626666367054, Train f1: 0.9889298677444458\n",
            "Train loss: 0.019684800878167152, Train f1: 0.9962825179100037\n",
            "\n",
            "Validating...\n",
            "Val loss: 0.011348897591233253, Val f1: 0.9970731735229492\n",
            "Val loss: 0.025956375524401665, Val f1: 0.9943820834159851\n",
            "\n",
            "starting Epoch 3\n",
            "Training...\n",
            "Train loss: 0.009627890773117542, Train f1: 0.998106062412262\n",
            "Train loss: 0.011774644255638123, Train f1: 0.9980988502502441\n",
            "Train loss: 0.010316140949726105, Train f1: 0.9970788359642029\n",
            "Train loss: 0.008388739079236984, Train f1: 0.9964285492897034\n",
            "Train loss: 0.020701900124549866, Train f1: 0.9942857623100281\n",
            "Train loss: 0.013823162764310837, Train f1: 0.9962121844291687\n",
            "Train loss: 0.007652175612747669, Train f1: 0.9970267415046692\n",
            "Train loss: 0.009539171122014523, Train f1: 0.997172474861145\n",
            "\n",
            "Validating...\n",
            "Val loss: 0.005203911568969488, Val f1: 0.998046875\n",
            "Val loss: 0.01735258474946022, Val f1: 0.9953227639198303\n",
            "\n",
            "starting Epoch 4\n",
            "Training...\n",
            "Train loss: 0.0033756978809833527, Train f1: 1.0\n",
            "Train loss: 0.01052527129650116, Train f1: 0.9980197548866272\n",
            "Train loss: 0.00974615104496479, Train f1: 0.9973094463348389\n",
            "Train loss: 0.009508632123470306, Train f1: 0.9981784820556641\n",
            "Train loss: 0.012583444826304913, Train f1: 0.995475172996521\n",
            "Train loss: 0.00509563647210598, Train f1: 0.9990029335021973\n",
            "Train loss: 0.004416417330503464, Train f1: 0.9989888668060303\n",
            "Train loss: 0.011265777982771397, Train f1: 0.9970385432243347\n",
            "\n",
            "Validating...\n",
            "Val loss: 0.004947947338223457, Val f1: 0.998046875\n",
            "Val loss: 0.017972927540540695, Val f1: 0.9934641122817993\n",
            "\n",
            "starting Epoch 5\n",
            "Training...\n",
            "Train loss: 0.00908041000366211, Train f1: 0.9980657696723938\n",
            "Train loss: 0.010188848711550236, Train f1: 0.9952785968780518\n",
            "Train loss: 0.004506135359406471, Train f1: 0.9980430603027344\n",
            "Train loss: 0.002527320059016347, Train f1: 1.0\n",
            "Train loss: 0.010045700706541538, Train f1: 0.996268630027771\n",
            "Train loss: 0.005873190239071846, Train f1: 0.9990147948265076\n",
            "Train loss: 0.004122446291148663, Train f1: 0.9990521669387817\n",
            "Train loss: 0.005761455278843641, Train f1: 0.9980430603027344\n",
            "\n",
            "Validating...\n",
            "Val loss: 0.0018160915933549404, Val f1: 0.9990224838256836\n",
            "Val loss: 0.012746434658765793, Val f1: 0.9971883296966553\n",
            "\n",
            "starting Epoch 6\n",
            "Training...\n",
            "Train loss: 0.0026298221200704575, Train f1: 1.0\n",
            "Train loss: 0.006350780371576548, Train f1: 0.9990049600601196\n",
            "Train loss: 0.0036115855909883976, Train f1: 0.9990205764770508\n",
            "Train loss: 0.0052953436970710754, Train f1: 0.998046875\n",
            "Train loss: 0.004050821531563997, Train f1: 0.9989949464797974\n",
            "Train loss: 0.014851821586489677, Train f1: 0.9934272170066833\n",
            "Train loss: 0.0036562259774655104, Train f1: 0.999068021774292\n",
            "Train loss: 0.006333871744573116, Train f1: 0.9981446862220764\n",
            "\n",
            "Validating...\n",
            "Val loss: 0.0013962507946416736, Val f1: 1.0\n",
            "Val loss: 0.012312578037381172, Val f1: 0.9971883296966553\n",
            "\n",
            "starting Epoch 7\n",
            "Training...\n",
            "Train loss: 0.0029252744279801846, Train f1: 0.9990147948265076\n",
            "Train loss: 0.005386323668062687, Train f1: 0.9980988502502441\n",
            "Train loss: 0.005147971212863922, Train f1: 0.9980506300926208\n",
            "Train loss: 0.006932318676263094, Train f1: 0.9980952143669128\n",
            "Train loss: 0.0011328407563269138, Train f1: 1.0\n",
            "Train loss: 0.004212265368551016, Train f1: 0.9990186095237732\n",
            "Train loss: 0.005431296303868294, Train f1: 0.9990147948265076\n",
            "Train loss: 0.0052474141120910645, Train f1: 0.9982014298439026\n",
            "\n",
            "Validating...\n",
            "Val loss: 0.001147791976109147, Val f1: 1.0\n",
            "Val loss: 0.011804379522800446, Val f1: 0.998123824596405\n",
            "\n",
            "starting Epoch 8\n",
            "Training...\n",
            "Train loss: 0.009138358756899834, Train f1: 0.9968717098236084\n",
            "Train loss: 0.0016873724525794387, Train f1: 1.0\n",
            "Train loss: 0.0007180551765486598, Train f1: 1.0\n",
            "Train loss: 0.0026910901069641113, Train f1: 0.9990300536155701\n",
            "Train loss: 0.004828960634768009, Train f1: 0.9980806112289429\n",
            "Train loss: 0.0014351053396239877, Train f1: 1.0\n",
            "Train loss: 0.0020955291111022234, Train f1: 1.0\n",
            "Train loss: 0.0037782511208206415, Train f1: 0.9990448951721191\n",
            "\n",
            "Validating...\n",
            "Val loss: 0.000927995250094682, Val f1: 1.0\n",
            "Val loss: 0.011012005619704723, Val f1: 0.9971883296966553\n",
            "\n",
            "starting Epoch 9\n",
            "Training...\n",
            "Train loss: 0.0013282238505780697, Train f1: 1.0\n",
            "Train loss: 0.004358209203928709, Train f1: 0.9990485310554504\n",
            "Train loss: 0.007158761844038963, Train f1: 0.9980952143669128\n",
            "Train loss: 0.003624251578003168, Train f1: 0.9990319609642029\n",
            "Train loss: 0.0029858755879104137, Train f1: 0.999068021774292\n",
            "Train loss: 0.002947565633803606, Train f1: 0.999035656452179\n",
            "Train loss: 0.0034123705700039864, Train f1: 0.9981883764266968\n",
            "Train loss: 0.00297408364713192, Train f1: 1.0\n",
            "\n",
            "Validating...\n",
            "Val loss: 0.001123139401897788, Val f1: 0.9990224838256836\n",
            "Val loss: 0.011252401396632195, Val f1: 0.9971883296966553\n",
            "\n",
            "starting Epoch 10\n",
            "Training...\n",
            "Train loss: 0.001985781593248248, Train f1: 0.999068021774292\n",
            "Train loss: 0.0033684622030705214, Train f1: 0.9990609884262085\n",
            "Train loss: 0.0021142293699085712, Train f1: 1.0\n",
            "Train loss: 0.0036703567020595074, Train f1: 0.9990431070327759\n",
            "Train loss: 0.0010456806048750877, Train f1: 1.0\n",
            "Train loss: 0.0019128996646031737, Train f1: 0.9990817308425903\n",
            "Train loss: 0.002357999561354518, Train f1: 0.9990557432174683\n",
            "Train loss: 0.0026456089690327644, Train f1: 0.9990224838256836\n",
            "\n",
            "Validating...\n",
            "Val loss: 0.001019953517243266, Val f1: 0.9990224838256836\n",
            "Val loss: 0.01202557422220707, Val f1: 0.9971883296966553\n",
            "\n",
            "starting Epoch 11\n",
            "Training...\n",
            "Train loss: 0.0024736616760492325, Train f1: 0.9990783333778381\n",
            "Train loss: 0.0006226886762306094, Train f1: 1.0\n",
            "Train loss: 0.0009430328500457108, Train f1: 1.0\n",
            "Train loss: 0.0008139855926856399, Train f1: 1.0\n",
            "Train loss: 0.0014149990165606141, Train f1: 1.0\n",
            "Train loss: 0.0016107929404824972, Train f1: 0.999064564704895\n",
            "Train loss: 0.0018074968829751015, Train f1: 1.0\n",
            "Train loss: 0.0024376411456614733, Train f1: 0.9980506896972656\n",
            "\n",
            "Validating...\n",
            "Val loss: 0.0012746001593768597, Val f1: 0.9990224838256836\n",
            "Val loss: 0.009357227012515068, Val f1: 0.998123824596405\n",
            "\n",
            "starting Epoch 12\n",
            "Training...\n",
            "Train loss: 0.0007752253441140056, Train f1: 1.0\n",
            "Train loss: 0.00045297143515199423, Train f1: 1.0\n",
            "Train loss: 0.0008588519413024187, Train f1: 1.0\n",
            "Train loss: 0.0006816816166974604, Train f1: 1.0\n",
            "Train loss: 0.0006790696643292904, Train f1: 1.0\n",
            "Train loss: 0.003069296944886446, Train f1: 0.9990485310554504\n",
            "Train loss: 0.0011392456945031881, Train f1: 1.0\n",
            "Train loss: 0.0025335366372019053, Train f1: 0.9990448951721191\n",
            "\n",
            "Validating...\n",
            "Val loss: 0.00164403289090842, Val f1: 0.9990224838256836\n",
            "Val loss: 0.012375281192362309, Val f1: 0.9971883296966553\n",
            "\n",
            "starting Epoch 13\n",
            "Training...\n",
            "Train loss: 0.0008658808656036854, Train f1: 1.0\n",
            "Train loss: 0.004644568078219891, Train f1: 0.9990574717521667\n",
            "Train loss: 0.0005439483793452382, Train f1: 1.0\n",
            "Train loss: 0.0016166779678314924, Train f1: 0.9990089535713196\n",
            "Train loss: 0.002857077866792679, Train f1: 0.9990243911743164\n",
            "Train loss: 0.00043046544305980206, Train f1: 1.0\n",
            "Train loss: 0.0013268981128931046, Train f1: 1.0\n",
            "Train loss: 0.005357830785214901, Train f1: 0.9990300536155701\n",
            "\n",
            "Validating...\n",
            "Val loss: 0.0005998329725116491, Val f1: 1.0\n",
            "Val loss: 0.01087314635515213, Val f1: 0.997183084487915\n",
            "\n",
            "starting Epoch 14\n",
            "Training...\n",
            "Train loss: 0.0005040091928094625, Train f1: 1.0\n",
            "Train loss: 0.00029781777993775904, Train f1: 1.0\n",
            "Train loss: 0.0029834136366844177, Train f1: 0.9989989995956421\n",
            "Train loss: 0.00037048986996524036, Train f1: 1.0\n",
            "Train loss: 0.004125521518290043, Train f1: 0.9981096386909485\n",
            "Train loss: 0.00041188672184944153, Train f1: 1.0\n",
            "Train loss: 0.0006671430310234427, Train f1: 1.0\n",
            "Train loss: 0.001873578643426299, Train f1: 0.9990574717521667\n",
            "\n",
            "Validating...\n",
            "Val loss: 0.0008780842763371766, Val f1: 0.9990224838256836\n",
            "Val loss: 0.010919245891273022, Val f1: 0.9962476491928101\n",
            "\n",
            "starting Epoch 15\n",
            "Training...\n",
            "Train loss: 0.0004854391445405781, Train f1: 1.0\n",
            "Train loss: 0.0009044651524163783, Train f1: 1.0\n",
            "Train loss: 0.0011156460968777537, Train f1: 1.0\n",
            "Train loss: 0.0020685794297605753, Train f1: 0.9989908933639526\n",
            "Train loss: 0.0011819911887869239, Train f1: 0.9990448951721191\n",
            "Train loss: 0.0019767209887504578, Train f1: 0.9990800619125366\n",
            "Train loss: 0.00023154134396463633, Train f1: 1.0\n",
            "Train loss: 0.00026626064209267497, Train f1: 1.0\n",
            "\n",
            "Validating...\n",
            "Val loss: 0.0005566696054302156, Val f1: 1.0\n",
            "Val loss: 0.013371963053941727, Val f1: 0.997183084487915\n",
            "\n",
            "starting Epoch 16\n",
            "Training...\n",
            "Train loss: 0.000779265072196722, Train f1: 1.0\n",
            "Train loss: 0.0006041757296770811, Train f1: 1.0\n",
            "Train loss: 0.00016709441842976958, Train f1: 1.0\n",
            "Train loss: 0.001062453375197947, Train f1: 1.0\n",
            "Train loss: 0.000625729444436729, Train f1: 1.0\n",
            "Train loss: 0.0002858075895346701, Train f1: 1.0\n",
            "Train loss: 0.0006422792212106287, Train f1: 1.0\n",
            "Train loss: 0.0010454042349010706, Train f1: 1.0\n",
            "\n",
            "Validating...\n",
            "Val loss: 0.00042314044549129903, Val f1: 1.0\n",
            "Val loss: 0.012349555268883705, Val f1: 0.997183084487915\n",
            "\n",
            "starting Epoch 17\n",
            "Training...\n",
            "Train loss: 0.0004756468697451055, Train f1: 1.0\n",
            "Train loss: 0.0011039281962439418, Train f1: 1.0\n",
            "Train loss: 0.0021488151978701353, Train f1: 0.99905925989151\n",
            "Train loss: 0.0002591725206002593, Train f1: 1.0\n",
            "Train loss: 0.0009819180704653263, Train f1: 1.0\n",
            "Train loss: 0.000342457351507619, Train f1: 1.0\n",
            "Train loss: 0.0009148499229922891, Train f1: 1.0\n",
            "Train loss: 0.0014810663415119052, Train f1: 0.999064564704895\n",
            "\n",
            "Validating...\n",
            "Val loss: 0.0006302237743511796, Val f1: 1.0\n",
            "Val loss: 0.012110057286918163, Val f1: 0.997183084487915\n",
            "\n",
            "starting Epoch 18\n",
            "Training...\n",
            "Train loss: 0.00013041982310824096, Train f1: 1.0\n",
            "Train loss: 0.0010074418969452381, Train f1: 0.9990766644477844\n",
            "Train loss: 0.003783839289098978, Train f1: 0.9990319609642029\n",
            "Train loss: 0.00033634176361374557, Train f1: 1.0\n",
            "Train loss: 0.00013566415873356164, Train f1: 1.0\n",
            "Train loss: 0.00026024325052276254, Train f1: 1.0\n",
            "Train loss: 0.00025476780137978494, Train f1: 1.0\n",
            "Train loss: 0.00018662243383005261, Train f1: 1.0\n",
            "\n",
            "Validating...\n",
            "Val loss: 0.0008451041649095714, Val f1: 1.0\n",
            "Val loss: 0.013361667282879353, Val f1: 0.9971883296966553\n",
            "\n",
            "starting Epoch 19\n",
            "Training...\n",
            "Train loss: 0.0014484596904367208, Train f1: 0.9990916848182678\n",
            "Train loss: 0.00022203396656550467, Train f1: 1.0\n",
            "Train loss: 0.0001412496785633266, Train f1: 1.0\n",
            "Train loss: 7.000683399382979e-05, Train f1: 1.0\n",
            "Train loss: 0.00017843769455794245, Train f1: 1.0\n",
            "Train loss: 0.0009402859723195434, Train f1: 1.0\n",
            "Train loss: 0.002245873911306262, Train f1: 0.9990167021751404\n",
            "Train loss: 0.000427049002610147, Train f1: 1.0\n",
            "\n",
            "Validating...\n",
            "Val loss: 0.0003878084826283157, Val f1: 1.0\n",
            "Val loss: 0.013551661744713783, Val f1: 0.997183084487915\n"
          ]
        }
      ]
    },
    {
      "cell_type": "code",
      "metadata": {
        "id": "7-FewEOlJUvX"
      },
      "source": [
        "torch.save(model, 'colab_model_1.pt')"
      ],
      "execution_count": 73,
      "outputs": []
    },
    {
      "cell_type": "code",
      "metadata": {
        "colab": {
          "base_uri": "https://localhost:8080/",
          "height": 295
        },
        "id": "eH7ws8dXmEn5",
        "outputId": "b83d2acd-da0e-4df5-f9f0-dd94a55b90e6"
      },
      "source": [
        "import matplotlib.pyplot as plt\n",
        "plt.plot(losses)\n",
        "plt.plot(losses_eval)\n",
        "plt.title('BCE loss value')\n",
        "plt.ylabel('BCE loss')\n",
        "plt.xlabel('epoch')\n",
        "plt.legend(['train', 'val'], loc='upper right')\n",
        "plt.show()"
      ],
      "execution_count": 74,
      "outputs": [
        {
          "output_type": "display_data",
          "data": {
            "image/png": "[encoded data removed]",
            "text/plain": [
              "<Figure size 432x288 with 1 Axes>"
            ]
          },
          "metadata": {
            "needs_background": "light"
          }
        }
      ]
    },
    {
      "cell_type": "code",
      "metadata": {
        "colab": {
          "base_uri": "https://localhost:8080/",
          "height": 295
        },
        "id": "q32B6i6BmGOc",
        "outputId": "7537c218-408c-4723-fbfa-7880f0148bcb"
      },
      "source": [
        "import matplotlib.pyplot as plt\n",
        "plt.plot(f1s)\n",
        "plt.plot(f1s_eval)\n",
        "plt.title('f1 value')\n",
        "plt.ylabel('f1 value')\n",
        "plt.xlabel('epoch')\n",
        "plt.legend(['train', 'val'], loc='upper right')\n",
        "plt.show()"
      ],
      "execution_count": 75,
      "outputs": [
        {
          "output_type": "display_data",
          "data": {
            "image/png": "[encoded data removed]",
            "text/plain": [
              "<Figure size 432x288 with 1 Axes>"
            ]
          },
          "metadata": {
            "needs_background": "light"
          }
        }
      ]
    },
    {
      "cell_type": "code",
      "metadata": {
        "id": "bHtAIt5eCrP5"
      },
      "source": [
        "def predict(model, iterator, id2word):\n",
        "    model.eval()\n",
        "    fp = []\n",
        "    fn = []\n",
        "    tp = [] \n",
        "    tn = []\n",
        "    with torch.no_grad():\n",
        "        for i, (texts, ys) in enumerate(iterator):   \n",
        "            preds = model(texts)  # делаем предсказания на тесте \n",
        "            for pred, gold, text in zip(preds, ys, texts):\n",
        "              text = ' '.join([id2word[int(word)] for word in text if word !=0])\n",
        "              if round(pred.item()) > gold:\n",
        "                fp.append(text)\n",
        "              elif round(pred.item()) < gold:\n",
        "                fn.append(text)\n",
        "              elif round(pred.item()) == gold == 1:\n",
        "                tp.append(text)\n",
        "              elif round(pred.item()) == gold == 0:\n",
        "                tn.append(text)\n",
        "    return fp, fn, tp, tn"
      ],
      "execution_count": 36,
      "outputs": []
    },
    {
      "cell_type": "code",
      "metadata": {
        "id": "WpHs6Q54hj32"
      },
      "source": [
        "# model = torch.load('colab_model_1.pt')"
      ],
      "execution_count": 77,
      "outputs": []
    },
    {
      "cell_type": "code",
      "metadata": {
        "id": "phc1BAE4MKhU"
      },
      "source": [
        "fp, fn, tp, tn = predict(model, val_iterator, id2word)"
      ],
      "execution_count": 131,
      "outputs": []
    },
    {
      "cell_type": "markdown",
      "metadata": {
        "id": "QuUCz2jWghMT"
      },
      "source": [
        "#### Анализ предсказаний"
      ]
    },
    {
      "cell_type": "code",
      "metadata": {
        "id": "-56ifj0V6qm_",
        "colab": {
          "base_uri": "https://localhost:8080/"
        },
        "outputId": "c923f77e-d0f7-4845-bfe7-ef86a2814ae7"
      },
      "source": [
        "len(fp + fn + tp + tn)"
      ],
      "execution_count": 132,
      "outputs": [
        {
          "output_type": "execute_result",
          "data": {
            "text/plain": [
              "45367"
            ]
          },
          "metadata": {},
          "execution_count": 132
        }
      ]
    },
    {
      "cell_type": "code",
      "metadata": {
        "id": "nUjK-9Q4MLIj"
      },
      "source": [
        "accuracy = len(tp + tn) / len(fp + fn + tp + tn)\n",
        "precision = len(tp) / (len(tp) + len(fp))\n",
        "recall= len(tp) / (len(tp) + len(fn))"
      ],
      "execution_count": 133,
      "outputs": []
    },
    {
      "cell_type": "code",
      "metadata": {
        "id": "d42BkJmxMdL1",
        "colab": {
          "base_uri": "https://localhost:8080/"
        },
        "outputId": "791d3d46-f0a0-4201-afdd-837d005bdedd"
      },
      "source": [
        "accuracy, precision, recall"
      ],
      "execution_count": 134,
      "outputs": [
        {
          "output_type": "execute_result",
          "data": {
            "text/plain": [
              "(0.9978398395309366, 0.99777739039484, 0.9979513555923634)"
            ]
          },
          "metadata": {},
          "execution_count": 134
        }
      ]
    },
    {
      "cell_type": "markdown",
      "metadata": {
        "id": "wxkiq31_i8gm"
      },
      "source": [
        "Все три метрики со значениями выше 0.99, что уже довольно хорошо. При этом нет значительной разницы между точностью и полнотой, значит, модель не склонна ошибаться в какую-то одну сторону. Этому способствовало то, что наш корпус оказался почти идеально сбалансирован."
      ]
    },
    {
      "cell_type": "code",
      "metadata": {
        "colab": {
          "base_uri": "https://localhost:8080/"
        },
        "id": "In8aN3UrYvG4",
        "outputId": "ebf88758-8b60-47ee-8166-5f9db57a411a"
      },
      "source": [
        "f1s_eval[-1]"
      ],
      "execution_count": 135,
      "outputs": [
        {
          "output_type": "execute_result",
          "data": {
            "text/plain": [
              "tensor(0.9979, device='cuda:0')"
            ]
          },
          "metadata": {},
          "execution_count": 135
        }
      ]
    },
    {
      "cell_type": "code",
      "metadata": {
        "colab": {
          "base_uri": "https://localhost:8080/"
        },
        "id": "dL49ifJqZZ56",
        "outputId": "90f80d6d-f25c-4cb8-9c82-80777747ff5a"
      },
      "source": [
        "f1s[-1]"
      ],
      "execution_count": 136,
      "outputs": [
        {
          "output_type": "execute_result",
          "data": {
            "text/plain": [
              "tensor(0.9999, device='cuda:0')"
            ]
          },
          "metadata": {},
          "execution_count": 136
        }
      ]
    },
    {
      "cell_type": "markdown",
      "metadata": {
        "id": "YNak3kmZjflx"
      },
      "source": [
        "Однако даже с такими высокими значениями метрик ошибки всё равно были допущены. Давайте посмотрим:"
      ]
    },
    {
      "cell_type": "code",
      "metadata": {
        "colab": {
          "base_uri": "https://localhost:8080/"
        },
        "id": "WjEpj2wmS3jN",
        "outputId": "3b91c6bd-8955-4673-c1f9-7f1da2b088cf"
      },
      "source": [
        "len(fp)"
      ],
      "execution_count": 137,
      "outputs": [
        {
          "output_type": "execute_result",
          "data": {
            "text/plain": [
              "51"
            ]
          },
          "metadata": {},
          "execution_count": 137
        }
      ]
    },
    {
      "cell_type": "code",
      "metadata": {
        "colab": {
          "base_uri": "https://localhost:8080/"
        },
        "id": "fb-Drqj4S3nF",
        "outputId": "69e2818b-ef8c-4992-fc76-687930d308fc"
      },
      "source": [
        "len(fn)"
      ],
      "execution_count": 138,
      "outputs": [
        {
          "output_type": "execute_result",
          "data": {
            "text/plain": [
              "47"
            ]
          },
          "metadata": {},
          "execution_count": 138
        }
      ]
    },
    {
      "cell_type": "code",
      "metadata": {
        "colab": {
          "base_uri": "https://localhost:8080/"
        },
        "id": "inZJ68fOjhvK",
        "outputId": "de664450-5b23-4708-ca4b-1e36b010fa65"
      },
      "source": [
        "print('Предсказали хорошую тональность, а она на самом деле плохая:\\n')\n",
        "# несколько примеров из всех мест списка\n",
        "for tweet in fp[::5]:\n",
        "    print(tweet)"
      ],
      "execution_count": 149,
      "outputs": [
        {
          "output_type": "stream",
          "name": "stdout",
          "text": [
            "Предсказали хорошую тональность, а она на самом деле плохая:\n",
            "\n",
            "Ненавижу писать с телефону , нервы не , пальцы не ( Не мое это : D\n",
            "@ o_OlyaO__o звучит\n",
            "RT @ Heart_Tardis : @ Я прочитала : из всех\n",
            "RT @ : @ в придачу с :\n",
            "Почти 13 лет ( Жалко жалко , но такой специалист долго без работы не останется\n",
            "( — тот воин , с кем вам придется драться , огромный , мне таких не приходилось видеть . я бы с ним драться . — и потому будеш\n",
            "( блин не умеешь ты готовить корова !\n",
            "Шоколад снимает пресс RT @ : `` @ : Шоколад снимает стресс . '' не уверена : |\n",
            "@ Namiko_o Будет ли нам картина ? : з Вижу , день прошел не так уж дурно , как мог бы . Это мысль , несомненно , греет мою душу . :3\n",
            "( правительства россии и правительства с имени д\n",
            "@ ахаха ты бы видела кто мне это написал ; D\n"
          ]
        }
      ]
    },
    {
      "cell_type": "markdown",
      "metadata": {
        "id": "ge5LkjNrbKRM"
      },
      "source": [
        "На мой взгляд, большинство предложений действительно неоднозначны по разметке. Возможно, в предобработке были удалены какие-то редкие слова или сочетания символов, которые могли бы лучше выразить эмоции. И сама эталонная разметка тоже вызывает вопросы, например, почему это предложение негативное?"
      ]
    },
    {
      "cell_type": "code",
      "metadata": {
        "colab": {
          "base_uri": "https://localhost:8080/",
          "height": 81
        },
        "id": "VlEDXjK6m2vb",
        "outputId": "dc872885-5d38-45ed-c0db-d5030c2fdd00"
      },
      "source": [
        "data[data['text'].str.contains('ахаха ты бы видела кто мне это написал')]  "
      ],
      "execution_count": 85,
      "outputs": [
        {
          "output_type": "execute_result",
          "data": {
            "text/html": [
              "<div>\n",
              "<style scoped>\n",
              "    .dataframe tbody tr th:only-of-type {\n",
              "        vertical-align: middle;\n",
              "    }\n",
              "\n",
              "    .dataframe tbody tr th {\n",
              "        vertical-align: top;\n",
              "    }\n",
              "\n",
              "    .dataframe thead th {\n",
              "        text-align: right;\n",
              "    }\n",
              "</style>\n",
              "<table border=\"1\" class=\"dataframe\">\n",
              "  <thead>\n",
              "    <tr style=\"text-align: right;\">\n",
              "      <th></th>\n",
              "      <th>text</th>\n",
              "      <th>label</th>\n",
              "      <th>preproc_text</th>\n",
              "    </tr>\n",
              "  </thead>\n",
              "  <tbody>\n",
              "    <tr>\n",
              "      <th>43890</th>\n",
              "      <td>@katya_katyaO_o ахаха ты бы видела кто мне это...</td>\n",
              "      <td>0</td>\n",
              "      <td>USER ахаха ты бы видела кто мне это написал d</td>\n",
              "    </tr>\n",
              "  </tbody>\n",
              "</table>\n",
              "</div>"
            ],
            "text/plain": [
              "                                                    text  ...                                   preproc_text\n",
              "43890  @katya_katyaO_o ахаха ты бы видела кто мне это...  ...  USER ахаха ты бы видела кто мне это написал d\n",
              "\n",
              "[1 rows x 3 columns]"
            ]
          },
          "metadata": {},
          "execution_count": 85
        }
      ]
    },
    {
      "cell_type": "code",
      "metadata": {
        "colab": {
          "base_uri": "https://localhost:8080/"
        },
        "id": "4BgrNzqKjhx_",
        "outputId": "1ced88fd-5e93-431b-8439-e934e5ab5937"
      },
      "source": [
        "print('Предсказали плохую тональность, а она на самом деле хорошая:\\n')\n",
        "# несколько примеров из всех мест списка\n",
        "for tweet in fn[::5]:\n",
        "    print(tweet)"
      ],
      "execution_count": 150,
      "outputs": [
        {
          "output_type": "stream",
          "name": "stdout",
          "text": [
            "Предсказали плохую тональность, а она на самом деле хорошая:\n",
            "\n",
            "2 место в и в детском станете это же круто мы : все супер : как скотина , пришла и уснула сразу же сегодня\n",
            "мда вообщем я пошла в , надеюсь по тв какой нибудь фильмец будет , и интересный . крч . заранее спокойной ночи ,\n",
            "RT @ _unknown_nick_ : бесится . Что вот он бесится ? :\n",
            "@ : . Сегодня фильм в дк есть ? Да ?\n",
            "@ karrimov НУ СКОЛЬКО МОЖНО БЫТЬ ТАКИМ ! ! Но за в твоих глазах я прощу тебе\n",
            "этим просто не http :\n",
            "Охохо приехала моя любимая : ******* http :\n",
            "@ ну это же капеец : еще не знаешь что вчера у нас на было : В\n",
            "@ первый раз услышал . Мне очень\n",
            "RT @ : @ ахах , чувак , что с тобой ? Тебя упороло ? : мне спать в ?\n"
          ]
        }
      ]
    },
    {
      "cell_type": "markdown",
      "metadata": {
        "id": "_y_ZEReDbxZD"
      },
      "source": [
        "Та же ситуация и с ложнонегативными твитами, не все из них даже для человека очевидно положительные\n",
        "\n",
        "В целом, кроме сотни сомнительных случаев, у этой модели получилась очень ооочень высокая точность. Улучшать такое почти бессмысленно и невозможно, поэтому сначала \"ухудшим\" работу удалением пунктуации и прочим препроцессингом "
      ]
    },
    {
      "cell_type": "markdown",
      "metadata": {
        "id": "5BJXuoQFc0jF"
      },
      "source": [
        "#### То же самое, но с препроцессингом\n",
        "Здесь же я сразу уменьшу количество эпох, потому что колаб отключил мне гпу. Все последующие улучшения будут сравниваться с этой моделью на 10 эпохах"
      ]
    },
    {
      "cell_type": "code",
      "metadata": {
        "colab": {
          "base_uri": "https://localhost:8080/",
          "height": 206
        },
        "id": "NNxPl7OrlfaL",
        "outputId": "b314a6da-ce20-446e-f34b-a8f1175abe77"
      },
      "source": [
        "data.head(5)"
      ],
      "execution_count": 113,
      "outputs": [
        {
          "output_type": "execute_result",
          "data": {
            "text/html": [
              "<div>\n",
              "<style scoped>\n",
              "    .dataframe tbody tr th:only-of-type {\n",
              "        vertical-align: middle;\n",
              "    }\n",
              "\n",
              "    .dataframe tbody tr th {\n",
              "        vertical-align: top;\n",
              "    }\n",
              "\n",
              "    .dataframe thead th {\n",
              "        text-align: right;\n",
              "    }\n",
              "</style>\n",
              "<table border=\"1\" class=\"dataframe\">\n",
              "  <thead>\n",
              "    <tr style=\"text-align: right;\">\n",
              "      <th></th>\n",
              "      <th>text</th>\n",
              "      <th>label</th>\n",
              "      <th>preproc_text</th>\n",
              "    </tr>\n",
              "  </thead>\n",
              "  <tbody>\n",
              "    <tr>\n",
              "      <th>0</th>\n",
              "      <td>на работе был полный пиддес :| и так каждое за...</td>\n",
              "      <td>0</td>\n",
              "      <td>на работе был полный пиддес и так каждое закры...</td>\n",
              "    </tr>\n",
              "    <tr>\n",
              "      <th>1</th>\n",
              "      <td>Коллеги сидят рубятся в Urban terror, а я из-з...</td>\n",
              "      <td>0</td>\n",
              "      <td>коллеги сидят рубятся в urban terror а я из за...</td>\n",
              "    </tr>\n",
              "    <tr>\n",
              "      <th>2</th>\n",
              "      <td>@elina_4post как говорят обещаного три года жд...</td>\n",
              "      <td>0</td>\n",
              "      <td>USER как говорят обещаного три года ждут</td>\n",
              "    </tr>\n",
              "    <tr>\n",
              "      <th>3</th>\n",
              "      <td>Желаю хорошего полёта и удачной посадки,я буду...</td>\n",
              "      <td>0</td>\n",
              "      <td>желаю хорошего полета и удачной посадки я буду...</td>\n",
              "    </tr>\n",
              "    <tr>\n",
              "      <th>4</th>\n",
              "      <td>Обновил за каким-то лешим surf, теперь не рабо...</td>\n",
              "      <td>0</td>\n",
              "      <td>обновил за каким то лешим surf теперь не работ...</td>\n",
              "    </tr>\n",
              "  </tbody>\n",
              "</table>\n",
              "</div>"
            ],
            "text/plain": [
              "                                                text  ...                                       preproc_text\n",
              "0  на работе был полный пиддес :| и так каждое за...  ...  на работе был полный пиддес и так каждое закры...\n",
              "1  Коллеги сидят рубятся в Urban terror, а я из-з...  ...  коллеги сидят рубятся в urban terror а я из за...\n",
              "2  @elina_4post как говорят обещаного три года жд...  ...           USER как говорят обещаного три года ждут\n",
              "3  Желаю хорошего полёта и удачной посадки,я буду...  ...  желаю хорошего полета и удачной посадки я буду...\n",
              "4  Обновил за каким-то лешим surf, теперь не рабо...  ...  обновил за каким то лешим surf теперь не работ...\n",
              "\n",
              "[5 rows x 3 columns]"
            ]
          },
          "metadata": {},
          "execution_count": 113
        }
      ]
    },
    {
      "cell_type": "code",
      "metadata": {
        "colab": {
          "base_uri": "https://localhost:8080/"
        },
        "id": "zLTnJWp6cxsT",
        "outputId": "63c239c8-984f-4be0-b743-e3f3f4662b63"
      },
      "source": [
        "proc_vocab = Counter()\n",
        "for text in data['preproc_text']:\n",
        "    proc_vocab.update(word_tokenize(text))\n",
        "print('всего уникальных слов:', len(proc_vocab))"
      ],
      "execution_count": 114,
      "outputs": [
        {
          "output_type": "stream",
          "name": "stdout",
          "text": [
            "всего уникальных слов: 180371\n"
          ]
        }
      ]
    },
    {
      "cell_type": "code",
      "metadata": {
        "colab": {
          "base_uri": "https://localhost:8080/"
        },
        "id": "lHbmgZpncxsU",
        "outputId": "dfb035f1-960b-4c0b-ff4d-e6a765260979"
      },
      "source": [
        "filtered_proc_vocab = set()\n",
        "\n",
        "for word in proc_vocab:\n",
        "    if proc_vocab[word] > 5:\n",
        "        filtered_proc_vocab.add(word)\n",
        "print('уникальных слов, встретившихся больше 5 раз:', len(filtered_proc_vocab))"
      ],
      "execution_count": 115,
      "outputs": [
        {
          "output_type": "stream",
          "name": "stdout",
          "text": [
            "уникальных слов, встретившихся больше 5 раз: 28141\n"
          ]
        }
      ]
    },
    {
      "cell_type": "code",
      "metadata": {
        "id": "0uWWi8UTcxsV"
      },
      "source": [
        "proc_word2id = {'PAD':0}\n",
        "\n",
        "for word in filtered_proc_vocab:\n",
        "    proc_word2id[word] = len(proc_word2id)\n",
        "\n",
        "proc_id2word = {i:word for word, i in proc_word2id.items()}"
      ],
      "execution_count": 116,
      "outputs": []
    },
    {
      "cell_type": "code",
      "metadata": {
        "id": "PS97yftZcxsW"
      },
      "source": [
        "class ProcTweetDataset(Dataset):\n",
        "\n",
        "    def __init__(self, dataset, word2id, DEVICE):\n",
        "        self.dataset = dataset['preproc_text'].values\n",
        "        self.word2id = word2id\n",
        "        self.length = dataset.shape[0]\n",
        "        self.target = torch.Tensor(dataset['label'].values)\n",
        "        self.device = DEVICE\n",
        "\n",
        "    def __len__(self):\n",
        "        return self.length\n",
        "\n",
        "    def __getitem__(self, index): \n",
        "        words = word_tokenize(self.dataset[index])\n",
        "        ids = torch.LongTensor([self.word2id[word] for word in words if word in self.word2id])\n",
        "        y = [self.target[index]]\n",
        "        return ids, y\n",
        "\n",
        "    def collate_fn(self, batch):\n",
        "      ids, y = list(zip(*batch))\n",
        "      padded_ids = pad_sequence(ids, batch_first=True).to(self.device)\n",
        "      y = torch.Tensor(y).to(self.device)\n",
        "      return padded_ids, y"
      ],
      "execution_count": 25,
      "outputs": []
    },
    {
      "cell_type": "code",
      "metadata": {
        "id": "BRMfL8MAcxsW"
      },
      "source": [
        "proc_train_dataset = ProcTweetDataset(proc_train_data, proc_word2id, DEVICE)\n",
        "proc_train_sampler = RandomSampler(proc_train_dataset)\n",
        "proc_train_iterator = DataLoader(proc_train_dataset, collate_fn = proc_train_dataset.collate_fn, sampler=proc_train_sampler, batch_size=1024)"
      ],
      "execution_count": 28,
      "outputs": []
    },
    {
      "cell_type": "code",
      "metadata": {
        "id": "RIM5BDL9cxsX"
      },
      "source": [
        "batch = next(iter(proc_train_iterator))"
      ],
      "execution_count": 29,
      "outputs": []
    },
    {
      "cell_type": "code",
      "metadata": {
        "colab": {
          "base_uri": "https://localhost:8080/"
        },
        "id": "9U9xMt1PcxsX",
        "outputId": "cdaf79bc-b04a-48c6-9521-926ade52f4d3"
      },
      "source": [
        "[proc_id2word[int(i)] for i in batch[0][0]]"
      ],
      "execution_count": 31,
      "outputs": [
        {
          "output_type": "execute_result",
          "data": {
            "text/plain": [
              "['опять',\n",
              " 'с',\n",
              " 'работы',\n",
              " 'кто',\n",
              " 'то',\n",
              " 'обогреватель',\n",
              " 'унес',\n",
              " 'домой',\n",
              " 'себе',\n",
              " 'да',\n",
              " 'что',\n",
              " 'ж',\n",
              " 'это',\n",
              " 'такое',\n",
              " 'PAD',\n",
              " 'PAD',\n",
              " 'PAD',\n",
              " 'PAD',\n",
              " 'PAD',\n",
              " 'PAD',\n",
              " 'PAD',\n",
              " 'PAD',\n",
              " 'PAD',\n",
              " 'PAD',\n",
              " 'PAD',\n",
              " 'PAD',\n",
              " 'PAD',\n",
              " 'PAD',\n",
              " 'PAD',\n",
              " 'PAD']"
            ]
          },
          "metadata": {},
          "execution_count": 31
        }
      ]
    },
    {
      "cell_type": "code",
      "metadata": {
        "id": "VnOSAmFBcxsY"
      },
      "source": [
        "proc_val_dataset = ProcTweetDataset(proc_val_data, proc_word2id, DEVICE)\n",
        "proc_val_sampler = SequentialSampler(proc_val_dataset)\n",
        "proc_val_iterator = DataLoader(proc_val_dataset, collate_fn = proc_val_dataset.collate_fn, sampler=proc_val_sampler, batch_size=1024)"
      ],
      "execution_count": 32,
      "outputs": []
    },
    {
      "cell_type": "markdown",
      "metadata": {
        "id": "Qc6gnerFgwv4"
      },
      "source": [
        "Инициализируем модель, задаем оптимизатор и функцию потерь"
      ]
    },
    {
      "cell_type": "code",
      "metadata": {
        "id": "6KYbN4qygwv4"
      },
      "source": [
        "proc_model = CNN(len(proc_word2id), 8)\n",
        "optimizer = optim.Adam(proc_model.parameters(), lr=0.001)\n",
        "criterion = nn.BCELoss() # \n",
        "\n",
        "# веса модели и значения лосса храним там же, где и все остальные тензоры\n",
        "proc_model = proc_model.to(DEVICE)\n",
        "criterion = criterion.to(DEVICE)"
      ],
      "execution_count": 68,
      "outputs": []
    },
    {
      "cell_type": "markdown",
      "metadata": {
        "id": "2oOkzBAJgwv5"
      },
      "source": [
        "Запуск обучения"
      ]
    },
    {
      "cell_type": "code",
      "metadata": {
        "colab": {
          "base_uri": "https://localhost:8080/"
        },
        "id": "qW8IZHcMgwv5",
        "outputId": "38daddcd-38a3-464a-d0a9-39598eb0238e"
      },
      "source": [
        "proc_losses = []\n",
        "proc_losses_eval = []\n",
        "proc_f1s = []\n",
        "proc_f1s_eval = []\n",
        "\n",
        "for i in range(10):\n",
        "    print(f'\\nstarting Epoch {i+1}')\n",
        "    f1_value, epoch_loss = train(proc_model, proc_train_iterator, optimizer, criterion, metric=f1)\n",
        "    proc_losses.append(epoch_loss)\n",
        "    proc_f1s.append(f1_value)\n",
        "\n",
        "    f1_value_on_test, epoch_loss_on_test = evaluate(proc_model, proc_val_iterator, criterion, metric=f1)\n",
        "    proc_losses_eval.append(epoch_loss_on_test)\n",
        "    proc_f1s_eval.append(f1_value_on_test)"
      ],
      "execution_count": 69,
      "outputs": [
        {
          "output_type": "stream",
          "name": "stdout",
          "text": [
            "\n",
            "starting Epoch 1\n",
            "Training...\n",
            "Train loss: 0.664557695388794, Train f1: 0.6055396199226379\n",
            "Train loss: 0.6568320393562317, Train f1: 0.6566164493560791\n",
            "Train loss: 0.6424357295036316, Train f1: 0.6476014852523804\n",
            "Train loss: 0.6430798768997192, Train f1: 0.6520547866821289\n",
            "Train loss: 0.634396493434906, Train f1: 0.6624203324317932\n",
            "Train loss: 0.6252267956733704, Train f1: 0.6385068893432617\n",
            "Train loss: 0.6227544546127319, Train f1: 0.6367265582084656\n",
            "Train loss: 0.6131086945533752, Train f1: 0.6788511276245117\n",
            "\n",
            "Validating...\n",
            "Val loss: 0.617708146572113, Val f1: 0.6744394898414612\n",
            "Val loss: 0.6114677786827087, Val f1: 0.6629934906959534\n",
            "\n",
            "starting Epoch 2\n",
            "Training...\n",
            "Train loss: 0.6052495837211609, Train f1: 0.6692087650299072\n",
            "Train loss: 0.5972530841827393, Train f1: 0.6608357429504395\n",
            "Train loss: 0.6148461699485779, Train f1: 0.6216506361961365\n",
            "Train loss: 0.5922719836235046, Train f1: 0.6794995665550232\n",
            "Train loss: 0.5950621962547302, Train f1: 0.6714140176773071\n",
            "Train loss: 0.5882591009140015, Train f1: 0.6517766118049622\n",
            "Train loss: 0.5937937498092651, Train f1: 0.656000018119812\n",
            "Train loss: 0.58339524269104, Train f1: 0.6758893132209778\n",
            "\n",
            "Validating...\n",
            "Val loss: 0.5908886790275574, Val f1: 0.6440349221229553\n",
            "Val loss: 0.5756832957267761, Val f1: 0.6619718074798584\n",
            "\n",
            "starting Epoch 3\n",
            "Training...\n",
            "Train loss: 0.5743238925933838, Train f1: 0.6769546866416931\n",
            "Train loss: 0.5701166391372681, Train f1: 0.6942800283432007\n",
            "Train loss: 0.5575183629989624, Train f1: 0.686475396156311\n",
            "Train loss: 0.56345534324646, Train f1: 0.6860581636428833\n",
            "Train loss: 0.5927296280860901, Train f1: 0.6865941882133484\n",
            "Train loss: 0.567965567111969, Train f1: 0.7137404680252075\n",
            "Train loss: 0.5765816569328308, Train f1: 0.6742035150527954\n",
            "Train loss: 0.5649077892303467, Train f1: 0.721541166305542\n",
            "\n",
            "Validating...\n",
            "Val loss: 0.5736947059631348, Val f1: 0.6612411141395569\n",
            "Val loss: 0.5637807846069336, Val f1: 0.668058454990387\n",
            "\n",
            "starting Epoch 4\n",
            "Training...\n",
            "Train loss: 0.538482666015625, Train f1: 0.7183908224105835\n",
            "Train loss: 0.5516353249549866, Train f1: 0.6939182281494141\n",
            "Train loss: 0.538170337677002, Train f1: 0.7037411332130432\n",
            "Train loss: 0.566300094127655, Train f1: 0.6949654221534729\n",
            "Train loss: 0.5733212232589722, Train f1: 0.6996268033981323\n",
            "Train loss: 0.5489523410797119, Train f1: 0.6968781352043152\n",
            "Train loss: 0.534246027469635, Train f1: 0.7013527154922485\n",
            "Train loss: 0.5269488096237183, Train f1: 0.706243634223938\n",
            "\n",
            "Validating...\n",
            "Val loss: 0.5535824298858643, Val f1: 0.7192825078964233\n",
            "Val loss: 0.5556681156158447, Val f1: 0.7104030251502991\n",
            "\n",
            "starting Epoch 5\n",
            "Training...\n",
            "Train loss: 0.5323370099067688, Train f1: 0.7076612710952759\n",
            "Train loss: 0.5230553150177002, Train f1: 0.74799644947052\n",
            "Train loss: 0.5129737854003906, Train f1: 0.7257899641990662\n",
            "Train loss: 0.5564162135124207, Train f1: 0.6942800879478455\n",
            "Train loss: 0.522265613079071, Train f1: 0.724245548248291\n",
            "Train loss: 0.5053298473358154, Train f1: 0.7621671557426453\n",
            "Train loss: 0.5520328283309937, Train f1: 0.7297830581665039\n",
            "Train loss: 0.528569221496582, Train f1: 0.7354710102081299\n",
            "\n",
            "Validating...\n",
            "Val loss: 0.5404854416847229, Val f1: 0.7241380214691162\n",
            "Val loss: 0.5473775863647461, Val f1: 0.7153558135032654\n",
            "\n",
            "starting Epoch 6\n",
            "Training...\n",
            "Train loss: 0.5487581491470337, Train f1: 0.7141518592834473\n",
            "Train loss: 0.5140570402145386, Train f1: 0.7490565776824951\n",
            "Train loss: 0.5473418831825256, Train f1: 0.7220149040222168\n",
            "Train loss: 0.5137955546379089, Train f1: 0.7394636273384094\n",
            "Train loss: 0.5370218753814697, Train f1: 0.7360454201698303\n",
            "Train loss: 0.5225865840911865, Train f1: 0.7443946003913879\n",
            "Train loss: 0.531731903553009, Train f1: 0.7272726893424988\n",
            "Train loss: 0.5073339343070984, Train f1: 0.7055016160011292\n",
            "\n",
            "Validating...\n",
            "Val loss: 0.5340210199356079, Val f1: 0.7203065156936646\n",
            "Val loss: 0.5363880395889282, Val f1: 0.7100591063499451\n",
            "\n",
            "starting Epoch 7\n",
            "Training...\n",
            "Train loss: 0.5056108236312866, Train f1: 0.7448979616165161\n",
            "Train loss: 0.5151481628417969, Train f1: 0.7233201861381531\n",
            "Train loss: 0.5087318420410156, Train f1: 0.7280248403549194\n",
            "Train loss: 0.5117135047912598, Train f1: 0.7190332412719727\n",
            "Train loss: 0.4933485984802246, Train f1: 0.7418032884597778\n",
            "Train loss: 0.4963817298412323, Train f1: 0.7314628958702087\n",
            "Train loss: 0.5196853876113892, Train f1: 0.7428571581840515\n",
            "Train loss: 0.48523852229118347, Train f1: 0.7601547837257385\n",
            "\n",
            "Validating...\n",
            "Val loss: 0.5336061120033264, Val f1: 0.7194526195526123\n",
            "Val loss: 0.5270349979400635, Val f1: 0.7074413895606995\n",
            "\n",
            "starting Epoch 8\n",
            "Training...\n",
            "Train loss: 0.49433964490890503, Train f1: 0.7664442658424377\n",
            "Train loss: 0.46805334091186523, Train f1: 0.7777777910232544\n",
            "Train loss: 0.49254244565963745, Train f1: 0.7735507488250732\n",
            "Train loss: 0.4771200120449066, Train f1: 0.7280899286270142\n",
            "Train loss: 0.48071378469467163, Train f1: 0.7787274718284607\n",
            "Train loss: 0.4837520122528076, Train f1: 0.7787933945655823\n",
            "Train loss: 0.49058282375335693, Train f1: 0.7531957030296326\n",
            "Train loss: 0.48856666684150696, Train f1: 0.7833333611488342\n",
            "\n",
            "Validating...\n",
            "Val loss: 0.5215384364128113, Val f1: 0.7635726928710938\n",
            "Val loss: 0.5285526514053345, Val f1: 0.7389705777168274\n",
            "\n",
            "starting Epoch 9\n",
            "Training...\n",
            "Train loss: 0.48294728994369507, Train f1: 0.7686424255371094\n",
            "Train loss: 0.4486827254295349, Train f1: 0.8076572418212891\n",
            "Train loss: 0.47582748532295227, Train f1: 0.7627450823783875\n",
            "Train loss: 0.46661069989204407, Train f1: 0.7755491733551025\n",
            "Train loss: 0.472888708114624, Train f1: 0.7657480239868164\n",
            "Train loss: 0.4570083022117615, Train f1: 0.7844310998916626\n",
            "Train loss: 0.4623088240623474, Train f1: 0.7494989633560181\n",
            "Train loss: 0.49852773547172546, Train f1: 0.7621831893920898\n",
            "\n",
            "Validating...\n",
            "Val loss: 0.52077716588974, Val f1: 0.7361376881599426\n",
            "Val loss: 0.5130952596664429, Val f1: 0.735381543636322\n",
            "\n",
            "starting Epoch 10\n",
            "Training...\n",
            "Train loss: 0.4835566282272339, Train f1: 0.768361508846283\n",
            "Train loss: 0.46858111023902893, Train f1: 0.7873302698135376\n",
            "Train loss: 0.4659886062145233, Train f1: 0.7484663128852844\n",
            "Train loss: 0.4763328433036804, Train f1: 0.7525150775909424\n",
            "Train loss: 0.4320892095565796, Train f1: 0.787939727306366\n",
            "Train loss: 0.4707169532775879, Train f1: 0.7650485634803772\n",
            "Train loss: 0.463312029838562, Train f1: 0.7533265352249146\n",
            "Train loss: 0.4682947099208832, Train f1: 0.7730769515037537\n",
            "\n",
            "Validating...\n",
            "Val loss: 0.513873815536499, Val f1: 0.7509505748748779\n",
            "Val loss: 0.5080374479293823, Val f1: 0.7339267730712891\n"
          ]
        }
      ]
    },
    {
      "cell_type": "code",
      "metadata": {
        "id": "TiwKvFjvgwv5"
      },
      "source": [
        "torch.save(proc_model, 'colab_proc_model_1.pt')"
      ],
      "execution_count": 70,
      "outputs": []
    },
    {
      "cell_type": "code",
      "metadata": {
        "colab": {
          "base_uri": "https://localhost:8080/",
          "height": 295
        },
        "id": "5YI6V0kFgwv6",
        "outputId": "4ba02297-5c26-4a86-c57f-46fef1d86d21"
      },
      "source": [
        "plt.plot(proc_losses)\n",
        "plt.plot(proc_losses_eval)\n",
        "plt.title('BCE loss value')\n",
        "plt.ylabel('BCE loss')\n",
        "plt.xlabel('epoch')\n",
        "plt.legend(['train', 'val'], loc='upper right')\n",
        "plt.show()"
      ],
      "execution_count": 71,
      "outputs": [
        {
          "output_type": "display_data",
          "data": {
            "image/png": "[encoded data removed]",
            "text/plain": [
              "<Figure size 432x288 with 1 Axes>"
            ]
          },
          "metadata": {
            "needs_background": "light"
          }
        }
      ]
    },
    {
      "cell_type": "code",
      "metadata": {
        "colab": {
          "base_uri": "https://localhost:8080/",
          "height": 295
        },
        "id": "a0v1MUPMgwv6",
        "outputId": "6d8b9ed1-2a1b-4d8c-8f86-c38475ca0d68"
      },
      "source": [
        "plt.plot(proc_f1s)\n",
        "plt.plot(proc_f1s_eval)\n",
        "plt.title('f1 value')\n",
        "plt.ylabel('f1 value')\n",
        "plt.xlabel('epoch')\n",
        "plt.legend(['train', 'val'], loc='upper right')\n",
        "plt.show()"
      ],
      "execution_count": 72,
      "outputs": [
        {
          "output_type": "display_data",
          "data": {
            "image/png": "[encoded data removed]",
            "text/plain": [
              "<Figure size 432x288 with 1 Axes>"
            ]
          },
          "metadata": {
            "needs_background": "light"
          }
        }
      ]
    },
    {
      "cell_type": "code",
      "metadata": {
        "id": "EQmdESDagwv6"
      },
      "source": [
        "# model = torch.load('colab_model_1.pt')"
      ],
      "execution_count": 80,
      "outputs": []
    },
    {
      "cell_type": "code",
      "metadata": {
        "id": "bc4UzofQgwv7"
      },
      "source": [
        "proc_fp, proc_fn, proc_tp, proc_tn = predict(proc_model, proc_val_iterator, proc_id2word)"
      ],
      "execution_count": 73,
      "outputs": []
    },
    {
      "cell_type": "markdown",
      "metadata": {
        "id": "oJ0kWqFTgwv7"
      },
      "source": [
        "#### Анализ предсказаний"
      ]
    },
    {
      "cell_type": "code",
      "metadata": {
        "colab": {
          "base_uri": "https://localhost:8080/"
        },
        "id": "16p2kubwgwv7",
        "outputId": "7037f74e-c9d7-45c7-9ca4-6dd593db5f85"
      },
      "source": [
        "len(proc_fp + proc_fn + proc_tp + proc_tn)"
      ],
      "execution_count": 81,
      "outputs": [
        {
          "output_type": "execute_result",
          "data": {
            "text/plain": [
              "45367"
            ]
          },
          "metadata": {},
          "execution_count": 81
        }
      ]
    },
    {
      "cell_type": "code",
      "metadata": {
        "id": "y4nq7ISJgwv7"
      },
      "source": [
        "proc_accuracy = len(proc_tp + proc_tn) / len(proc_fp + proc_fn + proc_tp + proc_tn)\n",
        "proc_precision = len(proc_tp) / (len(proc_tp) + len(proc_fp))\n",
        "proc_recall= len(proc_tp) / (len(proc_tp) + len(proc_fn))"
      ],
      "execution_count": 82,
      "outputs": []
    },
    {
      "cell_type": "code",
      "metadata": {
        "colab": {
          "base_uri": "https://localhost:8080/"
        },
        "id": "bS3CFDCJgwv8",
        "outputId": "727ab58c-d83a-4eaf-f82a-c7e8ab1de05f"
      },
      "source": [
        "proc_accuracy, proc_precision, proc_recall"
      ],
      "execution_count": 83,
      "outputs": [
        {
          "output_type": "execute_result",
          "data": {
            "text/plain": [
              "(0.7394581964864329, 0.7504028648164727, 0.7286161335187761)"
            ]
          },
          "metadata": {},
          "execution_count": 83
        }
      ]
    },
    {
      "cell_type": "markdown",
      "metadata": {
        "id": "jwCAtieGgwv9"
      },
      "source": [
        "Без пунктуации модель ожидаемо стала справляться хуже. Точность чуть выше, чем полнота, но в целом можно сказать, что модель не отдаёт предпочтения какому-то одному классу. Это происходит в том числе благодаря почти идеальной сбалансированности корпуса"
      ]
    },
    {
      "cell_type": "code",
      "metadata": {
        "colab": {
          "base_uri": "https://localhost:8080/"
        },
        "id": "i7hYSwWBgwwE",
        "outputId": "3d9f4e7a-ae5d-43c3-d66b-5aa9504ed894"
      },
      "source": [
        "len(proc_fp)"
      ],
      "execution_count": 85,
      "outputs": [
        {
          "output_type": "execute_result",
          "data": {
            "text/plain": [
              "5576"
            ]
          },
          "metadata": {},
          "execution_count": 85
        }
      ]
    },
    {
      "cell_type": "markdown",
      "metadata": {
        "id": "zk4E6da65o9T"
      },
      "source": [
        "А на этом моменте у меня отключился гпу, все переменные и файлы сбросились, модель не сохранилась и я пошла обучать её ещё раз, но без гпу"
      ]
    },
    {
      "cell_type": "code",
      "metadata": {
        "colab": {
          "base_uri": "https://localhost:8080/"
        },
        "id": "ivY45JEGgwwF",
        "outputId": "63a6996c-e76e-4ae9-ea97-f84d0da0100b"
      },
      "source": [
        "len(proc_fn)"
      ],
      "execution_count": 86,
      "outputs": [
        {
          "output_type": "execute_result",
          "data": {
            "text/plain": [
              "6244"
            ]
          },
          "metadata": {},
          "execution_count": 86
        }
      ]
    },
    {
      "cell_type": "code",
      "metadata": {
        "colab": {
          "base_uri": "https://localhost:8080/"
        },
        "id": "FNfZfFVOgwwF",
        "outputId": "6394ea12-b319-4a40-e288-1b9c61d5eed8"
      },
      "source": [
        "print('Предсказали хорошую тональность, а она на самом деле плохая:\\n')\n",
        "# несколько примеров из всех мест списка\n",
        "for tweet in sample(proc_fp, 20):\n",
        "    print(tweet)"
      ],
      "execution_count": 87,
      "outputs": [
        {
          "output_type": "stream",
          "name": "stdout",
          "text": [
            "Предсказали хорошую тональность, а она на самом деле плохая:\n",
            "\n",
            "еду на рынок за а потом в шк вызвали репетировать\n",
            "поднимите мне настроение кто URL\n",
            "rt USER новости в вк читать интересней чем беда\n",
            "USER локомотив арсенал URL стадион сейчас такого не увидишь\n",
            "USER хочу тебя не кого из звезд в вк нет там может быть страничка и все\n",
            "теперь вы меня не можете анфолловить иначе я скажу что вы\n",
            "надоело все вся эта жизнь хочеться набрать команду из 5 самых важных и дорогих мне людей и свалить на необитаемый остров\n",
            "USER да а мне надо англ вообще на 5 написать ко всему еще\n",
            "занимаюсь переводами пока нет компа для игр\n",
            "USER USER мы пока ничего не знаем\n",
            "на что тебе не хватает времени на время с друзьями URL\n",
            "rt USER р пользуясь случаем хочу также сказать что никогда не ни в одной сети USER\n",
            "нужная актуальная дискуссия но как то ирина анатольевна себя в ряды корпуса pr URL\n",
            "rt USER девушки мама вас не учила что чужие вещи брать нельзя ну зачем же наш город URL иваново во\n",
            "USER ибо ты сказала что если телефон поливать водой он не вырастет\n",
            "USER у нас это много автоматом\n",
            "USER ко мне руслан уже идет\n",
            "USER привет ю завтра танцы и уроки\n",
            "USER это надежды на черту\n",
            "если вы научите меня забывать старые обиды я вас\n"
          ]
        }
      ]
    },
    {
      "cell_type": "markdown",
      "metadata": {
        "id": "w62GBNpggwwG"
      },
      "source": [
        "На мой взгляд, нельзя винить модель за то, что она не поняла, что эти твиты негативные.. После предобработки в этих твитах осталось очень мало информации, и я уверена, что и человек бы не смог их классифицировать верно. Только несколько твитов отсюда, на мой взгляд, можно действительно засчитать за ошибку, например:\n",
        "* *поднимите мне настроение кто URL*\n",
        "* *надоело все вся эта жизнь хочеться набрать команду из 5 самых важных и дорогих мне людей и свалить на необитаемый остров*\n",
        "* *USER USER мы пока ничего не знаем*"
      ]
    },
    {
      "cell_type": "code",
      "metadata": {
        "colab": {
          "base_uri": "https://localhost:8080/"
        },
        "id": "oi2qAoArgwwG",
        "outputId": "111c4e35-641f-4c20-ad8f-be50c3060f1c"
      },
      "source": [
        "print('Предсказали плохую тональность, а она на самом деле хорошая:\\n')\n",
        "# несколько примеров из всех мест списка\n",
        "for tweet in sample(proc_fn, 20):\n",
        "    print(tweet)"
      ],
      "execution_count": 88,
      "outputs": [
        {
          "output_type": "stream",
          "name": "stdout",
          "text": [
            "Предсказали плохую тональность, а она на самом деле хорошая:\n",
            "\n",
            "эй идиот не плачь все равно ничего уже не изменится\n",
            "USER USER смотрите чтоб вас снегом не занесло ибо у меня метель а то придется за вами посылать\n",
            "вот твоего отца он вам понадобится для стола o teamfollowback\n",
            "с утра я думала что день будет и ничего не изменится но я ошибалась он еще столько классного за день\n",
            "сижу значит в маке а тут слышу русскую речь боже мой у меня глаза раза в 2\n",
            "USER ты морковку в кофе или я чего то в жизни не понимаю\n",
            "USER что ж вы всю интригу на\n",
            "рассказала монолог ужасно но мне 9 поставили\n",
            "ахахахах хахахахаха это блять что вообще такое меня смущает эта хрень URL\n",
            "USER хочешь я с тобой русским\n",
            "все я дома буду заниматься буду диски красить и учиться менять\n",
            "rt USER мне настолько грустно что USER кажется веселой лол\n",
            "бля даже в клубе есть я нашла этого илью\n",
            "USER оу з если к 2 не будет письма я напишу тебе а о чем тебе написать\n",
            "rt USER USER есть такие люди которые судьба\n",
            "жду принца на белом коне видимо ты представляешь как сейчас обидно на остальных\n",
            "ай впервые увидела чтоб папа на фильме плакал мило 3\n",
            "тут писал что за три недели похудел на 12 кг\n",
            "хочется что то с собой сделать и татухи из головы не сволочи поэтому пойду и к др поставлю на зубы не знаю что это будет\n",
            "rt USER грустно когда хочется обнять человека а перед тобой монитор хах\n"
          ]
        }
      ]
    },
    {
      "cell_type": "markdown",
      "metadata": {
        "id": "VIha7W71f2nT"
      },
      "source": [
        "С ложноотрицательными предсказаниями почти та же ситуация. Я бы сказала, что только эти твиты - на самом деле грубые ошибки:\n",
        "* *с утра я думала что день будет и ничего не изменится но я ошибалась он еще столько классного за день*\n",
        "* *сижу значит в маке а тут слышу русскую речь боже мой у меня глаза раза в 2*\n",
        "* *рассказала монолог ужасно но мне 9 поставили*\n",
        "\n",
        "Здесь сразу надо сделать заметку про сам корпус. Как написано в статье про него, он изначально собирался и размечался не вручную, а на основании словаря \"положительных\" и \"отрицательных\" смайликов.   \n",
        "Во-первых, отсутствие ручной разметки сразу делает данные менее точными и консистентными, что может запутывать модель.  \n",
        "Во-вторых, кажется, что смысл твитов, собранных по смайликами, будет скорее содержаться в этих самых смайликах, чем в словах. Убирая эти смайлы, мы получаем текст, который даже человек не всегда может однозначно классифицировать.  \n",
        "В-третьих, известно, что смайлики в неформальной письменной речи могут быть маркерами сарказма, и автоматический парсер, опираясь только на них, может неверно определить класс текста. Например, твит *эй идиот не плачь все равно ничего уже не изменится* в эталоне помечен как положительный. Скорее всего, это сарказм и там в конце был весёлый смайлик, из-за которого твит попал в положительный класс. А когда модель (да и человек) видит это предложение без пунктуации, то разумно определяет его как негативное. И это только один пример, попавший в очень маленький сэмпл. Внутри корпуса таких путающих данных намного больше, и, по моим ощущениям, модель скорее ошибается в них, чем в более однозначных примерах."
      ]
    },
    {
      "cell_type": "markdown",
      "metadata": {
        "id": "z7zGo54d-Ma4"
      },
      "source": [
        "#### Улучшение модели\n",
        "Общие идеи улучшений:\n",
        "* добавить дропаут\n",
        "* изменить размер фильтров\n",
        "* добавить нелинейность\n",
        "* попробовать другой оптимайзер\n",
        "* поменять лёрнинг рейт\n",
        "\n"
      ]
    },
    {
      "cell_type": "markdown",
      "metadata": {
        "id": "AFwCdbJvEMWL"
      },
      "source": [
        "##### Дропаут"
      ]
    },
    {
      "cell_type": "code",
      "metadata": {
        "id": "AkSyxm5SAef1"
      },
      "source": [
        "class CNN_drop(nn.Module):\n",
        "    \n",
        "    def __init__(self, vocab_size, embedding_dim):\n",
        "        super().__init__()\n",
        "        self.embedding = nn.Embedding(vocab_size, embedding_dim)\n",
        "        self.bigrams = nn.Conv1d(in_channels=embedding_dim, out_channels=100, kernel_size=2, padding='same')\n",
        "        self.trigrams = nn.Conv1d(in_channels=embedding_dim, out_channels=80, kernel_size=3, padding='same')\n",
        "        self.concated = nn.Conv1d(in_channels=180, out_channels=60, kernel_size=2, padding='same')\n",
        "        self.hidden = nn.Linear(in_features=60, out_features=1)\n",
        "        self.dropout = nn.Dropout(p=0.4)\n",
        "        self.out = nn.Sigmoid()\n",
        "\n",
        "    def forward(self, sent):\n",
        "        #batch_size x seq_len\n",
        "        embedded = self.embedding(sent) # ✔\n",
        "        #batch_size x seq_len x embedding_dim\n",
        "        embedded = embedded.transpose(1,2) # ✔\n",
        "        #batch_size x embedding_dim x seq_len\n",
        "        feature_map_bigrams = self.dropout(self.bigrams(embedded)) # ✔\n",
        "        #batch_size x filter_count2 x seq_len* \n",
        "        feature_map_trigrams = self.dropout(self.trigrams(embedded)) # ✔\n",
        "        #batch_size x filter_count3 x seq_len*\n",
        "        \n",
        "        concat = torch.cat((feature_map_bigrams, feature_map_trigrams), 1) # ✔\n",
        "        # batch_size x (filter_count2 + filter_count3) x seq_len\n",
        "        feature_map_concat = self.concated(concat) # ✔\n",
        "        # batch_size x filter_concat x seq_len\n",
        "        pooling = feature_map_concat.max(2)[0] # ✔\n",
        "        # batch_size x filter_concat)\n",
        "        logits = self.hidden(pooling) # ✔\n",
        "        logits = self.out(logits) # ✔\n",
        "        return logits\n",
        "      \n",
        "        \n",
        "    "
      ],
      "execution_count": 46,
      "outputs": []
    },
    {
      "cell_type": "code",
      "metadata": {
        "id": "0itPicbVANit"
      },
      "source": [
        "proc_drop_model = CNN_drop(len(proc_word2id), 8)\n",
        "optimizer = optim.Adam(proc_drop_model.parameters(), lr=0.001)\n",
        "criterion = nn.BCELoss() # \n",
        "\n",
        "# веса модели и значения лосса храним там же, где и все остальные тензоры\n",
        "proc_drop_model = proc_drop_model.to(DEVICE)\n",
        "criterion = criterion.to(DEVICE)"
      ],
      "execution_count": 47,
      "outputs": []
    },
    {
      "cell_type": "code",
      "metadata": {
        "colab": {
          "base_uri": "https://localhost:8080/"
        },
        "id": "KOaXRB6yANjx",
        "outputId": "e3a9e0ef-b7a9-4df2-9efb-3d0d9a6d796f"
      },
      "source": [
        "proc_losses = []\n",
        "proc_losses_eval = []\n",
        "proc_f1s = []\n",
        "proc_f1s_eval = []\n",
        "\n",
        "for i in range(10):\n",
        "    print(f'\\nstarting Epoch {i+1}')\n",
        "    f1_value, epoch_loss = train(proc_drop_model, proc_train_iterator, optimizer, criterion, metric=f1)\n",
        "    proc_losses.append(epoch_loss)\n",
        "    proc_f1s.append(f1_value)\n",
        "\n",
        "    f1_value_on_test, epoch_loss_on_test = evaluate(proc_drop_model, proc_val_iterator, criterion, metric=f1)\n",
        "    proc_losses_eval.append(epoch_loss_on_test)\n",
        "    proc_f1s_eval.append(f1_value_on_test)"
      ],
      "execution_count": 48,
      "outputs": [
        {
          "output_type": "stream",
          "name": "stdout",
          "text": [
            "\n",
            "starting Epoch 1\n",
            "Training...\n",
            "Train loss: 0.6678961515426636, Train f1: 0.5614035129547119\n",
            "Train loss: 0.6708136200904846, Train f1: 0.5805169343948364\n",
            "Train loss: 0.6474930047988892, Train f1: 0.5931321382522583\n",
            "Train loss: 0.6600193977355957, Train f1: 0.5873015522956848\n",
            "Train loss: 0.6305341124534607, Train f1: 0.6135693192481995\n",
            "Train loss: 0.6429764032363892, Train f1: 0.6480836272239685\n",
            "Train loss: 0.6477515697479248, Train f1: 0.6473779678344727\n",
            "Train loss: 0.6287651062011719, Train f1: 0.6174089312553406\n",
            "\n",
            "Validating...\n",
            "Val loss: 0.6221636533737183, Val f1: 0.6785110235214233\n",
            "Val loss: 0.6134932637214661, Val f1: 0.6931217312812805\n",
            "\n",
            "starting Epoch 2\n",
            "Training...\n",
            "Train loss: 0.6351068615913391, Train f1: 0.6063719987869263\n",
            "Train loss: 0.6124423146247864, Train f1: 0.6323232650756836\n",
            "Train loss: 0.609627366065979, Train f1: 0.6685032248497009\n",
            "Train loss: 0.6113430261611938, Train f1: 0.6358866691589355\n",
            "Train loss: 0.6128882169723511, Train f1: 0.6525911688804626\n",
            "Train loss: 0.6066089868545532, Train f1: 0.6019007563591003\n",
            "Train loss: 0.5958759784698486, Train f1: 0.6869245171546936\n",
            "Train loss: 0.6074016094207764, Train f1: 0.6653808951377869\n",
            "\n",
            "Validating...\n",
            "Val loss: 0.5915051102638245, Val f1: 0.6974638104438782\n",
            "Val loss: 0.5783406496047974, Val f1: 0.6908078193664551\n",
            "\n",
            "starting Epoch 3\n",
            "Training...\n",
            "Train loss: 0.6041778326034546, Train f1: 0.6706231236457825\n",
            "Train loss: 0.5633217692375183, Train f1: 0.657952070236206\n",
            "Train loss: 0.5771411061286926, Train f1: 0.6790243983268738\n",
            "Train loss: 0.5852136611938477, Train f1: 0.6626983880996704\n",
            "Train loss: 0.5693967938423157, Train f1: 0.6680716872215271\n",
            "Train loss: 0.5847722887992859, Train f1: 0.6794257760047913\n",
            "Train loss: 0.5629457235336304, Train f1: 0.6916426420211792\n",
            "Train loss: 0.5834031701087952, Train f1: 0.6255506873130798\n",
            "\n",
            "Validating...\n",
            "Val loss: 0.5732243657112122, Val f1: 0.6976744532585144\n",
            "Val loss: 0.5556763410568237, Val f1: 0.6916996240615845\n",
            "\n",
            "starting Epoch 4\n",
            "Training...\n",
            "Train loss: 0.5666695237159729, Train f1: 0.6733466386795044\n",
            "Train loss: 0.5756198167800903, Train f1: 0.6791707873344421\n",
            "Train loss: 0.5517878532409668, Train f1: 0.6865365505218506\n",
            "Train loss: 0.5572256445884705, Train f1: 0.7149853110313416\n",
            "Train loss: 0.5572336912155151, Train f1: 0.7181903719902039\n",
            "Train loss: 0.5464680194854736, Train f1: 0.7068114280700684\n",
            "Train loss: 0.5512413382530212, Train f1: 0.6934673190116882\n",
            "Train loss: 0.5473964810371399, Train f1: 0.7137255072593689\n",
            "\n",
            "Validating...\n",
            "Val loss: 0.5592799186706543, Val f1: 0.716026246547699\n",
            "Val loss: 0.539770781993866, Val f1: 0.7291865944862366\n",
            "\n",
            "starting Epoch 5\n",
            "Training...\n",
            "Train loss: 0.5538787841796875, Train f1: 0.7012195587158203\n",
            "Train loss: 0.5368895530700684, Train f1: 0.7159309387207031\n",
            "Train loss: 0.5174276828765869, Train f1: 0.7340530157089233\n",
            "Train loss: 0.5518929958343506, Train f1: 0.6843783259391785\n",
            "Train loss: 0.5277434587478638, Train f1: 0.7230769395828247\n",
            "Train loss: 0.5550982356071472, Train f1: 0.7079303860664368\n",
            "Train loss: 0.5300307273864746, Train f1: 0.7393364906311035\n",
            "Train loss: 0.5404305458068848, Train f1: 0.728452205657959\n",
            "\n",
            "Validating...\n",
            "Val loss: 0.5552855730056763, Val f1: 0.744960606098175\n",
            "Val loss: 0.5379164218902588, Val f1: 0.7535971999168396\n",
            "\n",
            "starting Epoch 6\n",
            "Training...\n",
            "Train loss: 0.5400300025939941, Train f1: 0.6742502450942993\n",
            "Train loss: 0.5063609480857849, Train f1: 0.7394789457321167\n",
            "Train loss: 0.50115567445755, Train f1: 0.7387387156486511\n",
            "Train loss: 0.5270779132843018, Train f1: 0.7265774011611938\n",
            "Train loss: 0.5169866681098938, Train f1: 0.7234042882919312\n",
            "Train loss: 0.5269496440887451, Train f1: 0.7279999852180481\n",
            "Train loss: 0.5024352073669434, Train f1: 0.7444120049476624\n",
            "Train loss: 0.5286092758178711, Train f1: 0.7192807197570801\n",
            "\n",
            "Validating...\n",
            "Val loss: 0.541154146194458, Val f1: 0.752669095993042\n",
            "Val loss: 0.5264869332313538, Val f1: 0.7479224801063538\n",
            "\n",
            "starting Epoch 7\n",
            "Training...\n",
            "Train loss: 0.5258774161338806, Train f1: 0.710553765296936\n",
            "Train loss: 0.49244752526283264, Train f1: 0.7582846283912659\n",
            "Train loss: 0.5215734243392944, Train f1: 0.7278165817260742\n",
            "Train loss: 0.49569833278656006, Train f1: 0.7497527599334717\n",
            "Train loss: 0.5123369097709656, Train f1: 0.721774160861969\n",
            "Train loss: 0.522551417350769, Train f1: 0.7075268626213074\n",
            "Train loss: 0.49907562136650085, Train f1: 0.7358121275901794\n",
            "Train loss: 0.4936361014842987, Train f1: 0.7595190405845642\n",
            "\n",
            "Validating...\n",
            "Val loss: 0.5356438755989075, Val f1: 0.736242949962616\n",
            "Val loss: 0.5123702883720398, Val f1: 0.7254902124404907\n",
            "\n",
            "starting Epoch 8\n",
            "Training...\n",
            "Train loss: 0.5046104788780212, Train f1: 0.7393364906311035\n",
            "Train loss: 0.4893743395805359, Train f1: 0.7692307233810425\n",
            "Train loss: 0.5113133192062378, Train f1: 0.7485380172729492\n",
            "Train loss: 0.49094897508621216, Train f1: 0.7543860077857971\n",
            "Train loss: 0.4774746894836426, Train f1: 0.7785108089447021\n",
            "Train loss: 0.47864383459091187, Train f1: 0.7615385055541992\n",
            "Train loss: 0.48969388008117676, Train f1: 0.7593152523040771\n",
            "Train loss: 0.5219634175300598, Train f1: 0.7017543911933899\n",
            "\n",
            "Validating...\n",
            "Val loss: 0.5326341390609741, Val f1: 0.7567567229270935\n",
            "Val loss: 0.5120033025741577, Val f1: 0.749290406703949\n",
            "\n",
            "starting Epoch 9\n",
            "Training...\n",
            "Train loss: 0.48088860511779785, Train f1: 0.7529880404472351\n",
            "Train loss: 0.5011919736862183, Train f1: 0.7478913068771362\n",
            "Train loss: 0.500318169593811, Train f1: 0.7236971855163574\n",
            "Train loss: 0.47734981775283813, Train f1: 0.7605083584785461\n",
            "Train loss: 0.4654325842857361, Train f1: 0.7669615745544434\n",
            "Train loss: 0.479397714138031, Train f1: 0.7522567510604858\n",
            "Train loss: 0.5000110268592834, Train f1: 0.748046875\n",
            "Train loss: 0.4935767650604248, Train f1: 0.7608069181442261\n",
            "\n",
            "Validating...\n",
            "Val loss: 0.5273791551589966, Val f1: 0.7335907816886902\n",
            "Val loss: 0.5072077512741089, Val f1: 0.7274529337882996\n",
            "\n",
            "starting Epoch 10\n",
            "Training...\n",
            "Train loss: 0.4925529956817627, Train f1: 0.7624520659446716\n",
            "Train loss: 0.4470319151878357, Train f1: 0.7936803698539734\n",
            "Train loss: 0.45833641290664673, Train f1: 0.7793814539909363\n",
            "Train loss: 0.511877179145813, Train f1: 0.7393715977668762\n",
            "Train loss: 0.479255735874176, Train f1: 0.7762905955314636\n",
            "Train loss: 0.46848824620246887, Train f1: 0.7628865242004395\n",
            "Train loss: 0.4975501298904419, Train f1: 0.7730173468589783\n",
            "Train loss: 0.4573058485984802, Train f1: 0.7954971194267273\n",
            "\n",
            "Validating...\n",
            "Val loss: 0.5224047303199768, Val f1: 0.7639015913009644\n",
            "Val loss: 0.5012389421463013, Val f1: 0.7521367073059082\n"
          ]
        }
      ]
    },
    {
      "cell_type": "code",
      "metadata": {
        "id": "8Rnjm2J4ANjy"
      },
      "source": [
        "torch.save(proc_model, 'colab_proc_drop_model_1.pt')"
      ],
      "execution_count": 49,
      "outputs": []
    },
    {
      "cell_type": "code",
      "metadata": {
        "colab": {
          "base_uri": "https://localhost:8080/",
          "height": 295
        },
        "id": "BKhOf-WUANjy",
        "outputId": "8c93a46f-56ff-47ea-9b9a-2e48b3fe6bb9"
      },
      "source": [
        "plt.plot(proc_losses)\n",
        "plt.plot(proc_losses_eval)\n",
        "plt.title('BCE loss value')\n",
        "plt.ylabel('BCE loss')\n",
        "plt.xlabel('epoch')\n",
        "plt.legend(['train', 'val'], loc='upper right')\n",
        "plt.show()"
      ],
      "execution_count": 50,
      "outputs": [
        {
          "output_type": "display_data",
          "data": {
            "image/png": "[encoded data removed]",
            "text/plain": [
              "<Figure size 432x288 with 1 Axes>"
            ]
          },
          "metadata": {
            "needs_background": "light"
          }
        }
      ]
    },
    {
      "cell_type": "code",
      "metadata": {
        "colab": {
          "base_uri": "https://localhost:8080/",
          "height": 295
        },
        "id": "fYHejOFUANjy",
        "outputId": "139b7faf-ac78-4db2-e53a-1f0af4fdd0d0"
      },
      "source": [
        "plt.plot(proc_f1s)\n",
        "plt.plot(proc_f1s_eval)\n",
        "plt.title('f1 value')\n",
        "plt.ylabel('f1 value')\n",
        "plt.xlabel('epoch')\n",
        "plt.legend(['train', 'val'], loc='upper right')\n",
        "plt.show()"
      ],
      "execution_count": 51,
      "outputs": [
        {
          "output_type": "display_data",
          "data": {
            "image/png": "[encoded data removed]",
            "text/plain": [
              "<Figure size 432x288 with 1 Axes>"
            ]
          },
          "metadata": {
            "needs_background": "light"
          }
        }
      ]
    },
    {
      "cell_type": "code",
      "metadata": {
        "id": "s5lkav3UANjz"
      },
      "source": [
        "proc_fp, proc_fn, proc_tp, proc_tn = predict(proc_drop_model, proc_val_iterator, proc_id2word)"
      ],
      "execution_count": 52,
      "outputs": []
    },
    {
      "cell_type": "code",
      "metadata": {
        "colab": {
          "base_uri": "https://localhost:8080/"
        },
        "id": "Y_NdqShQANjz",
        "outputId": "ce905945-2025-4661-876f-8722ad3b251a"
      },
      "source": [
        "len(proc_fp + proc_fn + proc_tp + proc_tn)"
      ],
      "execution_count": 53,
      "outputs": [
        {
          "output_type": "execute_result",
          "data": {
            "text/plain": [
              "45367"
            ]
          },
          "metadata": {},
          "execution_count": 53
        }
      ]
    },
    {
      "cell_type": "code",
      "metadata": {
        "id": "DOdJH_4RANjz"
      },
      "source": [
        "proc_drop_accuracy = len(proc_tp + proc_tn) / len(proc_fp + proc_fn + proc_tp + proc_tn)\n",
        "proc_drop_precision = len(proc_tp) / (len(proc_tp) + len(proc_fp))\n",
        "proc_drop_recall= len(proc_tp) / (len(proc_tp) + len(proc_fn))"
      ],
      "execution_count": 54,
      "outputs": []
    },
    {
      "cell_type": "code",
      "metadata": {
        "colab": {
          "base_uri": "https://localhost:8080/"
        },
        "id": "vFmjGlEdLdRN",
        "outputId": "9c0dfd71-9ce7-4c91-c2ff-614516a533e3"
      },
      "source": [
        "# было\n",
        "proc_accuracy, proc_precision, proc_recall"
      ],
      "execution_count": 89,
      "outputs": [
        {
          "output_type": "execute_result",
          "data": {
            "text/plain": [
              "(0.7394581964864329, 0.7504028648164727, 0.7286161335187761)"
            ]
          },
          "metadata": {},
          "execution_count": 89
        }
      ]
    },
    {
      "cell_type": "code",
      "metadata": {
        "colab": {
          "base_uri": "https://localhost:8080/"
        },
        "id": "7VIPSy9RANj0",
        "outputId": "c6212e00-4ab7-4981-c332-fac651fedbda"
      },
      "source": [
        "# стало\n",
        "proc_drop_accuracy, proc_drop_precision, proc_drop_recall"
      ],
      "execution_count": 55,
      "outputs": [
        {
          "output_type": "execute_result",
          "data": {
            "text/plain": [
              "(0.7407366588048582, 0.7308860967397552, 0.7736439499304589)"
            ]
          },
          "metadata": {},
          "execution_count": 55
        }
      ]
    },
    {
      "cell_type": "markdown",
      "metadata": {
        "id": "EJjJjKwGH-9o"
      },
      "source": [
        "Успех! Доля верных ответов выросла, полнота выросла ещё больше, правда точность упала  \n",
        "Попробую к дропауту добавить ещё что-нибудь"
      ]
    },
    {
      "cell_type": "markdown",
      "metadata": {
        "id": "FRuHFn2sDc3I"
      },
      "source": [
        "##### Оптимайзер\n",
        "Теперь всё то же самое, но с другим оптимайзером. Хоть Адам считается лучшим, вдруг тут сработает другой?"
      ]
    },
    {
      "cell_type": "code",
      "metadata": {
        "id": "5Cfu-67iEIVB"
      },
      "source": [
        "proc_drop_opt_model = CNN_drop(len(proc_word2id), 8)\n",
        "optimizer = optim.RMSprop(proc_drop_opt_model.parameters(), lr=0.001)\n",
        "criterion = nn.BCELoss() # \n",
        "\n",
        "# веса модели и значения лосса храним там же, где и все остальные тензоры\n",
        "proc_drop_opt_model = proc_drop_opt_model.to(DEVICE)\n",
        "criterion = criterion.to(DEVICE)"
      ],
      "execution_count": 94,
      "outputs": []
    },
    {
      "cell_type": "code",
      "metadata": {
        "colab": {
          "base_uri": "https://localhost:8080/"
        },
        "id": "iQjPyyjIEIVB",
        "outputId": "4d46dc8d-3eb7-426c-faba-9320ea4ee252"
      },
      "source": [
        "proc_losses = []\n",
        "proc_losses_eval = []\n",
        "proc_f1s = []\n",
        "proc_f1s_eval = []\n",
        "\n",
        "for i in range(10):\n",
        "    print(f'\\nstarting Epoch {i+1}')\n",
        "    f1_value, epoch_loss = train(proc_drop_opt_model, proc_train_iterator, optimizer, criterion, metric=f1)\n",
        "    proc_losses.append(epoch_loss)\n",
        "    proc_f1s.append(f1_value)\n",
        "\n",
        "    f1_value_on_test, epoch_loss_on_test = evaluate(proc_drop_opt_model, proc_val_iterator, criterion, metric=f1)\n",
        "    proc_losses_eval.append(epoch_loss_on_test)\n",
        "    proc_f1s_eval.append(f1_value_on_test)"
      ],
      "execution_count": 95,
      "outputs": [
        {
          "output_type": "stream",
          "name": "stdout",
          "text": [
            "\n",
            "starting Epoch 1\n",
            "Training...\n",
            "Train loss: 0.660294771194458, Train f1: 0.6118546724319458\n",
            "Train loss: 0.6511087417602539, Train f1: 0.5565217733383179\n",
            "Train loss: 0.6378881931304932, Train f1: 0.6245282888412476\n",
            "Train loss: 0.6423840522766113, Train f1: 0.556053876876831\n",
            "Train loss: 0.642681360244751, Train f1: 0.5962488055229187\n",
            "Train loss: 0.6100953817367554, Train f1: 0.6355140805244446\n",
            "Train loss: 0.631356418132782, Train f1: 0.5406032204627991\n",
            "Train loss: 0.6159163117408752, Train f1: 0.561529278755188\n",
            "\n",
            "Validating...\n",
            "Val loss: 0.6061728000640869, Val f1: 0.6287424564361572\n",
            "Val loss: 0.5902143120765686, Val f1: 0.6461538672447205\n",
            "\n",
            "starting Epoch 2\n",
            "Training...\n",
            "Train loss: 0.6013942360877991, Train f1: 0.6251320242881775\n",
            "Train loss: 0.6054587960243225, Train f1: 0.6035242080688477\n",
            "Train loss: 0.5930371880531311, Train f1: 0.6718446612358093\n",
            "Train loss: 0.6002986431121826, Train f1: 0.6077982187271118\n",
            "Train loss: 0.6156030297279358, Train f1: 0.6060605645179749\n",
            "Train loss: 0.5834158658981323, Train f1: 0.7150442004203796\n",
            "Train loss: 0.5880671739578247, Train f1: 0.6465256810188293\n",
            "Train loss: 0.5979033708572388, Train f1: 0.6793893575668335\n",
            "\n",
            "Validating...\n",
            "Val loss: 0.5964401960372925, Val f1: 0.7171381115913391\n",
            "Val loss: 0.58343905210495, Val f1: 0.7212275862693787\n",
            "\n",
            "starting Epoch 3\n",
            "Training...\n",
            "Train loss: 0.6150009632110596, Train f1: 0.6648452281951904\n",
            "Train loss: 0.5784485340118408, Train f1: 0.6910490989685059\n",
            "Train loss: 0.5710592865943909, Train f1: 0.7301309704780579\n",
            "Train loss: 0.5928934812545776, Train f1: 0.6760829091072083\n",
            "Train loss: 0.5749077200889587, Train f1: 0.672497570514679\n",
            "Train loss: 0.5885683298110962, Train f1: 0.6447507739067078\n",
            "Train loss: 0.5612139701843262, Train f1: 0.7027540802955627\n",
            "Train loss: 0.5544943809509277, Train f1: 0.6978557109832764\n",
            "\n",
            "Validating...\n",
            "Val loss: 0.5752620697021484, Val f1: 0.6931818127632141\n",
            "Val loss: 0.5500679016113281, Val f1: 0.6921568512916565\n",
            "\n",
            "starting Epoch 4\n",
            "Training...\n",
            "Train loss: 0.5754735469818115, Train f1: 0.649779736995697\n",
            "Train loss: 0.5603429079055786, Train f1: 0.6916077136993408\n",
            "Train loss: 0.5774131417274475, Train f1: 0.7114695310592651\n",
            "Train loss: 0.5513397455215454, Train f1: 0.6763185262680054\n",
            "Train loss: 0.5532561540603638, Train f1: 0.7310468554496765\n",
            "Train loss: 0.5488340854644775, Train f1: 0.7083333730697632\n",
            "Train loss: 0.5426727533340454, Train f1: 0.7403414249420166\n",
            "Train loss: 0.5632328391075134, Train f1: 0.7021082043647766\n",
            "\n",
            "Validating...\n",
            "Val loss: 0.5791078209877014, Val f1: 0.6770185828208923\n",
            "Val loss: 0.5430001020431519, Val f1: 0.6702937483787537\n",
            "\n",
            "starting Epoch 5\n",
            "Training...\n",
            "Train loss: 0.5577442049980164, Train f1: 0.6631355881690979\n",
            "Train loss: 0.5480650663375854, Train f1: 0.6824542284011841\n",
            "Train loss: 0.5400420427322388, Train f1: 0.7232823967933655\n",
            "Train loss: 0.5423047542572021, Train f1: 0.7402715086936951\n",
            "Train loss: 0.5553586483001709, Train f1: 0.7114093899726868\n",
            "Train loss: 0.5381040573120117, Train f1: 0.7167300581932068\n",
            "Train loss: 0.5534040331840515, Train f1: 0.6222222447395325\n",
            "Train loss: 0.5421428084373474, Train f1: 0.6704035997390747\n",
            "\n",
            "Validating...\n",
            "Val loss: 0.5598796010017395, Val f1: 0.7317518591880798\n",
            "Val loss: 0.5279183983802795, Val f1: 0.728312611579895\n",
            "\n",
            "starting Epoch 6\n",
            "Training...\n",
            "Train loss: 0.5391426086425781, Train f1: 0.7017543911933899\n",
            "Train loss: 0.5469273328781128, Train f1: 0.7269303202629089\n",
            "Train loss: 0.5311733484268188, Train f1: 0.7596899271011353\n",
            "Train loss: 0.5358459949493408, Train f1: 0.7551201581954956\n",
            "Train loss: 0.5166059732437134, Train f1: 0.6986899375915527\n",
            "Train loss: 0.5451855659484863, Train f1: 0.7267709374427795\n",
            "Train loss: 0.5479505062103271, Train f1: 0.6967213153839111\n",
            "Train loss: 0.5016469955444336, Train f1: 0.7600732445716858\n",
            "\n",
            "Validating...\n",
            "Val loss: 0.5620616674423218, Val f1: 0.6981891393661499\n",
            "Val loss: 0.520473301410675, Val f1: 0.7045215368270874\n",
            "\n",
            "starting Epoch 7\n",
            "Training...\n",
            "Train loss: 0.535181999206543, Train f1: 0.7360308766365051\n",
            "Train loss: 0.5543080568313599, Train f1: 0.659217894077301\n",
            "Train loss: 0.5495636463165283, Train f1: 0.7649063467979431\n",
            "Train loss: 0.5508618354797363, Train f1: 0.6848167777061462\n",
            "Train loss: 0.5219067931175232, Train f1: 0.7460629343986511\n",
            "Train loss: 0.5171448588371277, Train f1: 0.7073684334754944\n",
            "Train loss: 0.5035711526870728, Train f1: 0.7380223870277405\n",
            "Train loss: 0.5134947299957275, Train f1: 0.7717205882072449\n",
            "\n",
            "Validating...\n",
            "Val loss: 0.546247124671936, Val f1: 0.7357798218727112\n",
            "Val loss: 0.5072819590568542, Val f1: 0.7502391934394836\n",
            "\n",
            "starting Epoch 8\n",
            "Training...\n",
            "Train loss: 0.5030680298805237, Train f1: 0.7551020383834839\n",
            "Train loss: 0.5359203219413757, Train f1: 0.715725839138031\n",
            "Train loss: 0.5048248171806335, Train f1: 0.7398057579994202\n",
            "Train loss: 0.520455002784729, Train f1: 0.7306930422782898\n",
            "Train loss: 0.5318734645843506, Train f1: 0.7519999742507935\n",
            "Train loss: 0.5155562162399292, Train f1: 0.6926605105400085\n",
            "Train loss: 0.48214811086654663, Train f1: 0.7599999904632568\n",
            "Train loss: 0.5022435188293457, Train f1: 0.7749338746070862\n",
            "\n",
            "Validating...\n",
            "Val loss: 0.5795544385910034, Val f1: 0.6746203899383545\n",
            "Val loss: 0.527096152305603, Val f1: 0.6734234094619751\n",
            "\n",
            "starting Epoch 9\n",
            "Training...\n",
            "Train loss: 0.4964893162250519, Train f1: 0.7541589736938477\n",
            "Train loss: 0.48586809635162354, Train f1: 0.7487386465072632\n",
            "Train loss: 0.505987823009491, Train f1: 0.7048458456993103\n",
            "Train loss: 0.5141479969024658, Train f1: 0.733137845993042\n",
            "Train loss: 0.48411744832992554, Train f1: 0.757515013217926\n",
            "Train loss: 0.4922547936439514, Train f1: 0.7590579986572266\n",
            "Train loss: 0.4740249812602997, Train f1: 0.7892293930053711\n",
            "Train loss: 0.49579834938049316, Train f1: 0.7539061903953552\n",
            "\n",
            "Validating...\n",
            "Val loss: 0.5442479848861694, Val f1: 0.723107635974884\n",
            "Val loss: 0.49939626455307007, Val f1: 0.7217573523521423\n",
            "\n",
            "starting Epoch 10\n",
            "Training...\n",
            "Train loss: 0.5220709443092346, Train f1: 0.7362977862358093\n",
            "Train loss: 0.5168496966362, Train f1: 0.76106196641922\n",
            "Train loss: 0.49854812026023865, Train f1: 0.7550047636032104\n",
            "Train loss: 0.5103117227554321, Train f1: 0.7034178376197815\n",
            "Train loss: 0.47724708914756775, Train f1: 0.7579364776611328\n",
            "Train loss: 0.4777441620826721, Train f1: 0.7678075432777405\n",
            "Train loss: 0.5044234395027161, Train f1: 0.7574391961097717\n",
            "Train loss: 0.5008612871170044, Train f1: 0.7394790053367615\n",
            "\n",
            "Validating...\n",
            "Val loss: 0.5341167449951172, Val f1: 0.7468959093093872\n",
            "Val loss: 0.49036502838134766, Val f1: 0.7419999837875366\n"
          ]
        }
      ]
    },
    {
      "cell_type": "code",
      "metadata": {
        "id": "lbuHhlKQEIVC"
      },
      "source": [
        "torch.save(proc_model, 'colab_proc_opt_model_1.pt')"
      ],
      "execution_count": 96,
      "outputs": []
    },
    {
      "cell_type": "code",
      "metadata": {
        "colab": {
          "base_uri": "https://localhost:8080/",
          "height": 295
        },
        "id": "U6iV3uRmEIVC",
        "outputId": "ba9f913c-f957-4f45-9c89-701a751dbb5d"
      },
      "source": [
        "plt.plot(proc_losses)\n",
        "plt.plot(proc_losses_eval)\n",
        "plt.title('BCE loss value')\n",
        "plt.ylabel('BCE loss')\n",
        "plt.xlabel('epoch')\n",
        "plt.legend(['train', 'val'], loc='upper right')\n",
        "plt.show()"
      ],
      "execution_count": 97,
      "outputs": [
        {
          "output_type": "display_data",
          "data": {
            "image/png": "[encoded data removed]",
            "text/plain": [
              "<Figure size 432x288 with 1 Axes>"
            ]
          },
          "metadata": {
            "needs_background": "light"
          }
        }
      ]
    },
    {
      "cell_type": "code",
      "metadata": {
        "colab": {
          "base_uri": "https://localhost:8080/",
          "height": 295
        },
        "id": "3EzXOnNNEIVC",
        "outputId": "96159559-de2b-48d0-f2b8-881c8feed5ba"
      },
      "source": [
        "plt.plot(proc_f1s)\n",
        "plt.plot(proc_f1s_eval)\n",
        "plt.title('f1 value')\n",
        "plt.ylabel('f1 value')\n",
        "plt.xlabel('epoch')\n",
        "plt.legend(['train', 'val'], loc='upper right')\n",
        "plt.show()"
      ],
      "execution_count": 98,
      "outputs": [
        {
          "output_type": "display_data",
          "data": {
            "image/png": "[encoded data removed]",
            "text/plain": [
              "<Figure size 432x288 with 1 Axes>"
            ]
          },
          "metadata": {
            "needs_background": "light"
          }
        }
      ]
    },
    {
      "cell_type": "code",
      "metadata": {
        "id": "_9RZHzd_EIVC"
      },
      "source": [
        "proc_fp, proc_fn, proc_tp, proc_tn = predict(proc_drop_opt_model, proc_val_iterator, proc_id2word)"
      ],
      "execution_count": 99,
      "outputs": []
    },
    {
      "cell_type": "code",
      "metadata": {
        "colab": {
          "base_uri": "https://localhost:8080/"
        },
        "id": "L90-KuZGEIVD",
        "outputId": "b71b15e5-07a1-4556-a305-369184792864"
      },
      "source": [
        "len(proc_fp + proc_fn + proc_tp + proc_tn)"
      ],
      "execution_count": 100,
      "outputs": [
        {
          "output_type": "execute_result",
          "data": {
            "text/plain": [
              "45367"
            ]
          },
          "metadata": {},
          "execution_count": 100
        }
      ]
    },
    {
      "cell_type": "code",
      "metadata": {
        "id": "kVObgLqqEIVD"
      },
      "source": [
        "proc_drop_opt_accuracy = len(proc_tp + proc_tn) / len(proc_fp + proc_fn + proc_tp + proc_tn)\n",
        "proc_drop_opt_precision = len(proc_tp) / (len(proc_tp) + len(proc_fp))\n",
        "proc_drop_opt_recall= len(proc_tp) / (len(proc_tp) + len(proc_fn))"
      ],
      "execution_count": 101,
      "outputs": []
    },
    {
      "cell_type": "code",
      "metadata": {
        "colab": {
          "base_uri": "https://localhost:8080/"
        },
        "id": "F3FIoZ2KQYgX",
        "outputId": "9c0dfd71-9ce7-4c91-c2ff-614516a533e3"
      },
      "source": [
        "# было - бейслайн\n",
        "proc_accuracy, proc_precision, proc_recall"
      ],
      "execution_count": null,
      "outputs": [
        {
          "output_type": "execute_result",
          "data": {
            "text/plain": [
              "(0.7394581964864329, 0.7504028648164727, 0.7286161335187761)"
            ]
          },
          "metadata": {},
          "execution_count": 89
        }
      ]
    },
    {
      "cell_type": "code",
      "metadata": {
        "colab": {
          "base_uri": "https://localhost:8080/"
        },
        "id": "Rm5hG8PpQYga",
        "outputId": "c6212e00-4ab7-4981-c332-fac651fedbda"
      },
      "source": [
        "# было - с дропаутом\n",
        "proc_drop_accuracy, proc_drop_precision, proc_drop_recall"
      ],
      "execution_count": null,
      "outputs": [
        {
          "output_type": "execute_result",
          "data": {
            "text/plain": [
              "(0.7407366588048582, 0.7308860967397552, 0.7736439499304589)"
            ]
          },
          "metadata": {},
          "execution_count": 55
        }
      ]
    },
    {
      "cell_type": "code",
      "metadata": {
        "colab": {
          "base_uri": "https://localhost:8080/"
        },
        "id": "YSYMlT4WEIVD",
        "outputId": "0d6ab8ea-1960-4353-bac5-2286de483304"
      },
      "source": [
        "# стало - с дропаутом и другим оптимайзером\n",
        "proc_drop_opt_accuracy, proc_drop_opt_precision, proc_drop_opt_recall"
      ],
      "execution_count": 102,
      "outputs": [
        {
          "output_type": "execute_result",
          "data": {
            "text/plain": [
              "(0.7373641633786673, 0.7501917091433984, 0.7228355354659249)"
            ]
          },
          "metadata": {},
          "execution_count": 102
        }
      ]
    },
    {
      "cell_type": "markdown",
      "metadata": {
        "id": "YP_b2Al6EnSN"
      },
      "source": [
        "А теперь всё снова вернулось к бейслайну: незначительные ухудшения по всем трём метрикам, все улучшения от дропаута нейтрализованы((  \n",
        "\n",
        "На этом этапе признаём лучшей моделью вариант с дропаутом и переходим ко второй архитектуре"
      ]
    },
    {
      "cell_type": "code",
      "metadata": {
        "id": "tZKrWopAfmXK"
      },
      "source": [
        ""
      ],
      "execution_count": null,
      "outputs": []
    },
    {
      "cell_type": "markdown",
      "metadata": {
        "id": "jonFZTtlkNHg"
      },
      "source": [
        "### CNN по словам и символам"
      ]
    },
    {
      "cell_type": "code",
      "metadata": {
        "colab": {
          "base_uri": "https://localhost:8080/"
        },
        "id": "dznpQf1BkQ__",
        "outputId": "69191d61-9cab-4797-c2ad-9be5e5297240"
      },
      "source": [
        "sym_vocab = Counter()\n",
        "for text in data['text']:\n",
        "    sym_vocab.update(list(text))\n",
        "print('всего уникальных символов:', len(sym_vocab))"
      ],
      "execution_count": 27,
      "outputs": [
        {
          "output_type": "stream",
          "name": "stdout",
          "text": [
            "всего уникальных символов: 456\n"
          ]
        }
      ]
    },
    {
      "cell_type": "code",
      "metadata": {
        "colab": {
          "base_uri": "https://localhost:8080/"
        },
        "id": "wOXUtRaYkSN4",
        "outputId": "951f81ba-1bac-4ab2-e0b1-580cce977def"
      },
      "source": [
        "filtered_sym_vocab = set()\n",
        "\n",
        "for symbol in sym_vocab:\n",
        "    if sym_vocab[symbol] > 5:\n",
        "        filtered_sym_vocab.add(symbol)\n",
        "print('уникальных символов, вcтретившихся больше 5 раз:', len(filtered_sym_vocab))"
      ],
      "execution_count": 28,
      "outputs": [
        {
          "output_type": "stream",
          "name": "stdout",
          "text": [
            "уникальных символов, вcтретившихся больше 5 раз: 234\n"
          ]
        }
      ]
    },
    {
      "cell_type": "code",
      "metadata": {
        "id": "JbMGwmopkSQa"
      },
      "source": [
        "# word2id остаётся прежний,\n",
        "# symbol2id делаю новый\n",
        "\n",
        "symbol2id = {'PAD':0}\n",
        "\n",
        "for symbol in filtered_sym_vocab:\n",
        "    symbol2id[symbol] = len(symbol2id)"
      ],
      "execution_count": 29,
      "outputs": []
    },
    {
      "cell_type": "code",
      "metadata": {
        "id": "tYxvWw9YkSSz"
      },
      "source": [
        "#обратный словарь\n",
        "id2symbol = {i:symbol for symbol, i in symbol2id.items()}"
      ],
      "execution_count": 30,
      "outputs": []
    },
    {
      "cell_type": "markdown",
      "metadata": {
        "id": "3d-Bpc5gf2Tt"
      },
      "source": [
        "#### Dataset & DataLoader"
      ]
    },
    {
      "cell_type": "code",
      "metadata": {
        "id": "2lkFA0vUkSVO"
      },
      "source": [
        "class CombinedDataset(Dataset):\n",
        "\n",
        "    def __init__(self, dataset, word2id, symbol2id, DEVICE):\n",
        "        self.dataset = dataset['text'].values\n",
        "        self.word2id = word2id\n",
        "        self.symbol2id = symbol2id\n",
        "        self.length = dataset.shape[0]\n",
        "        self.target = torch.Tensor(dataset['label'].values)\n",
        "        self.device = DEVICE\n",
        "\n",
        "    def __len__(self):\n",
        "        return self.length\n",
        "\n",
        "    def __getitem__(self, index): \n",
        "        words = word_tokenize(self.dataset[index])\n",
        "        word_ids = torch.LongTensor([self.word2id[word] for word in words if word in self.word2id])\n",
        "        symbols = list(self.dataset[index])\n",
        "        sym_ids = torch.LongTensor([self.symbol2id[symbol] for symbol in symbols if symbol in self.symbol2id])\n",
        "        y = [self.target[index]]\n",
        "        return word_ids, sym_ids, y\n",
        "\n",
        "    def collate_fn(self, batch): #этот метод можно реализовывать и отдельно,\n",
        "    # он понадобится для DataLoader во время итерации по батчам\n",
        "      word_ids, sym_ids, y = list(zip(*batch))\n",
        "      padded_word_ids = pad_sequence(word_ids, batch_first=True).to(self.device)\n",
        "      padded_sym_ids = pad_sequence(sym_ids, batch_first=True).to(self.device)\n",
        "      y = torch.Tensor(y).to(self.device)\n",
        "      return padded_word_ids, padded_sym_ids, y"
      ],
      "execution_count": 31,
      "outputs": []
    },
    {
      "cell_type": "code",
      "metadata": {
        "id": "qpGx0UAB4ipl"
      },
      "source": [
        "second_train_dataset = CombinedDataset(train_data, word2id, symbol2id, DEVICE)\n",
        "second_train_sampler = RandomSampler(second_train_dataset)\n",
        "second_train_iterator = DataLoader(second_train_dataset, collate_fn = second_train_dataset.collate_fn, sampler=second_train_sampler, batch_size=1024)"
      ],
      "execution_count": 32,
      "outputs": []
    },
    {
      "cell_type": "code",
      "metadata": {
        "id": "aiODvM274isI"
      },
      "source": [
        "batch = next(iter(second_train_iterator))"
      ],
      "execution_count": 33,
      "outputs": []
    },
    {
      "cell_type": "code",
      "metadata": {
        "colab": {
          "base_uri": "https://localhost:8080/"
        },
        "id": "yFh6mP034iuv",
        "outputId": "b18134cd-c824-4a08-d170-9b2f1582aefe"
      },
      "source": [
        "batch[0].shape"
      ],
      "execution_count": 34,
      "outputs": [
        {
          "output_type": "execute_result",
          "data": {
            "text/plain": [
              "torch.Size([1024, 45])"
            ]
          },
          "metadata": {},
          "execution_count": 34
        }
      ]
    },
    {
      "cell_type": "code",
      "metadata": {
        "colab": {
          "base_uri": "https://localhost:8080/"
        },
        "id": "fzSlnsqC4iw_",
        "outputId": "cda35f61-fa70-4a90-9a0d-29abb9b4bafb"
      },
      "source": [
        "# декодируем через слова\n",
        "[id2word[int(i)] for i in batch[0][0]]"
      ],
      "execution_count": 35,
      "outputs": [
        {
          "output_type": "execute_result",
          "data": {
            "text/plain": [
              "['Второй',\n",
              " 'понедельник',\n",
              " 'подряд',\n",
              " 'совесть',\n",
              " 'меня',\n",
              " 'за',\n",
              " 'то',\n",
              " ',',\n",
              " 'что',\n",
              " 'я',\n",
              " 'не',\n",
              " 'иду',\n",
              " 'на',\n",
              " 'мероприятие',\n",
              " 'в',\n",
              " '(',\n",
              " 'PAD',\n",
              " 'PAD',\n",
              " 'PAD',\n",
              " 'PAD',\n",
              " 'PAD',\n",
              " 'PAD',\n",
              " 'PAD',\n",
              " 'PAD',\n",
              " 'PAD',\n",
              " 'PAD',\n",
              " 'PAD',\n",
              " 'PAD',\n",
              " 'PAD',\n",
              " 'PAD',\n",
              " 'PAD',\n",
              " 'PAD',\n",
              " 'PAD',\n",
              " 'PAD',\n",
              " 'PAD',\n",
              " 'PAD',\n",
              " 'PAD',\n",
              " 'PAD',\n",
              " 'PAD',\n",
              " 'PAD',\n",
              " 'PAD',\n",
              " 'PAD',\n",
              " 'PAD',\n",
              " 'PAD',\n",
              " 'PAD']"
            ]
          },
          "metadata": {},
          "execution_count": 35
        }
      ]
    },
    {
      "cell_type": "code",
      "metadata": {
        "colab": {
          "base_uri": "https://localhost:8080/"
        },
        "id": "AsOo9BezJRGf",
        "outputId": "236c76a0-df23-46cf-acd3-77bef36d00ab"
      },
      "source": [
        "# декодируем через символы\n",
        "[id2symbol[int(i)] for i in batch[1][0]]"
      ],
      "execution_count": 36,
      "outputs": [
        {
          "output_type": "execute_result",
          "data": {
            "text/plain": [
              "['В',\n",
              " 'т',\n",
              " 'о',\n",
              " 'р',\n",
              " 'о',\n",
              " 'й',\n",
              " ' ',\n",
              " 'п',\n",
              " 'о',\n",
              " 'н',\n",
              " 'е',\n",
              " 'д',\n",
              " 'е',\n",
              " 'л',\n",
              " 'ь',\n",
              " 'н',\n",
              " 'и',\n",
              " 'к',\n",
              " ' ',\n",
              " 'п',\n",
              " 'о',\n",
              " 'д',\n",
              " 'р',\n",
              " 'я',\n",
              " 'д',\n",
              " ' ',\n",
              " 'с',\n",
              " 'о',\n",
              " 'в',\n",
              " 'е',\n",
              " 'с',\n",
              " 'т',\n",
              " 'ь',\n",
              " ' ',\n",
              " 'с',\n",
              " 'ж',\n",
              " 'и',\n",
              " 'р',\n",
              " 'а',\n",
              " 'е',\n",
              " 'т',\n",
              " ' ',\n",
              " 'м',\n",
              " 'е',\n",
              " 'н',\n",
              " 'я',\n",
              " ' ',\n",
              " 'з',\n",
              " 'а',\n",
              " ' ',\n",
              " 'т',\n",
              " 'о',\n",
              " ',',\n",
              " ' ',\n",
              " 'ч',\n",
              " 'т',\n",
              " 'о',\n",
              " ' ',\n",
              " 'я',\n",
              " ' ',\n",
              " 'н',\n",
              " 'е',\n",
              " ' ',\n",
              " 'и',\n",
              " 'д',\n",
              " 'у',\n",
              " ' ',\n",
              " 'н',\n",
              " 'а',\n",
              " ' ',\n",
              " 'м',\n",
              " 'е',\n",
              " 'р',\n",
              " 'о',\n",
              " 'п',\n",
              " 'р',\n",
              " 'и',\n",
              " 'я',\n",
              " 'т',\n",
              " 'и',\n",
              " 'е',\n",
              " ' ',\n",
              " 'в',\n",
              " ' ',\n",
              " 'Д',\n",
              " 'П',\n",
              " '(',\n",
              " 'PAD',\n",
              " 'PAD',\n",
              " 'PAD',\n",
              " 'PAD',\n",
              " 'PAD',\n",
              " 'PAD',\n",
              " 'PAD',\n",
              " 'PAD',\n",
              " 'PAD',\n",
              " 'PAD',\n",
              " 'PAD',\n",
              " 'PAD',\n",
              " 'PAD',\n",
              " 'PAD',\n",
              " 'PAD',\n",
              " 'PAD',\n",
              " 'PAD',\n",
              " 'PAD',\n",
              " 'PAD',\n",
              " 'PAD',\n",
              " 'PAD',\n",
              " 'PAD',\n",
              " 'PAD',\n",
              " 'PAD',\n",
              " 'PAD',\n",
              " 'PAD',\n",
              " 'PAD',\n",
              " 'PAD',\n",
              " 'PAD',\n",
              " 'PAD',\n",
              " 'PAD',\n",
              " 'PAD',\n",
              " 'PAD',\n",
              " 'PAD',\n",
              " 'PAD',\n",
              " 'PAD',\n",
              " 'PAD',\n",
              " 'PAD',\n",
              " 'PAD',\n",
              " 'PAD',\n",
              " 'PAD',\n",
              " 'PAD',\n",
              " 'PAD',\n",
              " 'PAD',\n",
              " 'PAD',\n",
              " 'PAD',\n",
              " 'PAD',\n",
              " 'PAD',\n",
              " 'PAD',\n",
              " 'PAD',\n",
              " 'PAD',\n",
              " 'PAD',\n",
              " 'PAD',\n",
              " 'PAD',\n",
              " 'PAD',\n",
              " 'PAD',\n",
              " 'PAD',\n",
              " 'PAD',\n",
              " 'PAD',\n",
              " 'PAD',\n",
              " 'PAD',\n",
              " 'PAD']"
            ]
          },
          "metadata": {},
          "execution_count": 36
        }
      ]
    },
    {
      "cell_type": "code",
      "metadata": {
        "colab": {
          "base_uri": "https://localhost:8080/"
        },
        "id": "hntz_iJ98tm-",
        "outputId": "4f2de8ef-2f78-4dcc-dddd-e535bb580439"
      },
      "source": [
        "# а это верный ответ\n",
        "batch[2][0]"
      ],
      "execution_count": 37,
      "outputs": [
        {
          "output_type": "execute_result",
          "data": {
            "text/plain": [
              "tensor([0.], device='cuda:0')"
            ]
          },
          "metadata": {},
          "execution_count": 37
        }
      ]
    },
    {
      "cell_type": "code",
      "metadata": {
        "id": "4wBFmTl-8tnJ"
      },
      "source": [
        "second_val_dataset = CombinedDataset(val_data, word2id, symbol2id, DEVICE)\n",
        "second_val_sampler = SequentialSampler(second_val_dataset)\n",
        "second_val_iterator = DataLoader(second_val_dataset, collate_fn = second_val_dataset.collate_fn, sampler=second_val_sampler, batch_size=1024)"
      ],
      "execution_count": 38,
      "outputs": []
    },
    {
      "cell_type": "code",
      "metadata": {
        "colab": {
          "base_uri": "https://localhost:8080/"
        },
        "id": "HdugS8Fy8tnJ",
        "outputId": "ddbb2799-1e1a-4770-c953-c1f7127f62c5"
      },
      "source": [
        "test_batch = next(iter(second_val_iterator))\n",
        "test_batch[0].shape"
      ],
      "execution_count": 39,
      "outputs": [
        {
          "output_type": "execute_result",
          "data": {
            "text/plain": [
              "torch.Size([1024, 46])"
            ]
          },
          "metadata": {},
          "execution_count": 39
        }
      ]
    },
    {
      "cell_type": "markdown",
      "metadata": {
        "id": "sHYmOyF0f6Gw"
      },
      "source": [
        "#### Загрузка предобученных векторов"
      ]
    },
    {
      "cell_type": "code",
      "metadata": {
        "colab": {
          "base_uri": "https://localhost:8080/"
        },
        "id": "JrVSjy9rgw28",
        "outputId": "7d700be6-0b04-4274-c80a-4701f1e1450e"
      },
      "source": [
        "!wget https://storage.yandexcloud.net/natasha-navec/packs/navec_hudlit_v1_12B_500K_300d_100q.tar"
      ],
      "execution_count": 24,
      "outputs": [
        {
          "output_type": "stream",
          "name": "stdout",
          "text": [
            "--2021-11-24 15:22:08--  https://storage.yandexcloud.net/natasha-navec/packs/navec_hudlit_v1_12B_500K_300d_100q.tar\n",
            "Resolving storage.yandexcloud.net (storage.yandexcloud.net)... 213.180.193.243, 2a02:6b8::1d9\n",
            "Connecting to storage.yandexcloud.net (storage.yandexcloud.net)|213.180.193.243|:443... connected.\n",
            "HTTP request sent, awaiting response... 200 OK\n",
            "Length: 53012480 (51M) [application/x-tar]\n",
            "Saving to: ‘navec_hudlit_v1_12B_500K_300d_100q.tar’\n",
            "\n",
            "navec_hudlit_v1_12B 100%[===================>]  50.56M  46.1MB/s    in 1.1s    \n",
            "\n",
            "2021-11-24 15:22:10 (46.1 MB/s) - ‘navec_hudlit_v1_12B_500K_300d_100q.tar’ saved [53012480/53012480]\n",
            "\n"
          ]
        }
      ]
    },
    {
      "cell_type": "code",
      "metadata": {
        "id": "qI3zxCdjgxDh"
      },
      "source": [
        "path = 'navec_hudlit_v1_12B_500K_300d_100q.tar'\n",
        "navec = Navec.load(path)"
      ],
      "execution_count": 78,
      "outputs": []
    },
    {
      "cell_type": "code",
      "metadata": {
        "colab": {
          "base_uri": "https://localhost:8080/"
        },
        "id": "ssfX_BpAjUR2",
        "outputId": "b6946a5e-d4dd-437a-e946-42d138cafa4a"
      },
      "source": [
        "# собрать матрицу векторов в нужном порядке\n",
        "ids = []\n",
        "for word in word2id:\n",
        "    lemma = morph.parse(word)[0].normal_form\n",
        "    if lemma in navec:\n",
        "        ids.append(navec.vocab[lemma])\n",
        "    elif word == 'PAD':\n",
        "        ids.append(navec.vocab['<pad>'])\n",
        "    else:\n",
        "        ids.append(navec.vocab['<unk>'])\n",
        "\n",
        "emb = NavecEmbedding(navec)\n",
        "input = torch.tensor(ids)\n",
        "weights = emb(input)\n",
        "weights.shape"
      ],
      "execution_count": 80,
      "outputs": [
        {
          "output_type": "execute_result",
          "data": {
            "text/plain": [
              "torch.Size([33671, 300])"
            ]
          },
          "metadata": {},
          "execution_count": 80
        }
      ]
    },
    {
      "cell_type": "markdown",
      "metadata": {
        "id": "hxKzYWfOgBSx"
      },
      "source": [
        "#### CNN2 model"
      ]
    },
    {
      "cell_type": "code",
      "metadata": {
        "id": "nLWdG3CKLiyx"
      },
      "source": [
        "class CNN2(nn.Module):\n",
        "    \n",
        "    def __init__(self, word_vocab_size, sym_vocab_size, embedding_dim):\n",
        "        super().__init__()\n",
        "        self.word_embedding = nn.Embedding.from_pretrained(weights, freeze=True)\n",
        "        self.mean = nn.AvgPool1d(kernel_size=2, stride=2)\n",
        "        self.linear = nn.Linear(in_features=300, out_features=101)\n",
        "        self.sym_embedding = nn.Embedding(sym_vocab_size, embedding_dim)\n",
        "        self.bigrams = nn.Conv1d(in_channels=embedding_dim, out_channels=120, kernel_size=2, padding='same')\n",
        "        self.trigrams = nn.Conv1d(in_channels=embedding_dim, out_channels=80, kernel_size=3, padding='same')\n",
        "        self.hidden = nn.Linear(in_features=301, out_features=1)\n",
        "        # self.dropout = nn.Dropout(p=0.5)\n",
        "        self.out = nn.Sigmoid()\n",
        "\n",
        "    def forward(self, sent_word, sent_sym):\n",
        "        #batch_size x word_seq_len\n",
        "        embedded_word = self.word_embedding(sent_word)\n",
        "        #batch_size x word_seq_len x word_embedding_dim\n",
        "        embedded_word = embedded_word.transpose(1,2)\n",
        "        #batch_size x word_embedding_dim x word_seq_len\n",
        "        mean_sent = embedded_word.mean(2)\n",
        "        # batch_size x word_embedding_dim\n",
        "        X_vector = self.linear(mean_sent)\n",
        "        # batch_size x word_embedding_dim\n",
        "\n",
        "        embedded_sym = self.sym_embedding(sent_sym)\n",
        "        # batch_size x sym_seq_len x sym_embedding_dim\n",
        "        embedded_sym = embedded_sym.transpose(1,2)\n",
        "        #batch_size x sym_embedding_dim x sym_seq_len\n",
        "        feature_map_bigrams = self.bigrams(embedded_sym)\n",
        "        #batch_size x filter_count2 x sym_seq_len* \n",
        "        feature_map_trigrams = self.trigrams(embedded_sym)\n",
        "        #batch_size x filter_count3 x sym_seq_len*\n",
        "\n",
        "        pooling_bi = feature_map_bigrams.max(2)[0]\n",
        "        # batch_size x filter_count2\n",
        "        pooling_tri = feature_map_trigrams.max(2)[0]\n",
        "        # batch_size x filter_count3\n",
        "        concat = torch.cat((pooling_bi, pooling_tri, X_vector), 1)\n",
        "        # batch_size x (filter_count2 + filter_count3 + word_embedding_dim)\n",
        "        logits = self.hidden(concat)\n",
        "        logits = self.out(logits)\n",
        "        return logits\n",
        "      \n",
        "        \n",
        "    "
      ],
      "execution_count": 81,
      "outputs": []
    },
    {
      "cell_type": "code",
      "metadata": {
        "colab": {
          "base_uri": "https://localhost:8080/"
        },
        "id": "YIXTO-XQl153",
        "outputId": "2c13f887-fbdd-4885-ed08-a4e51872ad71"
      },
      "source": [
        "batch_word, batch_symbol, y = next(iter(second_train_iterator))\n",
        "batch_word, batch_symbol, y = batch_word.to(device='cpu'), batch_symbol.to(device='cpu'), y.to(device='cpu')\n",
        "print(batch_word)"
      ],
      "execution_count": 83,
      "outputs": [
        {
          "output_type": "stream",
          "name": "stdout",
          "text": [
            "tensor([[11312, 25382, 28216,  ...,     0,     0,     0],\n",
            "        [17950,  6451, 32280,  ...,     0,     0,     0],\n",
            "        [19102,  9110,  9649,  ...,     0,     0,     0],\n",
            "        ...,\n",
            "        [19102, 30431,  6829,  ...,     0,     0,     0],\n",
            "        [19102, 17028, 11844,  ...,     0,     0,     0],\n",
            "        [19102,  4168, 13948,  ...,     0,     0,     0]])\n"
          ]
        }
      ]
    },
    {
      "cell_type": "code",
      "metadata": {
        "colab": {
          "base_uri": "https://localhost:8080/"
        },
        "id": "Y5kGuk8pmqj3",
        "outputId": "977b76db-3bf2-45c1-95b4-8e30c8aaa4e6"
      },
      "source": [
        "print(batch_symbol)"
      ],
      "execution_count": 84,
      "outputs": [
        {
          "output_type": "stream",
          "name": "stdout",
          "text": [
            "tensor([[205, 115,  66,  ...,   0,   0,   0],\n",
            "        [ 20, 188, 144,  ...,   0,   0,   0],\n",
            "        [ 22, 122,  99,  ...,   0,   0,   0],\n",
            "        ...,\n",
            "        [ 22, 165, 194,  ...,   0,   0,   0],\n",
            "        [ 22, 218, 163,  ...,   0,   0,   0],\n",
            "        [ 22,  28,  99,  ..., 153, 227, 119]])\n"
          ]
        }
      ]
    },
    {
      "cell_type": "code",
      "metadata": {
        "colab": {
          "base_uri": "https://localhost:8080/"
        },
        "id": "3ni6WUKYl154",
        "outputId": "6a748ef5-7482-4b53-f895-3c444345c26f"
      },
      "source": [
        "y"
      ],
      "execution_count": 85,
      "outputs": [
        {
          "output_type": "execute_result",
          "data": {
            "text/plain": [
              "tensor([[0.],\n",
              "        [0.],\n",
              "        [0.],\n",
              "        ...,\n",
              "        [0.],\n",
              "        [0.],\n",
              "        [1.]])"
            ]
          },
          "metadata": {},
          "execution_count": 85
        }
      ]
    },
    {
      "cell_type": "code",
      "metadata": {
        "colab": {
          "base_uri": "https://localhost:8080/"
        },
        "id": "xT0LOl0Z0GNV",
        "outputId": "34e42fb1-e448-4a2c-8a6d-61b671ca584d"
      },
      "source": [
        "model2 = CNN2(len(id2word), len(id2symbol), 20)\n",
        "output = model2(batch_word, batch_symbol)\n",
        "print(output)"
      ],
      "execution_count": 86,
      "outputs": [
        {
          "output_type": "stream",
          "name": "stdout",
          "text": [
            "tensor([[0.4349],\n",
            "        [0.4066],\n",
            "        [0.5008],\n",
            "        ...,\n",
            "        [0.4946],\n",
            "        [0.4159],\n",
            "        [0.4512]], grad_fn=<SigmoidBackward0>)\n"
          ]
        },
        {
          "output_type": "stream",
          "name": "stderr",
          "text": [
            "/usr/local/lib/python3.7/dist-packages/torch/nn/modules/conv.py:298: UserWarning: Using padding='same' with even kernel lengths and odd dilation may require a zero-padded copy of the input be created (Triggered internally at  ../aten/src/ATen/native/Convolution.cpp:647.)\n",
            "  self.padding, self.dilation, self.groups)\n"
          ]
        }
      ]
    },
    {
      "cell_type": "markdown",
      "metadata": {
        "id": "1siGCykygGFb"
      },
      "source": [
        "#### training loop"
      ]
    },
    {
      "cell_type": "code",
      "metadata": {
        "id": "GEqo61srreMo"
      },
      "source": [
        "def train(model, iterator, optimizer, criterion, metric):\n",
        "    print('Training...')\n",
        "    epoch_loss = 0 # для подсчета среднего лосса на всех батчах\n",
        "    epoch_metric = 0\n",
        "    model.train()  # ставим модель в обучение, явно указываем, что сейчас надо будет хранить градиенты у всех весов\n",
        "\n",
        "    for i, (batch_word, batch_symbol, ys) in enumerate(iterator): #здесь передаю индексы слова и символов отдельно\n",
        "        optimizer.zero_grad()  #обнуляем градиенты\n",
        "        preds = model(batch_word, batch_symbol)  #прогоняем данные через модель\n",
        "        loss = criterion(preds, ys) #считаем значение функции потерь  \n",
        "        loss.backward() #считаем градиенты  \n",
        "        optimizer.step() #обновляем веса \n",
        "        epoch_loss += loss.item() #сохраняем значение функции потерь\n",
        "        \n",
        "        batch_metric = metric(preds.round().long(), ys.long(), ignore_index=0)\n",
        "        epoch_metric += batch_metric\n",
        "        if not (i + 1) % 20:\n",
        "            print(f'Train loss: {loss.item()}, Train f1: {batch_metric}')\n",
        "            #print(f'Train loss: {epoch_loss/i}, Train f1: {epoch_metric/i}')\n",
        "        \n",
        "    return epoch_metric / len(iterator), epoch_loss / len(iterator) # возвращаем среднее значение по всей выборке"
      ],
      "execution_count": 88,
      "outputs": []
    },
    {
      "cell_type": "code",
      "metadata": {
        "id": "r_BXnQoqreM3"
      },
      "source": [
        "def evaluate(model, iterator, criterion, metric):\n",
        "    print(\"\\nValidating...\")\n",
        "    epoch_loss = 0\n",
        "    epoch_metric = 0\n",
        "    model.eval() \n",
        "    with torch.no_grad():\n",
        "        for i, (batch_word, batch_symbol, ys) in enumerate(iterator):   \n",
        "            preds = model(batch_word, batch_symbol)  # делаем предсказания на тесте\n",
        "            loss = criterion(preds, ys)   # считаем значения функции ошибки для статистики  \n",
        "            epoch_loss += loss.item()\n",
        "            batch_metric = metric(preds.round().long(), ys.long(), ignore_index=0)\n",
        "            epoch_metric += batch_metric\n",
        "\n",
        "            if not (i + 1) % 20:\n",
        "              print(f'Val loss: {loss.item()}, Val f1: {batch_metric}')\n",
        "              #print(f'Val loss: {epoch_loss/i}, Val f1: {epoch_metric/i}')\n",
        "        \n",
        "    return epoch_metric / len(iterator), epoch_loss / len(iterator) # возвращаем среднее значение по всей выборке"
      ],
      "execution_count": 89,
      "outputs": []
    },
    {
      "cell_type": "markdown",
      "metadata": {
        "id": "hCPNg6EkreM3"
      },
      "source": [
        "Инициализируем модель, задаем оптимизатор и функцию потерь"
      ]
    },
    {
      "cell_type": "code",
      "metadata": {
        "id": "yf-7ALOkreM4"
      },
      "source": [
        "model2 = CNN2(len(word2id), len(symbol2id), 20)\n",
        "optimizer = optim.Adam(model2.parameters(), lr=0.001)\n",
        "criterion = nn.BCELoss()\n",
        "\n",
        "# веса модели и значения лосса храним там же, где и все остальные тензоры\n",
        "model2 = model2.to(DEVICE)\n",
        "criterion = criterion.to(DEVICE)"
      ],
      "execution_count": 92,
      "outputs": []
    },
    {
      "cell_type": "markdown",
      "metadata": {
        "id": "xe-CHWHmreM4"
      },
      "source": [
        "#### Запуск обучения!"
      ]
    },
    {
      "cell_type": "code",
      "metadata": {
        "colab": {
          "base_uri": "https://localhost:8080/"
        },
        "id": "qPbSxbWNreM5",
        "outputId": "5c8a1d60-03fc-4837-ddc5-f816f115eb10"
      },
      "source": [
        "second_losses = []\n",
        "second_losses_eval = []\n",
        "second_f1s = []\n",
        "second_f1s_eval = []\n",
        "\n",
        "for i in range(10):\n",
        "    print(f'\\nstarting Epoch {i+1}')\n",
        "    f1_value, epoch_loss = train(model2, second_train_iterator, optimizer, criterion, metric=f1)\n",
        "    second_losses.append(epoch_loss)\n",
        "    second_f1s.append(f1_value)\n",
        "\n",
        "    f1_value_on_test, epoch_loss_on_test = evaluate(model2, second_val_iterator, criterion, metric=f1)\n",
        "    second_losses_eval.append(epoch_loss_on_test)\n",
        "    second_f1s_eval.append(f1_value_on_test)"
      ],
      "execution_count": 93,
      "outputs": [
        {
          "output_type": "stream",
          "name": "stdout",
          "text": [
            "\n",
            "starting Epoch 1\n",
            "Training...\n",
            "Train loss: 0.6227412223815918, Train f1: 0.6471278071403503\n",
            "Train loss: 0.4763016104698181, Train f1: 0.9191729426383972\n",
            "Train loss: 0.29055556654930115, Train f1: 0.954285740852356\n",
            "Train loss: 0.14582787454128265, Train f1: 0.9848484992980957\n",
            "Train loss: 0.08442117273807526, Train f1: 0.9811676144599915\n",
            "Train loss: 0.0607309453189373, Train f1: 0.9826589822769165\n",
            "Train loss: 0.03777296841144562, Train f1: 0.9861111044883728\n",
            "Train loss: 0.032941680401563644, Train f1: 0.9922630786895752\n",
            "\n",
            "Validating...\n",
            "Val loss: 0.034615859389305115, Val f1: 0.9902344346046448\n",
            "Val loss: 0.026017049327492714, Val f1: 0.993262767791748\n",
            "\n",
            "starting Epoch 2\n",
            "Training...\n",
            "Train loss: 0.021573686972260475, Train f1: 0.9951503276824951\n",
            "Train loss: 0.01634191907942295, Train f1: 0.9979550242424011\n",
            "Train loss: 0.021863460540771484, Train f1: 0.992337167263031\n",
            "Train loss: 0.01884131133556366, Train f1: 0.9934640526771545\n",
            "Train loss: 0.0152808902785182, Train f1: 0.9939637780189514\n",
            "Train loss: 0.008542867377400398, Train f1: 0.9990431070327759\n",
            "Train loss: 0.009367444552481174, Train f1: 0.9971936345100403\n",
            "Train loss: 0.004991857800632715, Train f1: 1.0\n",
            "\n",
            "Validating...\n",
            "Val loss: 0.011103324592113495, Val f1: 0.9961013793945312\n",
            "Val loss: 0.009457755833864212, Val f1: 0.9961389899253845\n",
            "\n",
            "starting Epoch 3\n",
            "Training...\n",
            "Train loss: 0.00823916494846344, Train f1: 0.997123658657074\n",
            "Train loss: 0.004860924556851387, Train f1: 0.9990167021751404\n",
            "Train loss: 0.0026389872655272484, Train f1: 1.0\n",
            "Train loss: 0.0038895518518984318, Train f1: 0.9990627765655518\n",
            "Train loss: 0.005590448155999184, Train f1: 0.997172474861145\n",
            "Train loss: 0.004459873773157597, Train f1: 0.9990243911743164\n",
            "Train loss: 0.004258513916283846, Train f1: 1.0\n",
            "Train loss: 0.0025763106532394886, Train f1: 1.0\n",
            "\n",
            "Validating...\n",
            "Val loss: 0.00293240649625659, Val f1: 1.0\n",
            "Val loss: 0.002856831531971693, Val f1: 1.0\n",
            "\n",
            "starting Epoch 4\n",
            "Training...\n",
            "Train loss: 0.00255479384213686, Train f1: 0.9990049600601196\n",
            "Train loss: 0.0019339981954544783, Train f1: 1.0\n",
            "Train loss: 0.0027842274866998196, Train f1: 0.9990167021751404\n",
            "Train loss: 0.002242750721052289, Train f1: 1.0\n",
            "Train loss: 0.0018532201647758484, Train f1: 1.0\n",
            "Train loss: 0.0015098466537892818, Train f1: 1.0\n",
            "Train loss: 0.0011988382320851088, Train f1: 1.0\n",
            "Train loss: 0.001275705173611641, Train f1: 1.0\n",
            "\n",
            "Validating...\n",
            "Val loss: 0.0012174957664683461, Val f1: 1.0\n",
            "Val loss: 0.0012886386830359697, Val f1: 1.0\n",
            "\n",
            "starting Epoch 5\n",
            "Training...\n",
            "Train loss: 0.0015981699107214808, Train f1: 1.0\n",
            "Train loss: 0.0010956828482449055, Train f1: 1.0\n",
            "Train loss: 0.000602459826041013, Train f1: 1.0\n",
            "Train loss: 0.0007634070934727788, Train f1: 1.0\n",
            "Train loss: 0.0017028625588864088, Train f1: 1.0\n",
            "Train loss: 0.0007309038192033768, Train f1: 1.0\n",
            "Train loss: 0.0007548669818788767, Train f1: 1.0\n",
            "Train loss: 0.0007175387581810355, Train f1: 1.0\n",
            "\n",
            "Validating...\n",
            "Val loss: 0.0006630612770095468, Val f1: 1.0\n",
            "Val loss: 0.0007414054707624018, Val f1: 1.0\n",
            "\n",
            "starting Epoch 6\n",
            "Training...\n",
            "Train loss: 0.0007591629400849342, Train f1: 1.0\n",
            "Train loss: 0.0012788689928129315, Train f1: 1.0\n",
            "Train loss: 0.00099751737434417, Train f1: 1.0\n",
            "Train loss: 0.0005124245653860271, Train f1: 1.0\n",
            "Train loss: 0.0009224732057191432, Train f1: 1.0\n",
            "Train loss: 0.000710736436303705, Train f1: 1.0\n",
            "Train loss: 0.0012868086341768503, Train f1: 1.0\n",
            "Train loss: 0.00043689232552424073, Train f1: 1.0\n",
            "\n",
            "Validating...\n",
            "Val loss: 0.0004134740447625518, Val f1: 1.0\n",
            "Val loss: 0.0005094168009236455, Val f1: 1.0\n",
            "\n",
            "starting Epoch 7\n",
            "Training...\n",
            "Train loss: 0.0010050763376057148, Train f1: 1.0\n",
            "Train loss: 0.0006303893169388175, Train f1: 1.0\n",
            "Train loss: 0.0012040607398375869, Train f1: 1.0\n",
            "Train loss: 0.00040537083987146616, Train f1: 1.0\n",
            "Train loss: 0.002057119272649288, Train f1: 0.999035656452179\n",
            "Train loss: 0.00034772121580317616, Train f1: 1.0\n",
            "Train loss: 0.0003446871996857226, Train f1: 1.0\n",
            "Train loss: 0.00045250984840095043, Train f1: 1.0\n",
            "\n",
            "Validating...\n",
            "Val loss: 0.00029652664670720696, Val f1: 1.0\n",
            "Val loss: 0.00034312676871195436, Val f1: 1.0\n",
            "\n",
            "starting Epoch 8\n",
            "Training...\n",
            "Train loss: 0.0003164767404086888, Train f1: 1.0\n",
            "Train loss: 0.0001881980278994888, Train f1: 1.0\n",
            "Train loss: 0.0005287710810080171, Train f1: 1.0\n",
            "Train loss: 0.00023428071290254593, Train f1: 1.0\n",
            "Train loss: 0.00027704378589987755, Train f1: 1.0\n",
            "Train loss: 0.0004892386496067047, Train f1: 1.0\n",
            "Train loss: 0.0004101453232578933, Train f1: 1.0\n",
            "Train loss: 0.00041408248944208026, Train f1: 1.0\n",
            "\n",
            "Validating...\n",
            "Val loss: 0.00021208384714554995, Val f1: 1.0\n",
            "Val loss: 0.00025337919942103326, Val f1: 1.0\n",
            "\n",
            "starting Epoch 9\n",
            "Training...\n",
            "Train loss: 0.00037566793616861105, Train f1: 1.0\n",
            "Train loss: 0.0003242457169108093, Train f1: 1.0\n",
            "Train loss: 0.00028315448435023427, Train f1: 1.0\n",
            "Train loss: 0.00019946039537899196, Train f1: 1.0\n",
            "Train loss: 0.0001678188709774986, Train f1: 1.0\n",
            "Train loss: 0.0004401249752845615, Train f1: 1.0\n",
            "Train loss: 0.0002596971462480724, Train f1: 1.0\n",
            "Train loss: 0.00022903227363713086, Train f1: 1.0\n",
            "\n",
            "Validating...\n",
            "Val loss: 0.00015269478899426758, Val f1: 1.0\n",
            "Val loss: 0.0002077583922073245, Val f1: 1.0\n",
            "\n",
            "starting Epoch 10\n",
            "Training...\n",
            "Train loss: 0.00015686200640629977, Train f1: 1.0\n",
            "Train loss: 0.00024865579325705767, Train f1: 1.0\n",
            "Train loss: 0.00018687195552047342, Train f1: 1.0\n",
            "Train loss: 0.00016273577057290822, Train f1: 1.0\n",
            "Train loss: 0.00019056597375310957, Train f1: 1.0\n",
            "Train loss: 0.00022355285182129592, Train f1: 1.0\n",
            "Train loss: 0.00014455185737460852, Train f1: 1.0\n",
            "Train loss: 0.00014930366887710989, Train f1: 1.0\n",
            "\n",
            "Validating...\n",
            "Val loss: 0.00011837233614642173, Val f1: 1.0\n",
            "Val loss: 0.00016773937386460602, Val f1: 1.0\n"
          ]
        }
      ]
    },
    {
      "cell_type": "code",
      "metadata": {
        "id": "qx8IVfmo-pCD"
      },
      "source": [
        "torch.save(model2, 'colab_model_2.pt')"
      ],
      "execution_count": 94,
      "outputs": []
    },
    {
      "cell_type": "code",
      "metadata": {
        "colab": {
          "base_uri": "https://localhost:8080/",
          "height": 295
        },
        "id": "BJbb3oOtreM5",
        "outputId": "f5902466-c333-405a-f96b-9e43af86ea20"
      },
      "source": [
        "plt.plot(second_losses)\n",
        "plt.plot(second_losses_eval)\n",
        "plt.title('BCE loss value')\n",
        "plt.ylabel('BCE loss')\n",
        "plt.xlabel('epoch')\n",
        "plt.legend(['train', 'val'], loc='upper right')\n",
        "plt.show()"
      ],
      "execution_count": 95,
      "outputs": [
        {
          "output_type": "display_data",
          "data": {
            "image/png": "[encoded data removed]",
            "text/plain": [
              "<Figure size 432x288 with 1 Axes>"
            ]
          },
          "metadata": {
            "needs_background": "light"
          }
        }
      ]
    },
    {
      "cell_type": "code",
      "metadata": {
        "colab": {
          "base_uri": "https://localhost:8080/",
          "height": 295
        },
        "id": "azpCwKrZreM6",
        "outputId": "46bab36c-91b9-42fa-efc4-24cecc37149a"
      },
      "source": [
        "plt.plot(second_f1s)\n",
        "plt.plot(second_f1s_eval)\n",
        "plt.title('f1 value')\n",
        "plt.ylabel('f1 value')\n",
        "plt.xlabel('epoch')\n",
        "plt.legend(['train', 'val'], loc='upper right')\n",
        "plt.show()"
      ],
      "execution_count": 97,
      "outputs": [
        {
          "output_type": "display_data",
          "data": {
            "image/png": "[encoded data removed]",
            "text/plain": [
              "<Figure size 432x288 with 1 Axes>"
            ]
          },
          "metadata": {
            "needs_background": "light"
          }
        }
      ]
    },
    {
      "cell_type": "code",
      "metadata": {
        "id": "avA0gXqNreM6"
      },
      "source": [
        "def predict(model, iterator, id2word):\n",
        "    model.eval()\n",
        "    fp = []\n",
        "    fn = []\n",
        "    tp = [] \n",
        "    tn = []\n",
        "    with torch.no_grad():\n",
        "        for i, (batch_word, batch_symbol, ys) in enumerate(iterator):   \n",
        "            preds = model(batch_word, batch_symbol)  # делаем предсказания на тесте \n",
        "            for pred, gold, words in zip(preds, ys, batch_word):\n",
        "              # тексты собираю только из слов\n",
        "              text = ' '.join([id2word[int(word)] for word in words if word !=0])\n",
        "              if round(pred.item()) > gold:\n",
        "                fp.append(text)\n",
        "              elif round(pred.item()) < gold:\n",
        "                fn.append(text)\n",
        "              elif round(pred.item()) == gold == 1:\n",
        "                tp.append(text)\n",
        "              elif round(pred.item()) == gold == 0:\n",
        "                tn.append(text)\n",
        "    return fp, fn, tp, tn"
      ],
      "execution_count": 99,
      "outputs": []
    },
    {
      "cell_type": "code",
      "metadata": {
        "id": "DJyYLBbKreM7"
      },
      "source": [
        "second_fp, second_fn, second_tp, second_tn = predict(model2, second_val_iterator, id2word)"
      ],
      "execution_count": 100,
      "outputs": []
    },
    {
      "cell_type": "code",
      "metadata": {
        "colab": {
          "base_uri": "https://localhost:8080/"
        },
        "id": "AfqFFSl3reM7",
        "outputId": "d79035d2-054c-4b20-c57a-eb88671f46fb"
      },
      "source": [
        "len(second_fp + second_fn + second_tp + second_tn)"
      ],
      "execution_count": 102,
      "outputs": [
        {
          "output_type": "execute_result",
          "data": {
            "text/plain": [
              "45367"
            ]
          },
          "metadata": {},
          "execution_count": 102
        }
      ]
    },
    {
      "cell_type": "code",
      "metadata": {
        "id": "r2WuySXereM8"
      },
      "source": [
        "second_accuracy = len(second_tp + second_tn) / len(second_fp + second_fn + second_tp + second_tn)\n",
        "second_precision=len(second_tp)/(len(second_tp)+len(second_fp))\n",
        "second_recall=len(second_tp)/(len(second_tp)+len(second_fn))"
      ],
      "execution_count": 103,
      "outputs": []
    },
    {
      "cell_type": "code",
      "metadata": {
        "colab": {
          "base_uri": "https://localhost:8080/"
        },
        "id": "o5l0OScUreM8",
        "outputId": "4565840e-e1c0-4638-e08c-ec8737bb7726"
      },
      "source": [
        "second_accuracy, second_precision, second_recall"
      ],
      "execution_count": 104,
      "outputs": [
        {
          "output_type": "execute_result",
          "data": {
            "text/plain": [
              "(0.9999559150924681, 0.9999564857926113, 0.9999564857926113)"
            ]
          },
          "metadata": {},
          "execution_count": 104
        }
      ]
    },
    {
      "cell_type": "markdown",
      "metadata": {
        "id": "kEIJF2eBwEL9"
      },
      "source": [
        "В этот раз не 1.0, но почти (1.0 во всех метриках было, когда я не так подала эмбеддинги). Всего по одной ошибке в каждом классе:"
      ]
    },
    {
      "cell_type": "code",
      "metadata": {
        "colab": {
          "base_uri": "https://localhost:8080/"
        },
        "id": "VTmyGlOc8vlE",
        "outputId": "6d81fc60-15ca-43f8-ae58-d6778620911a"
      },
      "source": [
        "print(second_fp)\n",
        "print(second_fn)"
      ],
      "execution_count": 107,
      "outputs": [
        {
          "output_type": "stream",
          "name": "stdout",
          "text": [
            "['Сделали за и сдали . Он знает : - ! http :']\n",
            "['- это надо послушать : http :']\n"
          ]
        }
      ]
    },
    {
      "cell_type": "markdown",
      "metadata": {
        "id": "39-mYLZ9kUh4"
      },
      "source": [
        "Тут анализировать и нечего, разве что сказать, что это очень короткие твиты, которые и человеку снова сложно понять"
      ]
    },
    {
      "cell_type": "markdown",
      "metadata": {
        "id": "lhf7vtYDwkHN"
      },
      "source": [
        "#### То же самое, но с препроцессингом"
      ]
    },
    {
      "cell_type": "code",
      "metadata": {
        "colab": {
          "base_uri": "https://localhost:8080/"
        },
        "id": "cpyT43QUxGp3",
        "outputId": "0ab5ba2c-2337-4a9e-f6c8-83b63a2e7e70"
      },
      "source": [
        "proc_sym_vocab = Counter()\n",
        "for text in data['preproc_text']:\n",
        "    proc_sym_vocab.update(list(text))\n",
        "print('всего уникальных символов:', len(proc_sym_vocab))"
      ],
      "execution_count": 108,
      "outputs": [
        {
          "output_type": "stream",
          "name": "stdout",
          "text": [
            "всего уникальных символов: 73\n"
          ]
        }
      ]
    },
    {
      "cell_type": "code",
      "metadata": {
        "colab": {
          "base_uri": "https://localhost:8080/"
        },
        "id": "SNzF03TExGp4",
        "outputId": "ede0ca29-2034-422f-d065-1e71bbd0545b"
      },
      "source": [
        "filtered_proc_sym_vocab = set()\n",
        "\n",
        "for symbol in proc_sym_vocab:\n",
        "    if proc_sym_vocab[symbol] > 5:\n",
        "        filtered_proc_sym_vocab.add(symbol)\n",
        "print('уникальных символов, вcтретившихся больше 5 раз:', len(filtered_proc_sym_vocab))"
      ],
      "execution_count": 109,
      "outputs": [
        {
          "output_type": "stream",
          "name": "stdout",
          "text": [
            "уникальных символов, вcтретившихся больше 5 раз: 73\n"
          ]
        }
      ]
    },
    {
      "cell_type": "code",
      "metadata": {
        "id": "8CpdyaN5yXu0"
      },
      "source": [
        "# word2id остаётся прежний,\n",
        "# symbol2id делаю новый\n",
        "\n",
        "proc_symbol2id = {'PAD':0}\n",
        "\n",
        "for symbol in filtered_proc_sym_vocab:\n",
        "    proc_symbol2id[symbol] = len(proc_symbol2id)"
      ],
      "execution_count": 118,
      "outputs": []
    },
    {
      "cell_type": "code",
      "metadata": {
        "id": "CsTMBUrNyXu1"
      },
      "source": [
        "#обратный словарь\n",
        "proc_id2symbol = {i:symbol for symbol, i in proc_symbol2id.items()}"
      ],
      "execution_count": 119,
      "outputs": []
    },
    {
      "cell_type": "code",
      "metadata": {
        "id": "ond-C9iKxGp4"
      },
      "source": [
        "class ProcCombinedDataset(Dataset):\n",
        "\n",
        "    def __init__(self, dataset, word2id, symbol2id, DEVICE):\n",
        "        self.dataset = dataset['preproc_text'].values\n",
        "        self.word2id = word2id\n",
        "        self.symbol2id = symbol2id\n",
        "        self.length = dataset.shape[0]\n",
        "        self.target = torch.Tensor(dataset['label'].values)\n",
        "        self.device = DEVICE\n",
        "\n",
        "    def __len__(self):\n",
        "        return self.length\n",
        "\n",
        "    def __getitem__(self, index): \n",
        "        words = word_tokenize(self.dataset[index])\n",
        "        word_ids = torch.LongTensor([self.word2id[word] for word in words if word in self.word2id])\n",
        "        symbols = list(self.dataset[index])\n",
        "        sym_ids = torch.LongTensor([self.symbol2id[symbol] for symbol in symbols if symbol in self.symbol2id])\n",
        "        y = [self.target[index]]\n",
        "        return word_ids, sym_ids, y\n",
        "\n",
        "    def collate_fn(self, batch): #этот метод можно реализовывать и отдельно,\n",
        "    # он понадобится для DataLoader во время итерации по батчам\n",
        "      word_ids, sym_ids, y = list(zip(*batch))\n",
        "      padded_word_ids = pad_sequence(word_ids, batch_first=True).to(self.device)\n",
        "      padded_sym_ids = pad_sequence(sym_ids, batch_first=True).to(self.device)\n",
        "      y = torch.Tensor(y).to(self.device)\n",
        "      return padded_word_ids, padded_sym_ids, y"
      ],
      "execution_count": 120,
      "outputs": []
    },
    {
      "cell_type": "code",
      "metadata": {
        "id": "qTWjj1HuxGp5"
      },
      "source": [
        "second_proc_train_dataset = ProcCombinedDataset(proc_train_data, proc_word2id, proc_symbol2id, DEVICE)\n",
        "second_proc_train_sampler = RandomSampler(second_proc_train_dataset)\n",
        "second_proc_train_iterator = DataLoader(second_proc_train_dataset, collate_fn = second_proc_train_dataset.collate_fn, sampler=second_proc_train_sampler, batch_size=1024)"
      ],
      "execution_count": 121,
      "outputs": []
    },
    {
      "cell_type": "code",
      "metadata": {
        "id": "dIB9bDOdxGp5"
      },
      "source": [
        "second_proc_val_dataset = ProcCombinedDataset(proc_val_data, proc_word2id, proc_symbol2id, DEVICE)\n",
        "second_proc_val_sampler = SequentialSampler(second_proc_val_dataset)\n",
        "second_proc_val_iterator = DataLoader(second_proc_val_dataset, collate_fn = second_proc_val_dataset.collate_fn, sampler=second_proc_val_sampler, batch_size=1024)"
      ],
      "execution_count": 124,
      "outputs": []
    },
    {
      "cell_type": "code",
      "metadata": {
        "id": "LNl0kYKBzERP"
      },
      "source": [
        "proc_model2 = CNN2(len(proc_word2id), len(proc_symbol2id), 20)\n",
        "optimizer = optim.Adam(proc_model2.parameters(), lr=0.001)\n",
        "criterion = nn.BCELoss()\n",
        "\n",
        "# веса модели и значения лосса храним там же, где и все остальные тензоры\n",
        "proc_model2 = proc_model2.to(DEVICE)\n",
        "criterion = criterion.to(DEVICE)"
      ],
      "execution_count": 125,
      "outputs": []
    },
    {
      "cell_type": "code",
      "metadata": {
        "colab": {
          "base_uri": "https://localhost:8080/"
        },
        "id": "xhbmCUg1zERP",
        "outputId": "18dcdcc5-9b7e-490b-d80d-5b8c87fae260"
      },
      "source": [
        "proc_second_losses = []\n",
        "proc_second_losses_eval = []\n",
        "proc_second_f1s = []\n",
        "proc_second_f1s_eval = []\n",
        "\n",
        "for i in range(10):\n",
        "    print(f'\\nstarting Epoch {i+1}')\n",
        "    f1_value, epoch_loss = train(proc_model2, second_proc_train_iterator, optimizer, criterion, metric=f1)\n",
        "    proc_second_losses.append(epoch_loss)\n",
        "    proc_second_f1s.append(f1_value)\n",
        "\n",
        "    f1_value_on_test, epoch_loss_on_test = evaluate(proc_model2, second_proc_val_iterator, criterion, metric=f1)\n",
        "    proc_second_losses_eval.append(epoch_loss_on_test)\n",
        "    proc_second_f1s_eval.append(f1_value_on_test)"
      ],
      "execution_count": 126,
      "outputs": [
        {
          "output_type": "stream",
          "name": "stdout",
          "text": [
            "\n",
            "starting Epoch 1\n",
            "Training...\n",
            "Train loss: 0.6747533082962036, Train f1: 0.6922529935836792\n",
            "Train loss: 0.6611273288726807, Train f1: 0.6207565069198608\n",
            "Train loss: 0.6350134611129761, Train f1: 0.6114100813865662\n",
            "Train loss: 0.6041420698165894, Train f1: 0.6898496150970459\n",
            "Train loss: 0.6145474314689636, Train f1: 0.6523076891899109\n",
            "Train loss: 0.5945578813552856, Train f1: 0.6933575868606567\n",
            "Train loss: 0.5859134197235107, Train f1: 0.6921606659889221\n",
            "Train loss: 0.5883008241653442, Train f1: 0.6528066396713257\n",
            "\n",
            "Validating...\n",
            "Val loss: 0.5750425457954407, Val f1: 0.6948989033699036\n",
            "Val loss: 0.5543248653411865, Val f1: 0.7182426452636719\n",
            "\n",
            "starting Epoch 2\n",
            "Training...\n",
            "Train loss: 0.5620532035827637, Train f1: 0.7098591923713684\n",
            "Train loss: 0.5563454627990723, Train f1: 0.7531083822250366\n",
            "Train loss: 0.546256959438324, Train f1: 0.7264325618743896\n",
            "Train loss: 0.5518841743469238, Train f1: 0.6718749403953552\n",
            "Train loss: 0.5515800714492798, Train f1: 0.7152317762374878\n",
            "Train loss: 0.553337574005127, Train f1: 0.7014778256416321\n",
            "Train loss: 0.543362021446228, Train f1: 0.7330049872398376\n",
            "Train loss: 0.5401182770729065, Train f1: 0.7447916269302368\n",
            "\n",
            "Validating...\n",
            "Val loss: 0.5466251969337463, Val f1: 0.710351288318634\n",
            "Val loss: 0.524671733379364, Val f1: 0.7606433629989624\n",
            "\n",
            "starting Epoch 3\n",
            "Training...\n",
            "Train loss: 0.5521258115768433, Train f1: 0.6870390176773071\n",
            "Train loss: 0.5286893844604492, Train f1: 0.7578396797180176\n",
            "Train loss: 0.537543773651123, Train f1: 0.7404650449752808\n",
            "Train loss: 0.5319578647613525, Train f1: 0.7342722415924072\n",
            "Train loss: 0.5205491185188293, Train f1: 0.6862967014312744\n",
            "Train loss: 0.5259363651275635, Train f1: 0.7084639668464661\n",
            "Train loss: 0.5018861293792725, Train f1: 0.7413962483406067\n",
            "Train loss: 0.5371882915496826, Train f1: 0.6794462203979492\n",
            "\n",
            "Validating...\n",
            "Val loss: 0.535491943359375, Val f1: 0.7152318358421326\n",
            "Val loss: 0.5129767656326294, Val f1: 0.7703984975814819\n",
            "\n",
            "starting Epoch 4\n",
            "Training...\n",
            "Train loss: 0.5199095606803894, Train f1: 0.7118301391601562\n",
            "Train loss: 0.5179471969604492, Train f1: 0.7218934893608093\n",
            "Train loss: 0.530882716178894, Train f1: 0.7591623067855835\n",
            "Train loss: 0.5358675122261047, Train f1: 0.7430069446563721\n",
            "Train loss: 0.5201589465141296, Train f1: 0.7452830076217651\n",
            "Train loss: 0.5174620151519775, Train f1: 0.7170626521110535\n",
            "Train loss: 0.5141078233718872, Train f1: 0.7257900238037109\n",
            "Train loss: 0.5319181680679321, Train f1: 0.7363635897636414\n",
            "\n",
            "Validating...\n",
            "Val loss: 0.5281219482421875, Val f1: 0.7374199628829956\n",
            "Val loss: 0.5062188506126404, Val f1: 0.7759259343147278\n",
            "\n",
            "starting Epoch 5\n",
            "Training...\n",
            "Train loss: 0.5242366790771484, Train f1: 0.712411642074585\n",
            "Train loss: 0.5181088447570801, Train f1: 0.7453083395957947\n",
            "Train loss: 0.5170203447341919, Train f1: 0.764968752861023\n",
            "Train loss: 0.5126078724861145, Train f1: 0.7410972118377686\n",
            "Train loss: 0.539271354675293, Train f1: 0.7193149328231812\n",
            "Train loss: 0.5263881683349609, Train f1: 0.7574931979179382\n",
            "Train loss: 0.5379390120506287, Train f1: 0.7041965126991272\n",
            "Train loss: 0.5322529077529907, Train f1: 0.7290728688240051\n",
            "\n",
            "Validating...\n",
            "Val loss: 0.518452525138855, Val f1: 0.7120315432548523\n",
            "Val loss: 0.4997713267803192, Val f1: 0.7472745180130005\n",
            "\n",
            "starting Epoch 6\n",
            "Training...\n",
            "Train loss: 0.5006879568099976, Train f1: 0.7565470337867737\n",
            "Train loss: 0.5218279361724854, Train f1: 0.7056323289871216\n",
            "Train loss: 0.5306209325790405, Train f1: 0.6902654767036438\n",
            "Train loss: 0.530769407749176, Train f1: 0.7200832366943359\n",
            "Train loss: 0.518318772315979, Train f1: 0.6898047924041748\n",
            "Train loss: 0.5025731325149536, Train f1: 0.7365328073501587\n",
            "Train loss: 0.5179486870765686, Train f1: 0.7502374053001404\n",
            "Train loss: 0.5059484243392944, Train f1: 0.7513611316680908\n",
            "\n",
            "Validating...\n",
            "Val loss: 0.5142853260040283, Val f1: 0.7379182577133179\n",
            "Val loss: 0.49947476387023926, Val f1: 0.7722222208976746\n",
            "\n",
            "starting Epoch 7\n",
            "Training...\n",
            "Train loss: 0.5275591015815735, Train f1: 0.7334629893302917\n",
            "Train loss: 0.501461923122406, Train f1: 0.757717490196228\n",
            "Train loss: 0.4868689775466919, Train f1: 0.75174480676651\n",
            "Train loss: 0.5117409229278564, Train f1: 0.7163865566253662\n",
            "Train loss: 0.5100439786911011, Train f1: 0.7332053780555725\n",
            "Train loss: 0.49901944398880005, Train f1: 0.7306122779846191\n",
            "Train loss: 0.4969792068004608, Train f1: 0.7613636255264282\n",
            "Train loss: 0.5063812732696533, Train f1: 0.7571560740470886\n",
            "\n",
            "Validating...\n",
            "Val loss: 0.5083255767822266, Val f1: 0.7171717286109924\n",
            "Val loss: 0.4944818615913391, Val f1: 0.7560483813285828\n",
            "\n",
            "starting Epoch 8\n",
            "Training...\n",
            "Train loss: 0.5048577189445496, Train f1: 0.7364185452461243\n",
            "Train loss: 0.5254547595977783, Train f1: 0.6907545328140259\n",
            "Train loss: 0.48784321546554565, Train f1: 0.7489626407623291\n",
            "Train loss: 0.503649890422821, Train f1: 0.7533206343650818\n",
            "Train loss: 0.5195308923721313, Train f1: 0.7459251880645752\n",
            "Train loss: 0.5253369212150574, Train f1: 0.739088237285614\n",
            "Train loss: 0.4847555160522461, Train f1: 0.7601990699768066\n",
            "Train loss: 0.4982815384864807, Train f1: 0.7480915784835815\n",
            "\n",
            "Validating...\n",
            "Val loss: 0.5035116672515869, Val f1: 0.7138584852218628\n",
            "Val loss: 0.48939576745033264, Val f1: 0.7562188506126404\n",
            "\n",
            "starting Epoch 9\n",
            "Training...\n",
            "Train loss: 0.5257447957992554, Train f1: 0.7580496668815613\n",
            "Train loss: 0.49829626083374023, Train f1: 0.7589743733406067\n",
            "Train loss: 0.508545994758606, Train f1: 0.7136929631233215\n",
            "Train loss: 0.5158933401107788, Train f1: 0.708423376083374\n",
            "Train loss: 0.4959431290626526, Train f1: 0.7534516453742981\n",
            "Train loss: 0.5101804137229919, Train f1: 0.7350928783416748\n",
            "Train loss: 0.4793803095817566, Train f1: 0.7749077677726746\n",
            "Train loss: 0.49920445680618286, Train f1: 0.749273955821991\n",
            "\n",
            "Validating...\n",
            "Val loss: 0.5023483037948608, Val f1: 0.7488415241241455\n",
            "Val loss: 0.4912831783294678, Val f1: 0.7711069583892822\n",
            "\n",
            "starting Epoch 10\n",
            "Training...\n",
            "Train loss: 0.47975534200668335, Train f1: 0.7570280432701111\n",
            "Train loss: 0.5033430457115173, Train f1: 0.7392996549606323\n",
            "Train loss: 0.5032504796981812, Train f1: 0.755203127861023\n",
            "Train loss: 0.4781123399734497, Train f1: 0.7786116003990173\n",
            "Train loss: 0.5196125507354736, Train f1: 0.7515473365783691\n",
            "Train loss: 0.5257577896118164, Train f1: 0.7355450987815857\n",
            "Train loss: 0.4875425696372986, Train f1: 0.75\n",
            "Train loss: 0.49749433994293213, Train f1: 0.7575462460517883\n",
            "\n",
            "Validating...\n",
            "Val loss: 0.4975661039352417, Val f1: 0.739088237285614\n",
            "Val loss: 0.48606398701667786, Val f1: 0.7641324996948242\n"
          ]
        }
      ]
    },
    {
      "cell_type": "code",
      "metadata": {
        "id": "Q7Md88fXzERP"
      },
      "source": [
        "torch.save(model2, 'colab_proc_model_2.pt')"
      ],
      "execution_count": 127,
      "outputs": []
    },
    {
      "cell_type": "code",
      "metadata": {
        "colab": {
          "base_uri": "https://localhost:8080/",
          "height": 295
        },
        "id": "4dZqGIwWzERQ",
        "outputId": "87a30e12-ff33-47b2-ad7b-71f591359751"
      },
      "source": [
        "plt.plot(proc_second_losses)\n",
        "plt.plot(proc_second_losses_eval)\n",
        "plt.title('BCE loss value')\n",
        "plt.ylabel('BCE loss')\n",
        "plt.xlabel('epoch')\n",
        "plt.legend(['train', 'val'], loc='upper right')\n",
        "plt.show()"
      ],
      "execution_count": 128,
      "outputs": [
        {
          "output_type": "display_data",
          "data": {
            "image/png": "[encoded data removed]",
            "text/plain": [
              "<Figure size 432x288 with 1 Axes>"
            ]
          },
          "metadata": {
            "needs_background": "light"
          }
        }
      ]
    },
    {
      "cell_type": "code",
      "metadata": {
        "colab": {
          "base_uri": "https://localhost:8080/",
          "height": 295
        },
        "id": "COgNHxQhzERQ",
        "outputId": "97a4da3f-2ac7-4c10-d680-f6e237f36cc1"
      },
      "source": [
        "plt.plot(proc_second_f1s)\n",
        "plt.plot(proc_second_f1s_eval)\n",
        "plt.title('f1 value')\n",
        "plt.ylabel('f1 value')\n",
        "plt.xlabel('epoch')\n",
        "plt.legend(['train', 'val'], loc='upper right')\n",
        "plt.show()"
      ],
      "execution_count": 129,
      "outputs": [
        {
          "output_type": "display_data",
          "data": {
            "image/png": "[encoded data removed]",
            "text/plain": [
              "<Figure size 432x288 with 1 Axes>"
            ]
          },
          "metadata": {
            "needs_background": "light"
          }
        }
      ]
    },
    {
      "cell_type": "code",
      "metadata": {
        "id": "C7lyznrTzERQ"
      },
      "source": [
        "proc_fp2, proc_fn2, proc_tp2, proc_tn2 = predict(proc_model2, second_proc_val_iterator, proc_id2word)"
      ],
      "execution_count": 130,
      "outputs": []
    },
    {
      "cell_type": "code",
      "metadata": {
        "colab": {
          "base_uri": "https://localhost:8080/"
        },
        "id": "CFNeAfPzzERQ",
        "outputId": "21ccba66-396a-41b7-922c-76f83027d4e3"
      },
      "source": [
        "len(proc_fp2 + proc_fn2 + proc_tp2 + proc_tn2)"
      ],
      "execution_count": 131,
      "outputs": [
        {
          "output_type": "execute_result",
          "data": {
            "text/plain": [
              "45367"
            ]
          },
          "metadata": {},
          "execution_count": 131
        }
      ]
    },
    {
      "cell_type": "code",
      "metadata": {
        "id": "_b2-uQmrzERQ"
      },
      "source": [
        "proc_accuracy2 = len(proc_tp2 + proc_tn2) / len(proc_fp2 + proc_fn2 + proc_tp2 + proc_tn2)\n",
        "proc_precision2=len(proc_tp2)/(len(proc_tp2)+len(proc_fp2))\n",
        "proc_recall2=len(proc_tp2)/(len(proc_tp2)+len(proc_fn2))"
      ],
      "execution_count": 132,
      "outputs": []
    },
    {
      "cell_type": "code",
      "metadata": {
        "colab": {
          "base_uri": "https://localhost:8080/"
        },
        "id": "GZuxeRwp0Hn3",
        "outputId": "54cc34f5-5145-4edf-9f7b-874a48fdcabc"
      },
      "source": [
        "proc_accuracy2, proc_precision2, proc_recall2"
      ],
      "execution_count": 134,
      "outputs": [
        {
          "output_type": "execute_result",
          "data": {
            "text/plain": [
              "(0.7393479842176031, 0.7487053571428571, 0.7302216223276875)"
            ]
          },
          "metadata": {},
          "execution_count": 134
        }
      ]
    },
    {
      "cell_type": "markdown",
      "metadata": {
        "id": "ge6IPkCM3T_7"
      },
      "source": [
        "Метрики ожидаемо ухудшились. Посмотрим поближе"
      ]
    },
    {
      "cell_type": "code",
      "metadata": {
        "colab": {
          "base_uri": "https://localhost:8080/"
        },
        "id": "iXNC70dL3REU",
        "outputId": "3ca49aff-1a06-42e6-8e18-4060c00f22c6"
      },
      "source": [
        "len(proc_fn2), len(proc_fp2)"
      ],
      "execution_count": 136,
      "outputs": [
        {
          "output_type": "execute_result",
          "data": {
            "text/plain": [
              "(6196, 5629)"
            ]
          },
          "metadata": {},
          "execution_count": 136
        }
      ]
    },
    {
      "cell_type": "markdown",
      "metadata": {
        "id": "YPVc4DxzlM7w"
      },
      "source": [
        "#### Анализ предсказаний"
      ]
    },
    {
      "cell_type": "code",
      "metadata": {
        "colab": {
          "base_uri": "https://localhost:8080/"
        },
        "id": "EoghDtee3flR",
        "outputId": "36d6902b-8a26-49a3-aaa8-f66dabcdbde7"
      },
      "source": [
        "print('Позитивные твиты, предсказанные как негативные:\\n')\n",
        "for tweet in sample(proc_fn2, 20):\n",
        "  print(tweet)"
      ],
      "execution_count": 142,
      "outputs": [
        {
          "output_type": "stream",
          "name": "stdout",
          "text": [
            "Позитивные твиты, предсказанные как негативные:\n",
            "\n",
            "rt USER USER не замечала прости да я тоже волк одиночка\n",
            "rt USER против URL\n",
            "где то уже я подобный блок питания уже видел только в белом pc asus apple power URL\n",
            "что можно подарить другу на 23 февраля недорого мысли в комменты\n",
            "USER разрешила и будет это вещи настолько что даже обсуждать не хочется\n",
            "сами небеса послали к нам на замену на к р по биологии\n",
            "несомненно зеленых или синих не будет явно детей\n",
            "USER 5 грамм та ба ой\n",
            "USER URL не основной да\n",
            "началось около 12 часов с с молочком и лекции по культуре\n",
            "USER не я не смогу общаться сразу с двумя если они только не будут тоже а они не будут моя бывшая очень ебанутая\n",
            "друзья помогите пожалуйста я до жути хочу этот но я пожалуйста помогите URL\n",
            "и деньги\n",
            "поэтому не буду и сегодня ничего жрать только чаек только хардкор\n",
            "USER USER USER а вы боялись\n",
            "ураааа снег наконец так весело мине еще никогда не было\n",
            "а некоторые уже сейчас сидят на первом с руками а у некоторых оно завтра ребята вы\n",
            "оля забацала рассольник без огурцов с помидорами вкуснятина\n",
            "USER хдд я уже это вижу а какого числа мне ж еще денег надо где то найти хд\n",
            "пользуясь случаем поздравляю всех кать с никогда правда не понимала почему именины отмечают только кати\n"
          ]
        }
      ]
    },
    {
      "cell_type": "code",
      "metadata": {
        "colab": {
          "base_uri": "https://localhost:8080/"
        },
        "id": "sOwYk8j13fq0",
        "outputId": "9f4ddaf5-5d38-4189-babc-44f8b6e0281d"
      },
      "source": [
        "print('Негативные твиты, предсказанные как позитивные:\\n')\n",
        "\n",
        "for tweet in sample(proc_fp2, 20):\n",
        "  print(tweet)"
      ],
      "execution_count": 141,
      "outputs": [
        {
          "output_type": "stream",
          "name": "stdout",
          "text": [
            "Негативные твиты, предсказанные как позитивные:\n",
            "\n",
            "USER ой блин мне тоже надо спасибо что напомнила d\n",
            "думала меня до в итоге машина не завелась ждали\n",
            "rt USER USER yes если что пиши на счет сериала буду рада тебе lt 3\n",
            "USER хахахха вообще обнаглела ужасно так фууу такой быть\n",
            "rt USER умер директор 57 гимназии светлая память вам валентина\n",
            "USER сегодня увидела парня который был похож на не увидела того парня ахахах\n",
            "rt USER USER это ты злой злой человек\n",
            "USER сказали лучше коктейли делать\n",
            "халявные тесты от english first и прочие у меня 88 по английскому URL\n",
            "без всяких понтов или других причин почему мало кто любит за за душу\n",
            "USER моде попробовать записать разговор и в\n",
            "USER приглашаю тебя на мою свадьбу сегодня в 2 по мск буду рад видеть 333\n",
            "USER ах ты лень любимому из бумаги какую нибудь сделать\n",
            "rt USER слезы в глазах течет как река течет по щекам разрывая сердце URL\n",
            "о чем сегодня я пропустил по причине\n",
            "сегодня первый раз за эту зиму сходили на каток как то не очень для первого раза\n",
            "rt USER сначала докажи что ты живой URL\n",
            "rt USER USER найз нь олж хийгээд хаха тэгсэн нэг с ц\n",
            "USER ты неправильно написала\n",
            "USER я даже фильм из за них не могу посмотреть d\n"
          ]
        }
      ]
    },
    {
      "cell_type": "markdown",
      "metadata": {
        "id": "GIS28EzKlT-t"
      },
      "source": [
        "Здесь в принципе справедливо всё то же, что было сказано при анализе первой архитектуры без пунктуации: предложения неоднозначные, эталонная разметка путающая, без смайликов информации о тональности почти не остаётся. Не могу сказать, что это прям очень серьёзные ошибки, и я уверена, что если этой или улучшенной архитектуре подать более чистые данные, то результат будет около 0.9 даже с предобработкой  \n",
        "(эх, умела бы я такое на третьем курсе, когда делала курсовую про распознавание иронии на своём ручном чистеньком причёсанном корпусе комментариев)"
      ]
    },
    {
      "cell_type": "markdown",
      "metadata": {
        "id": "76fKHJ7Y1CdE"
      },
      "source": [
        "#### Улучшение модели"
      ]
    },
    {
      "cell_type": "markdown",
      "metadata": {
        "id": "n2ldNAxr1KyV"
      },
      "source": [
        "##### Нелинейность\n",
        "Может быть, добавление ReLU поможет улучшить результаты?"
      ]
    },
    {
      "cell_type": "code",
      "metadata": {
        "id": "_YY0gLUx4NDZ"
      },
      "source": [
        "class CNN2_nonlin(nn.Module):\n",
        "    \n",
        "    def __init__(self, word_vocab_size, sym_vocab_size, embedding_dim):\n",
        "        super().__init__()\n",
        "        self.word_embedding = nn.Embedding.from_pretrained(weights, freeze=True)\n",
        "        self.mean = nn.AvgPool1d(kernel_size=2, stride=2)\n",
        "        self.linear = nn.Linear(in_features=300, out_features=101)\n",
        "        self.sym_embedding = nn.Embedding(sym_vocab_size, embedding_dim)\n",
        "        self.bigrams = nn.Conv1d(in_channels=embedding_dim, out_channels=120, kernel_size=2, padding='same')\n",
        "        self.trigrams = nn.Conv1d(in_channels=embedding_dim, out_channels=80, kernel_size=3, padding='same')\n",
        "        self.relu = nn.ReLU()\n",
        "        self.hidden = nn.Linear(in_features=301, out_features=1)\n",
        "        # self.dropout = nn.Dropout(p=0.5)\n",
        "        self.out = nn.Sigmoid()\n",
        "\n",
        "    def forward(self, sent_word, sent_sym):\n",
        "        #batch_size x word_seq_len\n",
        "        embedded_word = self.word_embedding(sent_word)\n",
        "        #batch_size x word_seq_len x word_embedding_dim\n",
        "        embedded_word = embedded_word.transpose(1,2)\n",
        "        #batch_size x word_embedding_dim x word_seq_len\n",
        "        mean_sent = embedded_word.mean(2)\n",
        "        # batch_size x word_embedding_dim\n",
        "        X_vector = self.linear(mean_sent)\n",
        "        # batch_size x word_embedding_dim\n",
        "\n",
        "        embedded_sym = self.sym_embedding(sent_sym)\n",
        "        # batch_size x sym_seq_len x sym_embedding_dim\n",
        "        embedded_sym = embedded_sym.transpose(1,2)\n",
        "        #batch_size x sym_embedding_dim x sym_seq_len\n",
        "        feature_map_bigrams = self.relu(self.bigrams(embedded_sym))\n",
        "        #batch_size x filter_count2 x sym_seq_len* \n",
        "        feature_map_trigrams = self.relu(self.trigrams(embedded_sym))\n",
        "        #batch_size x filter_count3 x sym_seq_len*\n",
        "\n",
        "        pooling_bi = feature_map_bigrams.max(2)[0]\n",
        "        # batch_size x filter_count2\n",
        "        pooling_tri = feature_map_trigrams.max(2)[0]\n",
        "        # batch_size x filter_count3\n",
        "        concat = torch.cat((pooling_bi, pooling_tri, X_vector), 1)\n",
        "        # batch_size x (filter_count2 + filter_count3 + word_embedding_dim)\n",
        "        logits = self.hidden(concat)\n",
        "        logits = self.out(logits)\n",
        "        return logits\n",
        "      \n",
        "        \n",
        "    "
      ],
      "execution_count": 143,
      "outputs": []
    },
    {
      "cell_type": "code",
      "metadata": {
        "id": "aJsIjoSh5Zaz"
      },
      "source": [
        "proc_nonlin_model2 = CNN2_nonlin(len(proc_word2id), len(proc_symbol2id), 20)\n",
        "optimizer = optim.Adam(proc_nonlin_model2.parameters(), lr=0.001)\n",
        "criterion = nn.BCELoss()\n",
        "\n",
        "# веса модели и значения лосса храним там же, где и все остальные тензоры\n",
        "proc_nonlin_model2 = proc_nonlin_model2.to(DEVICE)\n",
        "criterion = criterion.to(DEVICE)"
      ],
      "execution_count": 144,
      "outputs": []
    },
    {
      "cell_type": "code",
      "metadata": {
        "colab": {
          "base_uri": "https://localhost:8080/"
        },
        "id": "jyKnRefL5Za0",
        "outputId": "1ad797fe-7ad8-46f2-c56c-28d90413aa09"
      },
      "source": [
        "losses = []\n",
        "losses_eval = []\n",
        "f1s = []\n",
        "f1s_eval = []\n",
        "\n",
        "for i in range(10):\n",
        "    print(f'\\nstarting Epoch {i+1}')\n",
        "    f1_value, epoch_loss = train(proc_nonlin_model2, second_proc_train_iterator, optimizer, criterion, metric=f1)\n",
        "    losses.append(epoch_loss)\n",
        "    f1s.append(f1_value)\n",
        "\n",
        "    f1_value_on_test, epoch_loss_on_test = evaluate(proc_nonlin_model2, second_proc_val_iterator, criterion, metric=f1)\n",
        "    losses_eval.append(epoch_loss_on_test)\n",
        "    f1s_eval.append(f1_value_on_test)"
      ],
      "execution_count": 146,
      "outputs": [
        {
          "output_type": "stream",
          "name": "stdout",
          "text": [
            "\n",
            "starting Epoch 1\n",
            "Training...\n",
            "Train loss: 0.6761540174484253, Train f1: 0.5180022716522217\n",
            "Train loss: 0.6549133062362671, Train f1: 0.6635859608650208\n",
            "Train loss: 0.6297825574874878, Train f1: 0.6612576246261597\n",
            "Train loss: 0.6295289397239685, Train f1: 0.6672844886779785\n",
            "Train loss: 0.6035825610160828, Train f1: 0.6338330507278442\n",
            "Train loss: 0.6111111640930176, Train f1: 0.6455566883087158\n",
            "Train loss: 0.5969869494438171, Train f1: 0.678537905216217\n",
            "Train loss: 0.6037411689758301, Train f1: 0.7099035978317261\n",
            "\n",
            "Validating...\n",
            "Val loss: 0.5799379348754883, Val f1: 0.6405919790267944\n",
            "Val loss: 0.56717848777771, Val f1: 0.654347836971283\n",
            "\n",
            "starting Epoch 2\n",
            "Training...\n",
            "Train loss: 0.568015992641449, Train f1: 0.7005870342254639\n",
            "Train loss: 0.5619759559631348, Train f1: 0.6818181872367859\n",
            "Train loss: 0.5751779675483704, Train f1: 0.6576763391494751\n",
            "Train loss: 0.5717271566390991, Train f1: 0.7185520529747009\n",
            "Train loss: 0.5433754324913025, Train f1: 0.6812499761581421\n",
            "Train loss: 0.5555531978607178, Train f1: 0.7479820847511292\n",
            "Train loss: 0.5475928783416748, Train f1: 0.670258641242981\n",
            "Train loss: 0.5483160018920898, Train f1: 0.7357798218727112\n",
            "\n",
            "Validating...\n",
            "Val loss: 0.558918833732605, Val f1: 0.6439909338951111\n",
            "Val loss: 0.5465908050537109, Val f1: 0.6529680490493774\n",
            "\n",
            "starting Epoch 3\n",
            "Training...\n",
            "Train loss: 0.5380438566207886, Train f1: 0.7017543315887451\n",
            "Train loss: 0.5507795810699463, Train f1: 0.6898669004440308\n",
            "Train loss: 0.5491197109222412, Train f1: 0.6996123790740967\n",
            "Train loss: 0.5254956483840942, Train f1: 0.74643874168396\n",
            "Train loss: 0.5389440059661865, Train f1: 0.6898875832557678\n",
            "Train loss: 0.5514721870422363, Train f1: 0.7138914465904236\n",
            "Train loss: 0.5616182088851929, Train f1: 0.6552901268005371\n",
            "Train loss: 0.5433870553970337, Train f1: 0.7513043284416199\n",
            "\n",
            "Validating...\n",
            "Val loss: 0.5396658182144165, Val f1: 0.7010309100151062\n",
            "Val loss: 0.523585319519043, Val f1: 0.7165108919143677\n",
            "\n",
            "starting Epoch 4\n",
            "Training...\n",
            "Train loss: 0.5543279647827148, Train f1: 0.6939610838890076\n",
            "Train loss: 0.5599077939987183, Train f1: 0.7239818572998047\n",
            "Train loss: 0.5221577286720276, Train f1: 0.7306967377662659\n",
            "Train loss: 0.5358065962791443, Train f1: 0.7328833341598511\n",
            "Train loss: 0.5295181274414062, Train f1: 0.7469654679298401\n",
            "Train loss: 0.5330382585525513, Train f1: 0.6952789425849915\n",
            "Train loss: 0.5390907526016235, Train f1: 0.7132353186607361\n",
            "Train loss: 0.5347675085067749, Train f1: 0.7293232679367065\n",
            "\n",
            "Validating...\n",
            "Val loss: 0.5309426188468933, Val f1: 0.7030927538871765\n",
            "Val loss: 0.5156748294830322, Val f1: 0.7213114500045776\n",
            "\n",
            "starting Epoch 5\n",
            "Training...\n",
            "Train loss: 0.5371358394622803, Train f1: 0.7176581621170044\n",
            "Train loss: 0.5244333744049072, Train f1: 0.7219512462615967\n",
            "Train loss: 0.5488955974578857, Train f1: 0.6629588603973389\n",
            "Train loss: 0.5221966505050659, Train f1: 0.7457942962646484\n",
            "Train loss: 0.5086185336112976, Train f1: 0.7467167377471924\n",
            "Train loss: 0.5279978513717651, Train f1: 0.6983425617218018\n",
            "Train loss: 0.5251786112785339, Train f1: 0.7373540997505188\n",
            "Train loss: 0.5273774266242981, Train f1: 0.7074829339981079\n",
            "\n",
            "Validating...\n",
            "Val loss: 0.526351273059845, Val f1: 0.7379182577133179\n",
            "Val loss: 0.511164665222168, Val f1: 0.7448015213012695\n",
            "\n",
            "starting Epoch 6\n",
            "Training...\n",
            "Train loss: 0.5101745128631592, Train f1: 0.7531220316886902\n",
            "Train loss: 0.5210658311843872, Train f1: 0.7337278723716736\n",
            "Train loss: 0.5222669839859009, Train f1: 0.7342994809150696\n",
            "Train loss: 0.49419093132019043, Train f1: 0.7593479752540588\n",
            "Train loss: 0.5090466141700745, Train f1: 0.718426525592804\n",
            "Train loss: 0.5077690482139587, Train f1: 0.7376572489738464\n",
            "Train loss: 0.5167561769485474, Train f1: 0.7433628439903259\n",
            "Train loss: 0.5104519724845886, Train f1: 0.758432149887085\n",
            "\n",
            "Validating...\n",
            "Val loss: 0.5168050527572632, Val f1: 0.7276264429092407\n",
            "Val loss: 0.5032826662063599, Val f1: 0.7458292841911316\n",
            "\n",
            "starting Epoch 7\n",
            "Training...\n",
            "Train loss: 0.5194932222366333, Train f1: 0.7436619997024536\n",
            "Train loss: 0.5165520906448364, Train f1: 0.7339268326759338\n",
            "Train loss: 0.544866681098938, Train f1: 0.6711111068725586\n",
            "Train loss: 0.5042002201080322, Train f1: 0.7351778745651245\n",
            "Train loss: 0.5278225541114807, Train f1: 0.7258687615394592\n",
            "Train loss: 0.5099862217903137, Train f1: 0.7437186241149902\n",
            "Train loss: 0.5173623561859131, Train f1: 0.740234375\n",
            "Train loss: 0.5133018493652344, Train f1: 0.7267326712608337\n",
            "\n",
            "Validating...\n",
            "Val loss: 0.5113786458969116, Val f1: 0.7330049276351929\n",
            "Val loss: 0.5005351901054382, Val f1: 0.739215612411499\n",
            "\n",
            "starting Epoch 8\n",
            "Training...\n",
            "Train loss: 0.49266934394836426, Train f1: 0.7618090510368347\n",
            "Train loss: 0.5303835868835449, Train f1: 0.7151395082473755\n",
            "Train loss: 0.5147355198860168, Train f1: 0.7531760931015015\n",
            "Train loss: 0.5208797454833984, Train f1: 0.7490774989128113\n",
            "Train loss: 0.513513445854187, Train f1: 0.7392549514770508\n",
            "Train loss: 0.5124995708465576, Train f1: 0.7163197994232178\n",
            "Train loss: 0.5179897546768188, Train f1: 0.7452830076217651\n",
            "Train loss: 0.5406485795974731, Train f1: 0.7244400978088379\n",
            "\n",
            "Validating...\n",
            "Val loss: 0.5075516700744629, Val f1: 0.751173734664917\n",
            "Val loss: 0.49804192781448364, Val f1: 0.7561904191970825\n",
            "\n",
            "starting Epoch 9\n",
            "Training...\n",
            "Train loss: 0.5213959217071533, Train f1: 0.7056410312652588\n",
            "Train loss: 0.5068790912628174, Train f1: 0.7574073672294617\n",
            "Train loss: 0.4997577369213104, Train f1: 0.7502321600914001\n",
            "Train loss: 0.489846408367157, Train f1: 0.7737089395523071\n",
            "Train loss: 0.5142498016357422, Train f1: 0.7388282418251038\n",
            "Train loss: 0.5230141282081604, Train f1: 0.7416974306106567\n",
            "Train loss: 0.5168728828430176, Train f1: 0.7365439534187317\n",
            "Train loss: 0.5027714967727661, Train f1: 0.7474950551986694\n",
            "\n",
            "Validating...\n",
            "Val loss: 0.5022904872894287, Val f1: 0.7407407164573669\n",
            "Val loss: 0.4951299726963043, Val f1: 0.7460317611694336\n",
            "\n",
            "starting Epoch 10\n",
            "Training...\n",
            "Train loss: 0.4822864532470703, Train f1: 0.7615385055541992\n",
            "Train loss: 0.49567607045173645, Train f1: 0.7464788556098938\n",
            "Train loss: 0.5393783450126648, Train f1: 0.7098038792610168\n",
            "Train loss: 0.5065355896949768, Train f1: 0.7649857997894287\n",
            "Train loss: 0.50309818983078, Train f1: 0.7436892986297607\n",
            "Train loss: 0.49216094613075256, Train f1: 0.7438179850578308\n",
            "Train loss: 0.5113250613212585, Train f1: 0.7348560690879822\n",
            "Train loss: 0.5183601379394531, Train f1: 0.75639808177948\n",
            "\n",
            "Validating...\n",
            "Val loss: 0.4986874461174011, Val f1: 0.7446393966674805\n",
            "Val loss: 0.4919402003288269, Val f1: 0.7519841194152832\n"
          ]
        }
      ]
    },
    {
      "cell_type": "code",
      "metadata": {
        "id": "1CAtf_Uh5Za1"
      },
      "source": [
        "torch.save(proc_nonlin_model2, 'colab_proc_nonlin_model_2.pt')"
      ],
      "execution_count": 154,
      "outputs": []
    },
    {
      "cell_type": "code",
      "metadata": {
        "colab": {
          "base_uri": "https://localhost:8080/",
          "height": 295
        },
        "id": "YMR42Z7M5Za2",
        "outputId": "39ba09c0-a84f-4d3f-ae22-d320ddac1813"
      },
      "source": [
        "plt.plot(losses)\n",
        "plt.plot(losses_eval)\n",
        "plt.title('BCE loss value')\n",
        "plt.ylabel('BCE loss')\n",
        "plt.xlabel('epoch')\n",
        "plt.legend(['train', 'val'], loc='upper right')\n",
        "plt.show()"
      ],
      "execution_count": 148,
      "outputs": [
        {
          "output_type": "display_data",
          "data": {
            "image/png": "[encoded data removed]",
            "text/plain": [
              "<Figure size 432x288 with 1 Axes>"
            ]
          },
          "metadata": {
            "needs_background": "light"
          }
        }
      ]
    },
    {
      "cell_type": "code",
      "metadata": {
        "colab": {
          "base_uri": "https://localhost:8080/",
          "height": 295
        },
        "id": "zx9hq6405Za2",
        "outputId": "aae483fc-c988-41ed-b0eb-9a96d61e6b85"
      },
      "source": [
        "plt.plot(f1s)\n",
        "plt.plot(f1s_eval)\n",
        "plt.title('f1 value')\n",
        "plt.ylabel('f1 value')\n",
        "plt.xlabel('epoch')\n",
        "plt.legend(['train', 'val'], loc='upper right')\n",
        "plt.show()"
      ],
      "execution_count": 149,
      "outputs": [
        {
          "output_type": "display_data",
          "data": {
            "image/png": "[encoded data removed]",
            "text/plain": [
              "<Figure size 432x288 with 1 Axes>"
            ]
          },
          "metadata": {
            "needs_background": "light"
          }
        }
      ]
    },
    {
      "cell_type": "code",
      "metadata": {
        "id": "5aN5Gt3G5Za3"
      },
      "source": [
        "proc_nonlin_fp2, proc_nonlin_fn2, proc_nonlin_tp2, proc_nonlin_tn2 = predict(proc_nonlin_model2, second_proc_val_iterator, proc_id2word)"
      ],
      "execution_count": 150,
      "outputs": []
    },
    {
      "cell_type": "code",
      "metadata": {
        "id": "24FqDqFZ5Za3"
      },
      "source": [
        "proc_nonlin_accuracy2 = len(proc_nonlin_tp2 + proc_nonlin_tn2) / len(proc_nonlin_fp2 + proc_nonlin_fn2 + proc_nonlin_tp2 + proc_nonlin_tn2)\n",
        "proc_nonlin_precision2=len(proc_nonlin_tp2)/(len(proc_nonlin_tp2)+len(proc_nonlin_fp2))\n",
        "proc_nonlin_recall2=len(proc_nonlin_tp2)/(len(proc_nonlin_tp2)+len(proc_nonlin_fn2))"
      ],
      "execution_count": 151,
      "outputs": []
    },
    {
      "cell_type": "code",
      "metadata": {
        "colab": {
          "base_uri": "https://localhost:8080/"
        },
        "id": "VReL_i785Za4",
        "outputId": "54cc34f5-5145-4edf-9f7b-874a48fdcabc"
      },
      "source": [
        "# было\n",
        "proc_accuracy2, proc_precision2, proc_recall2"
      ],
      "execution_count": null,
      "outputs": [
        {
          "output_type": "execute_result",
          "data": {
            "text/plain": [
              "(0.7393479842176031, 0.7487053571428571, 0.7302216223276875)"
            ]
          },
          "metadata": {},
          "execution_count": 134
        }
      ]
    },
    {
      "cell_type": "code",
      "metadata": {
        "colab": {
          "base_uri": "https://localhost:8080/"
        },
        "id": "NCbbwmZL0HrX",
        "outputId": "cff24e51-bff4-4f0f-f36f-70371d4cbfed"
      },
      "source": [
        "# стало\n",
        "proc_nonlin_accuracy2, proc_nonlin_precision2, proc_nonlin_recall2"
      ],
      "execution_count": 152,
      "outputs": [
        {
          "output_type": "execute_result",
          "data": {
            "text/plain": [
              "(0.7354464699010294, 0.7505827505827506, 0.7150259067357513)"
            ]
          },
          "metadata": {},
          "execution_count": 152
        }
      ]
    },
    {
      "cell_type": "markdown",
      "metadata": {
        "id": "3t9TNriq8-hC"
      },
      "source": [
        "Доля верных ответов и полноста снизились, а точность выросла. В целом модель стала чуть менее \"сбалансированной\" и даёт больше ложноположительных ответов, чем до добавления нелинейности, когда точность и полнота были не настолько разные  \n",
        "Интерпретация этих изменений как хороших или плохих зависит от конкретной цели: важнее ли нам найти все хорошие или не перепутать с ними плохие. В нашем случае цель не задана, поэтому я сама решу, что улучшение точности с ухудшением аккураси и полноты - так себе улучшение. Второе улучшение протестирую без релу"
      ]
    },
    {
      "cell_type": "markdown",
      "metadata": {
        "id": "5e_c659g1O3F"
      },
      "source": [
        "##### Размер фильтров\n",
        "Что если поменять out_channels и out_features?"
      ]
    },
    {
      "cell_type": "code",
      "metadata": {
        "id": "0Ea4qhtM-XSw"
      },
      "source": [
        "class CNN2_filt(nn.Module):\n",
        "    \n",
        "    def __init__(self, word_vocab_size, sym_vocab_size, embedding_dim):\n",
        "        super().__init__()\n",
        "        self.word_embedding = nn.Embedding.from_pretrained(weights, freeze=True)\n",
        "        self.linear = nn.Linear(in_features=300, out_features=150)\n",
        "        self.sym_embedding = nn.Embedding(sym_vocab_size, embedding_dim)\n",
        "        self.bigrams = nn.Conv1d(in_channels=embedding_dim, out_channels=160, kernel_size=2, padding='same')\n",
        "        self.trigrams = nn.Conv1d(in_channels=embedding_dim, out_channels=160, kernel_size=3, padding='same')\n",
        "        self.hidden = nn.Linear(in_features=470, out_features=1)\n",
        "        self.out = nn.Sigmoid()\n",
        "\n",
        "    def forward(self, sent_word, sent_sym):\n",
        "        #batch_size x word_seq_len\n",
        "        embedded_word = self.word_embedding(sent_word)\n",
        "        #batch_size x word_seq_len x word_embedding_dim\n",
        "        embedded_word = embedded_word.transpose(1,2)\n",
        "        #batch_size x word_embedding_dim x word_seq_len\n",
        "        mean_sent = embedded_word.mean(2)\n",
        "        # batch_size x word_embedding_dim\n",
        "        X_vector = self.linear(mean_sent)\n",
        "        # batch_size x word_embedding_dim\n",
        "\n",
        "        embedded_sym = self.sym_embedding(sent_sym)\n",
        "        # batch_size x sym_seq_len x sym_embedding_dim\n",
        "        embedded_sym = embedded_sym.transpose(1,2)\n",
        "        #batch_size x sym_embedding_dim x sym_seq_len\n",
        "        feature_map_bigrams = self.bigrams(embedded_sym)\n",
        "        #batch_size x filter_count2 x sym_seq_len* \n",
        "        feature_map_trigrams = self.trigrams(embedded_sym)\n",
        "        #batch_size x filter_count3 x sym_seq_len*\n",
        "\n",
        "        pooling_bi = feature_map_bigrams.max(2)[0]\n",
        "        # batch_size x filter_count2\n",
        "        pooling_tri = feature_map_trigrams.max(2)[0]\n",
        "        # batch_size x filter_count3\n",
        "        concat = torch.cat((pooling_bi, pooling_tri, X_vector), 1)\n",
        "        # batch_size x (filter_count2 + filter_count3 + word_embedding_dim)\n",
        "        logits = self.hidden(concat)\n",
        "        logits = self.out(logits)\n",
        "        return logits\n",
        "      \n",
        "        \n",
        "    "
      ],
      "execution_count": 155,
      "outputs": []
    },
    {
      "cell_type": "code",
      "metadata": {
        "id": "kk8U5w4Q-XSw"
      },
      "source": [
        "proc_filt_model2 = CNN2_filt(len(proc_word2id), len(proc_symbol2id), 20)\n",
        "optimizer = optim.Adam(proc_filt_model2.parameters(), lr=0.001)\n",
        "criterion = nn.BCELoss()\n",
        "\n",
        "# веса модели и значения лосса храним там же, где и все остальные тензоры\n",
        "proc_filt_model2 = proc_filt_model2.to(DEVICE)\n",
        "criterion = criterion.to(DEVICE)"
      ],
      "execution_count": 156,
      "outputs": []
    },
    {
      "cell_type": "code",
      "metadata": {
        "colab": {
          "base_uri": "https://localhost:8080/"
        },
        "id": "a4KYVaaK-XSx",
        "outputId": "6e121e16-0f37-485c-ea60-002972e155f7"
      },
      "source": [
        "losses = []\n",
        "losses_eval = []\n",
        "f1s = []\n",
        "f1s_eval = []\n",
        "\n",
        "for i in range(10):\n",
        "    print(f'\\nstarting Epoch {i+1}')\n",
        "    f1_value, epoch_loss = train(proc_filt_model2, second_proc_train_iterator, optimizer, criterion, metric=f1)\n",
        "    losses.append(epoch_loss)\n",
        "    f1s.append(f1_value)\n",
        "\n",
        "    f1_value_on_test, epoch_loss_on_test = evaluate(proc_filt_model2, second_proc_val_iterator, criterion, metric=f1)\n",
        "    losses_eval.append(epoch_loss_on_test)\n",
        "    f1s_eval.append(f1_value_on_test)"
      ],
      "execution_count": 157,
      "outputs": [
        {
          "output_type": "stream",
          "name": "stdout",
          "text": [
            "\n",
            "starting Epoch 1\n",
            "Training...\n",
            "Train loss: 0.6624414324760437, Train f1: 0.6454545259475708\n",
            "Train loss: 0.6508981585502625, Train f1: 0.6214355826377869\n",
            "Train loss: 0.6184325218200684, Train f1: 0.6534091234207153\n",
            "Train loss: 0.6103230714797974, Train f1: 0.67119300365448\n",
            "Train loss: 0.6031116247177124, Train f1: 0.7186440825462341\n",
            "Train loss: 0.5821670293807983, Train f1: 0.7216312289237976\n",
            "Train loss: 0.569878101348877, Train f1: 0.6745182275772095\n",
            "Train loss: 0.5700631737709045, Train f1: 0.7007874250411987\n",
            "\n",
            "Validating...\n",
            "Val loss: 0.566509485244751, Val f1: 0.6780684590339661\n",
            "Val loss: 0.5492035150527954, Val f1: 0.6960082054138184\n",
            "\n",
            "starting Epoch 2\n",
            "Training...\n",
            "Train loss: 0.5610541105270386, Train f1: 0.7312775254249573\n",
            "Train loss: 0.5648126602172852, Train f1: 0.6957404017448425\n",
            "Train loss: 0.5627846717834473, Train f1: 0.7333908081054688\n",
            "Train loss: 0.5488772392272949, Train f1: 0.7110228538513184\n",
            "Train loss: 0.5576108694076538, Train f1: 0.6702470779418945\n",
            "Train loss: 0.5486505627632141, Train f1: 0.6889564394950867\n",
            "Train loss: 0.5456662178039551, Train f1: 0.6797813773155212\n",
            "Train loss: 0.5694899559020996, Train f1: 0.679284930229187\n",
            "\n",
            "Validating...\n",
            "Val loss: 0.5403504371643066, Val f1: 0.7182961702346802\n",
            "Val loss: 0.522760272026062, Val f1: 0.7345739603042603\n",
            "\n",
            "starting Epoch 3\n",
            "Training...\n",
            "Train loss: 0.5351774096488953, Train f1: 0.7168732285499573\n",
            "Train loss: 0.5247013568878174, Train f1: 0.7796610593795776\n",
            "Train loss: 0.5372810959815979, Train f1: 0.7355211973190308\n",
            "Train loss: 0.5242464542388916, Train f1: 0.7138397097587585\n",
            "Train loss: 0.5242387056350708, Train f1: 0.7388414144515991\n",
            "Train loss: 0.5174064636230469, Train f1: 0.7374407649040222\n",
            "Train loss: 0.541094183921814, Train f1: 0.7127127051353455\n",
            "Train loss: 0.548405110836029, Train f1: 0.6926316022872925\n",
            "\n",
            "Validating...\n",
            "Val loss: 0.5269455313682556, Val f1: 0.7407407760620117\n",
            "Val loss: 0.5112094283103943, Val f1: 0.75072181224823\n",
            "\n",
            "starting Epoch 4\n",
            "Training...\n",
            "Train loss: 0.5332366824150085, Train f1: 0.741697371006012\n",
            "Train loss: 0.5165121555328369, Train f1: 0.7432950139045715\n",
            "Train loss: 0.5153055787086487, Train f1: 0.7597340941429138\n",
            "Train loss: 0.5222449898719788, Train f1: 0.7288296818733215\n",
            "Train loss: 0.5225075483322144, Train f1: 0.7177914977073669\n",
            "Train loss: 0.5152283906936646, Train f1: 0.7361376285552979\n",
            "Train loss: 0.498988538980484, Train f1: 0.7589545249938965\n",
            "Train loss: 0.5106563568115234, Train f1: 0.7468959093093872\n",
            "\n",
            "Validating...\n",
            "Val loss: 0.5175879597663879, Val f1: 0.7423664331436157\n",
            "Val loss: 0.50263512134552, Val f1: 0.747591495513916\n",
            "\n",
            "starting Epoch 5\n",
            "Training...\n",
            "Train loss: 0.5235605239868164, Train f1: 0.7325800657272339\n",
            "Train loss: 0.5282498598098755, Train f1: 0.7352380752563477\n",
            "Train loss: 0.5123854875564575, Train f1: 0.7507002353668213\n",
            "Train loss: 0.532293438911438, Train f1: 0.7085019946098328\n",
            "Train loss: 0.5260434150695801, Train f1: 0.6979280114173889\n",
            "Train loss: 0.5191295146942139, Train f1: 0.7648115158081055\n",
            "Train loss: 0.5328271985054016, Train f1: 0.7466185092926025\n",
            "Train loss: 0.4891127049922943, Train f1: 0.7604790329933167\n",
            "\n",
            "Validating...\n",
            "Val loss: 0.5141316652297974, Val f1: 0.7516040205955505\n",
            "Val loss: 0.5001590847969055, Val f1: 0.7618165612220764\n",
            "\n",
            "starting Epoch 6\n",
            "Training...\n",
            "Train loss: 0.48997971415519714, Train f1: 0.761363685131073\n",
            "Train loss: 0.5111768841743469, Train f1: 0.7329434156417847\n",
            "Train loss: 0.5185592174530029, Train f1: 0.7495396137237549\n",
            "Train loss: 0.5141116380691528, Train f1: 0.7516278624534607\n",
            "Train loss: 0.5136418342590332, Train f1: 0.7344632744789124\n",
            "Train loss: 0.515457034111023, Train f1: 0.7525486946105957\n",
            "Train loss: 0.5286786556243896, Train f1: 0.7318982481956482\n",
            "Train loss: 0.4897327423095703, Train f1: 0.774791419506073\n",
            "\n",
            "Validating...\n",
            "Val loss: 0.527306079864502, Val f1: 0.7557840943336487\n",
            "Val loss: 0.5159024000167847, Val f1: 0.775086522102356\n",
            "\n",
            "starting Epoch 7\n",
            "Training...\n",
            "Train loss: 0.5134737491607666, Train f1: 0.7462685704231262\n",
            "Train loss: 0.4836992025375366, Train f1: 0.7438525557518005\n",
            "Train loss: 0.5166022777557373, Train f1: 0.7427465915679932\n",
            "Train loss: 0.5009744167327881, Train f1: 0.731417179107666\n",
            "Train loss: 0.4951411485671997, Train f1: 0.7484909892082214\n",
            "Train loss: 0.5235923528671265, Train f1: 0.7334630489349365\n",
            "Train loss: 0.4848167896270752, Train f1: 0.7706945538520813\n",
            "Train loss: 0.5025829076766968, Train f1: 0.7444120645523071\n",
            "\n",
            "Validating...\n",
            "Val loss: 0.49967271089553833, Val f1: 0.7436398863792419\n",
            "Val loss: 0.4897739291191101, Val f1: 0.7597655653953552\n",
            "\n",
            "starting Epoch 8\n",
            "Training...\n",
            "Train loss: 0.5270085334777832, Train f1: 0.7178968787193298\n",
            "Train loss: 0.5184566974639893, Train f1: 0.7335983514785767\n",
            "Train loss: 0.47428426146507263, Train f1: 0.7533265352249146\n",
            "Train loss: 0.4838499128818512, Train f1: 0.760617733001709\n",
            "Train loss: 0.5124124884605408, Train f1: 0.708915114402771\n",
            "Train loss: 0.48901987075805664, Train f1: 0.7253218293190002\n",
            "Train loss: 0.4882320761680603, Train f1: 0.7690821290016174\n",
            "Train loss: 0.47338420152664185, Train f1: 0.7838086485862732\n",
            "\n",
            "Validating...\n",
            "Val loss: 0.4983648657798767, Val f1: 0.7364102602005005\n",
            "Val loss: 0.4891330301761627, Val f1: 0.7374871969223022\n",
            "\n",
            "starting Epoch 9\n",
            "Training...\n",
            "Train loss: 0.5245148539543152, Train f1: 0.6644067764282227\n",
            "Train loss: 0.5003156661987305, Train f1: 0.7422037720680237\n",
            "Train loss: 0.5179425477981567, Train f1: 0.7583710551261902\n",
            "Train loss: 0.4819720685482025, Train f1: 0.7601128220558167\n",
            "Train loss: 0.49605047702789307, Train f1: 0.7469387650489807\n",
            "Train loss: 0.46714216470718384, Train f1: 0.7636004090309143\n",
            "Train loss: 0.47914522886276245, Train f1: 0.7535353899002075\n",
            "Train loss: 0.49199095368385315, Train f1: 0.7614503502845764\n",
            "\n",
            "Validating...\n",
            "Val loss: 0.4919166564941406, Val f1: 0.7537878155708313\n",
            "Val loss: 0.48455268144607544, Val f1: 0.7648725509643555\n",
            "\n",
            "starting Epoch 10\n",
            "Training...\n",
            "Train loss: 0.4930996596813202, Train f1: 0.7462387681007385\n",
            "Train loss: 0.4984149932861328, Train f1: 0.7437185645103455\n",
            "Train loss: 0.47991180419921875, Train f1: 0.7576335072517395\n",
            "Train loss: 0.49209243059158325, Train f1: 0.7578348517417908\n",
            "Train loss: 0.49146443605422974, Train f1: 0.7676968574523926\n",
            "Train loss: 0.5030553340911865, Train f1: 0.7592920660972595\n",
            "Train loss: 0.45824378728866577, Train f1: 0.7652533650398254\n",
            "Train loss: 0.48640361428260803, Train f1: 0.7456940412521362\n",
            "\n",
            "Validating...\n",
            "Val loss: 0.48979830741882324, Val f1: 0.7469635605812073\n",
            "Val loss: 0.48378103971481323, Val f1: 0.7517587542533875\n"
          ]
        }
      ]
    },
    {
      "cell_type": "code",
      "metadata": {
        "id": "W26nMncm-XSx"
      },
      "source": [
        "torch.save(proc_filt_model2, 'colab_proc_filt_model_2.pt')"
      ],
      "execution_count": null,
      "outputs": []
    },
    {
      "cell_type": "code",
      "metadata": {
        "colab": {
          "base_uri": "https://localhost:8080/",
          "height": 295
        },
        "id": "Y3myKkE--XSx",
        "outputId": "f6ab11b7-9af1-4aaf-c086-dbc5b28b025a"
      },
      "source": [
        "plt.plot(losses)\n",
        "plt.plot(losses_eval)\n",
        "plt.title('BCE loss value')\n",
        "plt.ylabel('BCE loss')\n",
        "plt.xlabel('epoch')\n",
        "plt.legend(['train', 'val'], loc='upper right')\n",
        "plt.show()"
      ],
      "execution_count": 158,
      "outputs": [
        {
          "output_type": "display_data",
          "data": {
            "image/png": "[encoded data removed]",
            "text/plain": [
              "<Figure size 432x288 with 1 Axes>"
            ]
          },
          "metadata": {
            "needs_background": "light"
          }
        }
      ]
    },
    {
      "cell_type": "code",
      "metadata": {
        "colab": {
          "base_uri": "https://localhost:8080/",
          "height": 295
        },
        "id": "oT3RcODk-XSx",
        "outputId": "32b3d1e4-de5d-4dea-a99a-13aa8cb9dacb"
      },
      "source": [
        "plt.plot(f1s)\n",
        "plt.plot(f1s_eval)\n",
        "plt.title('f1 value')\n",
        "plt.ylabel('f1 value')\n",
        "plt.xlabel('epoch')\n",
        "plt.legend(['train', 'val'], loc='upper right')\n",
        "plt.show()"
      ],
      "execution_count": 159,
      "outputs": [
        {
          "output_type": "display_data",
          "data": {
            "image/png": "[encoded data removed]",
            "text/plain": [
              "<Figure size 432x288 with 1 Axes>"
            ]
          },
          "metadata": {
            "needs_background": "light"
          }
        }
      ]
    },
    {
      "cell_type": "code",
      "metadata": {
        "id": "oPPDZeeR-XSy"
      },
      "source": [
        "proc_filt_fp2, proc_filt_fn2, proc_filt_tp2, proc_filt_tn2 = predict(proc_filt_model2, second_proc_val_iterator, proc_id2word)"
      ],
      "execution_count": 160,
      "outputs": []
    },
    {
      "cell_type": "code",
      "metadata": {
        "id": "j2FcNRO7-XSy"
      },
      "source": [
        "proc_filt_accuracy2 = len(proc_filt_tp2 + proc_filt_tn2) / len(proc_filt_fp2 + proc_filt_fn2 + proc_filt_tp2 + proc_filt_tn2)\n",
        "proc_filt_precision2=len(proc_filt_tp2)/(len(proc_filt_tp2)+len(proc_filt_fp2))\n",
        "proc_filt_recall2=len(proc_filt_tp2)/(len(proc_filt_tp2)+len(proc_filt_fn2))"
      ],
      "execution_count": 161,
      "outputs": []
    },
    {
      "cell_type": "code",
      "metadata": {
        "colab": {
          "base_uri": "https://localhost:8080/"
        },
        "id": "dr676IvS-XSy",
        "outputId": "54cc34f5-5145-4edf-9f7b-874a48fdcabc"
      },
      "source": [
        "# было\n",
        "proc_accuracy2, proc_precision2, proc_recall2"
      ],
      "execution_count": null,
      "outputs": [
        {
          "output_type": "execute_result",
          "data": {
            "text/plain": [
              "(0.7393479842176031, 0.7487053571428571, 0.7302216223276875)"
            ]
          },
          "metadata": {},
          "execution_count": 134
        }
      ]
    },
    {
      "cell_type": "code",
      "metadata": {
        "colab": {
          "base_uri": "https://localhost:8080/"
        },
        "id": "UKWafP_G-XSy",
        "outputId": "cff24e51-bff4-4f0f-f36f-70371d4cbfed"
      },
      "source": [
        "# было - с нелинейностью\n",
        "proc_nonlin_accuracy2, proc_nonlin_precision2, proc_nonlin_recall2"
      ],
      "execution_count": null,
      "outputs": [
        {
          "output_type": "execute_result",
          "data": {
            "text/plain": [
              "(0.7354464699010294, 0.7505827505827506, 0.7150259067357513)"
            ]
          },
          "metadata": {},
          "execution_count": 152
        }
      ]
    },
    {
      "cell_type": "code",
      "metadata": {
        "colab": {
          "base_uri": "https://localhost:8080/"
        },
        "id": "igxLrW3Y1PCo",
        "outputId": "96ef6e6c-7260-45c3-b968-a09ea4144ddc"
      },
      "source": [
        "# стало с другими размерностями\n",
        "proc_filt_accuracy2, proc_filt_precision2, proc_filt_recall2"
      ],
      "execution_count": 162,
      "outputs": [
        {
          "output_type": "execute_result",
          "data": {
            "text/plain": [
              "(0.7437123900632618, 0.774390243902439, 0.6967387991466016)"
            ]
          },
          "metadata": {},
          "execution_count": 162
        }
      ]
    },
    {
      "cell_type": "markdown",
      "metadata": {
        "id": "waKGWucvDVCI"
      },
      "source": [
        "Успех!  \n",
        "По сравнению с первым вариантом, выросли общая доля верных ответов и точность, хоть и снизилась полнота. В отличие от предыдущего эксепримента, я считаю это успехом, потому что не только точность-полнота поменялись - одна в плюс, другая в минус - но и выросла accuracy"
      ]
    },
    {
      "cell_type": "code",
      "metadata": {
        "id": "yprH2_t3A07n"
      },
      "source": [
        ""
      ],
      "execution_count": null,
      "outputs": []
    }
  ]
}